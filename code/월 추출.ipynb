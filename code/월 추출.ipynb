{
 "cells": [
  {
   "cell_type": "code",
   "execution_count": null,
   "id": "0c1bb9cb",
   "metadata": {},
   "outputs": [],
   "source": [
    "import numpy as np\n",
    "import pandas as pd\n",
    "\n",
    "%matplotlib inline\n",
    "import matplotlib.pylab as plt\n",
    "from matplotlib import font_manager, rc\n",
    "import seaborn as sns\n",
    "\n",
    "font_path = \"C:/Windows/Fonts/NGULIM.TTF\"\n",
    "font = font_manager.FontProperties(fname=font_path).get_name()\n",
    "rc('font', family=font)"
   ]
  },
  {
   "cell_type": "code",
   "execution_count": null,
   "id": "14720814",
   "metadata": {},
   "outputs": [],
   "source": [
    "cen = pd.read_csv('C:/Users/user/Desktop/NIA/project1/data/preprocessing/cen21.csv', parse_dates=[\"date\"], encoding = 'euc-kr')\n",
    "# cen = cen.drop(columns = 'Unnamed: 0')\n",
    "\n",
    "wes = pd.read_csv('C:/Users/user/Desktop/NIA/project1/data/preprocessing/west21.csv', parse_dates=[\"date\"], encoding = 'euc-kr')\n",
    "# wes = wes.drop(columns = 'Unnamed: 0')\n",
    "\n",
    "nor = pd.read_csv('C:/Users/user/Desktop/NIA/project1/data/preprocessing/nor21.csv', parse_dates=[\"date\"], encoding = 'euc-kr')\n",
    "# nor = nor.drop(columns = 'Unnamed: 0')"
   ]
  },
  {
   "cell_type": "code",
   "execution_count": null,
   "id": "ac9261aa",
   "metadata": {},
   "outputs": [],
   "source": [
    "cen['month'] = cen['date'].dt.month\n",
    "wes['month'] = wes['date'].dt.month\n",
    "nor['month'] = nor['date'].dt.month"
   ]
  },
  {
   "cell_type": "code",
   "execution_count": null,
   "id": "b11d9689",
   "metadata": {},
   "outputs": [],
   "source": [
    "cen"
   ]
  },
  {
   "cell_type": "code",
   "execution_count": null,
   "id": "355b8688",
   "metadata": {},
   "outputs": [],
   "source": [
    "cen.to_csv('C:/Users/user/Desktop/NIA/project1/data/preprocessing/cen21 with month.csv', encoding = 'euc-kr')\n",
    "wes.to_csv('C:/Users/user/Desktop/NIA/project1/data/preprocessing/wes21 with month.csv', encoding = 'euc-kr')\n",
    "nor.to_csv('C:/Users/user/Desktop/NIA/project1/data/preprocessing/nor21 with month.csv', encoding = 'euc-kr')"
   ]
  },
  {
   "cell_type": "code",
   "execution_count": null,
   "id": "f493b034",
   "metadata": {},
   "outputs": [],
   "source": []
  },
  {
   "cell_type": "code",
   "execution_count": null,
   "id": "e58a02a8",
   "metadata": {},
   "outputs": [],
   "source": []
  }
 ],
 "metadata": {
  "kernelspec": {
   "display_name": "Python 3",
   "language": "python",
   "name": "python3"
  },
  "language_info": {
   "codemirror_mode": {
    "name": "ipython",
    "version": 3
   },
   "file_extension": ".py",
   "mimetype": "text/x-python",
   "name": "python",
   "nbconvert_exporter": "python",
   "pygments_lexer": "ipython3",
   "version": "3.8.8"
  }
 },
 "nbformat": 4,
 "nbformat_minor": 5
}
