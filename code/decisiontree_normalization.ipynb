{
  "nbformat": 4,
  "nbformat_minor": 0,
  "metadata": {
    "colab": {
      "name": "decisiontree_normalization.ipynb",
      "provenance": [],
      "collapsed_sections": [
        "Cq_rIumij6kb"
      ],
      "toc_visible": true
    },
    "kernelspec": {
      "name": "python3",
      "display_name": "Python 3"
    },
    "language_info": {
      "name": "python"
    }
  },
  "cells": [
    {
      "cell_type": "code",
      "source": [
        "!sudo apt-get install -y fonts-nanum\n",
        "!sudo fc-cache -fv\n",
        "!rm ~/.cache/matplotlib -rf"
      ],
      "metadata": {
        "colab": {
          "base_uri": "https://localhost:8080/"
        },
        "id": "rplj0GWOtzP-",
        "outputId": "f055ebf3-85a8-4756-8ecf-34af87b7b07e"
      },
      "execution_count": 1,
      "outputs": [
        {
          "output_type": "stream",
          "name": "stdout",
          "text": [
            "Reading package lists... Done\n",
            "Building dependency tree       \n",
            "Reading state information... Done\n",
            "The following NEW packages will be installed:\n",
            "  fonts-nanum\n",
            "0 upgraded, 1 newly installed, 0 to remove and 37 not upgraded.\n",
            "Need to get 9,604 kB of archives.\n",
            "After this operation, 29.5 MB of additional disk space will be used.\n",
            "Get:1 http://archive.ubuntu.com/ubuntu bionic/universe amd64 fonts-nanum all 20170925-1 [9,604 kB]\n",
            "Fetched 9,604 kB in 1s (8,091 kB/s)\n",
            "debconf: unable to initialize frontend: Dialog\n",
            "debconf: (No usable dialog-like program is installed, so the dialog based frontend cannot be used. at /usr/share/perl5/Debconf/FrontEnd/Dialog.pm line 76, <> line 1.)\n",
            "debconf: falling back to frontend: Readline\n",
            "debconf: unable to initialize frontend: Readline\n",
            "debconf: (This frontend requires a controlling tty.)\n",
            "debconf: falling back to frontend: Teletype\n",
            "dpkg-preconfigure: unable to re-open stdin: \n",
            "Selecting previously unselected package fonts-nanum.\n",
            "(Reading database ... 155222 files and directories currently installed.)\n",
            "Preparing to unpack .../fonts-nanum_20170925-1_all.deb ...\n",
            "Unpacking fonts-nanum (20170925-1) ...\n",
            "Setting up fonts-nanum (20170925-1) ...\n",
            "Processing triggers for fontconfig (2.12.6-0ubuntu2) ...\n",
            "/usr/share/fonts: caching, new cache contents: 0 fonts, 1 dirs\n",
            "/usr/share/fonts/truetype: caching, new cache contents: 0 fonts, 3 dirs\n",
            "/usr/share/fonts/truetype/humor-sans: caching, new cache contents: 1 fonts, 0 dirs\n",
            "/usr/share/fonts/truetype/liberation: caching, new cache contents: 16 fonts, 0 dirs\n",
            "/usr/share/fonts/truetype/nanum: caching, new cache contents: 10 fonts, 0 dirs\n",
            "/usr/local/share/fonts: caching, new cache contents: 0 fonts, 0 dirs\n",
            "/root/.local/share/fonts: skipping, no such directory\n",
            "/root/.fonts: skipping, no such directory\n",
            "/var/cache/fontconfig: cleaning cache directory\n",
            "/root/.cache/fontconfig: not cleaning non-existent cache directory\n",
            "/root/.fontconfig: not cleaning non-existent cache directory\n",
            "fc-cache: succeeded\n"
          ]
        }
      ]
    },
    {
      "cell_type": "code",
      "source": [
        "from google.colab import drive\n",
        "drive.mount('/content/drive')"
      ],
      "metadata": {
        "colab": {
          "base_uri": "https://localhost:8080/"
        },
        "id": "q2pUQjdVxWcw",
        "outputId": "99b91bfc-5ed3-4d2e-bbd4-c828e02a7f48"
      },
      "execution_count": 1,
      "outputs": [
        {
          "output_type": "stream",
          "name": "stdout",
          "text": [
            "Mounted at /content/drive\n"
          ]
        }
      ]
    },
    {
      "cell_type": "code",
      "source": [
        "import pandas as pd\n",
        "import numpy as np\n",
        "import matplotlib.pyplot as plt\n",
        "import seaborn as sns\n",
        "\n",
        "from datetime import datetime\n",
        "import statsmodels.api as sm\n",
        "\n",
        "import warnings\n",
        "warnings.filterwarnings('ignore')\n",
        "\n",
        "plt.rc('font', family='NanumBarunGothic') "
      ],
      "metadata": {
        "id": "pSfQJQL1xd6Q",
        "colab": {
          "base_uri": "https://localhost:8080/"
        },
        "outputId": "30d11aa2-0f99-4b3f-f7ef-582277efddb0"
      },
      "execution_count": 2,
      "outputs": [
        {
          "output_type": "stream",
          "name": "stderr",
          "text": [
            "/usr/local/lib/python3.7/dist-packages/statsmodels/tools/_testing.py:19: FutureWarning: pandas.util.testing is deprecated. Use the functions in the public API at pandas.testing instead.\n",
            "  import pandas.util.testing as tm\n"
          ]
        }
      ]
    },
    {
      "cell_type": "markdown",
      "source": [
        "# *train/test set*"
      ],
      "metadata": {
        "id": "klBqlTPLpNWs"
      }
    },
    {
      "cell_type": "code",
      "source": [
        "west2 = pd.read_csv('/content/drive/MyDrive/data/data2/wes with month.csv',encoding = 'euc-kr')\n",
        "cen2 = pd.read_csv('/content/drive/MyDrive/data/data2/cen with month.csv',encoding = 'euc-kr')\n",
        "nor2 = pd.read_csv('/content/drive/MyDrive/data/data2/nor with month.csv',encoding = 'euc-kr')"
      ],
      "metadata": {
        "id": "duOEjryagka7"
      },
      "execution_count": 3,
      "outputs": []
    },
    {
      "cell_type": "code",
      "source": [
        "testwest = pd.read_csv('/content/drive/MyDrive/data/data2/west21.csv', encoding = 'euc-kr')\n",
        "testcen = pd.read_csv('/content/drive/MyDrive/data/data2/cen21.csv', encoding = 'euc-kr')\n",
        "testnor = pd.read_csv('/content/drive/MyDrive/data/data2/nor21.csv', encoding = 'euc-kr')"
      ],
      "metadata": {
        "id": "DgWg8XFHtrg2"
      },
      "execution_count": 4,
      "outputs": []
    },
    {
      "cell_type": "markdown",
      "source": [
        "## train set"
      ],
      "metadata": {
        "id": "taf2OkYEyp1j"
      }
    },
    {
      "cell_type": "code",
      "source": [
        "west2 = west2[(west2['종류'] == '콩정선기') |\n",
        "              (west2['종류'] == '농산물탈피기') |\n",
        "              (west2['종류'] == '모우어') |\n",
        "              (west2['종류'] == '잔가지파쇄기')]"
      ],
      "metadata": {
        "id": "BgyJzZT3fQJ9"
      },
      "execution_count": 5,
      "outputs": []
    },
    {
      "cell_type": "code",
      "source": [
        "nor2 = nor2[(nor2['종류'] == '콩정선기')|\n",
        "            (nor2['종류'] == '농산물탈피기')|\n",
        "            (nor2['종류'] == '모우어')|\n",
        "            (nor2['종류'] == '보행경운기')|\n",
        "            (nor2['종류'] == '잔가지파쇄기')]"
      ],
      "metadata": {
        "id": "-f7qQSkjggp1"
      },
      "execution_count": 6,
      "outputs": []
    },
    {
      "cell_type": "code",
      "source": [
        "cen2 = cen2[(cen2['종류'] == '콩정선기')|(cen2['종류'] == '동력예취기')|(cen2['종류'] == '그레이더')|\n",
        "            (cen2['종류'] == '농산물탈피기')|(cen2['종류'] == '농업용고소작업차')|(cen2['종류'] == '농업용동력운반차')|\n",
        "            (cen2['종류'] == '동력분무기')|(cen2['종류'] == '동력파종기')|(cen2['종류'] == '보행경운기')|\n",
        "            (cen2['종류'] == '승용관리기')|(cen2['종류'] == '잔가지파쇄기')|(cen2['종류'] == '곡물정선기')]"
      ],
      "metadata": {
        "id": "Bbh7kPGogiMl"
      },
      "execution_count": 7,
      "outputs": []
    },
    {
      "cell_type": "code",
      "source": [
        "# west2.info()"
      ],
      "metadata": {
        "id": "pO8H9871NVOx"
      },
      "execution_count": 8,
      "outputs": []
    },
    {
      "cell_type": "markdown",
      "source": [
        "## test set"
      ],
      "metadata": {
        "id": "7ijHigIYyrgk"
      }
    },
    {
      "cell_type": "code",
      "source": [
        "testwest = testwest[(testwest['종류'] == '콩정선기') |\n",
        "              (testwest['종류'] == '농산물탈피기') |\n",
        "              (testwest['종류'] == '모우어') |\n",
        "              (testwest['종류'] == '잔가지파쇄기')]"
      ],
      "metadata": {
        "id": "jsU7BkqbuF7r"
      },
      "execution_count": 9,
      "outputs": []
    },
    {
      "cell_type": "code",
      "source": [
        "testnor = testnor[(testnor['종류'] == '콩정선기')|\n",
        "            (testnor['종류'] == '농산물탈피기')|\n",
        "            (testnor['종류'] == '모우어')|\n",
        "            (testnor['종류'] == '보행경운기')|\n",
        "            (testnor['종류'] == '잔가지파쇄기')]"
      ],
      "metadata": {
        "id": "4SpTtGBquGC4"
      },
      "execution_count": 10,
      "outputs": []
    },
    {
      "cell_type": "code",
      "source": [
        "testcen = testcen[(testcen['종류'] == '콩정선기')|(testcen['종류'] == '동력예취기')|(testcen['종류'] == '그레이더')|\n",
        "            (testcen['종류'] == '농산물탈피기')|(testcen['종류'] == '농업용고소작업차')|(testcen['종류'] == '농업용동력운반차')|\n",
        "            (testcen['종류'] == '동력분무기')| (testcen['종류'] == '동력파종기')|(testcen['종류'] == '보행경운기')|\n",
        "            (testcen['종류'] == '승용관리기')|(testcen['종류'] == '잔가지파쇄기')|(testcen['종류'] == '곡물정선기')]"
      ],
      "metadata": {
        "id": "rMlWn0DJuGKI"
      },
      "execution_count": 11,
      "outputs": []
    },
    {
      "cell_type": "code",
      "source": [
        "# testwest.info()"
      ],
      "metadata": {
        "id": "aizGBSGu-4k5"
      },
      "execution_count": 12,
      "outputs": []
    },
    {
      "cell_type": "code",
      "source": [
        "testwest['month'] = testwest['date'].str.split('-').str[1] \n",
        "testwest['month'] = testwest['month'].astype('int')"
      ],
      "metadata": {
        "id": "gN46ZgK87GhK"
      },
      "execution_count": 13,
      "outputs": []
    },
    {
      "cell_type": "code",
      "source": [
        "testnor['month'] = testnor['date'].str.split('-').str[1]\n",
        "testnor['month'] = testnor['month'].astype('int')"
      ],
      "metadata": {
        "id": "T0msLpPkQCjB"
      },
      "execution_count": 14,
      "outputs": []
    },
    {
      "cell_type": "code",
      "source": [
        "testcen['month'] = testcen['date'].str.split('-').str[1]\n",
        "testcen['month'] = testcen['month'].astype('int')"
      ],
      "metadata": {
        "id": "ss4tLJYvQOPJ"
      },
      "execution_count": 15,
      "outputs": []
    },
    {
      "cell_type": "code",
      "source": [
        "# testwest.head(1)"
      ],
      "metadata": {
        "id": "VTYhQFPNOJ-J"
      },
      "execution_count": 16,
      "outputs": []
    },
    {
      "cell_type": "code",
      "source": [
        "# testnor.head(1)"
      ],
      "metadata": {
        "id": "z9RzJGnjQQ-i"
      },
      "execution_count": 17,
      "outputs": []
    },
    {
      "cell_type": "code",
      "source": [
        "# testcen.head(1)"
      ],
      "metadata": {
        "id": "mCgx5I6wQSz5"
      },
      "execution_count": 18,
      "outputs": []
    },
    {
      "cell_type": "markdown",
      "source": [
        "# *module & etc*"
      ],
      "metadata": {
        "id": "CbhG19sZ9VlY"
      }
    },
    {
      "cell_type": "code",
      "source": [
        "from sklearn.tree import DecisionTreeRegressor\n",
        "from sklearn.tree import export_graphviz\n",
        "from subprocess import check_call\n",
        "from sklearn import tree\n",
        "\n",
        "from sklearn.metrics import make_scorer\n",
        "from sklearn.model_selection import GridSearchCV"
      ],
      "metadata": {
        "id": "jmn6ViKJjrOo"
      },
      "execution_count": 19,
      "outputs": []
    },
    {
      "cell_type": "code",
      "source": [
        "from sklearn.metrics import mean_squared_error as MSE"
      ],
      "metadata": {
        "id": "JAN_MDjEhiFw"
      },
      "execution_count": 20,
      "outputs": []
    },
    {
      "cell_type": "code",
      "source": [
        "# 하이퍼파라미터 튜닝\n",
        "def rmse(p,a):\n",
        "    difference=p-a\n",
        "    squared=difference**2\n",
        "    mean=squared.mean()\n",
        "    score=np.sqrt(mean)\n",
        "    return score\n",
        "\n",
        "rmse_scorer = make_scorer(rmse, greater_is_better=False)\n",
        "rmse_scorer"
      ],
      "metadata": {
        "id": "_ZeQu4M7-GYZ",
        "colab": {
          "base_uri": "https://localhost:8080/"
        },
        "outputId": "4a2b2c19-1932-4a49-c50e-ed0e3c414b00"
      },
      "execution_count": 21,
      "outputs": [
        {
          "output_type": "execute_result",
          "data": {
            "text/plain": [
              "make_scorer(rmse, greater_is_better=False)"
            ]
          },
          "metadata": {},
          "execution_count": 21
        }
      ]
    },
    {
      "cell_type": "markdown",
      "source": [
        "# *minmax normalization*\n",
        "\n",
        "- minmaxscaler\n",
        "- standard\n",
        "\n",
        "- 서부\n",
        "- 북부\n",
        "- 중앙"
      ],
      "metadata": {
        "id": "l-JLi0V6230A"
      }
    },
    {
      "cell_type": "code",
      "source": [
        "from sklearn.preprocessing import MinMaxScaler\n",
        "scaler = MinMaxScaler()"
      ],
      "metadata": {
        "id": "JOyCGeiAgxL4"
      },
      "execution_count": 22,
      "outputs": []
    },
    {
      "cell_type": "markdown",
      "source": [
        "## 서부\n",
        "- 4개에 대해서 ^각가^ 모델핏"
      ],
      "metadata": {
        "id": "HR9Hi0Y_gAS_"
      }
    },
    {
      "cell_type": "code",
      "source": [
        "# west2 종류에 대해서 딕셔너리 만들기\n",
        "west_dic = {'west1' : '농산물탈피기',\n",
        "            'west2' : '모우어',\n",
        "            'west3' : '잔가지파쇄기',\n",
        "            'west4' : '콩정선기'}"
      ],
      "metadata": {
        "id": "U4PJn06cgeiP"
      },
      "execution_count": 23,
      "outputs": []
    },
    {
      "cell_type": "code",
      "source": [
        "# west2[west2['date'] == '2018-01-02']"
      ],
      "metadata": {
        "colab": {
          "base_uri": "https://localhost:8080/",
          "height": 305
        },
        "id": "igmMBlgZXONz",
        "outputId": "75afa32d-a4d9-4189-d1d7-469130b1056c"
      },
      "execution_count": null,
      "outputs": [
        {
          "output_type": "execute_result",
          "data": {
            "text/html": [
              "\n",
              "  <div id=\"df-34fdb309-178e-4883-82bc-f0117eb2fe0d\">\n",
              "    <div class=\"colab-df-container\">\n",
              "      <div>\n",
              "<style scoped>\n",
              "    .dataframe tbody tr th:only-of-type {\n",
              "        vertical-align: middle;\n",
              "    }\n",
              "\n",
              "    .dataframe tbody tr th {\n",
              "        vertical-align: top;\n",
              "    }\n",
              "\n",
              "    .dataframe thead th {\n",
              "        text-align: right;\n",
              "    }\n",
              "</style>\n",
              "<table border=\"1\" class=\"dataframe\">\n",
              "  <thead>\n",
              "    <tr style=\"text-align: right;\">\n",
              "      <th></th>\n",
              "      <th>Unnamed: 0</th>\n",
              "      <th>date</th>\n",
              "      <th>종류</th>\n",
              "      <th>건수</th>\n",
              "      <th>평균기온(°C)</th>\n",
              "      <th>일강수량(mm)</th>\n",
              "      <th>평균 풍속(m/s)</th>\n",
              "      <th>평균 상대습도(%)</th>\n",
              "      <th>합계 일사량(MJ/m2)</th>\n",
              "      <th>month</th>\n",
              "    </tr>\n",
              "  </thead>\n",
              "  <tbody>\n",
              "    <tr>\n",
              "      <th>4380</th>\n",
              "      <td>4380</td>\n",
              "      <td>2018-01-02</td>\n",
              "      <td>농산물탈피기</td>\n",
              "      <td>0.0</td>\n",
              "      <td>-0.5</td>\n",
              "      <td>0.0</td>\n",
              "      <td>2.0</td>\n",
              "      <td>54.0</td>\n",
              "      <td>7.92</td>\n",
              "      <td>1</td>\n",
              "    </tr>\n",
              "    <tr>\n",
              "      <th>18615</th>\n",
              "      <td>18615</td>\n",
              "      <td>2018-01-02</td>\n",
              "      <td>모우어</td>\n",
              "      <td>0.0</td>\n",
              "      <td>-0.5</td>\n",
              "      <td>0.0</td>\n",
              "      <td>2.0</td>\n",
              "      <td>54.0</td>\n",
              "      <td>7.92</td>\n",
              "      <td>1</td>\n",
              "    </tr>\n",
              "    <tr>\n",
              "      <th>26280</th>\n",
              "      <td>26280</td>\n",
              "      <td>2018-01-02</td>\n",
              "      <td>잔가지파쇄기</td>\n",
              "      <td>0.0</td>\n",
              "      <td>-0.5</td>\n",
              "      <td>0.0</td>\n",
              "      <td>2.0</td>\n",
              "      <td>54.0</td>\n",
              "      <td>7.92</td>\n",
              "      <td>1</td>\n",
              "    </tr>\n",
              "    <tr>\n",
              "      <th>29565</th>\n",
              "      <td>29565</td>\n",
              "      <td>2018-01-02</td>\n",
              "      <td>콩정선기</td>\n",
              "      <td>2.0</td>\n",
              "      <td>-0.5</td>\n",
              "      <td>0.0</td>\n",
              "      <td>2.0</td>\n",
              "      <td>54.0</td>\n",
              "      <td>7.92</td>\n",
              "      <td>1</td>\n",
              "    </tr>\n",
              "  </tbody>\n",
              "</table>\n",
              "</div>\n",
              "      <button class=\"colab-df-convert\" onclick=\"convertToInteractive('df-34fdb309-178e-4883-82bc-f0117eb2fe0d')\"\n",
              "              title=\"Convert this dataframe to an interactive table.\"\n",
              "              style=\"display:none;\">\n",
              "        \n",
              "  <svg xmlns=\"http://www.w3.org/2000/svg\" height=\"24px\"viewBox=\"0 0 24 24\"\n",
              "       width=\"24px\">\n",
              "    <path d=\"M0 0h24v24H0V0z\" fill=\"none\"/>\n",
              "    <path d=\"M18.56 5.44l.94 2.06.94-2.06 2.06-.94-2.06-.94-.94-2.06-.94 2.06-2.06.94zm-11 1L8.5 8.5l.94-2.06 2.06-.94-2.06-.94L8.5 2.5l-.94 2.06-2.06.94zm10 10l.94 2.06.94-2.06 2.06-.94-2.06-.94-.94-2.06-.94 2.06-2.06.94z\"/><path d=\"M17.41 7.96l-1.37-1.37c-.4-.4-.92-.59-1.43-.59-.52 0-1.04.2-1.43.59L10.3 9.45l-7.72 7.72c-.78.78-.78 2.05 0 2.83L4 21.41c.39.39.9.59 1.41.59.51 0 1.02-.2 1.41-.59l7.78-7.78 2.81-2.81c.8-.78.8-2.07 0-2.86zM5.41 20L4 18.59l7.72-7.72 1.47 1.35L5.41 20z\"/>\n",
              "  </svg>\n",
              "      </button>\n",
              "      \n",
              "  <style>\n",
              "    .colab-df-container {\n",
              "      display:flex;\n",
              "      flex-wrap:wrap;\n",
              "      gap: 12px;\n",
              "    }\n",
              "\n",
              "    .colab-df-convert {\n",
              "      background-color: #E8F0FE;\n",
              "      border: none;\n",
              "      border-radius: 50%;\n",
              "      cursor: pointer;\n",
              "      display: none;\n",
              "      fill: #1967D2;\n",
              "      height: 32px;\n",
              "      padding: 0 0 0 0;\n",
              "      width: 32px;\n",
              "    }\n",
              "\n",
              "    .colab-df-convert:hover {\n",
              "      background-color: #E2EBFA;\n",
              "      box-shadow: 0px 1px 2px rgba(60, 64, 67, 0.3), 0px 1px 3px 1px rgba(60, 64, 67, 0.15);\n",
              "      fill: #174EA6;\n",
              "    }\n",
              "\n",
              "    [theme=dark] .colab-df-convert {\n",
              "      background-color: #3B4455;\n",
              "      fill: #D2E3FC;\n",
              "    }\n",
              "\n",
              "    [theme=dark] .colab-df-convert:hover {\n",
              "      background-color: #434B5C;\n",
              "      box-shadow: 0px 1px 3px 1px rgba(0, 0, 0, 0.15);\n",
              "      filter: drop-shadow(0px 1px 2px rgba(0, 0, 0, 0.3));\n",
              "      fill: #FFFFFF;\n",
              "    }\n",
              "  </style>\n",
              "\n",
              "      <script>\n",
              "        const buttonEl =\n",
              "          document.querySelector('#df-34fdb309-178e-4883-82bc-f0117eb2fe0d button.colab-df-convert');\n",
              "        buttonEl.style.display =\n",
              "          google.colab.kernel.accessAllowed ? 'block' : 'none';\n",
              "\n",
              "        async function convertToInteractive(key) {\n",
              "          const element = document.querySelector('#df-34fdb309-178e-4883-82bc-f0117eb2fe0d');\n",
              "          const dataTable =\n",
              "            await google.colab.kernel.invokeFunction('convertToInteractive',\n",
              "                                                     [key], {});\n",
              "          if (!dataTable) return;\n",
              "\n",
              "          const docLinkHtml = 'Like what you see? Visit the ' +\n",
              "            '<a target=\"_blank\" href=https://colab.research.google.com/notebooks/data_table.ipynb>data table notebook</a>'\n",
              "            + ' to learn more about interactive tables.';\n",
              "          element.innerHTML = '';\n",
              "          dataTable['output_type'] = 'display_data';\n",
              "          await google.colab.output.renderOutput(dataTable, element);\n",
              "          const docLink = document.createElement('div');\n",
              "          docLink.innerHTML = docLinkHtml;\n",
              "          element.appendChild(docLink);\n",
              "        }\n",
              "      </script>\n",
              "    </div>\n",
              "  </div>\n",
              "  "
            ],
            "text/plain": [
              "       Unnamed: 0        date      종류  ...  평균 상대습도(%)  합계 일사량(MJ/m2)  month\n",
              "4380         4380  2018-01-02  농산물탈피기  ...        54.0           7.92      1\n",
              "18615       18615  2018-01-02     모우어  ...        54.0           7.92      1\n",
              "26280       26280  2018-01-02  잔가지파쇄기  ...        54.0           7.92      1\n",
              "29565       29565  2018-01-02    콩정선기  ...        54.0           7.92      1\n",
              "\n",
              "[4 rows x 10 columns]"
            ]
          },
          "metadata": {},
          "execution_count": 35
        }
      ]
    },
    {
      "cell_type": "code",
      "source": [
        "# west2.shape"
      ],
      "metadata": {
        "colab": {
          "base_uri": "https://localhost:8080/"
        },
        "id": "mBH2HBAsezwS",
        "outputId": "98d33732-2413-4d98-e2a7-1a042f238f2b"
      },
      "execution_count": null,
      "outputs": [
        {
          "output_type": "execute_result",
          "data": {
            "text/plain": [
              "(4380, 10)"
            ]
          },
          "metadata": {},
          "execution_count": 41
        }
      ]
    },
    {
      "cell_type": "markdown",
      "source": [
        "### 서부 분소의 total train set : west_train"
      ],
      "metadata": {
        "id": "b66skZHPjgS_"
      }
    },
    {
      "cell_type": "code",
      "source": [
        "# 서부 분소의 train set X(입력변수만) 정의\n",
        "west_train_X = pd.DataFrame(scaler.fit_transform(X = west2.iloc[:,4:], y = west2[['건수']])) #입력 변수만 정규화함\n",
        "west_train_X.columns = ['평균기온', '일강수량', '평균풍속', '평균상대습도', '합계일사량', 'month']"
      ],
      "metadata": {
        "id": "X5fTbs0reW9t"
      },
      "execution_count": 24,
      "outputs": []
    },
    {
      "cell_type": "code",
      "source": [
        "west_train_X"
      ],
      "metadata": {
        "id": "yO9tQLPEmZmq"
      },
      "execution_count": null,
      "outputs": []
    },
    {
      "cell_type": "markdown",
      "source": [
        "* https://scikit-learn.org/stable/modules/generated/sklearn.preprocessing.MinMaxScaler.html\n",
        "- y 변수는 정규화하지 않은 근거 : y = none (y는 정규화에서 제외함)"
      ],
      "metadata": {
        "id": "Uwhymex2jbqV"
      }
    },
    {
      "cell_type": "markdown",
      "source": [
        "* 서부 분소의 train set 만들기"
      ],
      "metadata": {
        "id": "H9G5rZwYixCZ"
      }
    },
    {
      "cell_type": "code",
      "source": [
        "west_train_X = west_train_X.reset_index()\n",
        "\n",
        "tmp_west = west2[['종류','건수']].reset_index().reset_index()\n",
        "tmp_west.drop(columns = ['index'], axis = 1,inplace = True)\n",
        "tmp_west.rename(columns = {'level_0' : 'index'}, inplace = True)\n",
        "\n",
        "west_train = pd.concat([tmp_west, west_train_X], axis = 1)\n",
        "west_train"
      ],
      "metadata": {
        "id": "f1BMYl_bi0K5",
        "colab": {
          "base_uri": "https://localhost:8080/",
          "height": 423
        },
        "outputId": "93129f9f-a069-4bda-cb58-2868a51b45d7"
      },
      "execution_count": 25,
      "outputs": [
        {
          "output_type": "execute_result",
          "data": {
            "text/html": [
              "\n",
              "  <div id=\"df-37247366-cb90-491a-b1e9-e41df0d09ac0\">\n",
              "    <div class=\"colab-df-container\">\n",
              "      <div>\n",
              "<style scoped>\n",
              "    .dataframe tbody tr th:only-of-type {\n",
              "        vertical-align: middle;\n",
              "    }\n",
              "\n",
              "    .dataframe tbody tr th {\n",
              "        vertical-align: top;\n",
              "    }\n",
              "\n",
              "    .dataframe thead th {\n",
              "        text-align: right;\n",
              "    }\n",
              "</style>\n",
              "<table border=\"1\" class=\"dataframe\">\n",
              "  <thead>\n",
              "    <tr style=\"text-align: right;\">\n",
              "      <th></th>\n",
              "      <th>index</th>\n",
              "      <th>종류</th>\n",
              "      <th>건수</th>\n",
              "      <th>index</th>\n",
              "      <th>평균기온</th>\n",
              "      <th>일강수량</th>\n",
              "      <th>평균풍속</th>\n",
              "      <th>평균상대습도</th>\n",
              "      <th>합계일사량</th>\n",
              "      <th>month</th>\n",
              "    </tr>\n",
              "  </thead>\n",
              "  <tbody>\n",
              "    <tr>\n",
              "      <th>0</th>\n",
              "      <td>0</td>\n",
              "      <td>농산물탈피기</td>\n",
              "      <td>0.0</td>\n",
              "      <td>0</td>\n",
              "      <td>0.254587</td>\n",
              "      <td>0.00000</td>\n",
              "      <td>0.36</td>\n",
              "      <td>0.402597</td>\n",
              "      <td>0.253197</td>\n",
              "      <td>0.0</td>\n",
              "    </tr>\n",
              "    <tr>\n",
              "      <th>1</th>\n",
              "      <td>1</td>\n",
              "      <td>농산물탈피기</td>\n",
              "      <td>0.0</td>\n",
              "      <td>1</td>\n",
              "      <td>0.217890</td>\n",
              "      <td>0.00000</td>\n",
              "      <td>0.34</td>\n",
              "      <td>0.180519</td>\n",
              "      <td>0.351982</td>\n",
              "      <td>0.0</td>\n",
              "    </tr>\n",
              "    <tr>\n",
              "      <th>2</th>\n",
              "      <td>2</td>\n",
              "      <td>농산물탈피기</td>\n",
              "      <td>1.0</td>\n",
              "      <td>2</td>\n",
              "      <td>0.208716</td>\n",
              "      <td>0.00000</td>\n",
              "      <td>0.10</td>\n",
              "      <td>0.309091</td>\n",
              "      <td>0.314898</td>\n",
              "      <td>0.0</td>\n",
              "    </tr>\n",
              "    <tr>\n",
              "      <th>3</th>\n",
              "      <td>3</td>\n",
              "      <td>농산물탈피기</td>\n",
              "      <td>0.0</td>\n",
              "      <td>3</td>\n",
              "      <td>0.252294</td>\n",
              "      <td>0.00000</td>\n",
              "      <td>0.32</td>\n",
              "      <td>0.316883</td>\n",
              "      <td>0.313619</td>\n",
              "      <td>0.0</td>\n",
              "    </tr>\n",
              "    <tr>\n",
              "      <th>4</th>\n",
              "      <td>4</td>\n",
              "      <td>농산물탈피기</td>\n",
              "      <td>0.0</td>\n",
              "      <td>4</td>\n",
              "      <td>0.238532</td>\n",
              "      <td>0.00000</td>\n",
              "      <td>0.32</td>\n",
              "      <td>0.306494</td>\n",
              "      <td>0.355179</td>\n",
              "      <td>0.0</td>\n",
              "    </tr>\n",
              "    <tr>\n",
              "      <th>...</th>\n",
              "      <td>...</td>\n",
              "      <td>...</td>\n",
              "      <td>...</td>\n",
              "      <td>...</td>\n",
              "      <td>...</td>\n",
              "      <td>...</td>\n",
              "      <td>...</td>\n",
              "      <td>...</td>\n",
              "      <td>...</td>\n",
              "      <td>...</td>\n",
              "    </tr>\n",
              "    <tr>\n",
              "      <th>4375</th>\n",
              "      <td>4375</td>\n",
              "      <td>콩정선기</td>\n",
              "      <td>0.0</td>\n",
              "      <td>4375</td>\n",
              "      <td>0.272936</td>\n",
              "      <td>0.00000</td>\n",
              "      <td>0.08</td>\n",
              "      <td>0.767532</td>\n",
              "      <td>0.159847</td>\n",
              "      <td>1.0</td>\n",
              "    </tr>\n",
              "    <tr>\n",
              "      <th>4376</th>\n",
              "      <td>4376</td>\n",
              "      <td>콩정선기</td>\n",
              "      <td>1.0</td>\n",
              "      <td>4376</td>\n",
              "      <td>0.307339</td>\n",
              "      <td>0.00000</td>\n",
              "      <td>0.06</td>\n",
              "      <td>0.689610</td>\n",
              "      <td>0.000000</td>\n",
              "      <td>1.0</td>\n",
              "    </tr>\n",
              "    <tr>\n",
              "      <th>4377</th>\n",
              "      <td>4377</td>\n",
              "      <td>콩정선기</td>\n",
              "      <td>1.0</td>\n",
              "      <td>4377</td>\n",
              "      <td>0.295872</td>\n",
              "      <td>0.00203</td>\n",
              "      <td>0.22</td>\n",
              "      <td>0.689610</td>\n",
              "      <td>0.201087</td>\n",
              "      <td>1.0</td>\n",
              "    </tr>\n",
              "    <tr>\n",
              "      <th>4378</th>\n",
              "      <td>4378</td>\n",
              "      <td>콩정선기</td>\n",
              "      <td>1.0</td>\n",
              "      <td>4378</td>\n",
              "      <td>0.087156</td>\n",
              "      <td>0.00000</td>\n",
              "      <td>0.88</td>\n",
              "      <td>0.209091</td>\n",
              "      <td>0.360294</td>\n",
              "      <td>1.0</td>\n",
              "    </tr>\n",
              "    <tr>\n",
              "      <th>4379</th>\n",
              "      <td>4379</td>\n",
              "      <td>콩정선기</td>\n",
              "      <td>1.0</td>\n",
              "      <td>4379</td>\n",
              "      <td>0.084862</td>\n",
              "      <td>0.00000</td>\n",
              "      <td>0.66</td>\n",
              "      <td>0.283117</td>\n",
              "      <td>0.340473</td>\n",
              "      <td>1.0</td>\n",
              "    </tr>\n",
              "  </tbody>\n",
              "</table>\n",
              "<p>4380 rows × 10 columns</p>\n",
              "</div>\n",
              "      <button class=\"colab-df-convert\" onclick=\"convertToInteractive('df-37247366-cb90-491a-b1e9-e41df0d09ac0')\"\n",
              "              title=\"Convert this dataframe to an interactive table.\"\n",
              "              style=\"display:none;\">\n",
              "        \n",
              "  <svg xmlns=\"http://www.w3.org/2000/svg\" height=\"24px\"viewBox=\"0 0 24 24\"\n",
              "       width=\"24px\">\n",
              "    <path d=\"M0 0h24v24H0V0z\" fill=\"none\"/>\n",
              "    <path d=\"M18.56 5.44l.94 2.06.94-2.06 2.06-.94-2.06-.94-.94-2.06-.94 2.06-2.06.94zm-11 1L8.5 8.5l.94-2.06 2.06-.94-2.06-.94L8.5 2.5l-.94 2.06-2.06.94zm10 10l.94 2.06.94-2.06 2.06-.94-2.06-.94-.94-2.06-.94 2.06-2.06.94z\"/><path d=\"M17.41 7.96l-1.37-1.37c-.4-.4-.92-.59-1.43-.59-.52 0-1.04.2-1.43.59L10.3 9.45l-7.72 7.72c-.78.78-.78 2.05 0 2.83L4 21.41c.39.39.9.59 1.41.59.51 0 1.02-.2 1.41-.59l7.78-7.78 2.81-2.81c.8-.78.8-2.07 0-2.86zM5.41 20L4 18.59l7.72-7.72 1.47 1.35L5.41 20z\"/>\n",
              "  </svg>\n",
              "      </button>\n",
              "      \n",
              "  <style>\n",
              "    .colab-df-container {\n",
              "      display:flex;\n",
              "      flex-wrap:wrap;\n",
              "      gap: 12px;\n",
              "    }\n",
              "\n",
              "    .colab-df-convert {\n",
              "      background-color: #E8F0FE;\n",
              "      border: none;\n",
              "      border-radius: 50%;\n",
              "      cursor: pointer;\n",
              "      display: none;\n",
              "      fill: #1967D2;\n",
              "      height: 32px;\n",
              "      padding: 0 0 0 0;\n",
              "      width: 32px;\n",
              "    }\n",
              "\n",
              "    .colab-df-convert:hover {\n",
              "      background-color: #E2EBFA;\n",
              "      box-shadow: 0px 1px 2px rgba(60, 64, 67, 0.3), 0px 1px 3px 1px rgba(60, 64, 67, 0.15);\n",
              "      fill: #174EA6;\n",
              "    }\n",
              "\n",
              "    [theme=dark] .colab-df-convert {\n",
              "      background-color: #3B4455;\n",
              "      fill: #D2E3FC;\n",
              "    }\n",
              "\n",
              "    [theme=dark] .colab-df-convert:hover {\n",
              "      background-color: #434B5C;\n",
              "      box-shadow: 0px 1px 3px 1px rgba(0, 0, 0, 0.15);\n",
              "      filter: drop-shadow(0px 1px 2px rgba(0, 0, 0, 0.3));\n",
              "      fill: #FFFFFF;\n",
              "    }\n",
              "  </style>\n",
              "\n",
              "      <script>\n",
              "        const buttonEl =\n",
              "          document.querySelector('#df-37247366-cb90-491a-b1e9-e41df0d09ac0 button.colab-df-convert');\n",
              "        buttonEl.style.display =\n",
              "          google.colab.kernel.accessAllowed ? 'block' : 'none';\n",
              "\n",
              "        async function convertToInteractive(key) {\n",
              "          const element = document.querySelector('#df-37247366-cb90-491a-b1e9-e41df0d09ac0');\n",
              "          const dataTable =\n",
              "            await google.colab.kernel.invokeFunction('convertToInteractive',\n",
              "                                                     [key], {});\n",
              "          if (!dataTable) return;\n",
              "\n",
              "          const docLinkHtml = 'Like what you see? Visit the ' +\n",
              "            '<a target=\"_blank\" href=https://colab.research.google.com/notebooks/data_table.ipynb>data table notebook</a>'\n",
              "            + ' to learn more about interactive tables.';\n",
              "          element.innerHTML = '';\n",
              "          dataTable['output_type'] = 'display_data';\n",
              "          await google.colab.output.renderOutput(dataTable, element);\n",
              "          const docLink = document.createElement('div');\n",
              "          docLink.innerHTML = docLinkHtml;\n",
              "          element.appendChild(docLink);\n",
              "        }\n",
              "      </script>\n",
              "    </div>\n",
              "  </div>\n",
              "  "
            ],
            "text/plain": [
              "      index      종류   건수  index  ...  평균풍속    평균상대습도     합계일사량  month\n",
              "0         0  농산물탈피기  0.0      0  ...  0.36  0.402597  0.253197    0.0\n",
              "1         1  농산물탈피기  0.0      1  ...  0.34  0.180519  0.351982    0.0\n",
              "2         2  농산물탈피기  1.0      2  ...  0.10  0.309091  0.314898    0.0\n",
              "3         3  농산물탈피기  0.0      3  ...  0.32  0.316883  0.313619    0.0\n",
              "4         4  농산물탈피기  0.0      4  ...  0.32  0.306494  0.355179    0.0\n",
              "...     ...     ...  ...    ...  ...   ...       ...       ...    ...\n",
              "4375   4375    콩정선기  0.0   4375  ...  0.08  0.767532  0.159847    1.0\n",
              "4376   4376    콩정선기  1.0   4376  ...  0.06  0.689610  0.000000    1.0\n",
              "4377   4377    콩정선기  1.0   4377  ...  0.22  0.689610  0.201087    1.0\n",
              "4378   4378    콩정선기  1.0   4378  ...  0.88  0.209091  0.360294    1.0\n",
              "4379   4379    콩정선기  1.0   4379  ...  0.66  0.283117  0.340473    1.0\n",
              "\n",
              "[4380 rows x 10 columns]"
            ]
          },
          "metadata": {},
          "execution_count": 25
        }
      ]
    },
    {
      "cell_type": "markdown",
      "source": [
        "### 서부분소의 total test set : west_test"
      ],
      "metadata": {
        "id": "mLUiD_W8jnD_"
      }
    },
    {
      "cell_type": "code",
      "source": [
        "# 정규화\n",
        "west_test_X = pd.DataFrame(scaler.fit_transform(X= testwest.iloc[:,3:], y = testwest[['건수']]))\n",
        "west_test_X.columns = ['평균기온', '일강수량', '평균풍속', '평균상대습도', '합계일사량', 'month']\n",
        "west_test_X = west_test_X.reset_index()\n",
        "#\n",
        "tmp_west_test = testwest[['종류','건수']].reset_index().reset_index()\n",
        "tmp_west_test.drop(columns = ['index'], axis = 1,inplace = True)\n",
        "tmp_west_test.rename(columns = {'level_0' : 'index'}, inplace = True)\n",
        "\n",
        "west_test = pd.concat([tmp_west_test, west_test_X], axis = 1)\n",
        "# west_test"
      ],
      "metadata": {
        "id": "W2Zu1twZkLgr"
      },
      "execution_count": 26,
      "outputs": []
    },
    {
      "cell_type": "markdown",
      "source": [
        "### *west1 에 대한 model fit*"
      ],
      "metadata": {
        "id": "Cq_rIumij6kb"
      }
    },
    {
      "cell_type": "code",
      "source": [
        "west_dic['west1']"
      ],
      "metadata": {
        "colab": {
          "base_uri": "https://localhost:8080/",
          "height": 38
        },
        "id": "CZGhmNcsjMm-",
        "outputId": "2979c3a0-5d89-4f3a-8bcb-93b1b65610c6"
      },
      "execution_count": null,
      "outputs": [
        {
          "output_type": "execute_result",
          "data": {
            "application/vnd.google.colaboratory.intrinsic+json": {
              "type": "string"
            },
            "text/plain": [
              "'농산물탈피기'"
            ]
          },
          "metadata": {},
          "execution_count": 31
        }
      ]
    },
    {
      "cell_type": "code",
      "source": [
        "print(west_train['종류'].nunique(), west_test['종류'].nunique() )"
      ],
      "metadata": {
        "colab": {
          "base_uri": "https://localhost:8080/"
        },
        "id": "xqeCLO_bkBn-",
        "outputId": "04b6d0cf-a666-47e4-b839-927fce7cb688"
      },
      "execution_count": null,
      "outputs": [
        {
          "output_type": "stream",
          "name": "stdout",
          "text": [
            "4 4\n"
          ]
        }
      ]
    },
    {
      "cell_type": "code",
      "source": [
        "# west_train[west_train['종류'] == '농산물탈피기'].head(1)\n",
        "\n",
        "west1_X = west_train[west_train['종류'] == '농산물탈피기'].iloc[:,4:]\n",
        "west1_y = west_train[west_train['종류'] == '농산물탈피기'][['건수']]"
      ],
      "metadata": {
        "id": "pjPd-YI9kOhl"
      },
      "execution_count": null,
      "outputs": []
    },
    {
      "cell_type": "code",
      "source": [
        "tree1 = DecisionTreeRegressor(random_state = 3)\n",
        "tree1.fit(west1_X, west1_y)"
      ],
      "metadata": {
        "colab": {
          "base_uri": "https://localhost:8080/"
        },
        "id": "a_Z2g6dFkW0s",
        "outputId": "5f8c40bb-1e70-489d-8c8a-3fe1c4cf6646"
      },
      "execution_count": null,
      "outputs": [
        {
          "output_type": "execute_result",
          "data": {
            "text/plain": [
              "DecisionTreeRegressor(random_state=3)"
            ]
          },
          "metadata": {},
          "execution_count": 146
        }
      ]
    },
    {
      "cell_type": "code",
      "source": [
        "parameters ={\n",
        "    'max_depth':[3,5,7,9,10,11],\n",
        "    'max_features':[0.1,0.3,0.5,0.7,0.9]\n",
        "}"
      ],
      "metadata": {
        "id": "7AsZvfWVllro"
      },
      "execution_count": null,
      "outputs": []
    },
    {
      "cell_type": "code",
      "source": [
        "west1_GS = GridSearchCV(tree1, param_grid=parameters, cv = 10, scoring=rmse_scorer)\n",
        "west1_GS.fit(west1_X, west1_y)\n",
        "\n",
        "west1_GS.best_params_"
      ],
      "metadata": {
        "colab": {
          "base_uri": "https://localhost:8080/"
        },
        "id": "9AdHTwbsk66f",
        "outputId": "de89a46c-b23e-4388-cb0b-8567f99e96bc"
      },
      "execution_count": null,
      "outputs": [
        {
          "output_type": "execute_result",
          "data": {
            "text/plain": [
              "{'max_depth': 10, 'max_features': 0.1}"
            ]
          },
          "metadata": {},
          "execution_count": 155
        }
      ]
    },
    {
      "cell_type": "code",
      "source": [
        "tree1 = DecisionTreeRegressor(max_depth = 10, max_features = 0.1)\n",
        "tree1.fit(west1_X, west1_y)"
      ],
      "metadata": {
        "colab": {
          "base_uri": "https://localhost:8080/"
        },
        "id": "903btCemlu9L",
        "outputId": "b21c8e48-1cf6-471f-be5b-1d0482c4ab93"
      },
      "execution_count": null,
      "outputs": [
        {
          "output_type": "execute_result",
          "data": {
            "text/plain": [
              "DecisionTreeRegressor(max_depth=10, max_features=0.1)"
            ]
          },
          "metadata": {},
          "execution_count": 156
        }
      ]
    },
    {
      "cell_type": "code",
      "source": [
        "west1_X_test = west_test[west_test['종류'] == '농산물탈피기'].iloc[:,4:]\n",
        "west1_y_test = west_test[west_test['종류'] == '농산물탈피기']['건수']"
      ],
      "metadata": {
        "id": "Peo8qRjul4cs"
      },
      "execution_count": null,
      "outputs": []
    },
    {
      "cell_type": "code",
      "source": [
        "west1_ypred = tree1.predict(west1_X_test)"
      ],
      "metadata": {
        "id": "0qIE3K5AmTFP"
      },
      "execution_count": null,
      "outputs": []
    },
    {
      "cell_type": "code",
      "source": [
        "MSE(west1_y_test, west1_ypred)"
      ],
      "metadata": {
        "colab": {
          "base_uri": "https://localhost:8080/"
        },
        "id": "43reViehCGid",
        "outputId": "7a46bcc9-24f7-421e-b5cc-1f7a6b2ac0ee"
      },
      "execution_count": null,
      "outputs": [
        {
          "output_type": "execute_result",
          "data": {
            "text/plain": [
              "0.07429993345869843"
            ]
          },
          "metadata": {},
          "execution_count": 159
        }
      ]
    },
    {
      "cell_type": "code",
      "source": [
        "# text_representation = tree.export_text(tree1)\n",
        "# text_representation"
      ],
      "metadata": {
        "colab": {
          "base_uri": "https://localhost:8080/",
          "height": 149
        },
        "id": "hUbStRubZr9G",
        "outputId": "3cb9bf2b-9960-4275-8403-b1b98304cd7d"
      },
      "execution_count": null,
      "outputs": [
        {
          "output_type": "execute_result",
          "data": {
            "application/vnd.google.colaboratory.intrinsic+json": {
              "type": "string"
            },
            "text/plain": [
              "'|--- feature_4 <= 0.63\\n|   |--- feature_0 <= 0.74\\n|   |   |--- feature_5 <= 0.68\\n|   |   |   |--- feature_1 <= 0.00\\n|   |   |   |   |--- feature_4 <= 0.33\\n|   |   |   |   |   |--- feature_2 <= 0.11\\n|   |   |   |   |   |   |--- feature_2 <= 0.09\\n|   |   |   |   |   |   |   |--- value: [0.00]\\n|   |   |   |   |   |   |--- feature_2 >  0.09\\n|   |   |   |   |   |   |   |--- feature_3 <= 0.38\\n|   |   |   |   |   |   |   |   |--- value: [1.00]\\n|   |   |   |   |   |   |   |--- feature_3 >  0.38\\n|   |   |   |   |   |   |   |   |--- feature_5 <= 0.09\\n|   |   |   |   |   |   |   |   |   |--- feature_0 <= 0.22\\n|   |   |   |   |   |   |   |   |   |   |--- value: [1.00]\\n|   |   |   |   |   |   |   |   |   |--- feature_0 >  0.22\\n|   |   |   |   |   |   |   |   |   |   |--- value: [0.00]\\n|   |   |   |   |   |   |   |   |--- feature_5 >  0.09\\n|   |   |   |   |   |   |   |   |   |--- value: [0.00]\\n|   |   |   |   |   |--- feature_2 >  0.11\\n|   |   |   |   |   |   |--- value: [0.00]\\n|   |   |   |   |--- feature_4 >  0.33\\n|   |   |   |   |   |--- feature_4 <= 0.58\\n|   |   |   |   |   |   |--- value: [0.00]\\n|   |   |   |   |   |--- feature_4 >  0.58\\n|   |   |   |   |   |   |--- feature_0 <= 0.48\\n|   |   |   |   |   |   |   |--- value: [0.00]\\n|   |   |   |   |   |   |--- feature_0 >  0.48\\n|   |   |   |   |   |   |   |--- feature_2 <= 0.31\\n|   |   |   |   |   |   |   |   |--- value: [0.00]\\n|   |   |   |   |   |   |   |--- feature_2 >  0.31\\n|   |   |   |   |   |   |   |   |--- feature_0 <= 0.52\\n|   |   |   |   |   |   |   |   |   |--- value: [1.00]\\n|   |   |   |   |   |   |   |   |--- feature_0 >  0.52\\n|   |   |   |   |   |   |   |   |   |--- value: [0.00]\\n|   |   |   |--- feature_1 >  0.00\\n|   |   |   |   |--- value: [0.00]\\n|   |   |--- feature_5 >  0.68\\n|   |   |   |--- feature_1 <= 0.02\\n|   |   |   |   |--- feature_5 <= 0.86\\n|   |   |   |   |   |--- feature_3 <= 0.65\\n|   |   |   |   |   |   |--- feature_4 <= 0.63\\n|   |   |   |   |   |   |   |--- feature_4 <= 0.51\\n|   |   |   |   |   |   |   |   |--- value: [0.00]\\n|   |   |   |   |   |   |   |--- feature_4 >  0.51\\n|   |   |   |   |   |   |   |   |--- feature_2 <= 0.25\\n|   |   |   |   |   |   |   |   |   |--- feature_3 <= 0.62\\n|   |   |   |   |   |   |   |   |   |   |--- value: [0.25]\\n|   |   |   |   |   |   |   |   |   |--- feature_3 >  0.62\\n|   |   |   |   |   |   |   |   |   |   |--- value: [0.00]\\n|   |   |   |   |   |   |   |   |--- feature_2 >  0.25\\n|   |   |   |   |   |   |   |   |   |--- value: [0.00]\\n|   |   |   |   |   |   |--- feature_4 >  0.63\\n|   |   |   |   |   |   |   |--- value: [1.00]\\n|   |   |   |   |   |--- feature_3 >  0.65\\n|   |   |   |   |   |   |--- feature_1 <= 0.01\\n|   |   |   |   |   |   |   |--- feature_4 <= 0.14\\n|   |   |   |   |   |   |   |   |--- value: [1.00]\\n|   |   |   |   |   |   |   |--- feature_4 >  0.14\\n|   |   |   |   |   |   |   |   |--- feature_5 <= 0.77\\n|   |   |   |   |   |   |   |   |   |--- feature_0 <= 0.74\\n|   |   |   |   |   |   |   |   |   |   |--- value: [0.10]\\n|   |   |   |   |   |   |   |   |   |--- feature_0 >  0.74\\n|   |   |   |   |   |   |   |   |   |   |--- value: [0.50]\\n|   |   |   |   |   |   |   |   |--- feature_5 >  0.77\\n|   |   |   |   |   |   |   |   |   |--- feature_0 <= 0.52\\n|   |   |   |   |   |   |   |   |   |   |--- value: [0.45]\\n|   |   |   |   |   |   |   |   |   |--- feature_0 >  0.52\\n|   |   |   |   |   |   |   |   |   |   |--- value: [0.20]\\n|   |   |   |   |   |   |--- feature_1 >  0.01\\n|   |   |   |   |   |   |   |--- value: [0.00]\\n|   |   |   |   |--- feature_5 >  0.86\\n|   |   |   |   |   |--- feature_2 <= 0.25\\n|   |   |   |   |   |   |--- feature_5 <= 0.95\\n|   |   |   |   |   |   |   |--- feature_0 <= 0.60\\n|   |   |   |   |   |   |   |   |--- feature_4 <= 0.14\\n|   |   |   |   |   |   |   |   |   |--- feature_0 <= 0.39\\n|   |   |   |   |   |   |   |   |   |   |--- value: [1.00]\\n|   |   |   |   |   |   |   |   |   |--- feature_0 >  0.39\\n|   |   |   |   |   |   |   |   |   |   |--- value: [0.00]\\n|   |   |   |   |   |   |   |   |--- feature_4 >  0.14\\n|   |   |   |   |   |   |   |   |   |--- feature_0 <= 0.36\\n|   |   |   |   |   |   |   |   |   |   |--- value: [0.15]\\n|   |   |   |   |   |   |   |   |   |--- feature_0 >  0.36\\n|   |   |   |   |   |   |   |   |   |   |--- value: [0.00]\\n|   |   |   |   |   |   |   |--- feature_0 >  0.60\\n|   |   |   |   |   |   |   |   |--- value: [1.00]\\n|   |   |   |   |   |   |--- feature_5 >  0.95\\n|   |   |   |   |   |   |   |--- feature_1 <= 0.00\\n|   |   |   |   |   |   |   |   |--- feature_3 <= 0.46\\n|   |   |   |   |   |   |   |   |   |--- feature_0 <= 0.29\\n|   |   |   |   |   |   |   |   |   |   |--- value: [0.00]\\n|   |   |   |   |   |   |   |   |   |--- feature_0 >  0.29\\n|   |   |   |   |   |   |   |   |   |   |--- value: [0.67]\\n|   |   |   |   |   |   |   |   |--- feature_3 >  0.46\\n|   |   |   |   |   |   |   |   |   |--- value: [0.00]\\n|   |   |   |   |   |   |   |--- feature_1 >  0.00\\n|   |   |   |   |   |   |   |   |--- value: [0.00]\\n|   |   |   |   |   |--- feature_2 >  0.25\\n|   |   |   |   |   |   |--- feature_2 <= 0.33\\n|   |   |   |   |   |   |   |--- feature_3 <= 0.23\\n|   |   |   |   |   |   |   |   |--- value: [0.00]\\n|   |   |   |   |   |   |   |--- feature_3 >  0.23\\n|   |   |   |   |   |   |   |   |--- feature_2 <= 0.27\\n|   |   |   |   |   |   |   |   |   |--- feature_3 <= 0.45\\n|   |   |   |   |   |   |   |   |   |   |--- value: [1.00]\\n|   |   |   |   |   |   |   |   |   |--- feature_3 >  0.45\\n|   |   |   |   |   |   |   |   |   |   |--- value: [0.00]\\n|   |   |   |   |   |   |   |   |--- feature_2 >  0.27\\n|   |   |   |   |   |   |   |   |   |--- feature_2 <= 0.30\\n|   |   |   |   |   |   |   |   |   |   |--- value: [0.33]\\n|   |   |   |   |   |   |   |   |   |--- feature_2 >  0.30\\n|   |   |   |   |   |   |   |   |   |   |--- value: [0.50]\\n|   |   |   |   |   |   |--- feature_2 >  0.33\\n|   |   |   |   |   |   |   |--- feature_0 <= 0.42\\n|   |   |   |   |   |   |   |   |--- feature_1 <= 0.00\\n|   |   |   |   |   |   |   |   |   |--- feature_2 <= 0.45\\n|   |   |   |   |   |   |   |   |   |   |--- value: [0.12]\\n|   |   |   |   |   |   |   |   |   |--- feature_2 >  0.45\\n|   |   |   |   |   |   |   |   |   |   |--- value: [0.00]\\n|   |   |   |   |   |   |   |   |--- feature_1 >  0.00\\n|   |   |   |   |   |   |   |   |   |--- value: [0.00]\\n|   |   |   |   |   |   |   |--- feature_0 >  0.42\\n|   |   |   |   |   |   |   |   |--- feature_2 <= 0.36\\n|   |   |   |   |   |   |   |   |   |--- value: [0.00]\\n|   |   |   |   |   |   |   |   |--- feature_2 >  0.36\\n|   |   |   |   |   |   |   |   |   |--- feature_1 <= 0.01\\n|   |   |   |   |   |   |   |   |   |   |--- value: [0.50]\\n|   |   |   |   |   |   |   |   |   |--- feature_1 >  0.01\\n|   |   |   |   |   |   |   |   |   |   |--- value: [1.00]\\n|   |   |   |--- feature_1 >  0.02\\n|   |   |   |   |--- feature_5 <= 0.86\\n|   |   |   |   |   |--- feature_5 <= 0.77\\n|   |   |   |   |   |   |--- value: [0.00]\\n|   |   |   |   |   |--- feature_5 >  0.77\\n|   |   |   |   |   |   |--- feature_3 <= 0.86\\n|   |   |   |   |   |   |   |--- feature_2 <= 0.34\\n|   |   |   |   |   |   |   |   |--- value: [0.00]\\n|   |   |   |   |   |   |   |--- feature_2 >  0.34\\n|   |   |   |   |   |   |   |   |--- value: [1.00]\\n|   |   |   |   |   |   |--- feature_3 >  0.86\\n|   |   |   |   |   |   |   |--- value: [0.00]\\n|   |   |   |   |--- feature_5 >  0.86\\n|   |   |   |   |   |--- value: [0.00]\\n|   |--- feature_0 >  0.74\\n|   |   |--- value: [0.00]\\n|--- feature_4 >  0.63\\n|   |--- feature_4 <= 0.71\\n|   |   |--- feature_1 <= 0.00\\n|   |   |   |--- feature_2 <= 0.37\\n|   |   |   |   |--- value: [0.00]\\n|   |   |   |--- feature_2 >  0.37\\n|   |   |   |   |--- feature_0 <= 0.52\\n|   |   |   |   |   |--- feature_3 <= 0.30\\n|   |   |   |   |   |   |--- value: [0.00]\\n|   |   |   |   |   |--- feature_3 >  0.30\\n|   |   |   |   |   |   |--- feature_3 <= 0.36\\n|   |   |   |   |   |   |   |--- value: [1.00]\\n|   |   |   |   |   |   |--- feature_3 >  0.36\\n|   |   |   |   |   |   |   |--- value: [0.00]\\n|   |   |   |   |--- feature_0 >  0.52\\n|   |   |   |   |   |--- value: [0.00]\\n|   |   |--- feature_1 >  0.00\\n|   |   |   |--- value: [0.00]\\n|   |--- feature_4 >  0.71\\n|   |   |--- value: [0.00]\\n'"
            ]
          },
          "metadata": {},
          "execution_count": 160
        }
      ]
    },
    {
      "cell_type": "code",
      "source": [
        "# index = list(range(0,354))\n",
        "\n",
        "# tmp = {'index' : index,\n",
        "#        'value(y_test)' : west1_y_test.to_list(),\n",
        "#        'pred' : list(west1_ypred)}\n",
        "\n",
        "# tmp = pd.DataFrame(tmp)\n",
        "\n",
        "# plt.plot('index', 'value(y_test)', data = tmp)\n",
        "# plt.plot('index', 'pred', data = tmp)"
      ],
      "metadata": {
        "colab": {
          "base_uri": "https://localhost:8080/",
          "height": 283
        },
        "id": "YQlRZ7a_aebj",
        "outputId": "9e329a22-7323-4c52-bc77-3de7b72fda91"
      },
      "execution_count": null,
      "outputs": [
        {
          "output_type": "execute_result",
          "data": {
            "text/plain": [
              "[<matplotlib.lines.Line2D at 0x7f30966599d0>]"
            ]
          },
          "metadata": {},
          "execution_count": 164
        },
        {
          "output_type": "display_data",
          "data": {
            "image/png": "[encoded data removed]",
            "text/plain": [
              "<Figure size 432x288 with 1 Axes>"
            ]
          },
          "metadata": {
            "needs_background": "light"
          }
        }
      ]
    },
    {
      "cell_type": "markdown",
      "source": [
        "## 서부분소 model fit 반복문\n",
        "- train/ test normalization부터 모델fit 까지 전과정을 담음"
      ],
      "metadata": {
        "id": "HkkDFjVN68Un"
      }
    },
    {
      "cell_type": "code",
      "source": [
        "# 서부 분소의 train set X(입력변수만) 정의\n",
        "west_train_X = pd.DataFrame(scaler.fit_transform(X = west2.iloc[:,4:], y = west2[['건수']])) #입력 변수만 정규화함\n",
        "west_train_X.columns = ['평균기온', '일강수량', '평균풍속', '평균상대습도', '합계일사량', 'month']"
      ],
      "metadata": {
        "id": "y_-TYXbmdOoU"
      },
      "execution_count": 31,
      "outputs": []
    },
    {
      "cell_type": "code",
      "source": [
        "west_train_X = west_train_X.reset_index()\n",
        "\n",
        "tmp_west = west2[['종류','건수']].reset_index().reset_index()\n",
        "tmp_west.drop(columns = ['index'], axis = 1,inplace = True)\n",
        "tmp_west.rename(columns = {'level_0' : 'index'}, inplace = True)\n",
        "\n",
        "west_train = pd.concat([tmp_west, west_train_X], axis = 1)"
      ],
      "metadata": {
        "id": "T4JTYBvI7ICn"
      },
      "execution_count": 32,
      "outputs": []
    },
    {
      "cell_type": "code",
      "source": [
        "# 정규화\n",
        "west_test_X = pd.DataFrame(scaler.fit_transform(X= testwest.iloc[:,3:], y = testwest[['건수']]))\n",
        "west_test_X.columns = ['평균기온', '일강수량', '평균풍속', '평균상대습도', '합계일사량', 'month']\n",
        "west_test_X = west_test_X.reset_index()\n",
        "#\n",
        "tmp_west_test = testwest[['종류','건수']].reset_index().reset_index()\n",
        "tmp_west_test.drop(columns = ['index'], axis = 1,inplace = True)\n",
        "tmp_west_test.rename(columns = {'level_0' : 'index'}, inplace = True)\n",
        "\n",
        "west_test = pd.concat([tmp_west_test, west_test_X], axis = 1)\n",
        "west_test"
      ],
      "metadata": {
        "id": "ludlPQLi7MAv",
        "colab": {
          "base_uri": "https://localhost:8080/",
          "height": 423
        },
        "outputId": "20f07455-2689-49aa-edbd-8bd79e53779f"
      },
      "execution_count": 33,
      "outputs": [
        {
          "output_type": "execute_result",
          "data": {
            "text/html": [
              "\n",
              "  <div id=\"df-b315ca11-aa28-49b2-8757-d48d54ac1b09\">\n",
              "    <div class=\"colab-df-container\">\n",
              "      <div>\n",
              "<style scoped>\n",
              "    .dataframe tbody tr th:only-of-type {\n",
              "        vertical-align: middle;\n",
              "    }\n",
              "\n",
              "    .dataframe tbody tr th {\n",
              "        vertical-align: top;\n",
              "    }\n",
              "\n",
              "    .dataframe thead th {\n",
              "        text-align: right;\n",
              "    }\n",
              "</style>\n",
              "<table border=\"1\" class=\"dataframe\">\n",
              "  <thead>\n",
              "    <tr style=\"text-align: right;\">\n",
              "      <th></th>\n",
              "      <th>index</th>\n",
              "      <th>종류</th>\n",
              "      <th>건수</th>\n",
              "      <th>index</th>\n",
              "      <th>평균기온</th>\n",
              "      <th>일강수량</th>\n",
              "      <th>평균풍속</th>\n",
              "      <th>평균상대습도</th>\n",
              "      <th>합계일사량</th>\n",
              "      <th>month</th>\n",
              "    </tr>\n",
              "  </thead>\n",
              "  <tbody>\n",
              "    <tr>\n",
              "      <th>0</th>\n",
              "      <td>0</td>\n",
              "      <td>콩정선기</td>\n",
              "      <td>0.0</td>\n",
              "      <td>0</td>\n",
              "      <td>0.194124</td>\n",
              "      <td>0.0</td>\n",
              "      <td>0.370201</td>\n",
              "      <td>0.466888</td>\n",
              "      <td>0.241767</td>\n",
              "      <td>0.0</td>\n",
              "    </tr>\n",
              "    <tr>\n",
              "      <th>1</th>\n",
              "      <td>1</td>\n",
              "      <td>모우어</td>\n",
              "      <td>0.0</td>\n",
              "      <td>1</td>\n",
              "      <td>0.194124</td>\n",
              "      <td>0.0</td>\n",
              "      <td>0.370201</td>\n",
              "      <td>0.466888</td>\n",
              "      <td>0.241767</td>\n",
              "      <td>0.0</td>\n",
              "    </tr>\n",
              "    <tr>\n",
              "      <th>2</th>\n",
              "      <td>2</td>\n",
              "      <td>잔가지파쇄기</td>\n",
              "      <td>0.0</td>\n",
              "      <td>2</td>\n",
              "      <td>0.194124</td>\n",
              "      <td>0.0</td>\n",
              "      <td>0.370201</td>\n",
              "      <td>0.466888</td>\n",
              "      <td>0.241767</td>\n",
              "      <td>0.0</td>\n",
              "    </tr>\n",
              "    <tr>\n",
              "      <th>3</th>\n",
              "      <td>3</td>\n",
              "      <td>농산물탈피기</td>\n",
              "      <td>0.0</td>\n",
              "      <td>3</td>\n",
              "      <td>0.194124</td>\n",
              "      <td>0.0</td>\n",
              "      <td>0.370201</td>\n",
              "      <td>0.466888</td>\n",
              "      <td>0.241767</td>\n",
              "      <td>0.0</td>\n",
              "    </tr>\n",
              "    <tr>\n",
              "      <th>4</th>\n",
              "      <td>4</td>\n",
              "      <td>잔가지파쇄기</td>\n",
              "      <td>0.0</td>\n",
              "      <td>4</td>\n",
              "      <td>0.208765</td>\n",
              "      <td>0.0</td>\n",
              "      <td>0.393784</td>\n",
              "      <td>0.328633</td>\n",
              "      <td>0.307245</td>\n",
              "      <td>0.0</td>\n",
              "    </tr>\n",
              "    <tr>\n",
              "      <th>...</th>\n",
              "      <td>...</td>\n",
              "      <td>...</td>\n",
              "      <td>...</td>\n",
              "      <td>...</td>\n",
              "      <td>...</td>\n",
              "      <td>...</td>\n",
              "      <td>...</td>\n",
              "      <td>...</td>\n",
              "      <td>...</td>\n",
              "      <td>...</td>\n",
              "    </tr>\n",
              "    <tr>\n",
              "      <th>1411</th>\n",
              "      <td>1411</td>\n",
              "      <td>농산물탈피기</td>\n",
              "      <td>0.0</td>\n",
              "      <td>1411</td>\n",
              "      <td>0.287207</td>\n",
              "      <td>0.0</td>\n",
              "      <td>0.471629</td>\n",
              "      <td>0.348605</td>\n",
              "      <td>0.272375</td>\n",
              "      <td>1.0</td>\n",
              "    </tr>\n",
              "    <tr>\n",
              "      <th>1412</th>\n",
              "      <td>1412</td>\n",
              "      <td>콩정선기</td>\n",
              "      <td>4.0</td>\n",
              "      <td>1412</td>\n",
              "      <td>0.377222</td>\n",
              "      <td>0.0</td>\n",
              "      <td>0.151688</td>\n",
              "      <td>0.471810</td>\n",
              "      <td>0.266951</td>\n",
              "      <td>1.0</td>\n",
              "    </tr>\n",
              "    <tr>\n",
              "      <th>1413</th>\n",
              "      <td>1413</td>\n",
              "      <td>모우어</td>\n",
              "      <td>0.0</td>\n",
              "      <td>1413</td>\n",
              "      <td>0.377222</td>\n",
              "      <td>0.0</td>\n",
              "      <td>0.151688</td>\n",
              "      <td>0.471810</td>\n",
              "      <td>0.266951</td>\n",
              "      <td>1.0</td>\n",
              "    </tr>\n",
              "    <tr>\n",
              "      <th>1414</th>\n",
              "      <td>1414</td>\n",
              "      <td>잔가지파쇄기</td>\n",
              "      <td>0.0</td>\n",
              "      <td>1414</td>\n",
              "      <td>0.377222</td>\n",
              "      <td>0.0</td>\n",
              "      <td>0.151688</td>\n",
              "      <td>0.471810</td>\n",
              "      <td>0.266951</td>\n",
              "      <td>1.0</td>\n",
              "    </tr>\n",
              "    <tr>\n",
              "      <th>1415</th>\n",
              "      <td>1415</td>\n",
              "      <td>농산물탈피기</td>\n",
              "      <td>0.0</td>\n",
              "      <td>1415</td>\n",
              "      <td>0.377222</td>\n",
              "      <td>0.0</td>\n",
              "      <td>0.151688</td>\n",
              "      <td>0.471810</td>\n",
              "      <td>0.266951</td>\n",
              "      <td>1.0</td>\n",
              "    </tr>\n",
              "  </tbody>\n",
              "</table>\n",
              "<p>1416 rows × 10 columns</p>\n",
              "</div>\n",
              "      <button class=\"colab-df-convert\" onclick=\"convertToInteractive('df-b315ca11-aa28-49b2-8757-d48d54ac1b09')\"\n",
              "              title=\"Convert this dataframe to an interactive table.\"\n",
              "              style=\"display:none;\">\n",
              "        \n",
              "  <svg xmlns=\"http://www.w3.org/2000/svg\" height=\"24px\"viewBox=\"0 0 24 24\"\n",
              "       width=\"24px\">\n",
              "    <path d=\"M0 0h24v24H0V0z\" fill=\"none\"/>\n",
              "    <path d=\"M18.56 5.44l.94 2.06.94-2.06 2.06-.94-2.06-.94-.94-2.06-.94 2.06-2.06.94zm-11 1L8.5 8.5l.94-2.06 2.06-.94-2.06-.94L8.5 2.5l-.94 2.06-2.06.94zm10 10l.94 2.06.94-2.06 2.06-.94-2.06-.94-.94-2.06-.94 2.06-2.06.94z\"/><path d=\"M17.41 7.96l-1.37-1.37c-.4-.4-.92-.59-1.43-.59-.52 0-1.04.2-1.43.59L10.3 9.45l-7.72 7.72c-.78.78-.78 2.05 0 2.83L4 21.41c.39.39.9.59 1.41.59.51 0 1.02-.2 1.41-.59l7.78-7.78 2.81-2.81c.8-.78.8-2.07 0-2.86zM5.41 20L4 18.59l7.72-7.72 1.47 1.35L5.41 20z\"/>\n",
              "  </svg>\n",
              "      </button>\n",
              "      \n",
              "  <style>\n",
              "    .colab-df-container {\n",
              "      display:flex;\n",
              "      flex-wrap:wrap;\n",
              "      gap: 12px;\n",
              "    }\n",
              "\n",
              "    .colab-df-convert {\n",
              "      background-color: #E8F0FE;\n",
              "      border: none;\n",
              "      border-radius: 50%;\n",
              "      cursor: pointer;\n",
              "      display: none;\n",
              "      fill: #1967D2;\n",
              "      height: 32px;\n",
              "      padding: 0 0 0 0;\n",
              "      width: 32px;\n",
              "    }\n",
              "\n",
              "    .colab-df-convert:hover {\n",
              "      background-color: #E2EBFA;\n",
              "      box-shadow: 0px 1px 2px rgba(60, 64, 67, 0.3), 0px 1px 3px 1px rgba(60, 64, 67, 0.15);\n",
              "      fill: #174EA6;\n",
              "    }\n",
              "\n",
              "    [theme=dark] .colab-df-convert {\n",
              "      background-color: #3B4455;\n",
              "      fill: #D2E3FC;\n",
              "    }\n",
              "\n",
              "    [theme=dark] .colab-df-convert:hover {\n",
              "      background-color: #434B5C;\n",
              "      box-shadow: 0px 1px 3px 1px rgba(0, 0, 0, 0.15);\n",
              "      filter: drop-shadow(0px 1px 2px rgba(0, 0, 0, 0.3));\n",
              "      fill: #FFFFFF;\n",
              "    }\n",
              "  </style>\n",
              "\n",
              "      <script>\n",
              "        const buttonEl =\n",
              "          document.querySelector('#df-b315ca11-aa28-49b2-8757-d48d54ac1b09 button.colab-df-convert');\n",
              "        buttonEl.style.display =\n",
              "          google.colab.kernel.accessAllowed ? 'block' : 'none';\n",
              "\n",
              "        async function convertToInteractive(key) {\n",
              "          const element = document.querySelector('#df-b315ca11-aa28-49b2-8757-d48d54ac1b09');\n",
              "          const dataTable =\n",
              "            await google.colab.kernel.invokeFunction('convertToInteractive',\n",
              "                                                     [key], {});\n",
              "          if (!dataTable) return;\n",
              "\n",
              "          const docLinkHtml = 'Like what you see? Visit the ' +\n",
              "            '<a target=\"_blank\" href=https://colab.research.google.com/notebooks/data_table.ipynb>data table notebook</a>'\n",
              "            + ' to learn more about interactive tables.';\n",
              "          element.innerHTML = '';\n",
              "          dataTable['output_type'] = 'display_data';\n",
              "          await google.colab.output.renderOutput(dataTable, element);\n",
              "          const docLink = document.createElement('div');\n",
              "          docLink.innerHTML = docLinkHtml;\n",
              "          element.appendChild(docLink);\n",
              "        }\n",
              "      </script>\n",
              "    </div>\n",
              "  </div>\n",
              "  "
            ],
            "text/plain": [
              "      index      종류   건수  index  ...      평균풍속    평균상대습도     합계일사량  month\n",
              "0         0    콩정선기  0.0      0  ...  0.370201  0.466888  0.241767    0.0\n",
              "1         1     모우어  0.0      1  ...  0.370201  0.466888  0.241767    0.0\n",
              "2         2  잔가지파쇄기  0.0      2  ...  0.370201  0.466888  0.241767    0.0\n",
              "3         3  농산물탈피기  0.0      3  ...  0.370201  0.466888  0.241767    0.0\n",
              "4         4  잔가지파쇄기  0.0      4  ...  0.393784  0.328633  0.307245    0.0\n",
              "...     ...     ...  ...    ...  ...       ...       ...       ...    ...\n",
              "1411   1411  농산물탈피기  0.0   1411  ...  0.471629  0.348605  0.272375    1.0\n",
              "1412   1412    콩정선기  4.0   1412  ...  0.151688  0.471810  0.266951    1.0\n",
              "1413   1413     모우어  0.0   1413  ...  0.151688  0.471810  0.266951    1.0\n",
              "1414   1414  잔가지파쇄기  0.0   1414  ...  0.151688  0.471810  0.266951    1.0\n",
              "1415   1415  농산물탈피기  0.0   1415  ...  0.151688  0.471810  0.266951    1.0\n",
              "\n",
              "[1416 rows x 10 columns]"
            ]
          },
          "metadata": {},
          "execution_count": 33
        }
      ]
    },
    {
      "cell_type": "code",
      "source": [
        "parameters ={\n",
        "    # 'max_depth':[3,5,7,9,10,11],\n",
        "    'max_depth' : [6,7,9,11,13,15],\n",
        "    'max_features':[0.1,0.3,0.5,0.7,0.9]\n",
        "}"
      ],
      "metadata": {
        "id": "bLuBsrvq7kgc"
      },
      "execution_count": 34,
      "outputs": []
    },
    {
      "cell_type": "code",
      "source": [
        "for i in range(1,5):\n",
        "  globals()['west{}_X'.format(i)] = west_train[west_train['종류'] == west_dic['west{}'.format(i)]].iloc[:,4:]\n",
        "  globals()['west{}_y'.format(i)] = west_train[west_train['종류'] == west_dic['west{}'.format(i)]][['건수']]\n",
        "\n",
        "  globals()['tree{}'.format(i)] = DecisionTreeRegressor(random_state = 3)\n",
        "  globals()['tree{}'.format(i)].fit(globals()['west{}_X'.format(i)],\n",
        "                                    globals()['west{}_y'.format(i)])\n",
        "\n",
        "  globals()['west{}_GS'.format(i)] = GridSearchCV(globals()['tree{}'.format(i)],\n",
        "                                                  param_grid = parameters,\n",
        "                                                  cv = 5, scoring = rmse_scorer)\n",
        "  \n",
        "  globals()['west{}_GS'.format(i)].fit(globals()['west{}_X'.format(i)], globals()['west{}_y'.format(i)])\n",
        "\n",
        "  par = globals()['west{}_GS'.format(i)].best_params_\n",
        "  #  print('max_depth :', par['max_depth'], '/ max features :', par['max_features'])\n",
        "\n",
        "  globals()['tree{}'.format(i)] = DecisionTreeRegressor(random_state = 3, max_depth = par['max_depth'], max_features = par['max_features'])\n",
        "  globals()['tree{}'.format(i)].fit(globals()['west{}_X'.format(i)],\n",
        "                                    globals()['west{}_y'.format(i)])\n",
        "\n",
        "  globals()['west{}_X_test'.format(i)] = west_test[west_test['종류'] == west_dic['west{}'.format(i)]].iloc[:,4:]\n",
        "  globals()['west{}_y_test'.format(i)] = west_test[west_test['종류'] == west_dic['west{}'.format(i)]]['건수']\n",
        "\n",
        "  globals()['west{}_ypred'.format(i)] = globals()['tree{}'.format(i)].predict(globals()['west{}_X_test'.format(i)])\n",
        "  print('농기계 종류 : ', west_dic['west{}'.format(i)]\n",
        "        ,'\\n', 'max_depth :', par['max_depth']\n",
        "        ,'\\n', 'max features :', par['max_features'])"
      ],
      "metadata": {
        "colab": {
          "base_uri": "https://localhost:8080/"
        },
        "id": "sLXd945wMbFR",
        "outputId": "3907e777-1c1b-4e2c-c591-6b63fcf3d3a7"
      },
      "execution_count": 35,
      "outputs": [
        {
          "output_type": "stream",
          "name": "stdout",
          "text": [
            "농기계 종류 :  농산물탈피기 \n",
            " max_depth : 6 \n",
            " max features : 0.1\n",
            "농기계 종류 :  모우어 \n",
            " max_depth : 6 \n",
            " max features : 0.1\n",
            "농기계 종류 :  잔가지파쇄기 \n",
            " max_depth : 6 \n",
            " max features : 0.1\n",
            "농기계 종류 :  콩정선기 \n",
            " max_depth : 6 \n",
            " max features : 0.1\n"
          ]
        }
      ]
    },
    {
      "cell_type": "code",
      "source": [
        "index = list(range(0,354))\n",
        "\n",
        "tmp = {'index' : index,\n",
        "       'value(y_test)' : west4_y_test.to_list(),\n",
        "       'pred' : list(west4_ypred)}\n",
        "\n",
        "tmp = pd.DataFrame(tmp)"
      ],
      "metadata": {
        "id": "r3Tb-Q-jXifJ"
      },
      "execution_count": 36,
      "outputs": []
    },
    {
      "cell_type": "code",
      "source": [
        "plt.plot('index', 'value(y_test)', data = tmp)\n",
        "plt.plot('index', 'pred', data = tmp)"
      ],
      "metadata": {
        "colab": {
          "base_uri": "https://localhost:8080/",
          "height": 283
        },
        "id": "sO-1HRuKXGtI",
        "outputId": "5e6614f5-2fb5-4075-c7f8-d0f7a68da821"
      },
      "execution_count": 37,
      "outputs": [
        {
          "output_type": "execute_result",
          "data": {
            "text/plain": [
              "[<matplotlib.lines.Line2D at 0x7f4130299150>]"
            ]
          },
          "metadata": {},
          "execution_count": 37
        },
        {
          "output_type": "display_data",
          "data": {
            "image/png": "[encoded data removed]",
            "text/plain": [
              "<Figure size 432x288 with 1 Axes>"
            ]
          },
          "metadata": {
            "needs_background": "light"
          }
        }
      ]
    },
    {
      "cell_type": "code",
      "source": [
        "# text_representation = tree.export_text(tree1)\n",
        "# text_representation\n",
        "\n",
        "# max_depth 가 6이라고 해서 6개 변수를 모두 쓰진 않겠지만 이왕이면 다양한 변수를 썼으면 해서 일단 깊이를 6으로 했거든?\n",
        "# 변수가 max_depth =1 일 때보단 다양한 변수를 썼는지 확인하기"
      ],
      "metadata": {
        "id": "hCv-uT7s67aW"
      },
      "execution_count": 38,
      "outputs": []
    },
    {
      "cell_type": "markdown",
      "source": [
        "## 북부분소 for 문"
      ],
      "metadata": {
        "id": "1SGGhtGn786b"
      }
    },
    {
      "cell_type": "code",
      "source": [
        "# 서부 분소의 train set X(입력변수만) 정의\n",
        "nor_train_X = pd.DataFrame(scaler.fit_transform(X = nor2.iloc[:,4:], y = nor2[['건수']])) #train\n",
        "nor_train_X.columns = ['평균기온', '일강수량', '평균풍속', '평균상대습도', '합계일사량', 'month']"
      ],
      "metadata": {
        "id": "fuYwyjHN8BeX"
      },
      "execution_count": 41,
      "outputs": []
    },
    {
      "cell_type": "code",
      "source": [
        "# nor2['종류'].unique()"
      ],
      "metadata": {
        "id": "K9DFhTTPPzif"
      },
      "execution_count": 42,
      "outputs": []
    },
    {
      "cell_type": "code",
      "source": [
        "nor_train_X = nor_train_X.reset_index()\n",
        "\n",
        "tmp_nor = nor2[['종류','건수']].reset_index().reset_index()\n",
        "tmp_nor.drop(columns = ['index'], axis = 1,inplace = True)\n",
        "tmp_nor.rename(columns = {'level_0' : 'index'}, inplace = True)\n",
        "\n",
        "nor_train = pd.concat([tmp_nor, nor_train_X], axis = 1)"
      ],
      "metadata": {
        "id": "PQkPTTlG8BeY"
      },
      "execution_count": 43,
      "outputs": []
    },
    {
      "cell_type": "code",
      "source": [
        "# test set 정규화\n",
        "nor_test_X = pd.DataFrame(scaler.fit_transform(X = testnor.iloc[:,3:], y = testnor[['건수']]))\n",
        "nor_test_X.columns = ['평균기온', '일강수량', '평균풍속', '평균상대습도', '합계일사량', 'month']\n",
        "nor_test_X = nor_test_X.reset_index()\n",
        "#\n",
        "tmp_nor_test = testnor[['종류','건수']].reset_index().reset_index()\n",
        "tmp_nor_test.drop(columns = ['index'], axis = 1,inplace = True)\n",
        "tmp_nor_test.rename(columns = {'level_0' : 'index'}, inplace = True)\n",
        "\n",
        "nor_test = pd.concat([tmp_nor_test, nor_test_X], axis = 1)\n",
        "# nor_test"
      ],
      "metadata": {
        "id": "rwd3gJLG8BeZ"
      },
      "execution_count": 44,
      "outputs": []
    },
    {
      "cell_type": "code",
      "source": [
        "parameters ={\n",
        "    # 'max_depth':[3,5,7,9,10,11],\n",
        "    'max_depth' : [6,7,9,11,13,15],\n",
        "    'max_features':[0.1,0.3,0.5,0.7,0.9]\n",
        "}"
      ],
      "metadata": {
        "id": "EHSR3bWe8Bea"
      },
      "execution_count": 45,
      "outputs": []
    },
    {
      "cell_type": "code",
      "source": [
        "nor_dic = {'nor1' : '농산물탈피기'\n",
        "           ,'nor2' : '모우어'\n",
        "           ,'nor3' : '보행경운기'\n",
        "           ,'nor4' : '잔가지파쇄기'\n",
        "           ,'nor5' :'콩정선기'}"
      ],
      "metadata": {
        "id": "7twrTlBx_Oo_"
      },
      "execution_count": 46,
      "outputs": []
    },
    {
      "cell_type": "code",
      "source": [
        "for i in range(1,6):\n",
        "\n",
        "  globals()['nor{}_X'.format(i)] = nor_train[nor_train['종류'] == nor_dic['nor{}'.format(i)]].iloc[:,4:]\n",
        "  globals()['nor{}_y'.format(i)] = nor_train[nor_train['종류'] == nor_dic['nor{}'.format(i)]][['건수']]\n",
        "\n",
        "  globals()['tree{}'.format(i)] = DecisionTreeRegressor(random_state = 3)\n",
        "  globals()['tree{}'.format(i)].fit(globals()['nor{}_X'.format(i)],\n",
        "                                    globals()['nor{}_y'.format(i)])\n",
        "\n",
        "  globals()['nor{}_GS'.format(i)] = GridSearchCV(globals()['tree{}'.format(i)],\n",
        "                                                  param_grid = parameters,\n",
        "                                                  cv = 5, scoring = rmse_scorer)\n",
        "  \n",
        "  globals()['nor{}_GS'.format(i)].fit(globals()['nor{}_X'.format(i)], globals()['nor{}_y'.format(i)])\n",
        "\n",
        "  par = globals()['nor{}_GS'.format(i)].best_params_\n",
        "  #  print('max_depth :', par['max_depth'], '/ max features :', par['max_features'])\n",
        "\n",
        "  globals()['tree{}'.format(i)] = DecisionTreeRegressor(random_state = 3, max_depth = par['max_depth'], max_features = par['max_features'])\n",
        "  globals()['tree{}'.format(i)].fit(globals()['nor{}_X'.format(i)],\n",
        "                                    globals()['nor{}_y'.format(i)])\n",
        "\n",
        "  globals()['nor{}_X_test'.format(i)] = nor_test[nor_test['종류'] == nor_dic['nor{}'.format(i)]].iloc[:,4:]\n",
        "  globals()['nor{}_y_test'.format(i)] = nor_test[nor_test['종류'] == nor_dic['nor{}'.format(i)]]['건수']\n",
        "\n",
        "  globals()['nor{}_ypred'.format(i)] = globals()['tree{}'.format(i)].predict(globals()['nor{}_X_test'.format(i)])\n",
        "  print('농기계 종류 : ', nor_dic['nor{}'.format(i)]\n",
        "        ,'\\n', 'max_depth :', par['max_depth']\n",
        "        ,'\\n', 'max features :', par['max_features'])"
      ],
      "metadata": {
        "colab": {
          "base_uri": "https://localhost:8080/"
        },
        "outputId": "4d4d3eb8-caad-4e2e-f54e-b7b4cf126d78",
        "id": "oEzijMjg8Bea"
      },
      "execution_count": 48,
      "outputs": [
        {
          "output_type": "stream",
          "name": "stdout",
          "text": [
            "농기계 종류 :  농산물탈피기 \n",
            " max_depth : 6 \n",
            " max features : 0.1\n",
            "농기계 종류 :  모우어 \n",
            " max_depth : 6 \n",
            " max features : 0.1\n",
            "농기계 종류 :  보행경운기 \n",
            " max_depth : 6 \n",
            " max features : 0.1\n",
            "농기계 종류 :  잔가지파쇄기 \n",
            " max_depth : 6 \n",
            " max features : 0.1\n",
            "농기계 종류 :  콩정선기 \n",
            " max_depth : 6 \n",
            " max features : 0.1\n"
          ]
        }
      ]
    },
    {
      "cell_type": "code",
      "source": [
        "# index = list(range(0,354))\n",
        "\n",
        "# tmp = {'index' : index,\n",
        "#        'value(y_test)' : west4_y_test.to_list(),\n",
        "#        'pred' : list(west4_ypred)}\n",
        "\n",
        "# tmp = pd.DataFrame(tmp)"
      ],
      "metadata": {
        "id": "Og4697RV8Bec"
      },
      "execution_count": null,
      "outputs": []
    },
    {
      "cell_type": "code",
      "source": [
        "plt.plot('index', 'value(y_test)', data = tmp)\n",
        "plt.plot('index', 'pred', data = tmp)"
      ],
      "metadata": {
        "id": "BkdADTFH8Bed"
      },
      "execution_count": null,
      "outputs": []
    },
    {
      "cell_type": "code",
      "source": [
        "# text_representation = tree.export_text(tree1)\n",
        "# text_representation\n",
        "\n",
        "# max_depth 가 6이라고 해서 6개 변수를 모두 쓰진 않겠지만 이왕이면 다양한 변수를 썼으면 해서 일단 깊이를 6으로 했거든?\n",
        "# 변수가 max_depth =1 일 때보단 다양한 변수를 썼는지 확인하기"
      ],
      "metadata": {
        "id": "2jSUD0wg8Bee"
      },
      "execution_count": null,
      "outputs": []
    },
    {
      "cell_type": "markdown",
      "source": [
        "## 중앙임대사업소"
      ],
      "metadata": {
        "id": "5qRp7IV1_fof"
      }
    },
    {
      "cell_type": "code",
      "source": [
        ""
      ],
      "metadata": {
        "id": "L-0W0rzG_hQ7"
      },
      "execution_count": 50,
      "outputs": []
    },
    {
      "cell_type": "code",
      "source": [
        "# 서부 분소의 train set X(입력변수만) 정의\n",
        "cen_train_X = pd.DataFrame(scaler.fit_transform(X = cen2.iloc[:,4:], y = cen2[['건수']])) #train\n",
        "cen_train_X.columns = ['평균기온', '일강수량', '평균풍속', '평균상대습도', '합계일사량', 'month']"
      ],
      "metadata": {
        "id": "udpZU2GB_kHp"
      },
      "execution_count": 63,
      "outputs": []
    },
    {
      "cell_type": "code",
      "source": [
        "cen_train_X = cen_train_X.reset_index()\n",
        "\n",
        "tmp_cen = cen2[['종류','건수']].reset_index().reset_index()\n",
        "tmp_cen.drop(columns = ['index'], axis = 1,inplace = True)\n",
        "tmp_cen.rename(columns = {'level_0' : 'index'}, inplace = True)\n",
        "\n",
        "cen_train = pd.concat([tmp_cen, cen_train_X], axis = 1)"
      ],
      "metadata": {
        "id": "sEj8baKp_kHr"
      },
      "execution_count": 64,
      "outputs": []
    },
    {
      "cell_type": "code",
      "source": [
        "# test set 정규화\n",
        "cen_test_X = pd.DataFrame(scaler.fit_transform(X = testcen.iloc[:,3:], y = testcen[['건수']]))\n",
        "cen_test_X .columns = ['평균기온', '일강수량', '평균풍속', '평균상대습도', '합계일사량', 'month']\n",
        "cen_test_X  = cen_test_X .reset_index()\n",
        "#\n",
        "tmp_cen_test = testcen[['종류','건수']].reset_index().reset_index()\n",
        "tmp_cen_test.drop(columns = ['index'], axis = 1,inplace = True)\n",
        "tmp_cen_test.rename(columns = {'level_0' : 'index'}, inplace = True)\n",
        "\n",
        "cen_test = pd.concat([tmp_cen_test, cen_test_X], axis = 1)\n",
        "cen_test"
      ],
      "metadata": {
        "id": "Sct5yxzN_kHs",
        "colab": {
          "base_uri": "https://localhost:8080/",
          "height": 423
        },
        "outputId": "c78fa73a-86a2-4511-e27a-d47ecca0b780"
      },
      "execution_count": 68,
      "outputs": [
        {
          "output_type": "execute_result",
          "data": {
            "text/html": [
              "\n",
              "  <div id=\"df-80c4dde8-ea13-4746-b57e-41c8cd9d39ff\">\n",
              "    <div class=\"colab-df-container\">\n",
              "      <div>\n",
              "<style scoped>\n",
              "    .dataframe tbody tr th:only-of-type {\n",
              "        vertical-align: middle;\n",
              "    }\n",
              "\n",
              "    .dataframe tbody tr th {\n",
              "        vertical-align: top;\n",
              "    }\n",
              "\n",
              "    .dataframe thead th {\n",
              "        text-align: right;\n",
              "    }\n",
              "</style>\n",
              "<table border=\"1\" class=\"dataframe\">\n",
              "  <thead>\n",
              "    <tr style=\"text-align: right;\">\n",
              "      <th></th>\n",
              "      <th>index</th>\n",
              "      <th>종류</th>\n",
              "      <th>건수</th>\n",
              "      <th>index</th>\n",
              "      <th>평균기온</th>\n",
              "      <th>일강수량</th>\n",
              "      <th>평균풍속</th>\n",
              "      <th>평균상대습도</th>\n",
              "      <th>합계일사량</th>\n",
              "      <th>month</th>\n",
              "    </tr>\n",
              "  </thead>\n",
              "  <tbody>\n",
              "    <tr>\n",
              "      <th>0</th>\n",
              "      <td>0</td>\n",
              "      <td>곡물정선기</td>\n",
              "      <td>0.0</td>\n",
              "      <td>0</td>\n",
              "      <td>0.194124</td>\n",
              "      <td>0.0</td>\n",
              "      <td>0.370201</td>\n",
              "      <td>0.466888</td>\n",
              "      <td>0.241767</td>\n",
              "      <td>0.0</td>\n",
              "    </tr>\n",
              "    <tr>\n",
              "      <th>1</th>\n",
              "      <td>1</td>\n",
              "      <td>승용관리기</td>\n",
              "      <td>0.0</td>\n",
              "      <td>1</td>\n",
              "      <td>0.194124</td>\n",
              "      <td>0.0</td>\n",
              "      <td>0.370201</td>\n",
              "      <td>0.466888</td>\n",
              "      <td>0.241767</td>\n",
              "      <td>0.0</td>\n",
              "    </tr>\n",
              "    <tr>\n",
              "      <th>2</th>\n",
              "      <td>2</td>\n",
              "      <td>콩정선기</td>\n",
              "      <td>0.0</td>\n",
              "      <td>2</td>\n",
              "      <td>0.194124</td>\n",
              "      <td>0.0</td>\n",
              "      <td>0.370201</td>\n",
              "      <td>0.466888</td>\n",
              "      <td>0.241767</td>\n",
              "      <td>0.0</td>\n",
              "    </tr>\n",
              "    <tr>\n",
              "      <th>3</th>\n",
              "      <td>3</td>\n",
              "      <td>보행경운기</td>\n",
              "      <td>0.0</td>\n",
              "      <td>3</td>\n",
              "      <td>0.194124</td>\n",
              "      <td>0.0</td>\n",
              "      <td>0.370201</td>\n",
              "      <td>0.466888</td>\n",
              "      <td>0.241767</td>\n",
              "      <td>0.0</td>\n",
              "    </tr>\n",
              "    <tr>\n",
              "      <th>4</th>\n",
              "      <td>4</td>\n",
              "      <td>잔가지파쇄기</td>\n",
              "      <td>0.0</td>\n",
              "      <td>4</td>\n",
              "      <td>0.194124</td>\n",
              "      <td>0.0</td>\n",
              "      <td>0.370201</td>\n",
              "      <td>0.466888</td>\n",
              "      <td>0.241767</td>\n",
              "      <td>0.0</td>\n",
              "    </tr>\n",
              "    <tr>\n",
              "      <th>...</th>\n",
              "      <td>...</td>\n",
              "      <td>...</td>\n",
              "      <td>...</td>\n",
              "      <td>...</td>\n",
              "      <td>...</td>\n",
              "      <td>...</td>\n",
              "      <td>...</td>\n",
              "      <td>...</td>\n",
              "      <td>...</td>\n",
              "      <td>...</td>\n",
              "    </tr>\n",
              "    <tr>\n",
              "      <th>4243</th>\n",
              "      <td>4243</td>\n",
              "      <td>농산물탈피기</td>\n",
              "      <td>0.0</td>\n",
              "      <td>4243</td>\n",
              "      <td>0.377222</td>\n",
              "      <td>0.0</td>\n",
              "      <td>0.151688</td>\n",
              "      <td>0.471810</td>\n",
              "      <td>0.266951</td>\n",
              "      <td>1.0</td>\n",
              "    </tr>\n",
              "    <tr>\n",
              "      <th>4244</th>\n",
              "      <td>4244</td>\n",
              "      <td>농업용고소작업차</td>\n",
              "      <td>0.0</td>\n",
              "      <td>4244</td>\n",
              "      <td>0.377222</td>\n",
              "      <td>0.0</td>\n",
              "      <td>0.151688</td>\n",
              "      <td>0.471810</td>\n",
              "      <td>0.266951</td>\n",
              "      <td>1.0</td>\n",
              "    </tr>\n",
              "    <tr>\n",
              "      <th>4245</th>\n",
              "      <td>4245</td>\n",
              "      <td>농업용동력운반차</td>\n",
              "      <td>0.0</td>\n",
              "      <td>4245</td>\n",
              "      <td>0.377222</td>\n",
              "      <td>0.0</td>\n",
              "      <td>0.151688</td>\n",
              "      <td>0.471810</td>\n",
              "      <td>0.266951</td>\n",
              "      <td>1.0</td>\n",
              "    </tr>\n",
              "    <tr>\n",
              "      <th>4246</th>\n",
              "      <td>4246</td>\n",
              "      <td>동력분무기</td>\n",
              "      <td>0.0</td>\n",
              "      <td>4246</td>\n",
              "      <td>0.377222</td>\n",
              "      <td>0.0</td>\n",
              "      <td>0.151688</td>\n",
              "      <td>0.471810</td>\n",
              "      <td>0.266951</td>\n",
              "      <td>1.0</td>\n",
              "    </tr>\n",
              "    <tr>\n",
              "      <th>4247</th>\n",
              "      <td>4247</td>\n",
              "      <td>동력예취기</td>\n",
              "      <td>0.0</td>\n",
              "      <td>4247</td>\n",
              "      <td>0.377222</td>\n",
              "      <td>0.0</td>\n",
              "      <td>0.151688</td>\n",
              "      <td>0.471810</td>\n",
              "      <td>0.266951</td>\n",
              "      <td>1.0</td>\n",
              "    </tr>\n",
              "  </tbody>\n",
              "</table>\n",
              "<p>4248 rows × 10 columns</p>\n",
              "</div>\n",
              "      <button class=\"colab-df-convert\" onclick=\"convertToInteractive('df-80c4dde8-ea13-4746-b57e-41c8cd9d39ff')\"\n",
              "              title=\"Convert this dataframe to an interactive table.\"\n",
              "              style=\"display:none;\">\n",
              "        \n",
              "  <svg xmlns=\"http://www.w3.org/2000/svg\" height=\"24px\"viewBox=\"0 0 24 24\"\n",
              "       width=\"24px\">\n",
              "    <path d=\"M0 0h24v24H0V0z\" fill=\"none\"/>\n",
              "    <path d=\"M18.56 5.44l.94 2.06.94-2.06 2.06-.94-2.06-.94-.94-2.06-.94 2.06-2.06.94zm-11 1L8.5 8.5l.94-2.06 2.06-.94-2.06-.94L8.5 2.5l-.94 2.06-2.06.94zm10 10l.94 2.06.94-2.06 2.06-.94-2.06-.94-.94-2.06-.94 2.06-2.06.94z\"/><path d=\"M17.41 7.96l-1.37-1.37c-.4-.4-.92-.59-1.43-.59-.52 0-1.04.2-1.43.59L10.3 9.45l-7.72 7.72c-.78.78-.78 2.05 0 2.83L4 21.41c.39.39.9.59 1.41.59.51 0 1.02-.2 1.41-.59l7.78-7.78 2.81-2.81c.8-.78.8-2.07 0-2.86zM5.41 20L4 18.59l7.72-7.72 1.47 1.35L5.41 20z\"/>\n",
              "  </svg>\n",
              "      </button>\n",
              "      \n",
              "  <style>\n",
              "    .colab-df-container {\n",
              "      display:flex;\n",
              "      flex-wrap:wrap;\n",
              "      gap: 12px;\n",
              "    }\n",
              "\n",
              "    .colab-df-convert {\n",
              "      background-color: #E8F0FE;\n",
              "      border: none;\n",
              "      border-radius: 50%;\n",
              "      cursor: pointer;\n",
              "      display: none;\n",
              "      fill: #1967D2;\n",
              "      height: 32px;\n",
              "      padding: 0 0 0 0;\n",
              "      width: 32px;\n",
              "    }\n",
              "\n",
              "    .colab-df-convert:hover {\n",
              "      background-color: #E2EBFA;\n",
              "      box-shadow: 0px 1px 2px rgba(60, 64, 67, 0.3), 0px 1px 3px 1px rgba(60, 64, 67, 0.15);\n",
              "      fill: #174EA6;\n",
              "    }\n",
              "\n",
              "    [theme=dark] .colab-df-convert {\n",
              "      background-color: #3B4455;\n",
              "      fill: #D2E3FC;\n",
              "    }\n",
              "\n",
              "    [theme=dark] .colab-df-convert:hover {\n",
              "      background-color: #434B5C;\n",
              "      box-shadow: 0px 1px 3px 1px rgba(0, 0, 0, 0.15);\n",
              "      filter: drop-shadow(0px 1px 2px rgba(0, 0, 0, 0.3));\n",
              "      fill: #FFFFFF;\n",
              "    }\n",
              "  </style>\n",
              "\n",
              "      <script>\n",
              "        const buttonEl =\n",
              "          document.querySelector('#df-80c4dde8-ea13-4746-b57e-41c8cd9d39ff button.colab-df-convert');\n",
              "        buttonEl.style.display =\n",
              "          google.colab.kernel.accessAllowed ? 'block' : 'none';\n",
              "\n",
              "        async function convertToInteractive(key) {\n",
              "          const element = document.querySelector('#df-80c4dde8-ea13-4746-b57e-41c8cd9d39ff');\n",
              "          const dataTable =\n",
              "            await google.colab.kernel.invokeFunction('convertToInteractive',\n",
              "                                                     [key], {});\n",
              "          if (!dataTable) return;\n",
              "\n",
              "          const docLinkHtml = 'Like what you see? Visit the ' +\n",
              "            '<a target=\"_blank\" href=https://colab.research.google.com/notebooks/data_table.ipynb>data table notebook</a>'\n",
              "            + ' to learn more about interactive tables.';\n",
              "          element.innerHTML = '';\n",
              "          dataTable['output_type'] = 'display_data';\n",
              "          await google.colab.output.renderOutput(dataTable, element);\n",
              "          const docLink = document.createElement('div');\n",
              "          docLink.innerHTML = docLinkHtml;\n",
              "          element.appendChild(docLink);\n",
              "        }\n",
              "      </script>\n",
              "    </div>\n",
              "  </div>\n",
              "  "
            ],
            "text/plain": [
              "      index        종류   건수  index  ...      평균풍속    평균상대습도     합계일사량  month\n",
              "0         0     곡물정선기  0.0      0  ...  0.370201  0.466888  0.241767    0.0\n",
              "1         1     승용관리기  0.0      1  ...  0.370201  0.466888  0.241767    0.0\n",
              "2         2      콩정선기  0.0      2  ...  0.370201  0.466888  0.241767    0.0\n",
              "3         3     보행경운기  0.0      3  ...  0.370201  0.466888  0.241767    0.0\n",
              "4         4    잔가지파쇄기  0.0      4  ...  0.370201  0.466888  0.241767    0.0\n",
              "...     ...       ...  ...    ...  ...       ...       ...       ...    ...\n",
              "4243   4243    농산물탈피기  0.0   4243  ...  0.151688  0.471810  0.266951    1.0\n",
              "4244   4244  농업용고소작업차  0.0   4244  ...  0.151688  0.471810  0.266951    1.0\n",
              "4245   4245  농업용동력운반차  0.0   4245  ...  0.151688  0.471810  0.266951    1.0\n",
              "4246   4246     동력분무기  0.0   4246  ...  0.151688  0.471810  0.266951    1.0\n",
              "4247   4247     동력예취기  0.0   4247  ...  0.151688  0.471810  0.266951    1.0\n",
              "\n",
              "[4248 rows x 10 columns]"
            ]
          },
          "metadata": {},
          "execution_count": 68
        }
      ]
    },
    {
      "cell_type": "code",
      "source": [
        "parameters ={\n",
        "    # 'max_depth':[3,5,7,9,10,11],\n",
        "    'max_depth' : [6,7,9,11,13,15],\n",
        "    'max_features':[0.1,0.3,0.5,0.7,0.9]\n",
        "}"
      ],
      "metadata": {
        "id": "jxrNMeXS_kHt"
      },
      "execution_count": 54,
      "outputs": []
    },
    {
      "cell_type": "code",
      "source": [
        "cen_dic = {'cen1' : '곡물정선기'\n",
        "           ,'cen2' : '그레이더'\n",
        "           ,'cen3' : '농산물탈피기'\n",
        "           ,'cen4' : '농업용고소작업차'\n",
        "           ,'cen5' : '농업용동력운반차'\n",
        "           ,'cen6' : '동력분무기'\n",
        "           ,'cen7' : '동력예취기'\n",
        "           ,'cen8' : '동력파종기'\n",
        "           ,'cen9' : '보행경운기'\n",
        "           ,'cen10' : '승용관리기'\n",
        "           ,'cen11' : '잔가지파쇄기'\n",
        "           ,'cen12' : '콩정선기'}"
      ],
      "metadata": {
        "id": "0c07ReJU_kHt"
      },
      "execution_count": 56,
      "outputs": []
    },
    {
      "cell_type": "code",
      "source": [
        "for i in range(1,13):\n",
        "\n",
        "  globals()['cen{}_X'.format(i)] = cen_train[cen_train['종류'] == cen_dic['cen{}'.format(i)]].iloc[:,4:]\n",
        "  globals()['cen{}_y'.format(i)] = cen_train[cen_train['종류'] == cen_dic['cen{}'.format(i)]][['건수']]\n",
        "\n",
        "  globals()['tree{}'.format(i)] = DecisionTreeRegressor(random_state = 3)\n",
        "  globals()['tree{}'.format(i)].fit(globals()['cen{}_X'.format(i)],\n",
        "                                    globals()['cen{}_y'.format(i)])\n",
        "\n",
        "  globals()['cen{}_GS'.format(i)] = GridSearchCV(globals()['tree{}'.format(i)],\n",
        "                                                  param_grid = parameters,\n",
        "                                                  cv = 5, scoring = rmse_scorer)\n",
        "  \n",
        "  globals()['cen{}_GS'.format(i)].fit(globals()['cen{}_X'.format(i)], globals()['cen{}_y'.format(i)])\n",
        "\n",
        "  par = globals()['cen{}_GS'.format(i)].best_params_\n",
        "  #  print('max_depth :', par['max_depth'], '/ max features :', par['max_features'])\n",
        "\n",
        "  globals()['tree{}'.format(i)] = DecisionTreeRegressor(random_state = 3, max_depth = par['max_depth'], max_features = par['max_features'])\n",
        "  globals()['tree{}'.format(i)].fit(globals()['cen{}_X'.format(i)],\n",
        "                                    globals()['cen{}_y'.format(i)])\n",
        "\n",
        "  globals()['cen{}_X_test'.format(i)] = cen_test[cen_test['종류'] == cen_dic['cen{}'.format(i)]].iloc[:,4:]\n",
        "  globals()['cen{}_y_test'.format(i)] = cen_test[cen_test['종류'] == cen_dic['cen{}'.format(i)]]['건수']\n",
        "\n",
        "  globals()['cen{}_ypred'.format(i)] = globals()['tree{}'.format(i)].predict(globals()['cen{}_X_test'.format(i)])\n",
        "  print('농기계 종류 : ', cen_dic['cen{}'.format(i)]\n",
        "        ,'\\n', 'max_depth :', par['max_depth']\n",
        "        ,'\\n', 'max features :', par['max_features'])"
      ],
      "metadata": {
        "colab": {
          "base_uri": "https://localhost:8080/"
        },
        "outputId": "0c151fd2-9991-4909-8522-31572e1fcaa5",
        "id": "EiVulSo1_kHu"
      },
      "execution_count": 70,
      "outputs": [
        {
          "output_type": "stream",
          "name": "stdout",
          "text": [
            "농기계 종류 :  곡물정선기 \n",
            " max_depth : 6 \n",
            " max features : 0.1\n",
            "농기계 종류 :  그레이더 \n",
            " max_depth : 6 \n",
            " max features : 0.1\n",
            "농기계 종류 :  농산물탈피기 \n",
            " max_depth : 6 \n",
            " max features : 0.1\n",
            "농기계 종류 :  농업용고소작업차 \n",
            " max_depth : 6 \n",
            " max features : 0.1\n",
            "농기계 종류 :  농업용동력운반차 \n",
            " max_depth : 6 \n",
            " max features : 0.1\n",
            "농기계 종류 :  동력분무기 \n",
            " max_depth : 6 \n",
            " max features : 0.1\n",
            "농기계 종류 :  동력예취기 \n",
            " max_depth : 6 \n",
            " max features : 0.1\n",
            "농기계 종류 :  동력파종기 \n",
            " max_depth : 6 \n",
            " max features : 0.1\n",
            "농기계 종류 :  보행경운기 \n",
            " max_depth : 6 \n",
            " max features : 0.1\n",
            "농기계 종류 :  승용관리기 \n",
            " max_depth : 6 \n",
            " max features : 0.1\n",
            "농기계 종류 :  잔가지파쇄기 \n",
            " max_depth : 6 \n",
            " max features : 0.1\n",
            "농기계 종류 :  콩정선기 \n",
            " max_depth : 6 \n",
            " max features : 0.1\n"
          ]
        }
      ]
    },
    {
      "cell_type": "code",
      "source": [
        "# index = list(range(0,354))\n",
        "\n",
        "# tmp = {'index' : index,\n",
        "#        'value(y_test)' : west4_y_test.to_list(),\n",
        "#        'pred' : list(west4_ypred)}\n",
        "\n",
        "# tmp = pd.DataFrame(tmp)"
      ],
      "metadata": {
        "id": "iNu85hlD_kHw"
      },
      "execution_count": null,
      "outputs": []
    },
    {
      "cell_type": "code",
      "source": [
        "plt.plot('index', 'value(y_test)', data = tmp)\n",
        "plt.plot('index', 'pred', data = tmp)"
      ],
      "metadata": {
        "id": "yDw66320_kHx"
      },
      "execution_count": null,
      "outputs": []
    }
  ]
}