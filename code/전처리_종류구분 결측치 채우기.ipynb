{
 "cells": [
  {
   "cell_type": "code",
   "execution_count": 1,
   "id": "b0e23cc1-0e7c-4709-b3ca-029632e808c8",
   "metadata": {},
   "outputs": [],
   "source": [
    "import pandas as pd\n",
    "import numpy as np\n",
    "import matplotlib.pyplot as plt\n",
    "import seaborn as sns"
   ]
  },
  {
   "cell_type": "code",
   "execution_count": 2,
   "id": "d5b8c285-8144-43ef-a591-05b3a6f97097",
   "metadata": {},
   "outputs": [
    {
     "data": {
      "text/html": [
       "<div>\n",
       "<style scoped>\n",
       "    .dataframe tbody tr th:only-of-type {\n",
       "        vertical-align: middle;\n",
       "    }\n",
       "\n",
       "    .dataframe tbody tr th {\n",
       "        vertical-align: top;\n",
       "    }\n",
       "\n",
       "    .dataframe thead th {\n",
       "        text-align: right;\n",
       "    }\n",
       "</style>\n",
       "<table border=\"1\" class=\"dataframe\">\n",
       "  <thead>\n",
       "    <tr style=\"text-align: right;\">\n",
       "      <th></th>\n",
       "      <th>No</th>\n",
       "      <th>임대사업장</th>\n",
       "      <th>임대기간</th>\n",
       "      <th>임대일수</th>\n",
       "      <th>주소</th>\n",
       "      <th>성별</th>\n",
       "      <th>나이</th>\n",
       "      <th>임대농기계</th>\n",
       "      <th>임대료(원)</th>\n",
       "      <th>배송방법</th>\n",
       "      <th>계</th>\n",
       "      <th>임대농기계2</th>\n",
       "      <th>구분</th>\n",
       "      <th>종류</th>\n",
       "      <th>기종</th>\n",
       "      <th>기종2</th>\n",
       "    </tr>\n",
       "  </thead>\n",
       "  <tbody>\n",
       "    <tr>\n",
       "      <th>0</th>\n",
       "      <td>1</td>\n",
       "      <td>서부분소</td>\n",
       "      <td>2018-04-20∼2018-04-21</td>\n",
       "      <td>2</td>\n",
       "      <td>경상북도 안동시 풍산읍</td>\n",
       "      <td>남자</td>\n",
       "      <td>51</td>\n",
       "      <td>서-플라우(트)16-6</td>\n",
       "      <td>20000</td>\n",
       "      <td>자가배송\\n(0)</td>\n",
       "      <td>20,000</td>\n",
       "      <td>서플라우(트)</td>\n",
       "      <td>트랙터및작업기</td>\n",
       "      <td>플라우</td>\n",
       "      <td>서-플라우(트)16-6</td>\n",
       "      <td>서플라우(트)</td>\n",
       "    </tr>\n",
       "    <tr>\n",
       "      <th>1</th>\n",
       "      <td>2</td>\n",
       "      <td>서부분소</td>\n",
       "      <td>2018-04-03∼2018-04-03</td>\n",
       "      <td>1</td>\n",
       "      <td>경상북도 안동시 풍산읍</td>\n",
       "      <td>남자</td>\n",
       "      <td>76</td>\n",
       "      <td>서-비료살포기(트)16-2(PTO방식)</td>\n",
       "      <td>10000</td>\n",
       "      <td>자가배송\\n(0)</td>\n",
       "      <td>10,000</td>\n",
       "      <td>서비료살포기(트)(PTO방식)</td>\n",
       "      <td>트랙터및작업기</td>\n",
       "      <td>비료살포기</td>\n",
       "      <td>서-비료살포기(트)16-1(PTO방식)</td>\n",
       "      <td>서비료살포기(트)(PTO방식)</td>\n",
       "    </tr>\n",
       "    <tr>\n",
       "      <th>2</th>\n",
       "      <td>3</td>\n",
       "      <td>북부분소</td>\n",
       "      <td>2018-08-22∼2018-08-26</td>\n",
       "      <td>5</td>\n",
       "      <td>경상북도 안동시 중구동</td>\n",
       "      <td>남자</td>\n",
       "      <td>62</td>\n",
       "      <td>북-인력파종기18-4</td>\n",
       "      <td>25000</td>\n",
       "      <td>자가배송\\n(0)</td>\n",
       "      <td>25,000</td>\n",
       "      <td>북인력파종기</td>\n",
       "      <td>자주형파종기</td>\n",
       "      <td>파종기</td>\n",
       "      <td>북-인력파종기18-1</td>\n",
       "      <td>북인력파종기</td>\n",
       "    </tr>\n",
       "    <tr>\n",
       "      <th>3</th>\n",
       "      <td>4</td>\n",
       "      <td>북부분소</td>\n",
       "      <td>2018-03-30∼2018-03-30</td>\n",
       "      <td>1</td>\n",
       "      <td>경상북도 안동시 녹전면</td>\n",
       "      <td>남자</td>\n",
       "      <td>48</td>\n",
       "      <td>북-심경로타리(트)16-3</td>\n",
       "      <td>30000</td>\n",
       "      <td>\\n(0)</td>\n",
       "      <td>30,000</td>\n",
       "      <td>북심경로타리(트)</td>\n",
       "      <td>트랙터및작업기</td>\n",
       "      <td>심경로타리</td>\n",
       "      <td>북-심경로타리(트)16-1</td>\n",
       "      <td>북심경로타리(트)</td>\n",
       "    </tr>\n",
       "    <tr>\n",
       "      <th>4</th>\n",
       "      <td>5</td>\n",
       "      <td>서부분소</td>\n",
       "      <td>2018-01-02∼2018-01-02</td>\n",
       "      <td>1</td>\n",
       "      <td>경상북도 안동시 풍천면</td>\n",
       "      <td>남자</td>\n",
       "      <td>67</td>\n",
       "      <td>서-콩정선기16-1</td>\n",
       "      <td>0</td>\n",
       "      <td>자가배송\\n(0)</td>\n",
       "      <td>0</td>\n",
       "      <td>서콩정선기</td>\n",
       "      <td>탈곡기및정선기</td>\n",
       "      <td>콩정선기</td>\n",
       "      <td>서-콩정선기16-1</td>\n",
       "      <td>서콩정선기</td>\n",
       "    </tr>\n",
       "  </tbody>\n",
       "</table>\n",
       "</div>"
      ],
      "text/plain": [
       "   No 임대사업장                   임대기간  임대일수            주소  성별  나이  \\\n",
       "0   1  서부분소  2018-04-20∼2018-04-21     2  경상북도 안동시 풍산읍  남자  51   \n",
       "1   2  서부분소  2018-04-03∼2018-04-03     1  경상북도 안동시 풍산읍  남자  76   \n",
       "2   3  북부분소  2018-08-22∼2018-08-26     5  경상북도 안동시 중구동  남자  62   \n",
       "3   4  북부분소  2018-03-30∼2018-03-30     1  경상북도 안동시 녹전면  남자  48   \n",
       "4   5  서부분소  2018-01-02∼2018-01-02     1  경상북도 안동시 풍천면  남자  67   \n",
       "\n",
       "                   임대농기계  임대료(원)       배송방법       계            임대농기계2  \\\n",
       "0           서-플라우(트)16-6   20000  자가배송\\n(0)  20,000           서플라우(트)   \n",
       "1  서-비료살포기(트)16-2(PTO방식)   10000  자가배송\\n(0)  10,000  서비료살포기(트)(PTO방식)   \n",
       "2            북-인력파종기18-4   25000  자가배송\\n(0)  25,000            북인력파종기   \n",
       "3         북-심경로타리(트)16-3   30000      \\n(0)  30,000         북심경로타리(트)   \n",
       "4             서-콩정선기16-1       0  자가배송\\n(0)       0             서콩정선기   \n",
       "\n",
       "        구분     종류                     기종               기종2  \n",
       "0  트랙터및작업기    플라우           서-플라우(트)16-6           서플라우(트)  \n",
       "1  트랙터및작업기  비료살포기  서-비료살포기(트)16-1(PTO방식)  서비료살포기(트)(PTO방식)  \n",
       "2   자주형파종기    파종기            북-인력파종기18-1            북인력파종기  \n",
       "3  트랙터및작업기  심경로타리         북-심경로타리(트)16-1         북심경로타리(트)  \n",
       "4  탈곡기및정선기   콩정선기             서-콩정선기16-1             서콩정선기  "
      ]
     },
     "execution_count": 2,
     "metadata": {},
     "output_type": "execute_result"
    }
   ],
   "source": [
    "leftjoin_df = pd.read_csv('D:/python/bigdataproject/농기계 임대 기준 left join.csv')\n",
    "leftjoin_df.head()"
   ]
  },
  {
   "cell_type": "code",
   "execution_count": 3,
   "id": "124f67c1-6cfc-4f86-906c-8e9c999b448b",
   "metadata": {},
   "outputs": [
    {
     "data": {
      "text/plain": [
       "array(['콩수확기', '로터베이터', '관리기', '콩탈곡기(모)', '농용돌파쇄기(트)', '땅속작물수확기(경)(레)',\n",
       "       '심경로타리(역회전)', '보통형콤바인', 'SS기(운)', '콩탈곡기(경)'], dtype=object)"
      ]
     },
     "execution_count": 3,
     "metadata": {},
     "output_type": "execute_result"
    }
   ],
   "source": [
    "leftjoin_df[leftjoin_df['기종2'].isna()]['임대농기계2'].unique()"
   ]
  },
  {
   "cell_type": "code",
   "execution_count": 4,
   "id": "11b843cb-79b1-43e7-8a44-08b6a107ce8b",
   "metadata": {},
   "outputs": [],
   "source": [
    "#2018~2020 합친거\n",
    "#안동시 농기계 보유 목록"
   ]
  },
  {
   "cell_type": "code",
   "execution_count": 5,
   "id": "b89ed5b7-5798-485f-af39-d2183918e999",
   "metadata": {},
   "outputs": [],
   "source": [
    "df2018 = pd.read_excel('D:/python/bigdataproject/안동시 농기계 임대차 관리대장(2018년)_비식별화.xlsx')\n",
    "df2019 = pd.read_excel('D:/python/bigdataproject/안동시 농기계 임대차 관리대장(2019년)_비식별화.xlsx')\n",
    "df2020 = pd.read_excel('D:/python/bigdataproject/안동시 농기계 임대차 관리대장(2020년)_비식별화.xlsx')"
   ]
  },
  {
   "cell_type": "code",
   "execution_count": 6,
   "id": "9a339475-37d0-4110-9069-cdeb6c739c33",
   "metadata": {},
   "outputs": [],
   "source": [
    "df2018.rename(columns = {'구분':'주소'}, inplace = True)"
   ]
  },
  {
   "cell_type": "code",
   "execution_count": 7,
   "id": "d831b163-1e34-43cc-8428-57f46beb77be",
   "metadata": {},
   "outputs": [
    {
     "data": {
      "text/html": [
       "<div>\n",
       "<style scoped>\n",
       "    .dataframe tbody tr th:only-of-type {\n",
       "        vertical-align: middle;\n",
       "    }\n",
       "\n",
       "    .dataframe tbody tr th {\n",
       "        vertical-align: top;\n",
       "    }\n",
       "\n",
       "    .dataframe thead th {\n",
       "        text-align: right;\n",
       "    }\n",
       "</style>\n",
       "<table border=\"1\" class=\"dataframe\">\n",
       "  <thead>\n",
       "    <tr style=\"text-align: right;\">\n",
       "      <th></th>\n",
       "      <th>No</th>\n",
       "      <th>임대사업장</th>\n",
       "      <th>임대기간</th>\n",
       "      <th>임대일수</th>\n",
       "      <th>주소</th>\n",
       "      <th>성별</th>\n",
       "      <th>나이</th>\n",
       "      <th>임대농기계</th>\n",
       "      <th>임대료(원)</th>\n",
       "      <th>배송방법</th>\n",
       "      <th>계</th>\n",
       "    </tr>\n",
       "  </thead>\n",
       "  <tbody>\n",
       "    <tr>\n",
       "      <th>0</th>\n",
       "      <td>1</td>\n",
       "      <td>서부분소</td>\n",
       "      <td>2018-04-20∼2018-04-21</td>\n",
       "      <td>2</td>\n",
       "      <td>경상북도 안동시 풍산읍</td>\n",
       "      <td>남자</td>\n",
       "      <td>51</td>\n",
       "      <td>서-플라우(트)16-6</td>\n",
       "      <td>20000</td>\n",
       "      <td>자가배송\\n(0)</td>\n",
       "      <td>20,000</td>\n",
       "    </tr>\n",
       "    <tr>\n",
       "      <th>1</th>\n",
       "      <td>2</td>\n",
       "      <td>서부분소</td>\n",
       "      <td>2018-04-03∼2018-04-03</td>\n",
       "      <td>1</td>\n",
       "      <td>경상북도 안동시 풍산읍</td>\n",
       "      <td>남자</td>\n",
       "      <td>76</td>\n",
       "      <td>서-비료살포기(트)16-2(PTO방식)</td>\n",
       "      <td>10000</td>\n",
       "      <td>자가배송\\n(0)</td>\n",
       "      <td>10,000</td>\n",
       "    </tr>\n",
       "    <tr>\n",
       "      <th>2</th>\n",
       "      <td>3</td>\n",
       "      <td>북부분소</td>\n",
       "      <td>2018-08-22∼2018-08-26</td>\n",
       "      <td>5</td>\n",
       "      <td>경상북도 안동시 중구동</td>\n",
       "      <td>남자</td>\n",
       "      <td>62</td>\n",
       "      <td>북-인력파종기18-4</td>\n",
       "      <td>25000</td>\n",
       "      <td>자가배송\\n(0)</td>\n",
       "      <td>25,000</td>\n",
       "    </tr>\n",
       "    <tr>\n",
       "      <th>3</th>\n",
       "      <td>4</td>\n",
       "      <td>북부분소</td>\n",
       "      <td>2018-03-30∼2018-03-30</td>\n",
       "      <td>1</td>\n",
       "      <td>경상북도 안동시 녹전면</td>\n",
       "      <td>남자</td>\n",
       "      <td>48</td>\n",
       "      <td>북-심경로타리(트)16-3</td>\n",
       "      <td>30000</td>\n",
       "      <td>\\n(0)</td>\n",
       "      <td>30,000</td>\n",
       "    </tr>\n",
       "    <tr>\n",
       "      <th>4</th>\n",
       "      <td>5</td>\n",
       "      <td>서부분소</td>\n",
       "      <td>2018-01-02∼2018-01-02</td>\n",
       "      <td>1</td>\n",
       "      <td>경상북도 안동시 풍천면</td>\n",
       "      <td>남자</td>\n",
       "      <td>67</td>\n",
       "      <td>서-콩정선기16-1</td>\n",
       "      <td>0</td>\n",
       "      <td>자가배송\\n(0)</td>\n",
       "      <td>0</td>\n",
       "    </tr>\n",
       "  </tbody>\n",
       "</table>\n",
       "</div>"
      ],
      "text/plain": [
       "   No 임대사업장                   임대기간  임대일수            주소  성별  나이  \\\n",
       "0   1  서부분소  2018-04-20∼2018-04-21     2  경상북도 안동시 풍산읍  남자  51   \n",
       "1   2  서부분소  2018-04-03∼2018-04-03     1  경상북도 안동시 풍산읍  남자  76   \n",
       "2   3  북부분소  2018-08-22∼2018-08-26     5  경상북도 안동시 중구동  남자  62   \n",
       "3   4  북부분소  2018-03-30∼2018-03-30     1  경상북도 안동시 녹전면  남자  48   \n",
       "4   5  서부분소  2018-01-02∼2018-01-02     1  경상북도 안동시 풍천면  남자  67   \n",
       "\n",
       "                   임대농기계  임대료(원)       배송방법       계  \n",
       "0           서-플라우(트)16-6   20000  자가배송\\n(0)  20,000  \n",
       "1  서-비료살포기(트)16-2(PTO방식)   10000  자가배송\\n(0)  10,000  \n",
       "2            북-인력파종기18-4   25000  자가배송\\n(0)  25,000  \n",
       "3         북-심경로타리(트)16-3   30000      \\n(0)  30,000  \n",
       "4             서-콩정선기16-1       0  자가배송\\n(0)       0  "
      ]
     },
     "execution_count": 7,
     "metadata": {},
     "output_type": "execute_result"
    }
   ],
   "source": [
    "dfyear = pd.concat([df2018, df2019, df2020], axis = 0)\n",
    "dfyear.head()"
   ]
  },
  {
   "cell_type": "code",
   "execution_count": 8,
   "id": "3b053f7c-7545-4904-8d50-86117f04e7b1",
   "metadata": {},
   "outputs": [
    {
     "data": {
      "text/html": [
       "<div>\n",
       "<style scoped>\n",
       "    .dataframe tbody tr th:only-of-type {\n",
       "        vertical-align: middle;\n",
       "    }\n",
       "\n",
       "    .dataframe tbody tr th {\n",
       "        vertical-align: top;\n",
       "    }\n",
       "\n",
       "    .dataframe thead th {\n",
       "        text-align: right;\n",
       "    }\n",
       "</style>\n",
       "<table border=\"1\" class=\"dataframe\">\n",
       "  <thead>\n",
       "    <tr style=\"text-align: right;\">\n",
       "      <th></th>\n",
       "      <th>Unnamed: 0</th>\n",
       "      <th>연번</th>\n",
       "      <th>구분</th>\n",
       "      <th>종류</th>\n",
       "      <th>임대농기계</th>\n",
       "      <th>Unnamed: 5</th>\n",
       "      <th>제조업체</th>\n",
       "      <th>규격</th>\n",
       "      <th>제조(기대번호)</th>\n",
       "      <th>형식</th>\n",
       "      <th>대수</th>\n",
       "      <th>구입금액</th>\n",
       "      <th>Unnamed: 12</th>\n",
       "      <th>구입일자</th>\n",
       "      <th>비고</th>\n",
       "    </tr>\n",
       "  </thead>\n",
       "  <tbody>\n",
       "    <tr>\n",
       "      <th>0</th>\n",
       "      <td>3</td>\n",
       "      <td>1</td>\n",
       "      <td>탈곡기및정선기</td>\n",
       "      <td>곡물정선기</td>\n",
       "      <td>풍구 14-1</td>\n",
       "      <td>NaN</td>\n",
       "      <td>경안농기계</td>\n",
       "      <td>모터용</td>\n",
       "      <td>14-1226</td>\n",
       "      <td>KA330</td>\n",
       "      <td>1</td>\n",
       "      <td>400000</td>\n",
       "      <td>NaN</td>\n",
       "      <td>2014-12-26</td>\n",
       "      <td>NaN</td>\n",
       "    </tr>\n",
       "    <tr>\n",
       "      <th>1</th>\n",
       "      <td>4</td>\n",
       "      <td>2</td>\n",
       "      <td>탈곡기및정선기</td>\n",
       "      <td>곡물정선기</td>\n",
       "      <td>풍구 14-2</td>\n",
       "      <td>NaN</td>\n",
       "      <td>경안농기계</td>\n",
       "      <td>모터용</td>\n",
       "      <td>14-1227</td>\n",
       "      <td>KA330</td>\n",
       "      <td>1</td>\n",
       "      <td>400000</td>\n",
       "      <td>NaN</td>\n",
       "      <td>2014-12-26</td>\n",
       "      <td>NaN</td>\n",
       "    </tr>\n",
       "    <tr>\n",
       "      <th>2</th>\n",
       "      <td>5</td>\n",
       "      <td>3</td>\n",
       "      <td>탈곡기및정선기</td>\n",
       "      <td>농산물선별기</td>\n",
       "      <td>콩정선 선별기 14-1</td>\n",
       "      <td>NaN</td>\n",
       "      <td>경안농기계</td>\n",
       "      <td>600kg/h</td>\n",
       "      <td>14-01225</td>\n",
       "      <td>KAS-1500</td>\n",
       "      <td>1</td>\n",
       "      <td>1700000</td>\n",
       "      <td>NaN</td>\n",
       "      <td>2014-12-26</td>\n",
       "      <td>NaN</td>\n",
       "    </tr>\n",
       "    <tr>\n",
       "      <th>3</th>\n",
       "      <td>6</td>\n",
       "      <td>4</td>\n",
       "      <td>탈곡기및정선기</td>\n",
       "      <td>농산물선별기</td>\n",
       "      <td>콩정선 선별기 14-2</td>\n",
       "      <td>NaN</td>\n",
       "      <td>경안농기계</td>\n",
       "      <td>600kg/h</td>\n",
       "      <td>14-01227</td>\n",
       "      <td>KAS-1500</td>\n",
       "      <td>1</td>\n",
       "      <td>1700000</td>\n",
       "      <td>NaN</td>\n",
       "      <td>2014-12-26</td>\n",
       "      <td>NaN</td>\n",
       "    </tr>\n",
       "    <tr>\n",
       "      <th>4</th>\n",
       "      <td>7</td>\n",
       "      <td>5</td>\n",
       "      <td>기타임대농기계</td>\n",
       "      <td>농산물세척기</td>\n",
       "      <td>농산물세척기12-1</td>\n",
       "      <td>NaN</td>\n",
       "      <td>영동농기계(주)</td>\n",
       "      <td>0.40kw</td>\n",
       "      <td>2012-07117</td>\n",
       "      <td>YD1000W</td>\n",
       "      <td>1</td>\n",
       "      <td>2200000</td>\n",
       "      <td>NaN</td>\n",
       "      <td>2012-05-25</td>\n",
       "      <td>NaN</td>\n",
       "    </tr>\n",
       "  </tbody>\n",
       "</table>\n",
       "</div>"
      ],
      "text/plain": [
       "   Unnamed: 0  연번       구분      종류         임대농기계  Unnamed: 5      제조업체  \\\n",
       "0           3   1  탈곡기및정선기   곡물정선기       풍구 14-1         NaN     경안농기계   \n",
       "1           4   2  탈곡기및정선기   곡물정선기       풍구 14-2         NaN     경안농기계   \n",
       "2           5   3  탈곡기및정선기  농산물선별기  콩정선 선별기 14-1         NaN     경안농기계   \n",
       "3           6   4  탈곡기및정선기  농산물선별기  콩정선 선별기 14-2         NaN     경안농기계   \n",
       "4           7   5  기타임대농기계  농산물세척기    농산물세척기12-1         NaN  영동농기계(주)   \n",
       "\n",
       "        규격    제조(기대번호)        형식  대수     구입금액  Unnamed: 12        구입일자   비고  \n",
       "0      모터용     14-1226     KA330   1   400000          NaN  2014-12-26  NaN  \n",
       "1      모터용     14-1227     KA330   1   400000          NaN  2014-12-26  NaN  \n",
       "2  600kg/h    14-01225  KAS-1500   1  1700000          NaN  2014-12-26  NaN  \n",
       "3  600kg/h    14-01227  KAS-1500   1  1700000          NaN  2014-12-26  NaN  \n",
       "4   0.40kw  2012-07117   YD1000W   1  2200000          NaN  2012-05-25  NaN  "
      ]
     },
     "execution_count": 8,
     "metadata": {},
     "output_type": "execute_result"
    }
   ],
   "source": [
    "nonggigae = pd.read_csv('D:/python/bigdataproject/nonggigae.csv', encoding = 'euc-kr')\n",
    "nonggigae.head()"
   ]
  },
  {
   "cell_type": "code",
   "execution_count": 9,
   "id": "5028fc22-046d-4b51-ad02-cabf0d752089",
   "metadata": {},
   "outputs": [
    {
     "data": {
      "text/html": [
       "<div>\n",
       "<style scoped>\n",
       "    .dataframe tbody tr th:only-of-type {\n",
       "        vertical-align: middle;\n",
       "    }\n",
       "\n",
       "    .dataframe tbody tr th {\n",
       "        vertical-align: top;\n",
       "    }\n",
       "\n",
       "    .dataframe thead th {\n",
       "        text-align: right;\n",
       "    }\n",
       "</style>\n",
       "<table border=\"1\" class=\"dataframe\">\n",
       "  <thead>\n",
       "    <tr style=\"text-align: right;\">\n",
       "      <th></th>\n",
       "      <th></th>\n",
       "      <th></th>\n",
       "      <th>연번</th>\n",
       "    </tr>\n",
       "    <tr>\n",
       "      <th>구분</th>\n",
       "      <th>종류</th>\n",
       "      <th>임대농기계</th>\n",
       "      <th></th>\n",
       "    </tr>\n",
       "  </thead>\n",
       "  <tbody>\n",
       "    <tr>\n",
       "      <th rowspan=\"5\" valign=\"top\">경운기및작업기</th>\n",
       "      <th rowspan=\"5\" valign=\"top\">보행경운기</th>\n",
       "      <th>동력경운기(경)16-1</th>\n",
       "      <td>1</td>\n",
       "    </tr>\n",
       "    <tr>\n",
       "      <th>동력경운기(경)16-2</th>\n",
       "      <td>1</td>\n",
       "    </tr>\n",
       "    <tr>\n",
       "      <th>동력경운기(경)21-1</th>\n",
       "      <td>1</td>\n",
       "    </tr>\n",
       "    <tr>\n",
       "      <th>북-동력경운기(경)10-1</th>\n",
       "      <td>1</td>\n",
       "    </tr>\n",
       "    <tr>\n",
       "      <th>북-동력경운기(경)16-2</th>\n",
       "      <td>1</td>\n",
       "    </tr>\n",
       "    <tr>\n",
       "      <th>...</th>\n",
       "      <th>...</th>\n",
       "      <th>...</th>\n",
       "      <td>...</td>\n",
       "    </tr>\n",
       "    <tr>\n",
       "      <th rowspan=\"5\" valign=\"top\">트랙터및작업기</th>\n",
       "      <th>휴립복토기</th>\n",
       "      <th>휴립복토기(트)18-4/2두둑</th>\n",
       "      <td>1</td>\n",
       "    </tr>\n",
       "    <tr>\n",
       "      <th rowspan=\"4\" valign=\"top\">휴립피복기</th>\n",
       "      <th>북-휴립피복기(트)16-1</th>\n",
       "      <td>1</td>\n",
       "    </tr>\n",
       "    <tr>\n",
       "      <th>서-휴립피복기(트)16-1</th>\n",
       "      <td>1</td>\n",
       "    </tr>\n",
       "    <tr>\n",
       "      <th>휴립피복기(트)18-1</th>\n",
       "      <td>1</td>\n",
       "    </tr>\n",
       "    <tr>\n",
       "      <th>휴립피복기(트)18-2</th>\n",
       "      <td>1</td>\n",
       "    </tr>\n",
       "  </tbody>\n",
       "</table>\n",
       "<p>614 rows × 1 columns</p>\n",
       "</div>"
      ],
      "text/plain": [
       "                                연번\n",
       "구분      종류    임대농기계               \n",
       "경운기및작업기 보행경운기 동력경운기(경)16-1       1\n",
       "              동력경운기(경)16-2       1\n",
       "              동력경운기(경)21-1       1\n",
       "              북-동력경운기(경)10-1     1\n",
       "              북-동력경운기(경)16-2     1\n",
       "...                             ..\n",
       "트랙터및작업기 휴립복토기 휴립복토기(트)18-4/2두둑   1\n",
       "        휴립피복기 북-휴립피복기(트)16-1     1\n",
       "              서-휴립피복기(트)16-1     1\n",
       "              휴립피복기(트)18-1       1\n",
       "              휴립피복기(트)18-2       1\n",
       "\n",
       "[614 rows x 1 columns]"
      ]
     },
     "execution_count": 9,
     "metadata": {},
     "output_type": "execute_result"
    }
   ],
   "source": [
    "nonggigae[['구분','종류','임대농기계','연번']].groupby(['구분','종류','임대농기계'],as_index = True).count()"
   ]
  },
  {
   "cell_type": "code",
   "execution_count": 10,
   "id": "f15dc817-ccd6-4c73-8209-3ddbd856b027",
   "metadata": {},
   "outputs": [
    {
     "data": {
      "text/html": [
       "<div>\n",
       "<style scoped>\n",
       "    .dataframe tbody tr th:only-of-type {\n",
       "        vertical-align: middle;\n",
       "    }\n",
       "\n",
       "    .dataframe tbody tr th {\n",
       "        vertical-align: top;\n",
       "    }\n",
       "\n",
       "    .dataframe thead th {\n",
       "        text-align: right;\n",
       "    }\n",
       "</style>\n",
       "<table border=\"1\" class=\"dataframe\">\n",
       "  <thead>\n",
       "    <tr style=\"text-align: right;\">\n",
       "      <th></th>\n",
       "      <th>구분</th>\n",
       "      <th>종류</th>\n",
       "      <th>임대농기계2</th>\n",
       "      <th>No</th>\n",
       "    </tr>\n",
       "  </thead>\n",
       "  <tbody>\n",
       "    <tr>\n",
       "      <th>0</th>\n",
       "      <td>경운기및작업기</td>\n",
       "      <td>보행경운기</td>\n",
       "      <td>동력경운기(경)</td>\n",
       "      <td>157</td>\n",
       "    </tr>\n",
       "    <tr>\n",
       "      <th>1</th>\n",
       "      <td>경운기및작업기</td>\n",
       "      <td>보행경운기</td>\n",
       "      <td>북동력경운기(경)</td>\n",
       "      <td>213</td>\n",
       "    </tr>\n",
       "    <tr>\n",
       "      <th>2</th>\n",
       "      <td>경운기및작업기</td>\n",
       "      <td>보행경운기</td>\n",
       "      <td>서동력경운기(경)</td>\n",
       "      <td>277</td>\n",
       "    </tr>\n",
       "    <tr>\n",
       "      <th>3</th>\n",
       "      <td>경운기및작업기</td>\n",
       "      <td>비료살포기</td>\n",
       "      <td>석회살포기(경)</td>\n",
       "      <td>11</td>\n",
       "    </tr>\n",
       "    <tr>\n",
       "      <th>4</th>\n",
       "      <td>경운기및작업기</td>\n",
       "      <td>수확기</td>\n",
       "      <td>땅속작물수확기(경)</td>\n",
       "      <td>217</td>\n",
       "    </tr>\n",
       "    <tr>\n",
       "      <th>...</th>\n",
       "      <td>...</td>\n",
       "      <td>...</td>\n",
       "      <td>...</td>\n",
       "      <td>...</td>\n",
       "    </tr>\n",
       "    <tr>\n",
       "      <th>168</th>\n",
       "      <td>트랙터및작업기</td>\n",
       "      <td>휴립복토기</td>\n",
       "      <td>휴립복토기(트)</td>\n",
       "      <td>1</td>\n",
       "    </tr>\n",
       "    <tr>\n",
       "      <th>169</th>\n",
       "      <td>트랙터및작업기</td>\n",
       "      <td>휴립복토기</td>\n",
       "      <td>휴립복토기(트)두둑</td>\n",
       "      <td>12</td>\n",
       "    </tr>\n",
       "    <tr>\n",
       "      <th>170</th>\n",
       "      <td>트랙터및작업기</td>\n",
       "      <td>휴립피복기</td>\n",
       "      <td>북휴립피복기(트)</td>\n",
       "      <td>21</td>\n",
       "    </tr>\n",
       "    <tr>\n",
       "      <th>171</th>\n",
       "      <td>트랙터및작업기</td>\n",
       "      <td>휴립피복기</td>\n",
       "      <td>서휴립피복기(트)</td>\n",
       "      <td>5</td>\n",
       "    </tr>\n",
       "    <tr>\n",
       "      <th>172</th>\n",
       "      <td>트랙터및작업기</td>\n",
       "      <td>휴립피복기</td>\n",
       "      <td>휴립피복기(트)</td>\n",
       "      <td>4</td>\n",
       "    </tr>\n",
       "  </tbody>\n",
       "</table>\n",
       "<p>173 rows × 4 columns</p>\n",
       "</div>"
      ],
      "text/plain": [
       "          구분     종류      임대농기계2   No\n",
       "0    경운기및작업기  보행경운기    동력경운기(경)  157\n",
       "1    경운기및작업기  보행경운기   북동력경운기(경)  213\n",
       "2    경운기및작업기  보행경운기   서동력경운기(경)  277\n",
       "3    경운기및작업기  비료살포기    석회살포기(경)   11\n",
       "4    경운기및작업기    수확기  땅속작물수확기(경)  217\n",
       "..       ...    ...         ...  ...\n",
       "168  트랙터및작업기  휴립복토기    휴립복토기(트)    1\n",
       "169  트랙터및작업기  휴립복토기  휴립복토기(트)두둑   12\n",
       "170  트랙터및작업기  휴립피복기   북휴립피복기(트)   21\n",
       "171  트랙터및작업기  휴립피복기   서휴립피복기(트)    5\n",
       "172  트랙터및작업기  휴립피복기    휴립피복기(트)    4\n",
       "\n",
       "[173 rows x 4 columns]"
      ]
     },
     "execution_count": 10,
     "metadata": {},
     "output_type": "execute_result"
    }
   ],
   "source": [
    "g = leftjoin_df[['구분','종류','임대농기계2','No']].groupby(['구분','종류','임대농기계2'], as_index = False).count()\n",
    "g"
   ]
  },
  {
   "cell_type": "markdown",
   "id": "2dce0618-1e3f-49af-aaf0-063e07dde443",
   "metadata": {},
   "source": [
    "### g[g['임대농기계2'].str.contains('땅속작물수확기')]"
   ]
  },
  {
   "cell_type": "code",
   "execution_count": 11,
   "id": "aa8b9566-9b98-4d29-94dc-aa165e6d5cb9",
   "metadata": {},
   "outputs": [
    {
     "data": {
      "text/html": [
       "<div>\n",
       "<style scoped>\n",
       "    .dataframe tbody tr th:only-of-type {\n",
       "        vertical-align: middle;\n",
       "    }\n",
       "\n",
       "    .dataframe tbody tr th {\n",
       "        vertical-align: top;\n",
       "    }\n",
       "\n",
       "    .dataframe thead th {\n",
       "        text-align: right;\n",
       "    }\n",
       "</style>\n",
       "<table border=\"1\" class=\"dataframe\">\n",
       "  <thead>\n",
       "    <tr style=\"text-align: right;\">\n",
       "      <th></th>\n",
       "      <th>구분</th>\n",
       "      <th>종류</th>\n",
       "      <th>기종2</th>\n",
       "      <th>No</th>\n",
       "    </tr>\n",
       "  </thead>\n",
       "  <tbody>\n",
       "    <tr>\n",
       "      <th>0</th>\n",
       "      <td>경운기및작업기</td>\n",
       "      <td>보행경운기</td>\n",
       "      <td>동력경운기(경)</td>\n",
       "      <td>157</td>\n",
       "    </tr>\n",
       "    <tr>\n",
       "      <th>1</th>\n",
       "      <td>경운기및작업기</td>\n",
       "      <td>보행경운기</td>\n",
       "      <td>북동력경운기(경)</td>\n",
       "      <td>213</td>\n",
       "    </tr>\n",
       "    <tr>\n",
       "      <th>2</th>\n",
       "      <td>경운기및작업기</td>\n",
       "      <td>보행경운기</td>\n",
       "      <td>서동력경운기(경)</td>\n",
       "      <td>277</td>\n",
       "    </tr>\n",
       "    <tr>\n",
       "      <th>3</th>\n",
       "      <td>경운기및작업기</td>\n",
       "      <td>비료살포기</td>\n",
       "      <td>석회살포기(경)</td>\n",
       "      <td>11</td>\n",
       "    </tr>\n",
       "    <tr>\n",
       "      <th>4</th>\n",
       "      <td>경운기및작업기</td>\n",
       "      <td>수확기</td>\n",
       "      <td>땅속작물수확기(경)</td>\n",
       "      <td>217</td>\n",
       "    </tr>\n",
       "    <tr>\n",
       "      <th>...</th>\n",
       "      <td>...</td>\n",
       "      <td>...</td>\n",
       "      <td>...</td>\n",
       "      <td>...</td>\n",
       "    </tr>\n",
       "    <tr>\n",
       "      <th>168</th>\n",
       "      <td>트랙터및작업기</td>\n",
       "      <td>휴립복토기</td>\n",
       "      <td>휴립복토기(트)</td>\n",
       "      <td>1</td>\n",
       "    </tr>\n",
       "    <tr>\n",
       "      <th>169</th>\n",
       "      <td>트랙터및작업기</td>\n",
       "      <td>휴립복토기</td>\n",
       "      <td>휴립복토기(트)두둑</td>\n",
       "      <td>12</td>\n",
       "    </tr>\n",
       "    <tr>\n",
       "      <th>170</th>\n",
       "      <td>트랙터및작업기</td>\n",
       "      <td>휴립피복기</td>\n",
       "      <td>북휴립피복기(트)</td>\n",
       "      <td>21</td>\n",
       "    </tr>\n",
       "    <tr>\n",
       "      <th>171</th>\n",
       "      <td>트랙터및작업기</td>\n",
       "      <td>휴립피복기</td>\n",
       "      <td>서휴립피복기(트)</td>\n",
       "      <td>5</td>\n",
       "    </tr>\n",
       "    <tr>\n",
       "      <th>172</th>\n",
       "      <td>트랙터및작업기</td>\n",
       "      <td>휴립피복기</td>\n",
       "      <td>휴립피복기(트)</td>\n",
       "      <td>4</td>\n",
       "    </tr>\n",
       "  </tbody>\n",
       "</table>\n",
       "<p>173 rows × 4 columns</p>\n",
       "</div>"
      ],
      "text/plain": [
       "          구분     종류         기종2   No\n",
       "0    경운기및작업기  보행경운기    동력경운기(경)  157\n",
       "1    경운기및작업기  보행경운기   북동력경운기(경)  213\n",
       "2    경운기및작업기  보행경운기   서동력경운기(경)  277\n",
       "3    경운기및작업기  비료살포기    석회살포기(경)   11\n",
       "4    경운기및작업기    수확기  땅속작물수확기(경)  217\n",
       "..       ...    ...         ...  ...\n",
       "168  트랙터및작업기  휴립복토기    휴립복토기(트)    1\n",
       "169  트랙터및작업기  휴립복토기  휴립복토기(트)두둑   12\n",
       "170  트랙터및작업기  휴립피복기   북휴립피복기(트)   21\n",
       "171  트랙터및작업기  휴립피복기   서휴립피복기(트)    5\n",
       "172  트랙터및작업기  휴립피복기    휴립피복기(트)    4\n",
       "\n",
       "[173 rows x 4 columns]"
      ]
     },
     "execution_count": 11,
     "metadata": {},
     "output_type": "execute_result"
    }
   ],
   "source": [
    "sibal = leftjoin_df[['구분','종류','기종2','No']].groupby(['구분','종류','기종2'], as_index = False).count()\n",
    "sibal"
   ]
  },
  {
   "cell_type": "code",
   "execution_count": 12,
   "id": "9d588f95-f291-4514-8a66-4d4c818050ad",
   "metadata": {},
   "outputs": [
    {
     "data": {
      "text/html": [
       "<div>\n",
       "<style scoped>\n",
       "    .dataframe tbody tr th:only-of-type {\n",
       "        vertical-align: middle;\n",
       "    }\n",
       "\n",
       "    .dataframe tbody tr th {\n",
       "        vertical-align: top;\n",
       "    }\n",
       "\n",
       "    .dataframe thead th {\n",
       "        text-align: right;\n",
       "    }\n",
       "</style>\n",
       "<table border=\"1\" class=\"dataframe\">\n",
       "  <thead>\n",
       "    <tr style=\"text-align: right;\">\n",
       "      <th></th>\n",
       "      <th>구분</th>\n",
       "      <th>종류</th>\n",
       "      <th>기종2</th>\n",
       "      <th>No</th>\n",
       "    </tr>\n",
       "  </thead>\n",
       "  <tbody>\n",
       "  </tbody>\n",
       "</table>\n",
       "</div>"
      ],
      "text/plain": [
       "Empty DataFrame\n",
       "Columns: [구분, 종류, 기종2, No]\n",
       "Index: []"
      ]
     },
     "execution_count": 12,
     "metadata": {},
     "output_type": "execute_result"
    }
   ],
   "source": [
    "sibal[sibal['기종2'].str.contains('농용돌파쇄기')]"
   ]
  },
  {
   "cell_type": "code",
   "execution_count": 13,
   "id": "ac631336-5747-49cc-8b3b-de7adfef920b",
   "metadata": {},
   "outputs": [
    {
     "name": "stdout",
     "output_type": "stream",
     "text": [
      "<class 'pandas.core.frame.DataFrame'>\n",
      "RangeIndex: 21347 entries, 0 to 21346\n",
      "Data columns (total 16 columns):\n",
      " #   Column  Non-Null Count  Dtype \n",
      "---  ------  --------------  ----- \n",
      " 0   No      21347 non-null  int64 \n",
      " 1   임대사업장   21347 non-null  object\n",
      " 2   임대기간    21347 non-null  object\n",
      " 3   임대일수    21347 non-null  int64 \n",
      " 4   주소      21338 non-null  object\n",
      " 5   성별      21247 non-null  object\n",
      " 6   나이      21347 non-null  int64 \n",
      " 7   임대농기계   21347 non-null  object\n",
      " 8   임대료(원)  21347 non-null  int64 \n",
      " 9   배송방법    21347 non-null  object\n",
      " 10  계       21347 non-null  object\n",
      " 11  임대농기계2  21347 non-null  object\n",
      " 12  구분      20849 non-null  object\n",
      " 13  종류      20849 non-null  object\n",
      " 14  기종      20849 non-null  object\n",
      " 15  기종2     20849 non-null  object\n",
      "dtypes: int64(4), object(12)\n",
      "memory usage: 2.6+ MB\n"
     ]
    }
   ],
   "source": [
    "leftjoin_df.info()"
   ]
  },
  {
   "cell_type": "code",
   "execution_count": 14,
   "id": "009c1e04-ad08-4b68-b29e-9c16d2ecda63",
   "metadata": {},
   "outputs": [
    {
     "data": {
      "text/html": [
       "<div>\n",
       "<style scoped>\n",
       "    .dataframe tbody tr th:only-of-type {\n",
       "        vertical-align: middle;\n",
       "    }\n",
       "\n",
       "    .dataframe tbody tr th {\n",
       "        vertical-align: top;\n",
       "    }\n",
       "\n",
       "    .dataframe thead th {\n",
       "        text-align: right;\n",
       "    }\n",
       "</style>\n",
       "<table border=\"1\" class=\"dataframe\">\n",
       "  <thead>\n",
       "    <tr style=\"text-align: right;\">\n",
       "      <th></th>\n",
       "      <th>임대사업장</th>\n",
       "      <th>임대기간</th>\n",
       "      <th>주소</th>\n",
       "      <th>임대농기계2</th>\n",
       "      <th>구분</th>\n",
       "      <th>종류</th>\n",
       "      <th>기종2</th>\n",
       "    </tr>\n",
       "  </thead>\n",
       "  <tbody>\n",
       "    <tr>\n",
       "      <th>0</th>\n",
       "      <td>서부분소</td>\n",
       "      <td>2018-04-20∼2018-04-21</td>\n",
       "      <td>경상북도 안동시 풍산읍</td>\n",
       "      <td>서플라우(트)</td>\n",
       "      <td>트랙터및작업기</td>\n",
       "      <td>플라우</td>\n",
       "      <td>서플라우(트)</td>\n",
       "    </tr>\n",
       "    <tr>\n",
       "      <th>1</th>\n",
       "      <td>서부분소</td>\n",
       "      <td>2018-04-03∼2018-04-03</td>\n",
       "      <td>경상북도 안동시 풍산읍</td>\n",
       "      <td>서비료살포기(트)(PTO방식)</td>\n",
       "      <td>트랙터및작업기</td>\n",
       "      <td>비료살포기</td>\n",
       "      <td>서비료살포기(트)(PTO방식)</td>\n",
       "    </tr>\n",
       "    <tr>\n",
       "      <th>2</th>\n",
       "      <td>북부분소</td>\n",
       "      <td>2018-08-22∼2018-08-26</td>\n",
       "      <td>경상북도 안동시 중구동</td>\n",
       "      <td>북인력파종기</td>\n",
       "      <td>자주형파종기</td>\n",
       "      <td>파종기</td>\n",
       "      <td>북인력파종기</td>\n",
       "    </tr>\n",
       "    <tr>\n",
       "      <th>3</th>\n",
       "      <td>북부분소</td>\n",
       "      <td>2018-03-30∼2018-03-30</td>\n",
       "      <td>경상북도 안동시 녹전면</td>\n",
       "      <td>북심경로타리(트)</td>\n",
       "      <td>트랙터및작업기</td>\n",
       "      <td>심경로타리</td>\n",
       "      <td>북심경로타리(트)</td>\n",
       "    </tr>\n",
       "    <tr>\n",
       "      <th>4</th>\n",
       "      <td>서부분소</td>\n",
       "      <td>2018-01-02∼2018-01-02</td>\n",
       "      <td>경상북도 안동시 풍천면</td>\n",
       "      <td>서콩정선기</td>\n",
       "      <td>탈곡기및정선기</td>\n",
       "      <td>콩정선기</td>\n",
       "      <td>서콩정선기</td>\n",
       "    </tr>\n",
       "    <tr>\n",
       "      <th>...</th>\n",
       "      <td>...</td>\n",
       "      <td>...</td>\n",
       "      <td>...</td>\n",
       "      <td>...</td>\n",
       "      <td>...</td>\n",
       "      <td>...</td>\n",
       "      <td>...</td>\n",
       "    </tr>\n",
       "    <tr>\n",
       "      <th>21342</th>\n",
       "      <td>농업기술센터</td>\n",
       "      <td>2021-01-01∼2021-01-02</td>\n",
       "      <td>경상북도 안동시 임하면</td>\n",
       "      <td>SS기퇴비살포기(자)</td>\n",
       "      <td>기타임대농기계</td>\n",
       "      <td>퇴비살포기</td>\n",
       "      <td>SS기퇴비살포기(자)</td>\n",
       "    </tr>\n",
       "    <tr>\n",
       "      <th>21343</th>\n",
       "      <td>농업기술센터</td>\n",
       "      <td>2020-12-31∼2020-12-31</td>\n",
       "      <td>경상북도 안동시 송하동</td>\n",
       "      <td>콩정선기</td>\n",
       "      <td>탈곡기및정선기</td>\n",
       "      <td>콩정선기</td>\n",
       "      <td>콩정선기</td>\n",
       "    </tr>\n",
       "    <tr>\n",
       "      <th>21344</th>\n",
       "      <td>서부분소</td>\n",
       "      <td>2021-01-01∼2021-01-02</td>\n",
       "      <td>경상북도 안동시 풍천면</td>\n",
       "      <td>서땅속작물수확기(트)</td>\n",
       "      <td>트랙터및작업기</td>\n",
       "      <td>수확기</td>\n",
       "      <td>서땅속작물수확기(트)</td>\n",
       "    </tr>\n",
       "    <tr>\n",
       "      <th>21345</th>\n",
       "      <td>북부분소</td>\n",
       "      <td>2020-12-31∼2020-12-31</td>\n",
       "      <td>경상북도 안동시 도산면</td>\n",
       "      <td>북콩정선기</td>\n",
       "      <td>탈곡기및정선기</td>\n",
       "      <td>콩정선기</td>\n",
       "      <td>북콩정선기</td>\n",
       "    </tr>\n",
       "    <tr>\n",
       "      <th>21346</th>\n",
       "      <td>서부분소</td>\n",
       "      <td>2020-12-31∼2020-12-31</td>\n",
       "      <td>경상북도 안동시 풍산읍</td>\n",
       "      <td>서콩정선기</td>\n",
       "      <td>탈곡기및정선기</td>\n",
       "      <td>콩정선기</td>\n",
       "      <td>서콩정선기</td>\n",
       "    </tr>\n",
       "  </tbody>\n",
       "</table>\n",
       "<p>21347 rows × 7 columns</p>\n",
       "</div>"
      ],
      "text/plain": [
       "        임대사업장                   임대기간            주소            임대농기계2       구분  \\\n",
       "0        서부분소  2018-04-20∼2018-04-21  경상북도 안동시 풍산읍           서플라우(트)  트랙터및작업기   \n",
       "1        서부분소  2018-04-03∼2018-04-03  경상북도 안동시 풍산읍  서비료살포기(트)(PTO방식)  트랙터및작업기   \n",
       "2        북부분소  2018-08-22∼2018-08-26  경상북도 안동시 중구동            북인력파종기   자주형파종기   \n",
       "3        북부분소  2018-03-30∼2018-03-30  경상북도 안동시 녹전면         북심경로타리(트)  트랙터및작업기   \n",
       "4        서부분소  2018-01-02∼2018-01-02  경상북도 안동시 풍천면             서콩정선기  탈곡기및정선기   \n",
       "...       ...                    ...           ...               ...      ...   \n",
       "21342  농업기술센터  2021-01-01∼2021-01-02  경상북도 안동시 임하면       SS기퇴비살포기(자)  기타임대농기계   \n",
       "21343  농업기술센터  2020-12-31∼2020-12-31  경상북도 안동시 송하동              콩정선기  탈곡기및정선기   \n",
       "21344    서부분소  2021-01-01∼2021-01-02  경상북도 안동시 풍천면       서땅속작물수확기(트)  트랙터및작업기   \n",
       "21345    북부분소  2020-12-31∼2020-12-31  경상북도 안동시 도산면             북콩정선기  탈곡기및정선기   \n",
       "21346    서부분소  2020-12-31∼2020-12-31  경상북도 안동시 풍산읍             서콩정선기  탈곡기및정선기   \n",
       "\n",
       "          종류               기종2  \n",
       "0        플라우           서플라우(트)  \n",
       "1      비료살포기  서비료살포기(트)(PTO방식)  \n",
       "2        파종기            북인력파종기  \n",
       "3      심경로타리         북심경로타리(트)  \n",
       "4       콩정선기             서콩정선기  \n",
       "...      ...               ...  \n",
       "21342  퇴비살포기       SS기퇴비살포기(자)  \n",
       "21343   콩정선기              콩정선기  \n",
       "21344    수확기       서땅속작물수확기(트)  \n",
       "21345   콩정선기             북콩정선기  \n",
       "21346   콩정선기             서콩정선기  \n",
       "\n",
       "[21347 rows x 7 columns]"
      ]
     },
     "execution_count": 14,
     "metadata": {},
     "output_type": "execute_result"
    }
   ],
   "source": [
    "leftjoin_df2 = leftjoin_df[['임대사업장','임대기간','주소','임대농기계2','구분','종류','기종2']]\n",
    "leftjoin_df2\n",
    "#임대농기계에는 결측치가 없으나\n",
    "#기종2에는 결측치가 있다."
   ]
  },
  {
   "cell_type": "code",
   "execution_count": 15,
   "id": "d22ba0f5-982c-43a8-9f3e-2c7dd68c9958",
   "metadata": {},
   "outputs": [
    {
     "data": {
      "text/plain": [
       "콩탈곡기(모)          164\n",
       "로터베이터            122\n",
       "관리기              103\n",
       "땅속작물수확기(경)(레)     56\n",
       "SS기(운)            25\n",
       "보통형콤바인            15\n",
       "콩탈곡기(경)            4\n",
       "농용돌파쇄기(트)          4\n",
       "심경로타리(역회전)         4\n",
       "콩수확기               1\n",
       "Name: 임대농기계2, dtype: int64"
      ]
     },
     "execution_count": 15,
     "metadata": {},
     "output_type": "execute_result"
    }
   ],
   "source": [
    "leftjoin_df2[leftjoin_df2['기종2'].isna()]['임대농기계2'].value_counts()\n",
    "#임대내역에는 있지만 현재 보유내역에는 없는 농기계"
   ]
  },
  {
   "cell_type": "code",
   "execution_count": 16,
   "id": "55b4ed94-0f7d-4b69-bf62-2a4d262cf6f1",
   "metadata": {},
   "outputs": [
    {
     "name": "stdout",
     "output_type": "stream",
     "text": [
      "동력탈곡기    797\n",
      "Name: 종류, dtype: int64 \n",
      " 탈곡기및정선기    797\n",
      "Name: 구분, dtype: int64\n"
     ]
    }
   ],
   "source": [
    "print(leftjoin_df2[leftjoin_df2['임대농기계2'].str.contains('콩탈곡기')]['종류'].value_counts(), '\\n' , leftjoin_df2[leftjoin_df2['임대농기계2'].str.contains('콩탈곡기')]['구분'].value_counts())"
   ]
  },
  {
   "cell_type": "code",
   "execution_count": 17,
   "id": "1db66717-6cda-4659-9dfa-b64752f02027",
   "metadata": {},
   "outputs": [],
   "source": [
    "#콩탈곡기(모)와 (경)에 대해서 종류랑 구분만 채우자 : 종류 = 동력탈곡기, 구분 = 탈곡기및 정선기?"
   ]
  },
  {
   "cell_type": "markdown",
   "id": "3bc31daf-a7d3-4efa-a9a0-717e9918ceec",
   "metadata": {},
   "source": [
    "* SS기"
   ]
  },
  {
   "cell_type": "code",
   "execution_count": 18,
   "id": "bb9b229a-a4ca-44f3-957d-0665f57b17a2",
   "metadata": {},
   "outputs": [
    {
     "data": {
      "text/plain": [
       "퇴비살포기       865\n",
       "스피드스프레이어    306\n",
       "농업용동력운반차     10\n",
       "Name: 종류, dtype: int64"
      ]
     },
     "execution_count": 18,
     "metadata": {},
     "output_type": "execute_result"
    }
   ],
   "source": [
    "leftjoin_df2[leftjoin_df2['임대농기계2'].str.contains('SS기')]['종류'].value_counts()"
   ]
  },
  {
   "cell_type": "code",
   "execution_count": 19,
   "id": "e1bb4504-d12d-46f6-8a57-aec8b6c6f45c",
   "metadata": {},
   "outputs": [
    {
     "data": {
      "text/plain": [
       "SS기퇴비살포기(자)     431\n",
       "서SS기퇴비살포기(자)    261\n",
       "북SS기퇴비살포기(자)    173\n",
       "Name: 임대농기계2, dtype: int64"
      ]
     },
     "execution_count": 19,
     "metadata": {},
     "output_type": "execute_result"
    }
   ],
   "source": [
    "leftjoin_df2[(leftjoin_df2['종류'] == '퇴비살포기') & (leftjoin_df2['임대농기계2'].str.contains('SS기'))]['임대농기계2'].value_counts()"
   ]
  },
  {
   "cell_type": "code",
   "execution_count": 20,
   "id": "dbc422a2-dcee-45f4-9b90-47be7870ce69",
   "metadata": {},
   "outputs": [
    {
     "data": {
      "text/plain": [
       "SS기     176\n",
       "북SS기    130\n",
       "Name: 임대농기계2, dtype: int64"
      ]
     },
     "execution_count": 20,
     "metadata": {},
     "output_type": "execute_result"
    }
   ],
   "source": [
    "leftjoin_df2[(leftjoin_df2['종류'] == '스피드스프레이어') & (leftjoin_df2['임대농기계2'].str.contains('SS기'))]['임대농기계2'].value_counts()"
   ]
  },
  {
   "cell_type": "code",
   "execution_count": 21,
   "id": "93a1631d-ee27-4983-9872-0336f967b557",
   "metadata": {},
   "outputs": [
    {
     "data": {
      "text/plain": [
       "SS기운반차(자)    10\n",
       "Name: 임대농기계2, dtype: int64"
      ]
     },
     "execution_count": 21,
     "metadata": {},
     "output_type": "execute_result"
    }
   ],
   "source": [
    "leftjoin_df2[(leftjoin_df2['종류'] == '농업용동력운반차') & (leftjoin_df2['임대농기계2'].str.contains('SS기'))]['임대농기계2'].value_counts()"
   ]
  },
  {
   "cell_type": "markdown",
   "id": "21f97107-4cda-408e-881a-047e246ee4dd",
   "metadata": {},
   "source": [
    "* 로터베이터"
   ]
  },
  {
   "cell_type": "code",
   "execution_count": 22,
   "id": "727eb0cb-b44c-45c5-bc41-86e08db19f12",
   "metadata": {},
   "outputs": [
    {
     "data": {
      "text/plain": [
       "로타베이터(트)     406\n",
       "북로타베이터(트)    389\n",
       "서로타베이터(트)    355\n",
       "로터베이터        122\n",
       "로타베이터(승)      63\n",
       "북로타베이터(승)     26\n",
       "서로타베이터(승)     22\n",
       "Name: 임대농기계2, dtype: int64"
      ]
     },
     "execution_count": 22,
     "metadata": {},
     "output_type": "execute_result"
    }
   ],
   "source": [
    "leftjoin_df2[leftjoin_df2['임대농기계2'].str.contains('베이터')]['임대농기계2'].value_counts()"
   ]
  },
  {
   "cell_type": "code",
   "execution_count": 23,
   "id": "984ef99f-5a9e-49f4-9cd9-1159aee8cfa7",
   "metadata": {},
   "outputs": [
    {
     "data": {
      "text/plain": [
       "로타베이터    1150\n",
       "로타리       111\n",
       "Name: 종류, dtype: int64"
      ]
     },
     "execution_count": 23,
     "metadata": {},
     "output_type": "execute_result"
    }
   ],
   "source": [
    "leftjoin_df2[leftjoin_df2['임대농기계2'].str.contains('베이터')]['종류'].value_counts()"
   ]
  },
  {
   "cell_type": "code",
   "execution_count": 24,
   "id": "32b99942-171d-4e22-9b4f-14e92577ef6c",
   "metadata": {},
   "outputs": [
    {
     "data": {
      "text/plain": [
       "로타베이터(트)     406\n",
       "북로타베이터(트)    389\n",
       "서로타베이터(트)    355\n",
       "Name: 임대농기계2, dtype: int64"
      ]
     },
     "execution_count": 24,
     "metadata": {},
     "output_type": "execute_result"
    }
   ],
   "source": [
    "leftjoin_df2[leftjoin_df2['종류'] == '로타베이터']['임대농기계2'].value_counts()"
   ]
  },
  {
   "cell_type": "code",
   "execution_count": 25,
   "id": "5cbba953-6f7f-4cc6-9fb4-f7d02135ea26",
   "metadata": {},
   "outputs": [
    {
     "data": {
      "text/plain": [
       "로타베이터(승)     63\n",
       "북로타베이터(승)    26\n",
       "서로타베이터(승)    22\n",
       "Name: 임대농기계2, dtype: int64"
      ]
     },
     "execution_count": 25,
     "metadata": {},
     "output_type": "execute_result"
    }
   ],
   "source": [
    "leftjoin_df2[leftjoin_df2['종류'] == '로타리']['임대농기계2'].value_counts()"
   ]
  },
  {
   "cell_type": "markdown",
   "id": "1889cbf7-f5b3-4eee-b8c6-d2ccb3ccf875",
   "metadata": {},
   "source": [
    "* 로터베이터의 임대내역에서 임대기간(월)의 특징\n",
    "* 로타베이터의 임대기간에서 월 특징\n",
    "* 로타리의 임대기간에서 월 특징"
   ]
  },
  {
   "cell_type": "code",
   "execution_count": 26,
   "id": "12495e56-a161-42a0-84d0-7aaa31aa6189",
   "metadata": {},
   "outputs": [
    {
     "data": {
      "text/html": [
       "<div>\n",
       "<style scoped>\n",
       "    .dataframe tbody tr th:only-of-type {\n",
       "        vertical-align: middle;\n",
       "    }\n",
       "\n",
       "    .dataframe tbody tr th {\n",
       "        vertical-align: top;\n",
       "    }\n",
       "\n",
       "    .dataframe thead th {\n",
       "        text-align: right;\n",
       "    }\n",
       "</style>\n",
       "<table border=\"1\" class=\"dataframe\">\n",
       "  <thead>\n",
       "    <tr style=\"text-align: right;\">\n",
       "      <th></th>\n",
       "      <th>임대사업장</th>\n",
       "      <th>임대기간</th>\n",
       "      <th>주소</th>\n",
       "      <th>임대농기계2</th>\n",
       "      <th>구분</th>\n",
       "      <th>종류</th>\n",
       "      <th>기종2</th>\n",
       "    </tr>\n",
       "  </thead>\n",
       "  <tbody>\n",
       "    <tr>\n",
       "      <th>145</th>\n",
       "      <td>농업기술센터</td>\n",
       "      <td>2018-02-21∼2018-02-21</td>\n",
       "      <td>경상북도 안동시 임하면</td>\n",
       "      <td>로터베이터</td>\n",
       "      <td>NaN</td>\n",
       "      <td>NaN</td>\n",
       "      <td>NaN</td>\n",
       "    </tr>\n",
       "    <tr>\n",
       "      <th>332</th>\n",
       "      <td>농업기술센터</td>\n",
       "      <td>2018-03-12∼2018-03-12</td>\n",
       "      <td>경상북도 안동시 평화동</td>\n",
       "      <td>로터베이터</td>\n",
       "      <td>NaN</td>\n",
       "      <td>NaN</td>\n",
       "      <td>NaN</td>\n",
       "    </tr>\n",
       "    <tr>\n",
       "      <th>349</th>\n",
       "      <td>농업기술센터</td>\n",
       "      <td>2018-03-14∼2018-03-14</td>\n",
       "      <td>경상북도 안동시 태화동</td>\n",
       "      <td>로터베이터</td>\n",
       "      <td>NaN</td>\n",
       "      <td>NaN</td>\n",
       "      <td>NaN</td>\n",
       "    </tr>\n",
       "    <tr>\n",
       "      <th>414</th>\n",
       "      <td>농업기술센터</td>\n",
       "      <td>2018-03-17∼2018-03-17</td>\n",
       "      <td>경상북도 안동시 평화동</td>\n",
       "      <td>로터베이터</td>\n",
       "      <td>NaN</td>\n",
       "      <td>NaN</td>\n",
       "      <td>NaN</td>\n",
       "    </tr>\n",
       "    <tr>\n",
       "      <th>498</th>\n",
       "      <td>농업기술센터</td>\n",
       "      <td>2018-03-23∼2018-03-23</td>\n",
       "      <td>경상북도 안동시 임동면</td>\n",
       "      <td>로터베이터</td>\n",
       "      <td>NaN</td>\n",
       "      <td>NaN</td>\n",
       "      <td>NaN</td>\n",
       "    </tr>\n",
       "    <tr>\n",
       "      <th>...</th>\n",
       "      <td>...</td>\n",
       "      <td>...</td>\n",
       "      <td>...</td>\n",
       "      <td>...</td>\n",
       "      <td>...</td>\n",
       "      <td>...</td>\n",
       "      <td>...</td>\n",
       "    </tr>\n",
       "    <tr>\n",
       "      <th>11119</th>\n",
       "      <td>농업기술센터</td>\n",
       "      <td>2019-10-18∼2019-10-18</td>\n",
       "      <td>경상북도 안동시 임동면</td>\n",
       "      <td>로터베이터</td>\n",
       "      <td>NaN</td>\n",
       "      <td>NaN</td>\n",
       "      <td>NaN</td>\n",
       "    </tr>\n",
       "    <tr>\n",
       "      <th>11536</th>\n",
       "      <td>농업기술센터</td>\n",
       "      <td>2019-11-08∼2019-11-08</td>\n",
       "      <td>경상북도 안동시 용상동</td>\n",
       "      <td>로터베이터</td>\n",
       "      <td>NaN</td>\n",
       "      <td>NaN</td>\n",
       "      <td>NaN</td>\n",
       "    </tr>\n",
       "    <tr>\n",
       "      <th>11601</th>\n",
       "      <td>농업기술센터</td>\n",
       "      <td>2019-11-12∼2019-11-12</td>\n",
       "      <td>경상북도 안동시 임동면</td>\n",
       "      <td>로터베이터</td>\n",
       "      <td>NaN</td>\n",
       "      <td>NaN</td>\n",
       "      <td>NaN</td>\n",
       "    </tr>\n",
       "    <tr>\n",
       "      <th>11766</th>\n",
       "      <td>농업기술센터</td>\n",
       "      <td>2019-11-16∼2019-11-16</td>\n",
       "      <td>경상북도 안동시 남선면</td>\n",
       "      <td>로터베이터</td>\n",
       "      <td>NaN</td>\n",
       "      <td>NaN</td>\n",
       "      <td>NaN</td>\n",
       "    </tr>\n",
       "    <tr>\n",
       "      <th>17956</th>\n",
       "      <td>농업기술센터</td>\n",
       "      <td>2020-07-08∼2020-07-08</td>\n",
       "      <td>경상북도 안동시 일직면</td>\n",
       "      <td>로터베이터</td>\n",
       "      <td>NaN</td>\n",
       "      <td>NaN</td>\n",
       "      <td>NaN</td>\n",
       "    </tr>\n",
       "  </tbody>\n",
       "</table>\n",
       "<p>122 rows × 7 columns</p>\n",
       "</div>"
      ],
      "text/plain": [
       "        임대사업장                   임대기간            주소 임대농기계2   구분   종류  기종2\n",
       "145    농업기술센터  2018-02-21∼2018-02-21  경상북도 안동시 임하면  로터베이터  NaN  NaN  NaN\n",
       "332    농업기술센터  2018-03-12∼2018-03-12  경상북도 안동시 평화동  로터베이터  NaN  NaN  NaN\n",
       "349    농업기술센터  2018-03-14∼2018-03-14  경상북도 안동시 태화동  로터베이터  NaN  NaN  NaN\n",
       "414    농업기술센터  2018-03-17∼2018-03-17  경상북도 안동시 평화동  로터베이터  NaN  NaN  NaN\n",
       "498    농업기술센터  2018-03-23∼2018-03-23  경상북도 안동시 임동면  로터베이터  NaN  NaN  NaN\n",
       "...       ...                    ...           ...    ...  ...  ...  ...\n",
       "11119  농업기술센터  2019-10-18∼2019-10-18  경상북도 안동시 임동면  로터베이터  NaN  NaN  NaN\n",
       "11536  농업기술센터  2019-11-08∼2019-11-08  경상북도 안동시 용상동  로터베이터  NaN  NaN  NaN\n",
       "11601  농업기술센터  2019-11-12∼2019-11-12  경상북도 안동시 임동면  로터베이터  NaN  NaN  NaN\n",
       "11766  농업기술센터  2019-11-16∼2019-11-16  경상북도 안동시 남선면  로터베이터  NaN  NaN  NaN\n",
       "17956  농업기술센터  2020-07-08∼2020-07-08  경상북도 안동시 일직면  로터베이터  NaN  NaN  NaN\n",
       "\n",
       "[122 rows x 7 columns]"
      ]
     },
     "execution_count": 26,
     "metadata": {},
     "output_type": "execute_result"
    }
   ],
   "source": [
    "leftjoin_df2[leftjoin_df2['임대농기계2'] == '로터베이터'] #빌린 내역엔 있는데 보유 내역에 없어서 분류할 수 없는 상태"
   ]
  },
  {
   "cell_type": "code",
   "execution_count": 27,
   "id": "0334f92d-b20c-4127-b423-994f99c0d538",
   "metadata": {},
   "outputs": [
    {
     "data": {
      "text/html": [
       "<div>\n",
       "<style scoped>\n",
       "    .dataframe tbody tr th:only-of-type {\n",
       "        vertical-align: middle;\n",
       "    }\n",
       "\n",
       "    .dataframe tbody tr th {\n",
       "        vertical-align: top;\n",
       "    }\n",
       "\n",
       "    .dataframe thead th {\n",
       "        text-align: right;\n",
       "    }\n",
       "</style>\n",
       "<table border=\"1\" class=\"dataframe\">\n",
       "  <thead>\n",
       "    <tr style=\"text-align: right;\">\n",
       "      <th></th>\n",
       "      <th>임대사업장</th>\n",
       "      <th>임대기간</th>\n",
       "      <th>주소</th>\n",
       "      <th>임대농기계2</th>\n",
       "      <th>구분</th>\n",
       "      <th>종류</th>\n",
       "      <th>기종2</th>\n",
       "    </tr>\n",
       "  </thead>\n",
       "  <tbody>\n",
       "    <tr>\n",
       "      <th>178</th>\n",
       "      <td>서부분소</td>\n",
       "      <td>2018-02-24∼2018-02-24</td>\n",
       "      <td>경상북도 안동시 풍산읍</td>\n",
       "      <td>서로타베이터(트)</td>\n",
       "      <td>트랙터및작업기</td>\n",
       "      <td>로타베이터</td>\n",
       "      <td>서로타베이터(트)</td>\n",
       "    </tr>\n",
       "    <tr>\n",
       "      <th>202</th>\n",
       "      <td>서부분소</td>\n",
       "      <td>2018-02-27∼2018-02-27</td>\n",
       "      <td>경상북도 안동시 풍산읍</td>\n",
       "      <td>서로타베이터(트)</td>\n",
       "      <td>트랙터및작업기</td>\n",
       "      <td>로타베이터</td>\n",
       "      <td>서로타베이터(트)</td>\n",
       "    </tr>\n",
       "    <tr>\n",
       "      <th>219</th>\n",
       "      <td>서부분소</td>\n",
       "      <td>2018-02-28∼2018-02-28</td>\n",
       "      <td>경상북도 안동시 풍산읍</td>\n",
       "      <td>서로타베이터(트)</td>\n",
       "      <td>트랙터및작업기</td>\n",
       "      <td>로타베이터</td>\n",
       "      <td>서로타베이터(트)</td>\n",
       "    </tr>\n",
       "    <tr>\n",
       "      <th>246</th>\n",
       "      <td>농업기술센터</td>\n",
       "      <td>2018-03-03∼2018-03-03</td>\n",
       "      <td>경상북도 안동시 임하면</td>\n",
       "      <td>로타베이터(트)</td>\n",
       "      <td>트랙터및작업기</td>\n",
       "      <td>로타베이터</td>\n",
       "      <td>로타베이터(트)</td>\n",
       "    </tr>\n",
       "    <tr>\n",
       "      <th>266</th>\n",
       "      <td>북부분소</td>\n",
       "      <td>2018-03-06∼2018-03-06</td>\n",
       "      <td>경상북도 안동시 녹전면</td>\n",
       "      <td>로타베이터(트)</td>\n",
       "      <td>트랙터및작업기</td>\n",
       "      <td>로타베이터</td>\n",
       "      <td>로타베이터(트)</td>\n",
       "    </tr>\n",
       "    <tr>\n",
       "      <th>...</th>\n",
       "      <td>...</td>\n",
       "      <td>...</td>\n",
       "      <td>...</td>\n",
       "      <td>...</td>\n",
       "      <td>...</td>\n",
       "      <td>...</td>\n",
       "      <td>...</td>\n",
       "    </tr>\n",
       "    <tr>\n",
       "      <th>21148</th>\n",
       "      <td>서부분소</td>\n",
       "      <td>2020-12-12∼2020-12-12</td>\n",
       "      <td>경상북도 안동시 옥동</td>\n",
       "      <td>서로타베이터(트)</td>\n",
       "      <td>트랙터및작업기</td>\n",
       "      <td>로타베이터</td>\n",
       "      <td>서로타베이터(트)</td>\n",
       "    </tr>\n",
       "    <tr>\n",
       "      <th>21151</th>\n",
       "      <td>농업기술센터</td>\n",
       "      <td>2020-12-12∼2020-12-13</td>\n",
       "      <td>경상북도 안동시 길안면</td>\n",
       "      <td>로타베이터(트)</td>\n",
       "      <td>트랙터및작업기</td>\n",
       "      <td>로타베이터</td>\n",
       "      <td>로타베이터(트)</td>\n",
       "    </tr>\n",
       "    <tr>\n",
       "      <th>21299</th>\n",
       "      <td>북부분소</td>\n",
       "      <td>2020-12-29∼2020-12-29</td>\n",
       "      <td>경상북도 안동시 녹전면</td>\n",
       "      <td>북로타베이터(트)</td>\n",
       "      <td>트랙터및작업기</td>\n",
       "      <td>로타베이터</td>\n",
       "      <td>북로타베이터(트)</td>\n",
       "    </tr>\n",
       "    <tr>\n",
       "      <th>21319</th>\n",
       "      <td>북부분소</td>\n",
       "      <td>2020-12-29∼2020-12-29</td>\n",
       "      <td>경상북도 안동시 예안면</td>\n",
       "      <td>북로타베이터(트)</td>\n",
       "      <td>트랙터및작업기</td>\n",
       "      <td>로타베이터</td>\n",
       "      <td>북로타베이터(트)</td>\n",
       "    </tr>\n",
       "    <tr>\n",
       "      <th>21329</th>\n",
       "      <td>서부분소</td>\n",
       "      <td>2020-12-30∼2020-12-30</td>\n",
       "      <td>경상북도 안동시 풍산읍</td>\n",
       "      <td>서로타베이터(트)</td>\n",
       "      <td>트랙터및작업기</td>\n",
       "      <td>로타베이터</td>\n",
       "      <td>서로타베이터(트)</td>\n",
       "    </tr>\n",
       "  </tbody>\n",
       "</table>\n",
       "<p>1261 rows × 7 columns</p>\n",
       "</div>"
      ],
      "text/plain": [
       "        임대사업장                   임대기간            주소     임대농기계2       구분     종류  \\\n",
       "178      서부분소  2018-02-24∼2018-02-24  경상북도 안동시 풍산읍  서로타베이터(트)  트랙터및작업기  로타베이터   \n",
       "202      서부분소  2018-02-27∼2018-02-27  경상북도 안동시 풍산읍  서로타베이터(트)  트랙터및작업기  로타베이터   \n",
       "219      서부분소  2018-02-28∼2018-02-28  경상북도 안동시 풍산읍  서로타베이터(트)  트랙터및작업기  로타베이터   \n",
       "246    농업기술센터  2018-03-03∼2018-03-03  경상북도 안동시 임하면   로타베이터(트)  트랙터및작업기  로타베이터   \n",
       "266      북부분소  2018-03-06∼2018-03-06  경상북도 안동시 녹전면   로타베이터(트)  트랙터및작업기  로타베이터   \n",
       "...       ...                    ...           ...        ...      ...    ...   \n",
       "21148    서부분소  2020-12-12∼2020-12-12   경상북도 안동시 옥동  서로타베이터(트)  트랙터및작업기  로타베이터   \n",
       "21151  농업기술센터  2020-12-12∼2020-12-13  경상북도 안동시 길안면   로타베이터(트)  트랙터및작업기  로타베이터   \n",
       "21299    북부분소  2020-12-29∼2020-12-29  경상북도 안동시 녹전면  북로타베이터(트)  트랙터및작업기  로타베이터   \n",
       "21319    북부분소  2020-12-29∼2020-12-29  경상북도 안동시 예안면  북로타베이터(트)  트랙터및작업기  로타베이터   \n",
       "21329    서부분소  2020-12-30∼2020-12-30  경상북도 안동시 풍산읍  서로타베이터(트)  트랙터및작업기  로타베이터   \n",
       "\n",
       "             기종2  \n",
       "178    서로타베이터(트)  \n",
       "202    서로타베이터(트)  \n",
       "219    서로타베이터(트)  \n",
       "246     로타베이터(트)  \n",
       "266     로타베이터(트)  \n",
       "...          ...  \n",
       "21148  서로타베이터(트)  \n",
       "21151   로타베이터(트)  \n",
       "21299  북로타베이터(트)  \n",
       "21319  북로타베이터(트)  \n",
       "21329  서로타베이터(트)  \n",
       "\n",
       "[1261 rows x 7 columns]"
      ]
     },
     "execution_count": 27,
     "metadata": {},
     "output_type": "execute_result"
    }
   ],
   "source": [
    "leftjoin_df2[leftjoin_df2['임대농기계2'].str.contains('로타베이터')]"
   ]
  },
  {
   "cell_type": "markdown",
   "id": "e97fe614-9b51-4ca8-a30d-0c60488dede8",
   "metadata": {},
   "source": [
    "# 결측치의 value_counts()"
   ]
  },
  {
   "cell_type": "code",
   "execution_count": 28,
   "id": "d1cc6f4f-ea98-44ae-8832-9c3b9c7265fd",
   "metadata": {},
   "outputs": [
    {
     "data": {
      "text/plain": [
       "서일륜관리기(관)      312\n",
       "일륜관리기          299\n",
       "서관리기(관)        252\n",
       "북일륜관리기(관)      231\n",
       "북관리기(관)        197\n",
       "관리기(비닐피복전용)    159\n",
       "서승용관리기(승)      130\n",
       "관리기(두둑성형전용)    123\n",
       "관리기            103\n",
       "승용관리기(승)        86\n",
       "북승용관리기(승)       77\n",
       "관리기(동시피복전용)     55\n",
       "관리기(로터리전용)      43\n",
       "서관리기            34\n",
       "북관리기            25\n",
       "Name: 임대농기계2, dtype: int64"
      ]
     },
     "execution_count": 28,
     "metadata": {},
     "output_type": "execute_result"
    }
   ],
   "source": [
    "leftjoin_df2[leftjoin_df2['임대농기계2'].str.contains('관리기')]['임대농기계2'].value_counts()"
   ]
  },
  {
   "cell_type": "code",
   "execution_count": 29,
   "id": "fd3b135e-398b-4259-b93b-623025b504da",
   "metadata": {},
   "outputs": [
    {
     "data": {
      "text/plain": [
       "잔가지파쇄기(자)         413\n",
       "북잔가지파쇄기(자)        296\n",
       "잔가지파쇄기            243\n",
       "서잔가지파쇄기(자)        162\n",
       "잔가지파쇄기(트랙터부착식)     27\n",
       "서잔가지파쇄기(트)         24\n",
       "북잔가지파쇄기(트)         19\n",
       "딸기배지파쇄기             6\n",
       "농용돌파쇄기(트)           4\n",
       "Name: 임대농기계2, dtype: int64"
      ]
     },
     "execution_count": 29,
     "metadata": {},
     "output_type": "execute_result"
    }
   ],
   "source": [
    "leftjoin_df2[leftjoin_df2['임대농기계2'].str.contains('파쇄기')]['임대농기계2'].value_counts()"
   ]
  },
  {
   "cell_type": "code",
   "execution_count": 30,
   "id": "97009555-c857-4acb-98d0-e39be85dfed1",
   "metadata": {},
   "outputs": [
    {
     "data": {
      "text/plain": [
       "동력파쇄기     1120\n",
       "잔가지파쇄기      70\n",
       "Name: 종류, dtype: int64"
      ]
     },
     "execution_count": 30,
     "metadata": {},
     "output_type": "execute_result"
    }
   ],
   "source": [
    "leftjoin_df2[leftjoin_df2['임대농기계2'].str.contains('파쇄기')]['종류'].value_counts()"
   ]
  },
  {
   "cell_type": "code",
   "execution_count": 31,
   "id": "3e15ab39-7079-48a0-8ecc-4dcc0b2b6794",
   "metadata": {},
   "outputs": [
    {
     "data": {
      "text/plain": [
       "북땅속작물수확기(경)       224\n",
       "땅속작물수확기(경)        217\n",
       "서땅속작물수확기(경)       200\n",
       "서땅속작물수확기(트)       110\n",
       "북땅속작물수확기(트)        80\n",
       "땅속작물수확기(트)         64\n",
       "땅속작물수확기(경)(레)      56\n",
       "북땅속작물수확기(트)(레)     53\n",
       "땅속작물수확기(트)(레)      38\n",
       "땅속작물수확기(트)(레일)     36\n",
       "서땅속작물수확기(트)(레)     31\n",
       "Name: 임대농기계2, dtype: int64"
      ]
     },
     "execution_count": 31,
     "metadata": {},
     "output_type": "execute_result"
    }
   ],
   "source": [
    "leftjoin_df2[leftjoin_df2['임대농기계2'].str.contains('땅속작물수확기')]['임대농기계2'].value_counts()"
   ]
  },
  {
   "cell_type": "code",
   "execution_count": 32,
   "id": "02adbd39-9a42-4904-b1cb-f8d34c36dccb",
   "metadata": {},
   "outputs": [
    {
     "data": {
      "text/plain": [
       "수확기    1053\n",
       "Name: 종류, dtype: int64"
      ]
     },
     "execution_count": 32,
     "metadata": {},
     "output_type": "execute_result"
    }
   ],
   "source": [
    "leftjoin_df2[leftjoin_df2['임대농기계2'].str.contains('땅속작물수확기')]['종류'].value_counts()\n",
    "#결측치가 아닌 땅속작물수확기에 대해서 종류가 모두 수확기라 결측치들도 모두 수확기로 분류"
   ]
  },
  {
   "cell_type": "code",
   "execution_count": 33,
   "id": "3242db41-a4a1-4a98-ad76-a0de73feb613",
   "metadata": {},
   "outputs": [
    {
     "data": {
      "text/html": [
       "<div>\n",
       "<style scoped>\n",
       "    .dataframe tbody tr th:only-of-type {\n",
       "        vertical-align: middle;\n",
       "    }\n",
       "\n",
       "    .dataframe tbody tr th {\n",
       "        vertical-align: top;\n",
       "    }\n",
       "\n",
       "    .dataframe thead th {\n",
       "        text-align: right;\n",
       "    }\n",
       "</style>\n",
       "<table border=\"1\" class=\"dataframe\">\n",
       "  <thead>\n",
       "    <tr style=\"text-align: right;\">\n",
       "      <th></th>\n",
       "      <th>임대사업장</th>\n",
       "      <th>임대기간</th>\n",
       "      <th>주소</th>\n",
       "      <th>임대농기계2</th>\n",
       "      <th>구분</th>\n",
       "      <th>종류</th>\n",
       "      <th>기종2</th>\n",
       "    </tr>\n",
       "  </thead>\n",
       "  <tbody>\n",
       "    <tr>\n",
       "      <th>477</th>\n",
       "      <td>농업기술센터</td>\n",
       "      <td>2018-03-22∼2018-03-22</td>\n",
       "      <td>경상북도 안동시 서후면</td>\n",
       "      <td>농용돌파쇄기(트)</td>\n",
       "      <td>NaN</td>\n",
       "      <td>NaN</td>\n",
       "      <td>NaN</td>\n",
       "    </tr>\n",
       "    <tr>\n",
       "      <th>2468</th>\n",
       "      <td>농업기술센터</td>\n",
       "      <td>2018-06-08∼2018-06-08</td>\n",
       "      <td>경상북도 안동시 길안면</td>\n",
       "      <td>농용돌파쇄기(트)</td>\n",
       "      <td>NaN</td>\n",
       "      <td>NaN</td>\n",
       "      <td>NaN</td>\n",
       "    </tr>\n",
       "    <tr>\n",
       "      <th>2561</th>\n",
       "      <td>농업기술센터</td>\n",
       "      <td>2018-06-09∼2018-06-09</td>\n",
       "      <td>경상북도 안동시 길안면</td>\n",
       "      <td>농용돌파쇄기(트)</td>\n",
       "      <td>NaN</td>\n",
       "      <td>NaN</td>\n",
       "      <td>NaN</td>\n",
       "    </tr>\n",
       "    <tr>\n",
       "      <th>8218</th>\n",
       "      <td>농업기술센터</td>\n",
       "      <td>2019-05-10∼2019-05-10</td>\n",
       "      <td>경상북도 안동시 풍산읍</td>\n",
       "      <td>농용돌파쇄기(트)</td>\n",
       "      <td>NaN</td>\n",
       "      <td>NaN</td>\n",
       "      <td>NaN</td>\n",
       "    </tr>\n",
       "  </tbody>\n",
       "</table>\n",
       "</div>"
      ],
      "text/plain": [
       "       임대사업장                   임대기간            주소     임대농기계2   구분   종류  기종2\n",
       "477   농업기술센터  2018-03-22∼2018-03-22  경상북도 안동시 서후면  농용돌파쇄기(트)  NaN  NaN  NaN\n",
       "2468  농업기술센터  2018-06-08∼2018-06-08  경상북도 안동시 길안면  농용돌파쇄기(트)  NaN  NaN  NaN\n",
       "2561  농업기술센터  2018-06-09∼2018-06-09  경상북도 안동시 길안면  농용돌파쇄기(트)  NaN  NaN  NaN\n",
       "8218  농업기술센터  2019-05-10∼2019-05-10  경상북도 안동시 풍산읍  농용돌파쇄기(트)  NaN  NaN  NaN"
      ]
     },
     "execution_count": 33,
     "metadata": {},
     "output_type": "execute_result"
    }
   ],
   "source": [
    "#leftjoin_df2[leftjoin_df2['임대농기계2'].str.contains('보통형콤바인')]['임대농기계2'].value_counts()\n",
    "leftjoin_df2[leftjoin_df2['임대농기계2'].str.contains('농용돌파쇄기')]"
   ]
  },
  {
   "cell_type": "code",
   "execution_count": 34,
   "id": "8a528662-9c1f-4935-b505-6a62b278a801",
   "metadata": {},
   "outputs": [
    {
     "data": {
      "text/plain": [
       "서심경로타리(트)     159\n",
       "북심경로타리(트)      62\n",
       "심경로타리(트)       61\n",
       "심경로타리(역회전)      4\n",
       "Name: 임대농기계2, dtype: int64"
      ]
     },
     "execution_count": 34,
     "metadata": {},
     "output_type": "execute_result"
    }
   ],
   "source": [
    "leftjoin_df2[leftjoin_df2['임대농기계2'].str.contains('심경로타리')]['임대농기계2'].value_counts()"
   ]
  },
  {
   "cell_type": "code",
   "execution_count": 35,
   "id": "2cf51903-50cf-4a18-ae53-b30686b0d397",
   "metadata": {},
   "outputs": [
    {
     "data": {
      "text/plain": [
       "심경로타리    282\n",
       "Name: 종류, dtype: int64"
      ]
     },
     "execution_count": 35,
     "metadata": {},
     "output_type": "execute_result"
    }
   ],
   "source": [
    "leftjoin_df2[leftjoin_df2['임대농기계2'].str.contains('심경로타리')]['종류'].value_counts()"
   ]
  },
  {
   "cell_type": "code",
   "execution_count": 55,
   "id": "a3674106-7e36-4b2d-a50b-4d14abccc1d4",
   "metadata": {},
   "outputs": [
    {
     "data": {
      "text/plain": [
       "트랙터및작업기    282\n",
       "Name: 구분, dtype: int64"
      ]
     },
     "execution_count": 55,
     "metadata": {},
     "output_type": "execute_result"
    }
   ],
   "source": [
    "leftjoin_df2[leftjoin_df2['임대농기계2'].str.contains('심경로타리')]['구분'].value_counts()"
   ]
  },
  {
   "cell_type": "code",
   "execution_count": 36,
   "id": "dfc6e51d-8129-4d68-96d2-7d494421fbe3",
   "metadata": {},
   "outputs": [
    {
     "data": {
      "text/plain": [
       "콩수확기(콩예취기)        137\n",
       "서콩수확기(자)(콩예취기)     53\n",
       "북콩수확기(자)(콩예취기)     41\n",
       "북콩수확기(콩예취기)        38\n",
       "콩수확기(자)(콩예취기)      34\n",
       "서콩수확기(콩예취기)        31\n",
       "콩수확기                1\n",
       "Name: 임대농기계2, dtype: int64"
      ]
     },
     "execution_count": 36,
     "metadata": {},
     "output_type": "execute_result"
    }
   ],
   "source": [
    "leftjoin_df2[leftjoin_df2['임대농기계2'].str.contains('콩수확기')]['임대농기계2'].value_counts()"
   ]
  },
  {
   "cell_type": "code",
   "execution_count": 37,
   "id": "fc6f7326-7645-4039-b880-4c1c4e287bbc",
   "metadata": {},
   "outputs": [
    {
     "data": {
      "text/plain": [
       "북(모)땅콩박피기    93\n",
       "(모)땅콩박피기     55\n",
       "서(모)땅콩박피기    34\n",
       "Name: 임대농기계2, dtype: int64"
      ]
     },
     "execution_count": 37,
     "metadata": {},
     "output_type": "execute_result"
    }
   ],
   "source": [
    "leftjoin_df2[leftjoin_df2['임대농기계2'].str.contains('땅콩박피기')]['임대농기계2'].value_counts()"
   ]
  },
  {
   "cell_type": "markdown",
   "id": "9716dd38-a81f-48ac-ada7-ee100cf5b006",
   "metadata": {},
   "source": [
    "## 결측치 채우기"
   ]
  },
  {
   "cell_type": "code",
   "execution_count": 38,
   "id": "cef9528f-376c-42cb-a073-84c45b3f0662",
   "metadata": {},
   "outputs": [
    {
     "data": {
      "text/html": [
       "<div>\n",
       "<style scoped>\n",
       "    .dataframe tbody tr th:only-of-type {\n",
       "        vertical-align: middle;\n",
       "    }\n",
       "\n",
       "    .dataframe tbody tr th {\n",
       "        vertical-align: top;\n",
       "    }\n",
       "\n",
       "    .dataframe thead th {\n",
       "        text-align: right;\n",
       "    }\n",
       "</style>\n",
       "<table border=\"1\" class=\"dataframe\">\n",
       "  <thead>\n",
       "    <tr style=\"text-align: right;\">\n",
       "      <th></th>\n",
       "      <th>임대사업장</th>\n",
       "      <th>임대기간</th>\n",
       "      <th>주소</th>\n",
       "      <th>임대농기계2</th>\n",
       "      <th>구분</th>\n",
       "      <th>종류</th>\n",
       "      <th>기종2</th>\n",
       "    </tr>\n",
       "  </thead>\n",
       "  <tbody>\n",
       "    <tr>\n",
       "      <th>39</th>\n",
       "      <td>농업기술센터</td>\n",
       "      <td>2018-01-16∼2018-01-16</td>\n",
       "      <td>경상북도 안동시 와룡면</td>\n",
       "      <td>관리기(비닐피복전용)</td>\n",
       "      <td>관리기및작업기</td>\n",
       "      <td>보행관리기</td>\n",
       "      <td>관리기(비닐피복전용)</td>\n",
       "    </tr>\n",
       "    <tr>\n",
       "      <th>86</th>\n",
       "      <td>서부분소</td>\n",
       "      <td>2018-02-06∼2018-02-06</td>\n",
       "      <td>경상북도 안동시 풍산읍</td>\n",
       "      <td>서관리기(관)</td>\n",
       "      <td>관리기및작업기</td>\n",
       "      <td>보행관리기</td>\n",
       "      <td>서관리기(관)</td>\n",
       "    </tr>\n",
       "    <tr>\n",
       "      <th>104</th>\n",
       "      <td>서부분소</td>\n",
       "      <td>2018-02-09∼2018-02-09</td>\n",
       "      <td>경상북도 안동시 태화동</td>\n",
       "      <td>서관리기(관)</td>\n",
       "      <td>관리기및작업기</td>\n",
       "      <td>보행관리기</td>\n",
       "      <td>서관리기(관)</td>\n",
       "    </tr>\n",
       "    <tr>\n",
       "      <th>186</th>\n",
       "      <td>농업기술센터</td>\n",
       "      <td>2018-02-24∼2018-02-24</td>\n",
       "      <td>경상북도 안동시 임하면</td>\n",
       "      <td>관리기</td>\n",
       "      <td>NaN</td>\n",
       "      <td>NaN</td>\n",
       "      <td>NaN</td>\n",
       "    </tr>\n",
       "    <tr>\n",
       "      <th>208</th>\n",
       "      <td>북부분소</td>\n",
       "      <td>2018-02-27∼2018-02-28</td>\n",
       "      <td>경상북도 안동시 서후면</td>\n",
       "      <td>북일륜관리기(관)</td>\n",
       "      <td>관리기및작업기</td>\n",
       "      <td>보행관리기</td>\n",
       "      <td>북일륜관리기(관)</td>\n",
       "    </tr>\n",
       "    <tr>\n",
       "      <th>...</th>\n",
       "      <td>...</td>\n",
       "      <td>...</td>\n",
       "      <td>...</td>\n",
       "      <td>...</td>\n",
       "      <td>...</td>\n",
       "      <td>...</td>\n",
       "      <td>...</td>\n",
       "    </tr>\n",
       "    <tr>\n",
       "      <th>21071</th>\n",
       "      <td>서부분소</td>\n",
       "      <td>2020-12-10∼2020-12-10</td>\n",
       "      <td>경상북도 안동시 풍천면</td>\n",
       "      <td>서관리기</td>\n",
       "      <td>관리기및작업기</td>\n",
       "      <td>보행관리기</td>\n",
       "      <td>서관리기</td>\n",
       "    </tr>\n",
       "    <tr>\n",
       "      <th>21101</th>\n",
       "      <td>북부분소</td>\n",
       "      <td>2020-12-11∼2020-12-11</td>\n",
       "      <td>경상북도 안동시 용상동</td>\n",
       "      <td>북관리기</td>\n",
       "      <td>관리기및작업기</td>\n",
       "      <td>보행관리기</td>\n",
       "      <td>북관리기</td>\n",
       "    </tr>\n",
       "    <tr>\n",
       "      <th>21286</th>\n",
       "      <td>서부분소</td>\n",
       "      <td>2020-12-24∼2020-12-24</td>\n",
       "      <td>경상북도 안동시 도산면</td>\n",
       "      <td>서관리기</td>\n",
       "      <td>관리기및작업기</td>\n",
       "      <td>보행관리기</td>\n",
       "      <td>서관리기</td>\n",
       "    </tr>\n",
       "    <tr>\n",
       "      <th>21338</th>\n",
       "      <td>농업기술센터</td>\n",
       "      <td>2020-12-31∼2020-12-31</td>\n",
       "      <td>경상북도 안동시 임하면</td>\n",
       "      <td>관리기(로터리전용)</td>\n",
       "      <td>관리기및작업기</td>\n",
       "      <td>보행관리기</td>\n",
       "      <td>관리기(로터리전용)</td>\n",
       "    </tr>\n",
       "    <tr>\n",
       "      <th>21339</th>\n",
       "      <td>농업기술센터</td>\n",
       "      <td>2020-12-31∼2020-12-31</td>\n",
       "      <td>경상북도 안동시 임하면</td>\n",
       "      <td>관리기(동시피복전용)</td>\n",
       "      <td>관리기및작업기</td>\n",
       "      <td>보행관리기</td>\n",
       "      <td>관리기(동시피복전용)</td>\n",
       "    </tr>\n",
       "  </tbody>\n",
       "</table>\n",
       "<p>2126 rows × 7 columns</p>\n",
       "</div>"
      ],
      "text/plain": [
       "        임대사업장                   임대기간            주소       임대농기계2       구분  \\\n",
       "39     농업기술센터  2018-01-16∼2018-01-16  경상북도 안동시 와룡면  관리기(비닐피복전용)  관리기및작업기   \n",
       "86       서부분소  2018-02-06∼2018-02-06  경상북도 안동시 풍산읍      서관리기(관)  관리기및작업기   \n",
       "104      서부분소  2018-02-09∼2018-02-09  경상북도 안동시 태화동      서관리기(관)  관리기및작업기   \n",
       "186    농업기술센터  2018-02-24∼2018-02-24  경상북도 안동시 임하면          관리기      NaN   \n",
       "208      북부분소  2018-02-27∼2018-02-28  경상북도 안동시 서후면    북일륜관리기(관)  관리기및작업기   \n",
       "...       ...                    ...           ...          ...      ...   \n",
       "21071    서부분소  2020-12-10∼2020-12-10  경상북도 안동시 풍천면         서관리기  관리기및작업기   \n",
       "21101    북부분소  2020-12-11∼2020-12-11  경상북도 안동시 용상동         북관리기  관리기및작업기   \n",
       "21286    서부분소  2020-12-24∼2020-12-24  경상북도 안동시 도산면         서관리기  관리기및작업기   \n",
       "21338  농업기술센터  2020-12-31∼2020-12-31  경상북도 안동시 임하면   관리기(로터리전용)  관리기및작업기   \n",
       "21339  농업기술센터  2020-12-31∼2020-12-31  경상북도 안동시 임하면  관리기(동시피복전용)  관리기및작업기   \n",
       "\n",
       "          종류          기종2  \n",
       "39     보행관리기  관리기(비닐피복전용)  \n",
       "86     보행관리기      서관리기(관)  \n",
       "104    보행관리기      서관리기(관)  \n",
       "186      NaN          NaN  \n",
       "208    보행관리기    북일륜관리기(관)  \n",
       "...      ...          ...  \n",
       "21071  보행관리기         서관리기  \n",
       "21101  보행관리기         북관리기  \n",
       "21286  보행관리기         서관리기  \n",
       "21338  보행관리기   관리기(로터리전용)  \n",
       "21339  보행관리기  관리기(동시피복전용)  \n",
       "\n",
       "[2126 rows x 7 columns]"
      ]
     },
     "execution_count": 38,
     "metadata": {},
     "output_type": "execute_result"
    }
   ],
   "source": [
    "leftjoin_df2[leftjoin_df2['임대농기계2'].str.contains('관리기')]"
   ]
  },
  {
   "cell_type": "code",
   "execution_count": 39,
   "id": "a1328e15-51ed-4992-bf20-c05bd2830a22",
   "metadata": {},
   "outputs": [
    {
     "data": {
      "text/html": [
       "<div>\n",
       "<style scoped>\n",
       "    .dataframe tbody tr th:only-of-type {\n",
       "        vertical-align: middle;\n",
       "    }\n",
       "\n",
       "    .dataframe tbody tr th {\n",
       "        vertical-align: top;\n",
       "    }\n",
       "\n",
       "    .dataframe thead th {\n",
       "        text-align: right;\n",
       "    }\n",
       "</style>\n",
       "<table border=\"1\" class=\"dataframe\">\n",
       "  <thead>\n",
       "    <tr style=\"text-align: right;\">\n",
       "      <th></th>\n",
       "      <th>임대사업장</th>\n",
       "      <th>임대기간</th>\n",
       "      <th>주소</th>\n",
       "      <th>임대농기계2</th>\n",
       "      <th>구분</th>\n",
       "      <th>종류</th>\n",
       "      <th>기종2</th>\n",
       "    </tr>\n",
       "  </thead>\n",
       "  <tbody>\n",
       "    <tr>\n",
       "      <th>0</th>\n",
       "      <td>서부분소</td>\n",
       "      <td>2018-04-20∼2018-04-21</td>\n",
       "      <td>경상북도 안동시 풍산읍</td>\n",
       "      <td>서플라우(트)</td>\n",
       "      <td>트랙터및작업기</td>\n",
       "      <td>플라우</td>\n",
       "      <td>서플라우(트)</td>\n",
       "    </tr>\n",
       "    <tr>\n",
       "      <th>1</th>\n",
       "      <td>서부분소</td>\n",
       "      <td>2018-04-03∼2018-04-03</td>\n",
       "      <td>경상북도 안동시 풍산읍</td>\n",
       "      <td>서비료살포기(트)(PTO방식)</td>\n",
       "      <td>트랙터및작업기</td>\n",
       "      <td>비료살포기</td>\n",
       "      <td>서비료살포기(트)(PTO방식)</td>\n",
       "    </tr>\n",
       "    <tr>\n",
       "      <th>2</th>\n",
       "      <td>북부분소</td>\n",
       "      <td>2018-08-22∼2018-08-26</td>\n",
       "      <td>경상북도 안동시 중구동</td>\n",
       "      <td>북인력파종기</td>\n",
       "      <td>자주형파종기</td>\n",
       "      <td>파종기</td>\n",
       "      <td>북인력파종기</td>\n",
       "    </tr>\n",
       "    <tr>\n",
       "      <th>3</th>\n",
       "      <td>북부분소</td>\n",
       "      <td>2018-03-30∼2018-03-30</td>\n",
       "      <td>경상북도 안동시 녹전면</td>\n",
       "      <td>북심경로타리(트)</td>\n",
       "      <td>트랙터및작업기</td>\n",
       "      <td>심경로타리</td>\n",
       "      <td>북심경로타리(트)</td>\n",
       "    </tr>\n",
       "    <tr>\n",
       "      <th>4</th>\n",
       "      <td>서부분소</td>\n",
       "      <td>2018-01-02∼2018-01-02</td>\n",
       "      <td>경상북도 안동시 풍천면</td>\n",
       "      <td>서콩정선기</td>\n",
       "      <td>탈곡기및정선기</td>\n",
       "      <td>콩정선기</td>\n",
       "      <td>서콩정선기</td>\n",
       "    </tr>\n",
       "    <tr>\n",
       "      <th>...</th>\n",
       "      <td>...</td>\n",
       "      <td>...</td>\n",
       "      <td>...</td>\n",
       "      <td>...</td>\n",
       "      <td>...</td>\n",
       "      <td>...</td>\n",
       "      <td>...</td>\n",
       "    </tr>\n",
       "    <tr>\n",
       "      <th>21342</th>\n",
       "      <td>농업기술센터</td>\n",
       "      <td>2021-01-01∼2021-01-02</td>\n",
       "      <td>경상북도 안동시 임하면</td>\n",
       "      <td>SS기퇴비살포기(자)</td>\n",
       "      <td>기타임대농기계</td>\n",
       "      <td>퇴비살포기</td>\n",
       "      <td>SS기퇴비살포기(자)</td>\n",
       "    </tr>\n",
       "    <tr>\n",
       "      <th>21343</th>\n",
       "      <td>농업기술센터</td>\n",
       "      <td>2020-12-31∼2020-12-31</td>\n",
       "      <td>경상북도 안동시 송하동</td>\n",
       "      <td>콩정선기</td>\n",
       "      <td>탈곡기및정선기</td>\n",
       "      <td>콩정선기</td>\n",
       "      <td>콩정선기</td>\n",
       "    </tr>\n",
       "    <tr>\n",
       "      <th>21344</th>\n",
       "      <td>서부분소</td>\n",
       "      <td>2021-01-01∼2021-01-02</td>\n",
       "      <td>경상북도 안동시 풍천면</td>\n",
       "      <td>서땅속작물수확기(트)</td>\n",
       "      <td>트랙터및작업기</td>\n",
       "      <td>수확기</td>\n",
       "      <td>서땅속작물수확기(트)</td>\n",
       "    </tr>\n",
       "    <tr>\n",
       "      <th>21345</th>\n",
       "      <td>북부분소</td>\n",
       "      <td>2020-12-31∼2020-12-31</td>\n",
       "      <td>경상북도 안동시 도산면</td>\n",
       "      <td>북콩정선기</td>\n",
       "      <td>탈곡기및정선기</td>\n",
       "      <td>콩정선기</td>\n",
       "      <td>북콩정선기</td>\n",
       "    </tr>\n",
       "    <tr>\n",
       "      <th>21346</th>\n",
       "      <td>서부분소</td>\n",
       "      <td>2020-12-31∼2020-12-31</td>\n",
       "      <td>경상북도 안동시 풍산읍</td>\n",
       "      <td>서콩정선기</td>\n",
       "      <td>탈곡기및정선기</td>\n",
       "      <td>콩정선기</td>\n",
       "      <td>서콩정선기</td>\n",
       "    </tr>\n",
       "  </tbody>\n",
       "</table>\n",
       "<p>21347 rows × 7 columns</p>\n",
       "</div>"
      ],
      "text/plain": [
       "        임대사업장                   임대기간            주소            임대농기계2       구분  \\\n",
       "0        서부분소  2018-04-20∼2018-04-21  경상북도 안동시 풍산읍           서플라우(트)  트랙터및작업기   \n",
       "1        서부분소  2018-04-03∼2018-04-03  경상북도 안동시 풍산읍  서비료살포기(트)(PTO방식)  트랙터및작업기   \n",
       "2        북부분소  2018-08-22∼2018-08-26  경상북도 안동시 중구동            북인력파종기   자주형파종기   \n",
       "3        북부분소  2018-03-30∼2018-03-30  경상북도 안동시 녹전면         북심경로타리(트)  트랙터및작업기   \n",
       "4        서부분소  2018-01-02∼2018-01-02  경상북도 안동시 풍천면             서콩정선기  탈곡기및정선기   \n",
       "...       ...                    ...           ...               ...      ...   \n",
       "21342  농업기술센터  2021-01-01∼2021-01-02  경상북도 안동시 임하면       SS기퇴비살포기(자)  기타임대농기계   \n",
       "21343  농업기술센터  2020-12-31∼2020-12-31  경상북도 안동시 송하동              콩정선기  탈곡기및정선기   \n",
       "21344    서부분소  2021-01-01∼2021-01-02  경상북도 안동시 풍천면       서땅속작물수확기(트)  트랙터및작업기   \n",
       "21345    북부분소  2020-12-31∼2020-12-31  경상북도 안동시 도산면             북콩정선기  탈곡기및정선기   \n",
       "21346    서부분소  2020-12-31∼2020-12-31  경상북도 안동시 풍산읍             서콩정선기  탈곡기및정선기   \n",
       "\n",
       "          종류               기종2  \n",
       "0        플라우           서플라우(트)  \n",
       "1      비료살포기  서비료살포기(트)(PTO방식)  \n",
       "2        파종기            북인력파종기  \n",
       "3      심경로타리         북심경로타리(트)  \n",
       "4       콩정선기             서콩정선기  \n",
       "...      ...               ...  \n",
       "21342  퇴비살포기       SS기퇴비살포기(자)  \n",
       "21343   콩정선기              콩정선기  \n",
       "21344    수확기       서땅속작물수확기(트)  \n",
       "21345   콩정선기             북콩정선기  \n",
       "21346   콩정선기             서콩정선기  \n",
       "\n",
       "[21347 rows x 7 columns]"
      ]
     },
     "execution_count": 39,
     "metadata": {},
     "output_type": "execute_result"
    }
   ],
   "source": [
    "tmp = leftjoin_df2\n",
    "tmp"
   ]
  },
  {
   "cell_type": "code",
   "execution_count": 40,
   "id": "99bcebba-115a-4bec-bfb9-7c90d9378943",
   "metadata": {},
   "outputs": [
    {
     "name": "stdout",
     "output_type": "stream",
     "text": [
      "103 \n",
      " 103\n"
     ]
    }
   ],
   "source": [
    "print(tmp[tmp['임대농기계2'].str.contains('관리기')]['종류'].isna().sum(), '\\n' , tmp[tmp['임대농기계2'].str.contains('관리기')]['구분'].isna().sum())"
   ]
  },
  {
   "cell_type": "code",
   "execution_count": 41,
   "id": "de3c1c7c-1283-48ce-a0c6-ae7b5b071203",
   "metadata": {},
   "outputs": [
    {
     "data": {
      "text/html": [
       "<div>\n",
       "<style scoped>\n",
       "    .dataframe tbody tr th:only-of-type {\n",
       "        vertical-align: middle;\n",
       "    }\n",
       "\n",
       "    .dataframe tbody tr th {\n",
       "        vertical-align: top;\n",
       "    }\n",
       "\n",
       "    .dataframe thead th {\n",
       "        text-align: right;\n",
       "    }\n",
       "</style>\n",
       "<table border=\"1\" class=\"dataframe\">\n",
       "  <thead>\n",
       "    <tr style=\"text-align: right;\">\n",
       "      <th></th>\n",
       "      <th>임대사업장</th>\n",
       "      <th>임대기간</th>\n",
       "      <th>주소</th>\n",
       "      <th>임대농기계2</th>\n",
       "      <th>구분</th>\n",
       "      <th>종류</th>\n",
       "      <th>기종2</th>\n",
       "    </tr>\n",
       "  </thead>\n",
       "  <tbody>\n",
       "    <tr>\n",
       "      <th>186</th>\n",
       "      <td>농업기술센터</td>\n",
       "      <td>2018-02-24∼2018-02-24</td>\n",
       "      <td>경상북도 안동시 임하면</td>\n",
       "      <td>관리기</td>\n",
       "      <td>NaN</td>\n",
       "      <td>NaN</td>\n",
       "      <td>NaN</td>\n",
       "    </tr>\n",
       "    <tr>\n",
       "      <th>247</th>\n",
       "      <td>농업기술센터</td>\n",
       "      <td>2018-03-03∼2018-03-03</td>\n",
       "      <td>경상북도 안동시 임하면</td>\n",
       "      <td>관리기</td>\n",
       "      <td>NaN</td>\n",
       "      <td>NaN</td>\n",
       "      <td>NaN</td>\n",
       "    </tr>\n",
       "    <tr>\n",
       "      <th>619</th>\n",
       "      <td>농업기술센터</td>\n",
       "      <td>2018-03-27∼2018-03-27</td>\n",
       "      <td>경상북도 안동시 태화동</td>\n",
       "      <td>관리기</td>\n",
       "      <td>NaN</td>\n",
       "      <td>NaN</td>\n",
       "      <td>NaN</td>\n",
       "    </tr>\n",
       "    <tr>\n",
       "      <th>753</th>\n",
       "      <td>농업기술센터</td>\n",
       "      <td>2018-03-30∼2018-03-30</td>\n",
       "      <td>경상북도 안동시 임하면</td>\n",
       "      <td>관리기</td>\n",
       "      <td>NaN</td>\n",
       "      <td>NaN</td>\n",
       "      <td>NaN</td>\n",
       "    </tr>\n",
       "    <tr>\n",
       "      <th>813</th>\n",
       "      <td>농업기술센터</td>\n",
       "      <td>2018-03-31∼2018-03-31</td>\n",
       "      <td>경상북도 안동시 중구동</td>\n",
       "      <td>관리기</td>\n",
       "      <td>NaN</td>\n",
       "      <td>NaN</td>\n",
       "      <td>NaN</td>\n",
       "    </tr>\n",
       "    <tr>\n",
       "      <th>...</th>\n",
       "      <td>...</td>\n",
       "      <td>...</td>\n",
       "      <td>...</td>\n",
       "      <td>...</td>\n",
       "      <td>...</td>\n",
       "      <td>...</td>\n",
       "      <td>...</td>\n",
       "    </tr>\n",
       "    <tr>\n",
       "      <th>16921</th>\n",
       "      <td>농업기술센터</td>\n",
       "      <td>2020-06-05∼2020-06-05</td>\n",
       "      <td>경상북도 안동시 북후면</td>\n",
       "      <td>관리기</td>\n",
       "      <td>NaN</td>\n",
       "      <td>NaN</td>\n",
       "      <td>NaN</td>\n",
       "    </tr>\n",
       "    <tr>\n",
       "      <th>17369</th>\n",
       "      <td>농업기술센터</td>\n",
       "      <td>2020-06-18∼2020-06-18</td>\n",
       "      <td>경상북도 안동시 임하면</td>\n",
       "      <td>관리기</td>\n",
       "      <td>NaN</td>\n",
       "      <td>NaN</td>\n",
       "      <td>NaN</td>\n",
       "    </tr>\n",
       "    <tr>\n",
       "      <th>17448</th>\n",
       "      <td>농업기술센터</td>\n",
       "      <td>2020-06-20∼2020-06-21</td>\n",
       "      <td>경상북도 안동시 용상동</td>\n",
       "      <td>관리기</td>\n",
       "      <td>NaN</td>\n",
       "      <td>NaN</td>\n",
       "      <td>NaN</td>\n",
       "    </tr>\n",
       "    <tr>\n",
       "      <th>17869</th>\n",
       "      <td>농업기술센터</td>\n",
       "      <td>2020-07-04∼2020-07-05</td>\n",
       "      <td>경상북도 안동시 일직면</td>\n",
       "      <td>관리기</td>\n",
       "      <td>NaN</td>\n",
       "      <td>NaN</td>\n",
       "      <td>NaN</td>\n",
       "    </tr>\n",
       "    <tr>\n",
       "      <th>18524</th>\n",
       "      <td>농업기술센터</td>\n",
       "      <td>2020-08-26∼2020-08-26</td>\n",
       "      <td>경상북도 안동시 강남동</td>\n",
       "      <td>관리기</td>\n",
       "      <td>NaN</td>\n",
       "      <td>NaN</td>\n",
       "      <td>NaN</td>\n",
       "    </tr>\n",
       "  </tbody>\n",
       "</table>\n",
       "<p>103 rows × 7 columns</p>\n",
       "</div>"
      ],
      "text/plain": [
       "        임대사업장                   임대기간            주소 임대농기계2   구분   종류  기종2\n",
       "186    농업기술센터  2018-02-24∼2018-02-24  경상북도 안동시 임하면    관리기  NaN  NaN  NaN\n",
       "247    농업기술센터  2018-03-03∼2018-03-03  경상북도 안동시 임하면    관리기  NaN  NaN  NaN\n",
       "619    농업기술센터  2018-03-27∼2018-03-27  경상북도 안동시 태화동    관리기  NaN  NaN  NaN\n",
       "753    농업기술센터  2018-03-30∼2018-03-30  경상북도 안동시 임하면    관리기  NaN  NaN  NaN\n",
       "813    농업기술센터  2018-03-31∼2018-03-31  경상북도 안동시 중구동    관리기  NaN  NaN  NaN\n",
       "...       ...                    ...           ...    ...  ...  ...  ...\n",
       "16921  농업기술센터  2020-06-05∼2020-06-05  경상북도 안동시 북후면    관리기  NaN  NaN  NaN\n",
       "17369  농업기술센터  2020-06-18∼2020-06-18  경상북도 안동시 임하면    관리기  NaN  NaN  NaN\n",
       "17448  농업기술센터  2020-06-20∼2020-06-21  경상북도 안동시 용상동    관리기  NaN  NaN  NaN\n",
       "17869  농업기술센터  2020-07-04∼2020-07-05  경상북도 안동시 일직면    관리기  NaN  NaN  NaN\n",
       "18524  농업기술센터  2020-08-26∼2020-08-26  경상북도 안동시 강남동    관리기  NaN  NaN  NaN\n",
       "\n",
       "[103 rows x 7 columns]"
      ]
     },
     "execution_count": 41,
     "metadata": {},
     "output_type": "execute_result"
    }
   ],
   "source": [
    "tmp[tmp['임대농기계2'].str.contains('관리기') & tmp['구분'].isna()]"
   ]
  },
  {
   "cell_type": "code",
   "execution_count": 42,
   "id": "22a3ca2c-ae07-47fc-8da6-3b8355af2420",
   "metadata": {},
   "outputs": [
    {
     "data": {
      "text/plain": [
       "Int64Index([  186,   247,   619,   753,   813,  1073,  1120,  1183,  1275,\n",
       "             1460,\n",
       "            ...\n",
       "            16275, 16554, 16634, 16707, 16776, 16921, 17369, 17448, 17869,\n",
       "            18524],\n",
       "           dtype='int64', length=103)"
      ]
     },
     "execution_count": 42,
     "metadata": {},
     "output_type": "execute_result"
    }
   ],
   "source": [
    "#함수로 반복해서 채워봐? for\n",
    "tmp[tmp['임대농기계2'].str.contains('관리기') & tmp['종류'].isna()].index"
   ]
  },
  {
   "cell_type": "code",
   "execution_count": 43,
   "id": "ae8460f7-88db-43da-96b3-aa99d1c5ab01",
   "metadata": {},
   "outputs": [],
   "source": [
    "#결측치 채우기\n",
    "for i in tmp[tmp['임대농기계2'].str.contains('관리기') & tmp['종류'].isna()].index:\n",
    "    tmp.at[i, '종류'] = '관리기'\n",
    "    tmp.at[i, '구분'] = '보행관리기'"
   ]
  },
  {
   "cell_type": "markdown",
   "id": "ed8f9321-3ae0-4d8f-a49b-0119ebefa7eb",
   "metadata": {},
   "source": [
    "* 임대농기계2 : 땅속작물수확기(경)(레) -> 종류 : 수확기/트랙터 및 작업기?"
   ]
  },
  {
   "cell_type": "code",
   "execution_count": 69,
   "id": "3e3d5dcd-6580-48e4-ac84-ab47a78463fe",
   "metadata": {},
   "outputs": [
    {
     "data": {
      "text/plain": [
       "Int64Index([  530,  2416,  2821,  2822,  2891,  2976,  2989,  3025,  3055,\n",
       "             3063,  3127,  3206,  3213,  3978,  4305,  4567,  6764,  6938,\n",
       "             7827,  7945,  8675,  8730,  9001,  9036,  9474,  9507,  9527,\n",
       "             9626,  9635,  9639,  9738,  9739,  9783,  9810,  9819,  9848,\n",
       "            11781, 11816, 13301, 13354, 14322, 14527, 14664, 14797, 15061,\n",
       "            15275, 15413, 15830, 16411, 16458, 16768, 17286, 17408, 17630,\n",
       "            17793, 18082],\n",
       "           dtype='int64')"
      ]
     },
     "execution_count": 69,
     "metadata": {},
     "output_type": "execute_result"
    }
   ],
   "source": [
    "tmp[tmp['임대농기계2'].str.contains('땅속작물수확기') & tmp['종류'].isna()]['임대농기계2'].index"
   ]
  },
  {
   "cell_type": "code",
   "execution_count": 70,
   "id": "9e546998-872a-4302-a64d-c134e44a2ca1",
   "metadata": {},
   "outputs": [],
   "source": [
    "for i in tmp[tmp['임대농기계2'].str.contains('땅속작물수확기') & tmp['종류'].isna()]['임대농기계2'].index :\n",
    "    tmp.at[i,'종류'] = '수확기'\n",
    "    tmp.at[i,'구분'] = '트랙터및작업기'"
   ]
  },
  {
   "cell_type": "markdown",
   "id": "9a8fac49-e729-49ea-9355-ae5fec7937dd",
   "metadata": {},
   "source": [
    "* 심경로타리(역회전) -> 심경로타리 / 트랙터 및 작업기"
   ]
  },
  {
   "cell_type": "code",
   "execution_count": 54,
   "id": "f2b67ade-998c-4322-8b47-0ebcc18c3fa6",
   "metadata": {},
   "outputs": [
    {
     "data": {
      "text/plain": [
       "Int64Index([897, 1379, 3164, 3280], dtype='int64')"
      ]
     },
     "execution_count": 54,
     "metadata": {},
     "output_type": "execute_result"
    }
   ],
   "source": [
    "tmp[tmp['임대농기계2'].str.contains('역회전')].index"
   ]
  },
  {
   "cell_type": "code",
   "execution_count": 56,
   "id": "6e9ab5de-9425-43f0-be1a-fe66db291fa6",
   "metadata": {},
   "outputs": [],
   "source": [
    "for i in tmp[tmp['임대농기계2'].str.contains('역회전')].index :\n",
    "    tmp.at[i,'종류'] = '심경로타리'\n",
    "    tmp.at[i,'구분'] = '트랙터및작업기'"
   ]
  },
  {
   "cell_type": "code",
   "execution_count": 58,
   "id": "4a2a3a81-1a95-4312-a12f-5b69ccc7262f",
   "metadata": {},
   "outputs": [
    {
     "name": "stdout",
     "output_type": "stream",
     "text": [
      "0\n",
      "0\n"
     ]
    }
   ],
   "source": [
    "print(tmp[tmp['임대농기계2'].str.contains('역회전')]['종류'].isna().sum())\n",
    "print(tmp[tmp['임대농기계2'].str.contains('역회전')]['구분'].isna().sum())"
   ]
  },
  {
   "cell_type": "markdown",
   "id": "9ccf7c42-c2c7-48a7-8c24-8c91ed96901c",
   "metadata": {},
   "source": [
    "* 콩탈곡기(경) -> / 탈곡및 점성기?\n",
    "* 콩탈곡기(모) -> 농산물탈피기 / 탈곡기 및 점선기"
   ]
  },
  {
   "cell_type": "code",
   "execution_count": 45,
   "id": "c4c49003-1491-45d0-b243-15d1a1dab39c",
   "metadata": {},
   "outputs": [
    {
     "name": "stdout",
     "output_type": "stream",
     "text": [
      "동력탈곡기    965\n",
      "Name: 종류, dtype: int64\n",
      "탈곡기및정선기    965\n",
      "Name: 구분, dtype: int64\n"
     ]
    }
   ],
   "source": [
    "for i in tmp[tmp['임대농기계2'].str.contains('콩탈곡기') & tmp['종류'].isna()].index :\n",
    "    tmp.at[i, '종류'] = '동력탈곡기'\n",
    "    tmp.at[i, '구분'] = '탈곡기및정선기'\n",
    "    \n",
    "print(leftjoin_df2[leftjoin_df2['임대농기계2'].str.contains('콩탈곡기')]['종류'].value_counts())\n",
    "print(leftjoin_df2[leftjoin_df2['임대농기계2'].str.contains('콩탈곡기')]['구분'].value_counts())"
   ]
  },
  {
   "cell_type": "code",
   "execution_count": 57,
   "id": "983f23d2-02bf-4d47-bae2-b6803f8b598c",
   "metadata": {},
   "outputs": [
    {
     "name": "stdout",
     "output_type": "stream",
     "text": [
      "0\n",
      "0\n"
     ]
    }
   ],
   "source": [
    "print(tmp[tmp['임대농기계2'].str.contains('콩탈곡기')]['종류'].isna().sum())\n",
    "print(leftjoin_df2[leftjoin_df2['임대농기계2'].str.contains('콩탈곡기')]['구분'].isna().sum())"
   ]
  },
  {
   "cell_type": "code",
   "execution_count": 71,
   "id": "377f411f-f251-4be8-b85a-26914c001951",
   "metadata": {},
   "outputs": [
    {
     "name": "stdout",
     "output_type": "stream",
     "text": [
      "<class 'pandas.core.frame.DataFrame'>\n",
      "RangeIndex: 21347 entries, 0 to 21346\n",
      "Data columns (total 7 columns):\n",
      " #   Column  Non-Null Count  Dtype \n",
      "---  ------  --------------  ----- \n",
      " 0   임대사업장   21347 non-null  object\n",
      " 1   임대기간    21347 non-null  object\n",
      " 2   주소      21338 non-null  object\n",
      " 3   임대농기계2  21347 non-null  object\n",
      " 4   구분      21180 non-null  object\n",
      " 5   종류      21180 non-null  object\n",
      " 6   기종2     20849 non-null  object\n",
      "dtypes: object(7)\n",
      "memory usage: 1.1+ MB\n"
     ]
    }
   ],
   "source": [
    "tmp.info()"
   ]
  },
  {
   "cell_type": "code",
   "execution_count": 77,
   "id": "d1328fe9-3ad4-4be8-a7d6-ad7ef9903d0f",
   "metadata": {},
   "outputs": [],
   "source": [
    "#tmp d.f.에 했는데, leftjoin_df2 에 반영되는지?"
   ]
  },
  {
   "cell_type": "code",
   "execution_count": null,
   "id": "6f82afe5-22b6-4bdc-9f92-f5cdec2ce39b",
   "metadata": {},
   "outputs": [],
   "source": []
  }
 ],
 "metadata": {
  "kernelspec": {
   "display_name": "Python 3",
   "language": "python",
   "name": "python3"
  },
  "language_info": {
   "codemirror_mode": {
    "name": "ipython",
    "version": 3
   },
   "file_extension": ".py",
   "mimetype": "text/x-python",
   "name": "python",
   "nbconvert_exporter": "python",
   "pygments_lexer": "ipython3",
   "version": "3.8.8"
  }
 },
 "nbformat": 4,
 "nbformat_minor": 5
}
