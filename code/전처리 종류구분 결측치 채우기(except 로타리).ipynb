{
 "cells": [
  {
   "cell_type": "code",
   "execution_count": null,
   "id": "b0e23cc1-0e7c-4709-b3ca-029632e808c8",
   "metadata": {},
   "outputs": [],
   "source": [
    "import pandas as pd\n",
    "import numpy as np\n",
    "import matplotlib.pyplot as plt\n",
    "import seaborn as sns"
   ]
  },
  {
   "cell_type": "code",
   "execution_count": null,
   "id": "d5b8c285-8144-43ef-a591-05b3a6f97097",
   "metadata": {},
   "outputs": [],
   "source": [
    "leftjoin_df = pd.read_csv('D:/python/bigdataproject/농기계 임대 기준 left join.csv')\n",
    "leftjoin_df.head(1)"
   ]
  },
  {
   "cell_type": "code",
   "execution_count": null,
   "id": "124f67c1-6cfc-4f86-906c-8e9c999b448b",
   "metadata": {},
   "outputs": [],
   "source": [
    "leftjoin_df[leftjoin_df['기종2'].isna()]['임대농기계2'].unique()\n",
    "#기종2가 채워지지 않은 임대농기계2 알기 위해서45"
   ]
  },
  {
   "cell_type": "markdown",
   "id": "7a41f125-c1ae-4540-81b2-80498d436d68",
   "metadata": {},
   "source": [
    "### 2018~2020 합친거\n",
    "안동시 농기계 보유 목록"
   ]
  },
  {
   "cell_type": "code",
   "execution_count": null,
   "id": "b89ed5b7-5798-485f-af39-d2183918e999",
   "metadata": {},
   "outputs": [],
   "source": [
    "df2018 = pd.read_excel('D:/python/bigdataproject/안동시 농기계 임대차 관리대장(2018년)_비식별화.xlsx')\n",
    "df2019 = pd.read_excel('D:/python/bigdataproject/안동시 농기계 임대차 관리대장(2019년)_비식별화.xlsx')\n",
    "df2020 = pd.read_excel('D:/python/bigdataproject/안동시 농기계 임대차 관리대장(2020년)_비식별화.xlsx')"
   ]
  },
  {
   "cell_type": "code",
   "execution_count": null,
   "id": "9a339475-37d0-4110-9069-cdeb6c739c33",
   "metadata": {},
   "outputs": [],
   "source": [
    "df2018.rename(columns = {'구분':'주소'}, inplace = True)"
   ]
  },
  {
   "cell_type": "code",
   "execution_count": null,
   "id": "d831b163-1e34-43cc-8428-57f46beb77be",
   "metadata": {},
   "outputs": [],
   "source": [
    "dfyear = pd.concat([df2018, df2019, df2020], axis = 0)\n",
    "dfyear.head(1)"
   ]
  },
  {
   "cell_type": "code",
   "execution_count": null,
   "id": "3b053f7c-7545-4904-8d50-86117f04e7b1",
   "metadata": {},
   "outputs": [],
   "source": [
    "nonggigae = pd.read_csv('D:/python/bigdataproject/nonggigae.csv', encoding = 'euc-kr')\n",
    "nonggigae.head(1)\n",
    "# 농기계 상세정보"
   ]
  },
  {
   "cell_type": "code",
   "execution_count": null,
   "id": "5028fc22-046d-4b51-ad02-cabf0d752089",
   "metadata": {},
   "outputs": [],
   "source": [
    "# nonggigae[['구분','종류','임대농기계','연번']].groupby(['구분','종류','임대농기계'],as_index = True).count()"
   ]
  },
  {
   "cell_type": "code",
   "execution_count": null,
   "id": "ac631336-5747-49cc-8b3b-de7adfef920b",
   "metadata": {},
   "outputs": [],
   "source": [
    "leftjoin_df.info()"
   ]
  },
  {
   "cell_type": "code",
   "execution_count": null,
   "id": "009c1e04-ad08-4b68-b29e-9c16d2ecda63",
   "metadata": {},
   "outputs": [],
   "source": [
    "leftjoin_df2 = leftjoin_df[['임대사업장','임대기간','주소','임대농기계2','구분','종류','기종2']]\n",
    "leftjoin_df2.head(1)\n",
    "#임대농기계에는 결측치가 없으나\n",
    "#기종2에는 결측치가 있다."
   ]
  },
  {
   "cell_type": "code",
   "execution_count": null,
   "id": "d22ba0f5-982c-43a8-9f3e-2c7dd68c9958",
   "metadata": {},
   "outputs": [],
   "source": [
    "leftjoin_df2[leftjoin_df2['기종2'].isna()]['임대농기계2'].value_counts()\n",
    "#임대내역에는 있지만 현재 보유내역에는 없는 농기계"
   ]
  },
  {
   "cell_type": "code",
   "execution_count": null,
   "id": "55b4ed94-0f7d-4b69-bf62-2a4d262cf6f1",
   "metadata": {},
   "outputs": [],
   "source": [
    "print(leftjoin_df2[leftjoin_df2['임대농기계2'].str.contains('콩탈곡기')]['종류'].value_counts(), '\\n' , leftjoin_df2[leftjoin_df2['임대농기계2'].str.contains('콩탈곡기')]['구분'].value_counts())"
   ]
  },
  {
   "cell_type": "markdown",
   "id": "95dbd34c-2e4d-47a8-988f-655a392f4ec5",
   "metadata": {},
   "source": [
    "#### 결측치에 대해서 fillna로 한 후에, pd crosstab에 남기기 - 후에 할 일"
   ]
  },
  {
   "cell_type": "code",
   "execution_count": null,
   "id": "d7a20f07-2e60-4ac4-90f9-49da3e7a12d3",
   "metadata": {},
   "outputs": [],
   "source": [
    "# a = leftjoin_df2[leftjoin_df2['임대농기계2'].str.contains('SS기')][['임대농기계2','종류','구분']]\n",
    "# pd.crosstab(a['임대농기계2'], a['종류'])"
   ]
  },
  {
   "cell_type": "markdown",
   "id": "e97fe614-9b51-4ca8-a30d-0c60488dede8",
   "metadata": {},
   "source": [
    "# 결측치의 value_counts()"
   ]
  },
  {
   "cell_type": "markdown",
   "id": "9716dd38-a81f-48ac-ada7-ee100cf5b006",
   "metadata": {},
   "source": [
    "## 결측치 채우기"
   ]
  },
  {
   "cell_type": "code",
   "execution_count": null,
   "id": "cef9528f-376c-42cb-a073-84c45b3f0662",
   "metadata": {},
   "outputs": [],
   "source": [
    "leftjoin_df2[leftjoin_df2['임대농기계2'].str.contains('관리기')]"
   ]
  },
  {
   "cell_type": "code",
   "execution_count": null,
   "id": "a1328e15-51ed-4992-bf20-c05bd2830a22",
   "metadata": {},
   "outputs": [],
   "source": [
    "tmp = leftjoin_df2\n",
    "tmp.head(1)"
   ]
  },
  {
   "cell_type": "code",
   "execution_count": null,
   "id": "99bcebba-115a-4bec-bfb9-7c90d9378943",
   "metadata": {},
   "outputs": [],
   "source": [
    "print(tmp[tmp['임대농기계2'].str.contains('관리기')]['종류'].isna().sum(),\n",
    "      '\\n',\n",
    "      tmp[tmp['임대농기계2'].str.contains('관리기')]['구분'].isna().sum())"
   ]
  },
  {
   "cell_type": "markdown",
   "id": "32120027-2139-4eb6-b448-f1c76ce675ba",
   "metadata": {},
   "source": [
    "# 관리기"
   ]
  },
  {
   "cell_type": "code",
   "execution_count": null,
   "id": "de3c1c7c-1283-48ce-a0c6-ae7b5b071203",
   "metadata": {},
   "outputs": [],
   "source": [
    "tmp[tmp['임대농기계2'] == '관리기'] #나중에 삭제해도 될듯?"
   ]
  },
  {
   "cell_type": "code",
   "execution_count": null,
   "id": "22a3ca2c-ae07-47fc-8da6-3b8355af2420",
   "metadata": {},
   "outputs": [],
   "source": [
    "# tmp[tmp['임대농기계2'].str.contains('관리기') & tmp['종류'].isna()].index 이 문장만 삭제\n",
    "tmp[tmp['임대농기계2'] == '관리기'].index"
   ]
  },
  {
   "cell_type": "code",
   "execution_count": null,
   "id": "ae8460f7-88db-43da-96b3-aa99d1c5ab01",
   "metadata": {},
   "outputs": [],
   "source": [
    "for i in tmp[tmp['임대농기계2'] == '관리기'].index:\n",
    "    tmp.at[i, '종류'] = '보행관리기'\n",
    "    tmp.at[i, '구분'] = '관리기및작업기'\n",
    "tmp[tmp['임대농기계2'] == '관리기'][['임대농기계2','구분','종류']].head(1)"
   ]
  },
  {
   "cell_type": "markdown",
   "id": "ed8f9321-3ae0-4d8f-a49b-0119ebefa7eb",
   "metadata": {},
   "source": [
    "# 임대농기계2 : 땅속작물수확기(경)(레) -> 종류 : 수확기/경운기 및 작업기"
   ]
  },
  {
   "cell_type": "code",
   "execution_count": null,
   "id": "96014e44-528e-4190-9bba-7e218d2b85e0",
   "metadata": {},
   "outputs": [],
   "source": [
    "tmp[tmp['임대농기계2'].str.contains('땅속작물수확기')][['임대농기계2','구분','종류']].value_counts()"
   ]
  },
  {
   "cell_type": "code",
   "execution_count": null,
   "id": "c6917869-6d1a-45ef-a2a5-1499dc6e98af",
   "metadata": {},
   "outputs": [],
   "source": [
    "tmp[tmp['임대농기계2'].str.contains('땅속작물수확기')][['임대농기계2']].value_counts()"
   ]
  },
  {
   "cell_type": "code",
   "execution_count": null,
   "id": "0da73d52-01e7-46f1-bc54-90067120dfdc",
   "metadata": {},
   "outputs": [],
   "source": [
    "tmp[tmp['임대농기계2'] == '땅속작물수확기(경)(레)']['임대농기계2'].index"
   ]
  },
  {
   "cell_type": "code",
   "execution_count": null,
   "id": "9e546998-872a-4302-a64d-c134e44a2ca1",
   "metadata": {},
   "outputs": [],
   "source": [
    "for i in tmp[tmp['임대농기계2'] == '땅속작물수확기(경)(레)']['임대농기계2'].index :\n",
    "    tmp.at[i,'종류'] = '수확기'\n",
    "    tmp.at[i,'구분'] = '경운기및작업기'\n",
    "    \n",
    "tmp[tmp['임대농기계2'] == '땅속작물수확기(경)(레)'].head(1)"
   ]
  },
  {
   "cell_type": "markdown",
   "id": "9a8fac49-e729-49ea-9355-ae5fec7937dd",
   "metadata": {},
   "source": [
    "# 심경로타리(역회전) -> 심경로타리 / 트랙터 및 작업기"
   ]
  },
  {
   "cell_type": "code",
   "execution_count": null,
   "id": "f2b67ade-998c-4322-8b47-0ebcc18c3fa6",
   "metadata": {},
   "outputs": [],
   "source": [
    "tmp[tmp['임대농기계2'].str.contains('역회전')].index"
   ]
  },
  {
   "cell_type": "code",
   "execution_count": null,
   "id": "6e9ab5de-9425-43f0-be1a-fe66db291fa6",
   "metadata": {},
   "outputs": [],
   "source": [
    "for i in tmp[tmp['임대농기계2'].str.contains('역회전')].index :\n",
    "    tmp.at[i,'종류'] = '심경로타리'\n",
    "    tmp.at[i,'구분'] = '트랙터및작업기'\n",
    "\n",
    "tmp[tmp['임대농기계2'].str.contains('역회전')].head(1)"
   ]
  },
  {
   "cell_type": "markdown",
   "id": "9ccf7c42-c2c7-48a7-8c24-8c91ed96901c",
   "metadata": {},
   "source": [
    "# 콩탈곡기(경) / 콩탈곡기(모) -> 동력탈곡기 / 탈곡기및정선기"
   ]
  },
  {
   "cell_type": "code",
   "execution_count": null,
   "id": "e165a4e4-e8fa-447d-9f46-8af98f5a6e40",
   "metadata": {},
   "outputs": [],
   "source": [
    "tmp[tmp['임대농기계2'].str.contains('콩탈곡기')][['임대농기계2','구분','종류']].value_counts()"
   ]
  },
  {
   "cell_type": "code",
   "execution_count": null,
   "id": "a9796f72-07c2-4f4b-a35b-f06f314436db",
   "metadata": {},
   "outputs": [],
   "source": [
    "# tmp[tmp['임대농기계2'].str.contains('콩탈곡기') & tmp['종류'].isna()]['임대농기계2'].unique() 삭제 가능"
   ]
  },
  {
   "cell_type": "code",
   "execution_count": null,
   "id": "c4c49003-1491-45d0-b243-15d1a1dab39c",
   "metadata": {},
   "outputs": [],
   "source": [
    "for i in tmp[tmp['임대농기계2'].str.contains('콩탈곡기') & tmp['종류'].isna()].index :\n",
    "    tmp.at[i, '종류'] = '동력탈곡기'\n",
    "    tmp.at[i, '구분'] = '탈곡기및정선기'\n",
    "    \n",
    "print(tmp[tmp['임대농기계2'].str.contains('콩탈곡기')]['종류'].value_counts())\n",
    "print(tmp[tmp['임대농기계2'].str.contains('콩탈곡기')]['구분'].value_counts())"
   ]
  },
  {
   "cell_type": "markdown",
   "id": "9cc7d883-01df-461d-8069-e26367fec832",
   "metadata": {},
   "source": [
    "# 땅콩박피기를 언제 채운거지?"
   ]
  },
  {
   "cell_type": "code",
   "execution_count": null,
   "id": "fafeb918-7e26-4ed9-b4ae-977a6e25d72b",
   "metadata": {},
   "outputs": [],
   "source": [
    "tmp[tmp['임대농기계2'].str.contains('땅콩박피기')]"
   ]
  },
  {
   "cell_type": "markdown",
   "id": "882eddc8-5366-4601-bfd6-e6d0d1219320",
   "metadata": {},
   "source": [
    "# SS기(운)"
   ]
  },
  {
   "cell_type": "code",
   "execution_count": null,
   "id": "515b69f0-cc68-45e7-aee5-33da36cdc19c",
   "metadata": {},
   "outputs": [],
   "source": [
    "tmp[tmp['임대농기계2'].str.contains('SS기')][['임대농기계2','구분','종류']].value_counts()"
   ]
  },
  {
   "cell_type": "code",
   "execution_count": null,
   "id": "9b3110da-03b0-4021-8e46-462f472636fe",
   "metadata": {},
   "outputs": [],
   "source": [
    "# a = pd.crosstab 남기고 싶어서. 그 전에 fillna(0, inplace = True) 해야하는데, 미리 해둬도 될 것 같은데?"
   ]
  },
  {
   "cell_type": "code",
   "execution_count": null,
   "id": "e6af52bb-76bf-4d8a-8955-337367e94b13",
   "metadata": {},
   "outputs": [],
   "source": [
    "tmp[tmp['임대농기계2'] == 'SS기(운)'].index\n",
    "\n",
    "for i in tmp[tmp['임대농기계2'] == 'SS기(운)'].index:\n",
    "    tmp.at[i, '종류'] = '농업용동력운반차'\n",
    "    tmp.at[i, '구분'] = '기타임대농기계'\n",
    "\n",
    "tmp[tmp['임대농기계2'] == 'SS기(운)'].head(1)"
   ]
  },
  {
   "cell_type": "markdown",
   "id": "42904945-3af9-49e6-bb76-2a0b3aa5fc57",
   "metadata": {},
   "source": [
    "# 콩수확기"
   ]
  },
  {
   "cell_type": "code",
   "execution_count": null,
   "id": "f5626883-7bdd-4b35-b609-3822dc98327d",
   "metadata": {},
   "outputs": [],
   "source": [
    "tmp[tmp['임대농기계2'].str.contains('콩수확기')][['임대농기계2','구분','종류']].value_counts()"
   ]
  },
  {
   "cell_type": "code",
   "execution_count": null,
   "id": "ac7eb947-70d9-4e7f-9f9c-84eec1aa0c3c",
   "metadata": {},
   "outputs": [],
   "source": [
    "for i in tmp[tmp['임대농기계2'] == '콩수확기'].index :\n",
    "    tmp.at[i, '종류'] = '콩예취기'\n",
    "    tmp.at[i, '구분'] = '기타임대농기계'\n",
    "\n",
    "tmp[tmp['임대농기계2'] == '콩수확기'].head(1)"
   ]
  },
  {
   "cell_type": "markdown",
   "id": "e7b609bb-86e0-4825-b558-51be4544c6e8",
   "metadata": {},
   "source": [
    "# 보통형콤바인"
   ]
  },
  {
   "cell_type": "code",
   "execution_count": null,
   "id": "6dd18359-a29b-4eeb-ad4a-0856ac0904a5",
   "metadata": {},
   "outputs": [],
   "source": [
    "for i in tmp[tmp['임대농기계2'] == '보통형콤바인'].index :\n",
    "    tmp.at[i, '종류'] = '수확기'\n",
    "    tmp.at[i, '구분'] = '트랙터및작업기'\n",
    "\n",
    "tmp[tmp['임대농기계2'] == '보통형콤바인'].head(1)"
   ]
  },
  {
   "cell_type": "markdown",
   "id": "b20a95d0-032e-4553-8bd0-63fa34381818",
   "metadata": {},
   "source": [
    "# 로타베이터/로터베이터"
   ]
  },
  {
   "cell_type": "code",
   "execution_count": null,
   "id": "7b5347b0-e7ab-4889-bb0b-7d1a69a8aa33",
   "metadata": {},
   "outputs": [],
   "source": [
    "tmp[tmp['임대농기계2'].str.contains('베이터')][['임대농기계2','구분','종류']].value_counts()"
   ]
  },
  {
   "cell_type": "code",
   "execution_count": null,
   "id": "310c55e9-c70b-40d8-ac03-d382900dde5a",
   "metadata": {},
   "outputs": [],
   "source": [
    "tmp[tmp['임대농기계2'] == '로터베이터'].index"
   ]
  },
  {
   "cell_type": "code",
   "execution_count": null,
   "id": "d41e5baa-72dd-4f7a-b7d5-fff4f9928dc1",
   "metadata": {},
   "outputs": [],
   "source": [
    "for i in tmp[tmp['임대농기계2'] == '로터베이터'].index :\n",
    "#     tmp.at[i, '임대농기계2'] == '로타베이터(트)'\n",
    "    tmp.at[i, '종류'] = '로타베이터'\n",
    "    tmp.at[i, '구분'] = '트랙터및작업기'\n",
    "\n",
    "tmp[tmp['임대농기계2'] == '로터베이터'].head(1)"
   ]
  },
  {
   "cell_type": "code",
   "execution_count": null,
   "id": "541f06b4-0849-4421-a445-9339a0adcfb7",
   "metadata": {},
   "outputs": [],
   "source": [
    "tmp[tmp['구분'].isna()].index"
   ]
  },
  {
   "cell_type": "code",
   "execution_count": null,
   "id": "bbf6870a-7543-4042-9209-b1323e74cd36",
   "metadata": {},
   "outputs": [],
   "source": [
    "tmp.shape"
   ]
  },
  {
   "cell_type": "code",
   "execution_count": null,
   "id": "1551e40a-6a1e-46e7-8d80-1d2823a893a5",
   "metadata": {},
   "outputs": [],
   "source": [
    "tmp.drop(index = tmp[tmp['구분'].isna()].index, axis = 0, inplace = True)"
   ]
  },
  {
   "cell_type": "code",
   "execution_count": null,
   "id": "8fd86e3e-d2ae-4c02-8de7-e8bc0eb901f1",
   "metadata": {},
   "outputs": [],
   "source": [
    "tmp.shape"
   ]
  },
  {
   "cell_type": "code",
   "execution_count": null,
   "id": "a5fa1eed-287c-43d5-9847-181c027cea70",
   "metadata": {},
   "outputs": [],
   "source": [
    "tmp.head()"
   ]
  },
  {
   "cell_type": "code",
   "execution_count": null,
   "id": "17aaf4a7-fa0d-43b8-9e83-12f3650cdd3c",
   "metadata": {},
   "outputs": [],
   "source": [
    "tmp.to_csv('D:\\\\python\\\\bigdataproject\\\\data.csv', encoding = 'euc-kr')"
   ]
  },
  {
   "cell_type": "code",
   "execution_count": null,
   "id": "a32ed620-cb1c-49f0-b183-e9ec1255e609",
   "metadata": {},
   "outputs": [],
   "source": []
  }
 ],
 "metadata": {
  "kernelspec": {
   "display_name": "Python 3",
   "language": "python",
   "name": "python3"
  },
  "language_info": {
   "codemirror_mode": {
    "name": "ipython",
    "version": 3
   },
   "file_extension": ".py",
   "mimetype": "text/x-python",
   "name": "python",
   "nbconvert_exporter": "python",
   "pygments_lexer": "ipython3",
   "version": "3.8.8"
  }
 },
 "nbformat": 4,
 "nbformat_minor": 5
}
