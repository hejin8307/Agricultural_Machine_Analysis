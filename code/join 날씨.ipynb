{
 "cells": [
  {
   "cell_type": "code",
   "execution_count": null,
   "id": "d361f500",
   "metadata": {},
   "outputs": [],
   "source": [
    "import pandas as pd\n",
    "import numpy as np\n",
    "import matplotlib.pyplot as plt\n",
    "import seaborn as sns\n",
    "import datetime"
   ]
  },
  {
   "cell_type": "code",
   "execution_count": null,
   "id": "002ca658",
   "metadata": {},
   "outputs": [],
   "source": [
    "file1 = pd.read_csv('C:/Users/user/Desktop/NIA/project1/data/preprocessing/일별 임대 내역.csv', parse_dates=[\"date\"], encoding = 'euc-kr')\n",
    "file1 = file1.drop(columns = 'Unnamed: 0')\n",
    "file1 = file1.drop(columns = 'Unnamed: 0.1')\n",
    "file1 = file1.drop(columns = '임대기간')\n",
    "file1"
   ]
  },
  {
   "cell_type": "code",
   "execution_count": null,
   "id": "479b17fb",
   "metadata": {},
   "outputs": [],
   "source": [
    "file2 = pd.read_csv('C:/Users/user/Desktop/NIA/project1/data/original/날씨/날씨2018.csv', parse_dates=[\"일시\"], encoding = 'euc-kr')\n",
    "file2 = file2[['일시','평균기온(°C)', '일강수량(mm)', '평균 풍속(m/s)', '평균 상대습도(%)', '합계 일사량(MJ/m2)']]\n",
    "file2 = file2.fillna(0)\n",
    "file2"
   ]
  },
  {
   "cell_type": "code",
   "execution_count": null,
   "id": "2a0a85d4",
   "metadata": {
    "scrolled": true
   },
   "outputs": [],
   "source": [
    "file3 = pd.read_csv('C:/Users/user/Desktop/NIA/project1/data/original/날씨/날씨2019.csv', parse_dates=[\"일시\"], encoding = 'euc-kr')\n",
    "file3 = file3[['일시','평균기온(°C)', '일강수량(mm)', '평균 풍속(m/s)', '평균 상대습도(%)', '합계 일사량(MJ/m2)']]\n",
    "file3 = file3.fillna(0)\n",
    "file3"
   ]
  },
  {
   "cell_type": "code",
   "execution_count": null,
   "id": "3a8d71ea",
   "metadata": {},
   "outputs": [],
   "source": [
    "file4 = pd.read_csv('C:/Users/user/Desktop/NIA/project1/data/original/날씨/날씨2020.csv', parse_dates=[\"일시\"], encoding = 'euc-kr')\n",
    "file4 = file4[['일시','평균기온(°C)', '일강수량(mm)', '평균 풍속(m/s)', '평균 상대습도(%)', '합계 일사량(MJ/m2)']]\n",
    "file4 = file4.fillna(0)\n",
    "file4"
   ]
  },
  {
   "cell_type": "code",
   "execution_count": null,
   "id": "0983a543",
   "metadata": {},
   "outputs": [],
   "source": [
    "file2.isnull().sum()"
   ]
  },
  {
   "cell_type": "code",
   "execution_count": null,
   "id": "d793f818",
   "metadata": {
    "scrolled": true
   },
   "outputs": [],
   "source": [
    "weather = pd.concat([file2, file3, file4])\n",
    "weather"
   ]
  },
  {
   "cell_type": "code",
   "execution_count": null,
   "id": "5d0a0922",
   "metadata": {
    "scrolled": true
   },
   "outputs": [],
   "source": [
    "merge_df = pd.merge(file1, weather, how = 'left', left_on = 'date', right_on = '일시' )\n",
    "merge_df"
   ]
  },
  {
   "cell_type": "code",
   "execution_count": null,
   "id": "6533feec",
   "metadata": {
    "scrolled": true
   },
   "outputs": [],
   "source": [
    "merge_df.isnull().sum()"
   ]
  },
  {
   "cell_type": "code",
   "execution_count": null,
   "id": "f443a796",
   "metadata": {},
   "outputs": [],
   "source": [
    "merge_df.to_csv(\"C:/Users/user/Desktop/NIA/project1/data/preprocessing/with weather.csv\", encoding = 'euc-kr')"
   ]
  },
  {
   "cell_type": "code",
   "execution_count": null,
   "id": "7534cc35",
   "metadata": {},
   "outputs": [],
   "source": []
  },
  {
   "cell_type": "code",
   "execution_count": null,
   "id": "933e7ea5",
   "metadata": {},
   "outputs": [],
   "source": []
  }
 ],
 "metadata": {
  "kernelspec": {
   "display_name": "Python 3",
   "language": "python",
   "name": "python3"
  },
  "language_info": {
   "codemirror_mode": {
    "name": "ipython",
    "version": 3
   },
   "file_extension": ".py",
   "mimetype": "text/x-python",
   "name": "python",
   "nbconvert_exporter": "python",
   "pygments_lexer": "ipython3",
   "version": "3.8.8"
  }
 },
 "nbformat": 4,
 "nbformat_minor": 5
}
