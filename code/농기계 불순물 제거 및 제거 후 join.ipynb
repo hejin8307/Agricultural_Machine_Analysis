{
 "cells": [
  {
   "cell_type": "code",
   "execution_count": null,
   "id": "b4fc4e9f",
   "metadata": {},
   "outputs": [],
   "source": [
    "import pandas as pd\n",
    "import re"
   ]
  },
  {
   "cell_type": "markdown",
   "id": "1f57a826",
   "metadata": {},
   "source": [
    "# 안동시 보유 농기계 목록 불순물 제거"
   ]
  },
  {
   "cell_type": "code",
   "execution_count": null,
   "id": "c7970180",
   "metadata": {},
   "outputs": [],
   "source": [
    "file1 = pd.read_excel('C:/Users/user/Desktop/NIA/project1/data/original/안동시 보유 농기계 목록(형식, 규격 포함)_공공데이터기준분류.xls')\n",
    "file1\n",
    "\n",
    "\n",
    "file1 = file1.drop(index=[0, 1], axis=0)\n",
    "file1 = file1.drop(columns=['Unnamed: 4', 'Unnamed: 11'], axis=1)\n",
    "file1 = file1.rename(columns=file1.iloc[0])\n",
    "file1 = file1.drop(index=[2], axis=0)\n",
    "file1"
   ]
  },
  {
   "cell_type": "code",
   "execution_count": null,
   "id": "a19344fe",
   "metadata": {},
   "outputs": [],
   "source": [
    "# ari = list(file1['기종'])\n",
    "# ari\n",
    "\n",
    "# a = re.compile('\\(.*?\\)')\n",
    "\n",
    "# for i in range(len(ari)):\n",
    "#     text = re.sub(a, \"\", ari[i])\n",
    "#     ari[i] = text\n",
    "# print(ari)"
   ]
  },
  {
   "cell_type": "code",
   "execution_count": null,
   "id": "b35001f6",
   "metadata": {},
   "outputs": [],
   "source": [
    "ari = list(file1['기종'])\n",
    "ari\n",
    "\n",
    "def text_cleaning(text) :\n",
    "    hangul = re.compile('[a-z0-9_-]')\n",
    "    result = hangul.sub('', text)\n",
    "    result = re.sub('마력', '', result)\n",
    "    result = re.sub('/', '', result)\n",
    "    result = re.sub(' ', '', result)\n",
    "    return result\n",
    "\n",
    "text = [text_cleaning(i) for i in ari]\n",
    "print(text)"
   ]
  },
  {
   "cell_type": "code",
   "execution_count": null,
   "id": "87198465",
   "metadata": {},
   "outputs": [],
   "source": [
    "pd.set_option('display.max_row', 1000)\n",
    "pd.set_option('display.max_columns', 100)\n",
    "\n",
    "file1['기종2'] = text\n",
    "file1"
   ]
  },
  {
   "cell_type": "code",
   "execution_count": null,
   "id": "fc702941",
   "metadata": {},
   "outputs": [],
   "source": [
    "file1 = file1.drop(columns=['연번', '제조업체', '규격', '제조(기대번호)', '형식', '대수', '구입금액', '구입일자', '비고'], axis=1)"
   ]
  },
  {
   "cell_type": "code",
   "execution_count": null,
   "id": "925b3c8b",
   "metadata": {},
   "outputs": [],
   "source": [
    "file1 = file1.drop_duplicates(subset=['기종2'], keep='first')"
   ]
  },
  {
   "cell_type": "code",
   "execution_count": null,
   "id": "4b9d1481",
   "metadata": {},
   "outputs": [],
   "source": [
    "file1.to_csv('C:/Users/user/Desktop/NIA/project1/data/preprocessing/안동시 보유 농기계 목록.csv', encoding = 'utf-8-sig', index = False)"
   ]
  },
  {
   "cell_type": "markdown",
   "id": "a6ae64e7",
   "metadata": {},
   "source": [
    "# 안동시 농기계 임대차 관리대장 불순물 제거"
   ]
  },
  {
   "cell_type": "code",
   "execution_count": null,
   "id": "f4ffab8f",
   "metadata": {},
   "outputs": [],
   "source": [
    "file2 = pd.read_csv('C:/Users/user/Desktop/NIA/project1/data/preprocessing/안동시 농기계 임대차 관리대장(18-20).csv')\n",
    "file2"
   ]
  },
  {
   "cell_type": "code",
   "execution_count": null,
   "id": "05977e71",
   "metadata": {},
   "outputs": [],
   "source": [
    "file2 = pd.read_excel('C:/Users/user/Desktop/NIA/project1/data/preprocessing/농기계 임대차 관리대장(2021년)edit.xlsx')\n",
    "file2"
   ]
  },
  {
   "cell_type": "code",
   "execution_count": null,
   "id": "014ef71d",
   "metadata": {},
   "outputs": [],
   "source": [
    "ari = list(file2['임대농기계'])\n",
    "ari\n",
    "\n",
    "def text_cleaning(text) :\n",
    "    hangul = re.compile('[a-z0-9_-]')\n",
    "    result = hangul.sub('', text)\n",
    "    result = re.sub('마력', '', result)\n",
    "    result = re.sub('/', '', result)\n",
    "    result = re.sub(' ', '', result)\n",
    "    return result\n",
    "\n",
    "text = [text_cleaning(i) for i in ari]\n",
    "print(text)"
   ]
  },
  {
   "cell_type": "code",
   "execution_count": null,
   "id": "2e3f5b18",
   "metadata": {},
   "outputs": [],
   "source": [
    "pd.set_option('display.max_row', 1000)\n",
    "pd.set_option('display.max_columns', 100)\n",
    "\n",
    "file2['임대농기계2'] = text\n",
    "file2"
   ]
  },
  {
   "cell_type": "code",
   "execution_count": null,
   "id": "7fac0b0a",
   "metadata": {
    "scrolled": false
   },
   "outputs": [],
   "source": [
    "df_inner_join = pd.merge(file1, file2, left_on='기종2', right_on='임대농기계2', how='inner')\n",
    "df_inner_join"
   ]
  },
  {
   "cell_type": "markdown",
   "id": "e9a5902c",
   "metadata": {},
   "source": [
    "# Join 농기계 임대차 관리대장(18-20) & 농기계 보유 농기계 목록 "
   ]
  },
  {
   "cell_type": "code",
   "execution_count": null,
   "id": "13173bfc",
   "metadata": {},
   "outputs": [],
   "source": [
    "df_left_join = pd.merge(file2, file1, left_on='임대농기계2', right_on='기종2', how='left')\n",
    "df_left_join"
   ]
  },
  {
   "cell_type": "code",
   "execution_count": null,
   "id": "4e1a4f3b",
   "metadata": {},
   "outputs": [],
   "source": [
    "df_left_join = df_left_join.drop(columns=['임대농기계', '임대농기계2', '구분', '기종', '기종2'], axis=1)"
   ]
  },
  {
   "cell_type": "code",
   "execution_count": null,
   "id": "dbaa02ff",
   "metadata": {},
   "outputs": [],
   "source": [
    "df_left_join.to_csv('C:/Users/user/Desktop/NIA/project1/data/preprocessing/농기계 임대 기준 left join(2021).csv', encoding = 'utf-8-sig', index = False)"
   ]
  },
  {
   "cell_type": "code",
   "execution_count": null,
   "id": "5a92fd13",
   "metadata": {},
   "outputs": [],
   "source": [
    "df_left_join.isnull().sum()"
   ]
  },
  {
   "cell_type": "code",
   "execution_count": null,
   "id": "ce60a305",
   "metadata": {},
   "outputs": [],
   "source": []
  }
 ],
 "metadata": {
  "kernelspec": {
   "display_name": "Python 3",
   "language": "python",
   "name": "python3"
  },
  "language_info": {
   "codemirror_mode": {
    "name": "ipython",
    "version": 3
   },
   "file_extension": ".py",
   "mimetype": "text/x-python",
   "name": "python",
   "nbconvert_exporter": "python",
   "pygments_lexer": "ipython3",
   "version": "3.8.8"
  }
 },
 "nbformat": 4,
 "nbformat_minor": 5
}
