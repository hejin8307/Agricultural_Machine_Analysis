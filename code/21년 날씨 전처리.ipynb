{
 "cells": [
  {
   "cell_type": "code",
   "execution_count": null,
   "id": "5c1fcefd",
   "metadata": {},
   "outputs": [],
   "source": [
    "import pandas as pd\n",
    "import numpy as np\n",
    "import matplotlib.pyplot as plt\n",
    "import seaborn as sns\n",
    "\n",
    "from datetime import datetime\n",
    "from datetime import timedelta\n"
   ]
  },
  {
   "cell_type": "code",
   "execution_count": null,
   "id": "759957ef",
   "metadata": {},
   "outputs": [],
   "source": [
    "a1=pd.read_csv('C:/Users/user/Desktop/안동/SURFACE_ASOS_136_MI_2021-01_2021-01_2021.csv',encoding='euc-kr')\n",
    "a2=pd.read_csv('C:/Users/user/Desktop/안동/SURFACE_ASOS_136_MI_2021-02_2021-02_2021.csv',encoding='euc-kr')\n",
    "a3=pd.read_csv('C:/Users/user/Desktop/안동/SURFACE_ASOS_136_MI_2021-03_2021-03_2021.csv',encoding='euc-kr')\n",
    "a4=pd.read_csv('C:/Users/user/Desktop/안동/SURFACE_ASOS_136_MI_2021-04_2021-04_2021.csv',encoding='euc-kr')\n",
    "a5=pd.read_csv('C:/Users/user/Desktop/안동/SURFACE_ASOS_136_MI_2021-05_2021-05_2021.csv',encoding='euc-kr')\n",
    "a6=pd.read_csv('C:/Users/user/Desktop/안동/SURFACE_ASOS_136_MI_2021-06_2021-06_2021.csv',encoding='euc-kr')\n",
    "a7=pd.read_csv('C:/Users/user/Desktop/안동/SURFACE_ASOS_136_MI_2021-07_2021-07_2021.csv',encoding='euc-kr')\n",
    "a8=pd.read_csv('C:/Users/user/Desktop/안동/SURFACE_ASOS_136_MI_2021-08_2021-08_2021.csv',encoding='euc-kr')\n",
    "a9=pd.read_csv('C:/Users/user/Desktop/안동/SURFACE_ASOS_136_MI_2021-09_2021-09_2021.csv',encoding='euc-kr')\n",
    "a10=pd.read_csv('C:/Users/user/Desktop/안동/SURFACE_ASOS_136_MI_2021-10_2021-10_2021.csv',encoding='euc-kr')\n",
    "a11=pd.read_csv('C:/Users/user/Desktop/안동/SURFACE_ASOS_136_MI_2021-11_2021-11_2021.csv',encoding='euc-kr')\n",
    "a12=pd.read_csv('C:/Users/user/Desktop/안동/SURFACE_ASOS_136_MI_2021-12_2021-12_2021.csv',encoding='euc-kr')\n",
    "\n"
   ]
  },
  {
   "cell_type": "code",
   "execution_count": null,
   "id": "77a86e45",
   "metadata": {},
   "outputs": [],
   "source": [
    "wet=pd.concat([a1,a2,a3,a4,a5,a6,a7,a8,a9,a10,a11,a12])"
   ]
  },
  {
   "cell_type": "code",
   "execution_count": null,
   "id": "3cb53a22",
   "metadata": {},
   "outputs": [],
   "source": [
    "wet"
   ]
  },
  {
   "cell_type": "code",
   "execution_count": null,
   "id": "1ccae4b7",
   "metadata": {},
   "outputs": [],
   "source": [
    "wet['일시']=wet['일시'].str.split().str[0]"
   ]
  },
  {
   "cell_type": "code",
   "execution_count": null,
   "id": "5439e08c",
   "metadata": {},
   "outputs": [],
   "source": [
    "wet"
   ]
  },
  {
   "cell_type": "code",
   "execution_count": null,
   "id": "be7d77a6",
   "metadata": {},
   "outputs": [],
   "source": [
    "wet=wet[wet['일시']!='2021-12-21']"
   ]
  },
  {
   "cell_type": "code",
   "execution_count": null,
   "id": "c89c1760",
   "metadata": {},
   "outputs": [],
   "source": [
    "wet_tem=wet[['일시','기온(°C)']].groupby('일시').mean()\n",
    "wet_tem"
   ]
  },
  {
   "cell_type": "code",
   "execution_count": null,
   "id": "c9ccb988",
   "metadata": {},
   "outputs": [],
   "source": [
    "wet_ra=wet[['일시','누적강수량(mm)']].groupby('일시').max()\n",
    "wet_ra"
   ]
  },
  {
   "cell_type": "code",
   "execution_count": null,
   "id": "58aa03a8",
   "metadata": {},
   "outputs": [],
   "source": [
    "wet_win=wet[['일시','풍속(m/s)']].groupby('일시').mean()\n",
    "wet_win"
   ]
  },
  {
   "cell_type": "code",
   "execution_count": null,
   "id": "718aaa25",
   "metadata": {},
   "outputs": [],
   "source": [
    "wet_wat=wet[['일시','습도(%)']].groupby('일시').mean()\n",
    "wet_wat"
   ]
  },
  {
   "cell_type": "code",
   "execution_count": null,
   "id": "f11980b4",
   "metadata": {},
   "outputs": [],
   "source": [
    "wet_sun=wet[['일시','일사(MJ/m^2)']].groupby('일시').max()\n",
    "wet_sun"
   ]
  },
  {
   "cell_type": "code",
   "execution_count": null,
   "id": "b4a46ed9",
   "metadata": {},
   "outputs": [],
   "source": [
    "wether=pd.concat([wet_tem,wet_ra,wet_win,wet_wat,wet_sun],join='inner',axis=1)\n",
    "wether"
   ]
  },
  {
   "cell_type": "code",
   "execution_count": null,
   "id": "b82bff6c",
   "metadata": {},
   "outputs": [],
   "source": [
    "wether=wether.reset_index()\n",
    "wether"
   ]
  },
  {
   "cell_type": "code",
   "execution_count": null,
   "id": "4b0b71af",
   "metadata": {},
   "outputs": [],
   "source": [
    "wether.rename(columns={'일시':'date','기온(°C)':'평균기온(°C)','누적강수량(mm)':'일강수량(mm)','풍속(m/s)':'평균 풍속(m/s)','습도(%)':'평균 상대습도(%)','일사(MJ/m^2)':'합계 일사량(MJ/m2)'},inplace=True)\n",
    "wether"
   ]
  },
  {
   "cell_type": "code",
   "execution_count": null,
   "id": "c6046f35",
   "metadata": {},
   "outputs": [],
   "source": [
    "pd.options.display.float_format = '{:.2f}'.format"
   ]
  },
  {
   "cell_type": "code",
   "execution_count": null,
   "id": "995c28cd",
   "metadata": {},
   "outputs": [],
   "source": [
    "wether"
   ]
  },
  {
   "cell_type": "code",
   "execution_count": null,
   "id": "6e349ea2",
   "metadata": {},
   "outputs": [],
   "source": [
    "wether.to_csv('C:/Users/user/Desktop/안동/wether_2021.csv',encoding='euc-kr')"
   ]
  },
  {
   "cell_type": "code",
   "execution_count": null,
   "id": "2584649d",
   "metadata": {},
   "outputs": [],
   "source": []
  }
 ],
 "metadata": {
  "kernelspec": {
   "display_name": "Python 3",
   "language": "python",
   "name": "python3"
  },
  "language_info": {
   "codemirror_mode": {
    "name": "ipython",
    "version": 3
   },
   "file_extension": ".py",
   "mimetype": "text/x-python",
   "name": "python",
   "nbconvert_exporter": "python",
   "pygments_lexer": "ipython3",
   "version": "3.8.8"
  }
 },
 "nbformat": 4,
 "nbformat_minor": 5
}
