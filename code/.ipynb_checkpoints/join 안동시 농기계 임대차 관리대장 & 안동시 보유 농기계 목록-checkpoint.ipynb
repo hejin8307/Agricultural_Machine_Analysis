{
 "cells": [
  {
   "cell_type": "markdown",
   "id": "dd43c02c",
   "metadata": {},
   "source": [
    "# Read Data"
   ]
  },
  {
   "cell_type": "code",
   "execution_count": null,
   "id": "7416378c",
   "metadata": {},
   "outputs": [],
   "source": [
    "pd.set_option('display.max_row', 1000)\n",
    "pd.set_option('display.max_columns', 100)"
   ]
  },
  {
   "cell_type": "markdown",
   "id": "3cf6f4d7",
   "metadata": {},
   "source": [
    "### Read and Merge 안동시 농기계 임대차 관리대장 2018 - 2020"
   ]
  },
  {
   "cell_type": "code",
   "execution_count": null,
   "id": "d8f8eece",
   "metadata": {
    "scrolled": true
   },
   "outputs": [],
   "source": [
    "import pandas as pd\n",
    "import re\n",
    "\n",
    "file2018 = pd.read_excel('C:/Users/user/Desktop/NIA/project1/data/original/안동시 농기계임대서비스 데이터 분석(비식별화)/안동시 농기계 임대차 관리대장(2018년)_비식별화.xlsx')\n",
    "# file2018 = file2018.style.hide_index()\n",
    "file2018 = file2018.rename(columns={'구분':'주소'})\n",
    "file2018"
   ]
  },
  {
   "cell_type": "code",
   "execution_count": null,
   "id": "11e2b4dc",
   "metadata": {},
   "outputs": [],
   "source": [
    "file2019 = pd.read_excel('C:/Users/user/Desktop/NIA/project1/data/original/안동시 농기계임대서비스 데이터 분석(비식별화)/안동시 농기계 임대차 관리대장(2019년)_비식별화.xlsx')\n",
    "file2019"
   ]
  },
  {
   "cell_type": "code",
   "execution_count": null,
   "id": "f3d03761",
   "metadata": {
    "scrolled": true
   },
   "outputs": [],
   "source": [
    "file2020 = pd.read_excel('C:/Users/user/Desktop/NIA/project1/data/original/안동시 농기계임대서비스 데이터 분석(비식별화)/안동시 농기계 임대차 관리대장(2020년)_비식별화.xlsx')\n",
    "file2020"
   ]
  },
  {
   "cell_type": "code",
   "execution_count": null,
   "id": "f826caab",
   "metadata": {},
   "outputs": [],
   "source": [
    "file1 = pd.concat([file2018, file2019, file2020], axis = 0)\n",
    "file1"
   ]
  },
  {
   "cell_type": "code",
   "execution_count": null,
   "id": "75aa8a59",
   "metadata": {},
   "outputs": [],
   "source": [
    "file1.to_csv('C:/Users/user/Desktop/NIA/project1/data/preprocessing/안동시 농기계 임대차 관리대장(18-20).csv', encoding = 'utf-8-sig', index = False)"
   ]
  },
  {
   "cell_type": "markdown",
   "id": "606e7752",
   "metadata": {},
   "source": [
    "### Read 안동시 보유 농기계 목록"
   ]
  },
  {
   "cell_type": "code",
   "execution_count": null,
   "id": "e5af5ebd",
   "metadata": {},
   "outputs": [],
   "source": [
    "file2 = pd.read_excel('C:/Users/user/Desktop/NIA/project1/data/original/안동시 보유 농기계 목록(형식, 규격 포함)_공공데이터기준분류.xls')\n",
    "file2\n",
    "\n",
    "file2 = file2.drop(index=[0, 1], axis=0)\n",
    "file2 = file2.drop(columns=['Unnamed: 4', 'Unnamed: 11'], axis=1)\n",
    "# # file2 = file2.style.hide_index()\n",
    "file2 = file2.rename(columns=file2.iloc[0])\n",
    "file2 = file2.drop(index=[2], axis=0)\n",
    "file2\n",
    "\n",
    "# type(file2)"
   ]
  },
  {
   "cell_type": "markdown",
   "id": "f686ef21",
   "metadata": {},
   "source": [
    "# Join"
   ]
  },
  {
   "cell_type": "code",
   "execution_count": null,
   "id": "d6fc2185",
   "metadata": {},
   "outputs": [],
   "source": [
    "df_inner_join = pd.merge(file1, file2, left_on='임대농기계', right_on='기종', how='inner')\n",
    "df_inner_join"
   ]
  },
  {
   "cell_type": "code",
   "execution_count": null,
   "id": "f398f33b",
   "metadata": {},
   "outputs": [],
   "source": [
    "df_outer_join = pd.merge(file1, file2, left_on='임대농기계', right_on='기종', how='outer')\n",
    "df_outer_join"
   ]
  },
  {
   "cell_type": "code",
   "execution_count": null,
   "id": "72106768",
   "metadata": {},
   "outputs": [],
   "source": [
    "df_left_join = pd.merge(file1, file2, left_on='임대농기계', right_on='기종', how='left')\n",
    "df_left_join"
   ]
  },
  {
   "cell_type": "code",
   "execution_count": null,
   "id": "92377648",
   "metadata": {},
   "outputs": [],
   "source": [
    "df_left_join.to_csv('C:/Users/user/Desktop/NIA/project1/data/preprocessing/안동시 농기계 임대차 관리대장(18-20) & 안동시 보유 농기계 목록 - left.csv', encoding = 'utf-8-sig', index = False)"
   ]
  },
  {
   "cell_type": "code",
   "execution_count": null,
   "id": "2affb2cb",
   "metadata": {},
   "outputs": [],
   "source": [
    "df_outer_join.to_csv('C:/Users/user/Desktop/NIA/project1/data/preprocessing/안동시 농기계 임대차 관리대장(18-20) & 안동시 보유 농기계 목록 - outer.csv', encoding = 'utf-8-sig', index = False)"
   ]
  }
 ],
 "metadata": {
  "kernelspec": {
   "display_name": "Python 3",
   "language": "python",
   "name": "python3"
  },
  "language_info": {
   "codemirror_mode": {
    "name": "ipython",
    "version": 3
   },
   "file_extension": ".py",
   "mimetype": "text/x-python",
   "name": "python",
   "nbconvert_exporter": "python",
   "pygments_lexer": "ipython3",
   "version": "3.8.8"
  }
 },
 "nbformat": 4,
 "nbformat_minor": 5
}
