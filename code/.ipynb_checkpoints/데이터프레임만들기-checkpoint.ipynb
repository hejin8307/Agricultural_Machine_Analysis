{
 "cells": [
  {
   "cell_type": "code",
   "execution_count": null,
   "id": "6c9148f6",
   "metadata": {},
   "outputs": [],
   "source": [
    "import pandas as pd\n",
    "import numpy as np\n",
    "import matplotlib.pyplot as plt\n",
    "import seaborn as sns\n",
    "\n",
    "from datetime import datetime\n",
    "from datetime import timedelta\n",
    "\n",
    "import matplotlib.pyplot as plt\n",
    "import matplotlib.font_manager as fm\n",
    "\n",
    "from statsmodels.formula.api import ols"
   ]
  },
  {
   "cell_type": "code",
   "execution_count": null,
   "id": "885b9ee9",
   "metadata": {},
   "outputs": [],
   "source": [
    "df=pd.read_csv('C:/Users/user/Desktop/안동/address.csv',encoding='euc-kr')\n",
    "df"
   ]
  },
  {
   "cell_type": "code",
   "execution_count": null,
   "id": "5a26ef09",
   "metadata": {},
   "outputs": [],
   "source": [
    "weather=df[['date','평균기온(°C)','일강수량(mm)','평균 풍속(m/s)','평균 상대습도(%)','합계 일사량(MJ/m2)']].drop_duplicates()\n",
    "weather"
   ]
  },
  {
   "cell_type": "code",
   "execution_count": null,
   "id": "7ea4f272",
   "metadata": {},
   "outputs": [],
   "source": [
    "weather.to_csv('C:/Users/user/Desktop/안동/wether.csv',encoding='euc-kr')"
   ]
  },
  {
   "cell_type": "code",
   "execution_count": null,
   "id": "9c242d68",
   "metadata": {},
   "outputs": [],
   "source": [
    "df.sort_values(by='date')"
   ]
  },
  {
   "cell_type": "code",
   "execution_count": null,
   "id": "ccd78c88",
   "metadata": {},
   "outputs": [],
   "source": [
    "wes=df[df['임대사업장']=='서부분소']\n",
    "nor=df[df['임대사업장']=='북부분소']\n",
    "cen=df[df['임대사업장']=='농업기술센터']"
   ]
  },
  {
   "cell_type": "markdown",
   "id": "37b5cebd",
   "metadata": {},
   "source": [
    "# 서부"
   ]
  },
  {
   "cell_type": "code",
   "execution_count": null,
   "id": "2d01823a",
   "metadata": {},
   "outputs": [],
   "source": [
    "westdata = pd.DataFrame({'건수' : wes.groupby(['종류','date'])[['종류','date']].size()}).reset_index()\n",
    "westdata = westdata.pivot(index = '종류', columns = 'date', values = '건수')\n",
    "westdata.fillna(0, inplace = True)\n",
    "westdata"
   ]
  },
  {
   "cell_type": "code",
   "execution_count": null,
   "id": "443a7e63",
   "metadata": {},
   "outputs": [],
   "source": [
    "westdata=westdata.T"
   ]
  },
  {
   "cell_type": "code",
   "execution_count": null,
   "id": "c4ec8620",
   "metadata": {},
   "outputs": [],
   "source": [
    "westdata"
   ]
  },
  {
   "cell_type": "code",
   "execution_count": null,
   "id": "f3ec71d3",
   "metadata": {},
   "outputs": [],
   "source": [
    "dt_index = pd.date_range(start='20180102', end='20210102')\n",
    "dt_list = dt_index.strftime(\"%Y-%m-%d\").tolist()\n",
    "df_date = pd.DataFrame( {'date' : dt_list})"
   ]
  },
  {
   "cell_type": "code",
   "execution_count": null,
   "id": "a1e5b5f1",
   "metadata": {},
   "outputs": [],
   "source": [
    "west1 = pd.merge(westdata, df_date, how = 'outer', on = 'date').sort_values('date').set_index('date')\n",
    "west1"
   ]
  },
  {
   "cell_type": "code",
   "execution_count": null,
   "id": "9b34937d",
   "metadata": {},
   "outputs": [],
   "source": [
    "west1.fillna(0, inplace = True)"
   ]
  },
  {
   "cell_type": "code",
   "execution_count": null,
   "id": "6969db73",
   "metadata": {},
   "outputs": [],
   "source": [
    "west1=west1.T"
   ]
  },
  {
   "cell_type": "code",
   "execution_count": null,
   "id": "8e35b401",
   "metadata": {},
   "outputs": [],
   "source": [
    "west1"
   ]
  },
  {
   "cell_type": "code",
   "execution_count": null,
   "id": "b2edeafd",
   "metadata": {},
   "outputs": [],
   "source": [
    "west1=west1.reset_index()"
   ]
  },
  {
   "cell_type": "code",
   "execution_count": null,
   "id": "89349c44",
   "metadata": {},
   "outputs": [],
   "source": [
    "west1"
   ]
  },
  {
   "cell_type": "code",
   "execution_count": null,
   "id": "8101612f",
   "metadata": {},
   "outputs": [],
   "source": [
    "jongryu_1=list(west1['index'])\n",
    "jongryu_1"
   ]
  },
  {
   "cell_type": "code",
   "execution_count": null,
   "id": "5acc4064",
   "metadata": {},
   "outputs": [],
   "source": [
    "west1=west1.set_index('index')\n",
    "west1"
   ]
  },
  {
   "cell_type": "code",
   "execution_count": null,
   "id": "a78f40fb",
   "metadata": {},
   "outputs": [],
   "source": [
    "nnn=[]\n",
    "nnn1=pd.DataFrame()\n",
    "for i in range(len(jongryu_1)):\n",
    "    nnn2=[]\n",
    "    nnn=west1.iloc[[i]].transpose().reset_index()\n",
    "    nnn=nnn.rename(columns={jongryu_1[i]:'건수'})\n",
    "    nnn['종류']=jongryu_1[i]\n",
    "    nnn2=nnn[['date','종류','건수']]\n",
    "    nnn1=pd.concat([nnn1,nnn2])\n",
    "nnn1"
   ]
  },
  {
   "cell_type": "code",
   "execution_count": null,
   "id": "4afd5cf7",
   "metadata": {},
   "outputs": [],
   "source": [
    " nnn1.head(50)"
   ]
  },
  {
   "cell_type": "code",
   "execution_count": null,
   "id": "17cd0dfc",
   "metadata": {},
   "outputs": [],
   "source": [
    "nnn1.to_csv('C:/Users/user/Desktop/안동/westdata.csv',encoding='euc-kr')"
   ]
  },
  {
   "cell_type": "markdown",
   "id": "87956a8e",
   "metadata": {},
   "source": [
    "# 북부"
   ]
  },
  {
   "cell_type": "code",
   "execution_count": null,
   "id": "2f36d53e",
   "metadata": {},
   "outputs": [],
   "source": [
    "nordata = pd.DataFrame({'건수' : nor.groupby(['종류','date'])[['종류','date']].size()}).reset_index()\n",
    "nordata = nordata.pivot(index = '종류', columns = 'date', values = '건수')\n",
    "nordata.fillna(0, inplace = True)\n",
    "nordata"
   ]
  },
  {
   "cell_type": "code",
   "execution_count": null,
   "id": "e36aaa7c",
   "metadata": {},
   "outputs": [],
   "source": [
    "nordata=nordata.T\n",
    "nordata"
   ]
  },
  {
   "cell_type": "code",
   "execution_count": null,
   "id": "41d47af1",
   "metadata": {},
   "outputs": [],
   "source": [
    "dt_index = pd.date_range(start='20180102', end='20210102')\n",
    "dt_list = dt_index.strftime(\"%Y-%m-%d\").tolist()\n",
    "df_date = pd.DataFrame( {'date' : dt_list})"
   ]
  },
  {
   "cell_type": "code",
   "execution_count": null,
   "id": "72bf1996",
   "metadata": {},
   "outputs": [],
   "source": [
    "nor1 = pd.merge(nordata, df_date, how = 'outer', on = 'date').sort_values('date').set_index('date')\n",
    "nor1"
   ]
  },
  {
   "cell_type": "code",
   "execution_count": null,
   "id": "974c487e",
   "metadata": {},
   "outputs": [],
   "source": [
    "nor1.fillna(0, inplace = True)\n",
    "nor1=nor1.T\n",
    "nor1"
   ]
  },
  {
   "cell_type": "code",
   "execution_count": null,
   "id": "ac23f3fb",
   "metadata": {},
   "outputs": [],
   "source": [
    "nor1=nor1.reset_index()\n",
    "nor1"
   ]
  },
  {
   "cell_type": "code",
   "execution_count": null,
   "id": "b706e0d7",
   "metadata": {},
   "outputs": [],
   "source": [
    "jongryu_2=list(nor1['index'])\n",
    "jongryu_2"
   ]
  },
  {
   "cell_type": "code",
   "execution_count": null,
   "id": "61d5f56c",
   "metadata": {},
   "outputs": [],
   "source": [
    "nor1=nor1.set_index('index')\n",
    "nor1"
   ]
  },
  {
   "cell_type": "code",
   "execution_count": null,
   "id": "98444016",
   "metadata": {},
   "outputs": [],
   "source": [
    "nnn=[]\n",
    "nnn1=pd.DataFrame()\n",
    "for i in range(len(jongryu_2)):\n",
    "    nnn2=[]\n",
    "    nnn=nor1.iloc[[i]].transpose().reset_index()\n",
    "    nnn=nnn.rename(columns={jongryu_2[i]:'건수'})\n",
    "    nnn['종류']=jongryu_2[i]\n",
    "    nnn2=nnn[['date','종류','건수']]\n",
    "    nnn1=pd.concat([nnn1,nnn2])\n",
    "nnn1"
   ]
  },
  {
   "cell_type": "code",
   "execution_count": null,
   "id": "5823c471",
   "metadata": {},
   "outputs": [],
   "source": [
    "# nnn1.to_csv('C:/Users/user/Desktop/안동/nordata.csv',encoding='euc-kr')"
   ]
  },
  {
   "cell_type": "markdown",
   "id": "f37ed963",
   "metadata": {},
   "source": [
    "# 농업기술센터"
   ]
  },
  {
   "cell_type": "code",
   "execution_count": null,
   "id": "7bf34a68",
   "metadata": {},
   "outputs": [],
   "source": [
    "cendata = pd.DataFrame({'건수' : cen.groupby(['종류','date'])[['종류','date']].size()}).reset_index()\n",
    "cendata = cendata.pivot(index = '종류', columns = 'date', values = '건수')\n",
    "cendata.fillna(0, inplace = True)\n",
    "cendata"
   ]
  },
  {
   "cell_type": "code",
   "execution_count": null,
   "id": "055ea702",
   "metadata": {},
   "outputs": [],
   "source": [
    "cendata=cendata.T\n",
    "cendata"
   ]
  },
  {
   "cell_type": "code",
   "execution_count": null,
   "id": "55afcec1",
   "metadata": {},
   "outputs": [],
   "source": [
    "dt_index = pd.date_range(start='20180102', end='20210102')\n",
    "dt_list = dt_index.strftime(\"%Y-%m-%d\").tolist()\n",
    "df_date = pd.DataFrame( {'date' : dt_list})"
   ]
  },
  {
   "cell_type": "code",
   "execution_count": null,
   "id": "73dcc6fd",
   "metadata": {},
   "outputs": [],
   "source": [
    "cen1 = pd.merge(cendata, df_date, how = 'outer', on = 'date').sort_values('date').set_index('date')\n",
    "cen1"
   ]
  },
  {
   "cell_type": "code",
   "execution_count": null,
   "id": "3cfd7719",
   "metadata": {},
   "outputs": [],
   "source": [
    "cen1.fillna(0, inplace = True)\n",
    "cen1=cen1.T\n",
    "cen1"
   ]
  },
  {
   "cell_type": "code",
   "execution_count": null,
   "id": "e377fbfa",
   "metadata": {},
   "outputs": [],
   "source": [
    "cen1=cen1.reset_index()\n",
    "cen1"
   ]
  },
  {
   "cell_type": "code",
   "execution_count": null,
   "id": "d0d70ca1",
   "metadata": {
    "scrolled": true
   },
   "outputs": [],
   "source": [
    "jongryu_3=list(cen1['index'])\n",
    "jongryu_3"
   ]
  },
  {
   "cell_type": "code",
   "execution_count": null,
   "id": "dce7732d",
   "metadata": {},
   "outputs": [],
   "source": [
    "cen1=cen1.set_index('index')\n",
    "cen1"
   ]
  },
  {
   "cell_type": "code",
   "execution_count": null,
   "id": "a9220ad2",
   "metadata": {},
   "outputs": [],
   "source": [
    "nnn=[]\n",
    "nnn1=pd.DataFrame()\n",
    "for i in range(len(jongryu_3)):\n",
    "    nnn2=[]\n",
    "    nnn=cen1.iloc[[i]].transpose().reset_index()\n",
    "    nnn=nnn.rename(columns={jongryu_3[i]:'건수'})\n",
    "    nnn['종류']=jongryu_3[i]\n",
    "    nnn2=nnn[['date','종류','건수']]\n",
    "    nnn1=pd.concat([nnn1,nnn2])\n",
    "nnn1"
   ]
  },
  {
   "cell_type": "code",
   "execution_count": null,
   "id": "391c5ba3",
   "metadata": {},
   "outputs": [],
   "source": [
    "#nnn1.to_csv('C:/Users/user/Desktop/안동/cendata.csv',encoding='euc-kr')"
   ]
  }
 ],
 "metadata": {
  "kernelspec": {
   "display_name": "Python 3",
   "language": "python",
   "name": "python3"
  },
  "language_info": {
   "codemirror_mode": {
    "name": "ipython",
    "version": 3
   },
   "file_extension": ".py",
   "mimetype": "text/x-python",
   "name": "python",
   "nbconvert_exporter": "python",
   "pygments_lexer": "ipython3",
   "version": "3.8.8"
  }
 },
 "nbformat": 4,
 "nbformat_minor": 5
}
