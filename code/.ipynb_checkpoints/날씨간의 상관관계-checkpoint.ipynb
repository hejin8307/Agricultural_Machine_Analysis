{
 "cells": [
  {
   "cell_type": "code",
   "execution_count": null,
   "id": "7b3f2054",
   "metadata": {},
   "outputs": [],
   "source": [
    "import pandas as pd\n",
    "import numpy as np\n",
    "import matplotlib.pyplot as plt\n",
    "import seaborn as sns\n",
    "\n",
    "from datetime import datetime\n",
    "from datetime import timedelta"
   ]
  },
  {
   "cell_type": "code",
   "execution_count": null,
   "id": "eae8ce74",
   "metadata": {},
   "outputs": [],
   "source": [
    "wether_21=pd.read_csv('C:/Users/user/Desktop/안동/wether_2021.csv',encoding='euc-kr')\n",
    "wether_21"
   ]
  },
  {
   "cell_type": "code",
   "execution_count": null,
   "id": "11873193",
   "metadata": {},
   "outputs": [],
   "source": [
    "wether=pd.read_csv('C:/Users/user/Desktop/안동/wether.csv',encoding='euc-kr')\n",
    "wether"
   ]
  },
  {
   "cell_type": "code",
   "execution_count": null,
   "id": "179aa1d7",
   "metadata": {},
   "outputs": [],
   "source": [
    "wether=wether[wether['date']!='2021-01-01']\n",
    "wether=wether[wether['date']!='2021-01-02']\n",
    "wether=wether.drop(['Unnamed: 0'],axis=1)\n",
    "wether_21=wether_21.drop(['Unnamed: 0'],axis=1)"
   ]
  },
  {
   "cell_type": "code",
   "execution_count": null,
   "id": "a5b9e3ee",
   "metadata": {},
   "outputs": [],
   "source": [
    "wet=pd.concat([wether,wether_21])\n",
    "wet"
   ]
  },
  {
   "cell_type": "code",
   "execution_count": null,
   "id": "fd55b687",
   "metadata": {},
   "outputs": [],
   "source": [
    "plt.rc(\"font\",family='Malgun Gothic')\n",
    "sns.set(font='Malgun Gothic',\n",
    "       rc={'axes.unicode_minus':False},\n",
    "       style='darkgrid')\n"
   ]
  },
  {
   "cell_type": "code",
   "execution_count": null,
   "id": "7d71dd6b",
   "metadata": {},
   "outputs": [],
   "source": [
    "data_cor=wet[['평균기온(°C)','일강수량(mm)','평균 풍속(m/s)','평균 상대습도(%)','합계 일사량(MJ/m2)']].corr(method=\"pearson\")\n",
    "fig, ax=plt.subplots(figsize=(7,7))\n",
    "\n",
    "mask=np.zeros_like(data_cor,dtype=np.bool)\n",
    "mask[np.triu_indices_from(mask)]=True\n",
    "\n",
    "sns.heatmap(data_cor, \n",
    "            cmap = 'RdYlBu_r', \n",
    "            annot = True,   # 실제 값을 표시한다\n",
    "            mask=mask,      # 표시하지 않을 마스크 부분을 지정한다\n",
    "            linewidths=.5,  # 경계면 실선으로 구분하기\n",
    "            cbar_kws={\"shrink\": .5},# 컬러바 크기 절반으로 줄이기\n",
    "            vmin = -1,vmax = 1   # 컬러바 범위 -1 ~ 1\n",
    "            ) \n",
    "plt.show()"
   ]
  },
  {
   "cell_type": "code",
   "execution_count": null,
   "id": "e35a69de",
   "metadata": {},
   "outputs": [],
   "source": []
  }
 ],
 "metadata": {
  "kernelspec": {
   "display_name": "Python 3",
   "language": "python",
   "name": "python3"
  },
  "language_info": {
   "codemirror_mode": {
    "name": "ipython",
    "version": 3
   },
   "file_extension": ".py",
   "mimetype": "text/x-python",
   "name": "python",
   "nbconvert_exporter": "python",
   "pygments_lexer": "ipython3",
   "version": "3.8.8"
  }
 },
 "nbformat": 4,
 "nbformat_minor": 5
}
