{
 "cells": [
  {
   "cell_type": "code",
   "execution_count": null,
   "id": "6b573f77",
   "metadata": {},
   "outputs": [],
   "source": [
    "import pandas as pd\n",
    "import numpy as np\n",
    "import matplotlib.pyplot as plt\n",
    "import seaborn as sns\n",
    "\n",
    "from datetime import datetime\n",
    "from datetime import timedelta\n"
   ]
  },
  {
   "cell_type": "code",
   "execution_count": null,
   "id": "b1f56ce9",
   "metadata": {},
   "outputs": [],
   "source": [
    "data=pd.read_csv('C:/Users/user/Desktop/안동/농기계 임대 기준 left join(2021).csv',encoding='utf-8')\n",
    "data"
   ]
  },
  {
   "cell_type": "code",
   "execution_count": null,
   "id": "6fa97a9e",
   "metadata": {},
   "outputs": [],
   "source": [
    "wether=pd.read_csv('C:/Users/user/Desktop/안동/wether_2021.csv',encoding='euc-kr')\n",
    "wether=wether.drop('Unnamed: 0',axis=1)\n",
    "wether"
   ]
  },
  {
   "cell_type": "markdown",
   "id": "5dbebd47",
   "metadata": {},
   "source": [
    "# 기간을 date로 바꾸기"
   ]
  },
  {
   "cell_type": "code",
   "execution_count": null,
   "id": "a2af7640",
   "metadata": {},
   "outputs": [],
   "source": [
    "data['기간'] = data['기간'].astype('str')\n",
    "data_split = data['기간'].str.split('∼')\n",
    "data_split"
   ]
  },
  {
   "cell_type": "code",
   "execution_count": null,
   "id": "8a338499",
   "metadata": {},
   "outputs": [],
   "source": [
    "data['임대시작기간']= data_split.str.get(0)\n",
    "data['임대반납기간'] = data_split.str.get(1)\n",
    "data['임대시작기간'] = pd.to_datetime(data['임대시작기간'])\n",
    "data['임대반납기간'] = pd.to_datetime(data['임대반납기간'])\n",
    "data"
   ]
  },
  {
   "cell_type": "code",
   "execution_count": null,
   "id": "3843b54f",
   "metadata": {},
   "outputs": [],
   "source": [
    "data_S=data[['임대시작기간','임대반납기간']]\n",
    "data_S"
   ]
  },
  {
   "cell_type": "code",
   "execution_count": null,
   "id": "118cf43b",
   "metadata": {},
   "outputs": [],
   "source": [
    "list=[]\n",
    "for i in range(10178):\n",
    "    dt=pd.date_range(data_S.iloc[i,0],data_S.iloc[i,1],freq='1D')\n",
    "    list.append(dt)\n",
    "print(list)"
   ]
  },
  {
   "cell_type": "code",
   "execution_count": null,
   "id": "768741f9",
   "metadata": {},
   "outputs": [],
   "source": [
    "df=pd.DataFrame(list) \n",
    "df.replace({np.nan: 0}, inplace = True)\n",
    "df"
   ]
  },
  {
   "cell_type": "code",
   "execution_count": null,
   "id": "e5770a95",
   "metadata": {},
   "outputs": [],
   "source": [
    "kk=pd.DataFrame()\n",
    "for i in range(31):\n",
    "    frame=pd.DataFrame()\n",
    "    frame=pd.concat([data,df[i]],axis=1)\n",
    "    frame=frame.rename(columns={i:'date'})\n",
    "    kk=pd.concat([kk,frame],axis=0)\n",
    "kk"
   ]
  },
  {
   "cell_type": "code",
   "execution_count": null,
   "id": "bba8471b",
   "metadata": {},
   "outputs": [],
   "source": [
    "kk1 = kk[kk['date']!=0]\n",
    "kk1"
   ]
  },
  {
   "cell_type": "code",
   "execution_count": null,
   "id": "b555c664",
   "metadata": {},
   "outputs": [],
   "source": [
    "kk2=kk1.sort_values(by=['no','date'])\n"
   ]
  },
  {
   "cell_type": "code",
   "execution_count": null,
   "id": "b81367b6",
   "metadata": {},
   "outputs": [],
   "source": [
    "kk2"
   ]
  },
  {
   "cell_type": "code",
   "execution_count": null,
   "id": "11cd85e1",
   "metadata": {},
   "outputs": [],
   "source": [
    "non_2021=kk2[['임대사업장','종류','date']]\n",
    "non_2021"
   ]
  },
  {
   "cell_type": "code",
   "execution_count": null,
   "id": "db4ff481",
   "metadata": {},
   "outputs": [],
   "source": [
    "non_2021['date']=non_2021['date'].astype(str)"
   ]
  },
  {
   "cell_type": "code",
   "execution_count": null,
   "id": "ab1b8b06",
   "metadata": {},
   "outputs": [],
   "source": [
    "non_2021['date']=non_2021['date'].str.split().str[0]"
   ]
  },
  {
   "cell_type": "code",
   "execution_count": null,
   "id": "bfcde89a",
   "metadata": {},
   "outputs": [],
   "source": [
    "non_2021['date'].value_counts().sort_values()"
   ]
  },
  {
   "cell_type": "code",
   "execution_count": null,
   "id": "6109708e",
   "metadata": {},
   "outputs": [],
   "source": [
    "non_2021=non_2021[non_2021['date']!='2021-12-21']\n",
    "non_2021=non_2021[non_2021['date']!='2021-12-22']\n",
    "non_2021=non_2021[non_2021['date']!='2021-12-23']\n",
    "df=non_2021"
   ]
  },
  {
   "cell_type": "code",
   "execution_count": null,
   "id": "c74d4841",
   "metadata": {},
   "outputs": [],
   "source": [
    "wes=df[df['임대사업장']=='서부분소']\n",
    "nor=df[df['임대사업장']=='북부분소']\n",
    "cen=df[df['임대사업장']=='농업기술센터']"
   ]
  },
  {
   "cell_type": "markdown",
   "id": "ffea15b7",
   "metadata": {},
   "source": [
    "# 일별 대여건수"
   ]
  },
  {
   "cell_type": "markdown",
   "id": "fac8584f",
   "metadata": {},
   "source": [
    "## 서부분소"
   ]
  },
  {
   "cell_type": "code",
   "execution_count": null,
   "id": "d9bcd086",
   "metadata": {},
   "outputs": [],
   "source": [
    "westdata = pd.DataFrame({'건수' : wes.groupby(['종류','date'])[['종류','date']].size()}).reset_index()\n",
    "westdata = westdata.pivot(index = '종류', columns = 'date', values = '건수')\n",
    "westdata.fillna(0, inplace = True)\n",
    "westdata"
   ]
  },
  {
   "cell_type": "code",
   "execution_count": null,
   "id": "b1b2a36d",
   "metadata": {},
   "outputs": [],
   "source": [
    "westdata=westdata.T\n",
    "westdata"
   ]
  },
  {
   "cell_type": "code",
   "execution_count": null,
   "id": "2b62b049",
   "metadata": {},
   "outputs": [],
   "source": [
    "dt_index = pd.date_range(start='20210101', end='20211220')\n",
    "dt_list = dt_index.strftime(\"%Y-%m-%d\").tolist()\n",
    "df_date = pd.DataFrame( {'date' : dt_list})"
   ]
  },
  {
   "cell_type": "code",
   "execution_count": null,
   "id": "12873a33",
   "metadata": {},
   "outputs": [],
   "source": [
    "west1 = pd.merge(westdata, df_date, how = 'outer', on = 'date').sort_values('date').set_index('date')\n",
    "west1"
   ]
  },
  {
   "cell_type": "code",
   "execution_count": null,
   "id": "607218dc",
   "metadata": {},
   "outputs": [],
   "source": [
    "west1.fillna(0, inplace = True)"
   ]
  },
  {
   "cell_type": "code",
   "execution_count": null,
   "id": "2bec5ec4",
   "metadata": {},
   "outputs": [],
   "source": [
    "west1=west1.T"
   ]
  },
  {
   "cell_type": "code",
   "execution_count": null,
   "id": "75810b3e",
   "metadata": {},
   "outputs": [],
   "source": [
    "west1=west1.reset_index()"
   ]
  },
  {
   "cell_type": "code",
   "execution_count": null,
   "id": "ede3c923",
   "metadata": {},
   "outputs": [],
   "source": [
    "west1"
   ]
  },
  {
   "cell_type": "code",
   "execution_count": null,
   "id": "e9274b48",
   "metadata": {},
   "outputs": [],
   "source": [
    "jongryu_1=west1['index'].values.tolist()\n",
    "jongryu_1"
   ]
  },
  {
   "cell_type": "code",
   "execution_count": null,
   "id": "caff9606",
   "metadata": {},
   "outputs": [],
   "source": [
    "west1=west1.set_index('index')\n",
    "west1"
   ]
  },
  {
   "cell_type": "code",
   "execution_count": null,
   "id": "609c482f",
   "metadata": {},
   "outputs": [],
   "source": [
    "nnn=[]\n",
    "nnn1=pd.DataFrame()\n",
    "for i in range(len(jongryu_1)):\n",
    "    nnn2=[]\n",
    "    nnn=west1.iloc[[i]].transpose().reset_index()\n",
    "    nnn=nnn.rename(columns={jongryu_1[i]:'건수'})\n",
    "    nnn['종류']=jongryu_1[i]\n",
    "    nnn2=nnn[['date','종류','건수']]\n",
    "    nnn1=pd.concat([nnn1,nnn2])\n",
    "nnn1"
   ]
  },
  {
   "cell_type": "code",
   "execution_count": null,
   "id": "c8a851c6",
   "metadata": {},
   "outputs": [],
   "source": [
    "west_21 = pd.merge(nnn1, wether, how = 'inner', on = 'date').sort_values('date').set_index('date')\n",
    "west_21"
   ]
  },
  {
   "cell_type": "code",
   "execution_count": null,
   "id": "bb6feae5",
   "metadata": {},
   "outputs": [],
   "source": [
    "pd.options.display.float_format = '{:.2f}'.format"
   ]
  },
  {
   "cell_type": "code",
   "execution_count": null,
   "id": "adc0781d",
   "metadata": {},
   "outputs": [],
   "source": [
    "west_21"
   ]
  },
  {
   "cell_type": "code",
   "execution_count": null,
   "id": "4ddf20f8",
   "metadata": {},
   "outputs": [],
   "source": [
    "# west_21.to_csv('C:/Users/user/Desktop/안동/west21.csv',encoding='euc-kr')"
   ]
  },
  {
   "cell_type": "markdown",
   "id": "84218490",
   "metadata": {},
   "source": [
    "## 북부분소"
   ]
  },
  {
   "cell_type": "code",
   "execution_count": null,
   "id": "d5b4bcae",
   "metadata": {},
   "outputs": [],
   "source": [
    "nordata = pd.DataFrame({'건수' : nor.groupby(['종류','date'])[['종류','date']].size()}).reset_index()\n",
    "nordata = nordata.pivot(index = '종류', columns = 'date', values = '건수')\n",
    "nordata.fillna(0, inplace = True)\n",
    "nordata"
   ]
  },
  {
   "cell_type": "code",
   "execution_count": null,
   "id": "390863ca",
   "metadata": {},
   "outputs": [],
   "source": [
    "nordata=nordata.T\n",
    "nordata"
   ]
  },
  {
   "cell_type": "code",
   "execution_count": null,
   "id": "fd61fe53",
   "metadata": {},
   "outputs": [],
   "source": [
    "dt_index = pd.date_range(start='20210101', end='20211220')\n",
    "dt_list = dt_index.strftime(\"%Y-%m-%d\").tolist()\n",
    "df_date = pd.DataFrame( {'date' : dt_list})"
   ]
  },
  {
   "cell_type": "code",
   "execution_count": null,
   "id": "c03ed480",
   "metadata": {},
   "outputs": [],
   "source": [
    "nor1 = pd.merge(nordata, df_date, how = 'outer', on = 'date').sort_values('date').set_index('date')\n",
    "nor1"
   ]
  },
  {
   "cell_type": "code",
   "execution_count": null,
   "id": "a0e463b5",
   "metadata": {},
   "outputs": [],
   "source": [
    "nor1.fillna(0, inplace = True)\n",
    "nor1=nor1.T\n",
    "nor1"
   ]
  },
  {
   "cell_type": "code",
   "execution_count": null,
   "id": "c956d9ae",
   "metadata": {},
   "outputs": [],
   "source": [
    "nor1=nor1.reset_index()\n",
    "nor1"
   ]
  },
  {
   "cell_type": "code",
   "execution_count": null,
   "id": "0e9bf058",
   "metadata": {},
   "outputs": [],
   "source": [
    "jongryu_2=nor1['index'].values.tolist()\n",
    "jongryu_2"
   ]
  },
  {
   "cell_type": "code",
   "execution_count": null,
   "id": "b2b3aac2",
   "metadata": {},
   "outputs": [],
   "source": [
    "nor1=nor1.set_index('index')\n",
    "nor1"
   ]
  },
  {
   "cell_type": "code",
   "execution_count": null,
   "id": "4b167d95",
   "metadata": {},
   "outputs": [],
   "source": [
    "nnn=[]\n",
    "nnn1=pd.DataFrame()\n",
    "for i in range(len(jongryu_2)):\n",
    "    nnn2=[]\n",
    "    nnn=nor1.iloc[[i]].transpose().reset_index()\n",
    "    nnn=nnn.rename(columns={jongryu_2[i]:'건수'})\n",
    "    nnn['종류']=jongryu_2[i]\n",
    "    nnn2=nnn[['date','종류','건수']]\n",
    "    nnn1=pd.concat([nnn1,nnn2])\n",
    "nnn1"
   ]
  },
  {
   "cell_type": "code",
   "execution_count": null,
   "id": "f050dc38",
   "metadata": {},
   "outputs": [],
   "source": [
    "nor_21 = pd.merge(nnn1, wether, how = 'inner', on = 'date').sort_values('date').set_index('date')\n",
    "nor_21"
   ]
  },
  {
   "cell_type": "code",
   "execution_count": null,
   "id": "dd8b7fc9",
   "metadata": {},
   "outputs": [],
   "source": [
    "# nor_21.to_csv('C:/Users/user/Desktop/안동/nor21.csv',encoding='euc-kr')"
   ]
  },
  {
   "cell_type": "markdown",
   "id": "ce6c6a73",
   "metadata": {},
   "source": [
    "## 농업기술센터"
   ]
  },
  {
   "cell_type": "code",
   "execution_count": null,
   "id": "5f658621",
   "metadata": {},
   "outputs": [],
   "source": [
    "cendata = pd.DataFrame({'건수' : cen.groupby(['종류','date'])[['종류','date']].size()}).reset_index()\n",
    "cendata = cendata.pivot(index = '종류', columns = 'date', values = '건수')\n",
    "cendata.fillna(0, inplace = True)\n",
    "cendata"
   ]
  },
  {
   "cell_type": "code",
   "execution_count": null,
   "id": "e7387f15",
   "metadata": {},
   "outputs": [],
   "source": [
    "cendata=cendata.T\n",
    "cendata"
   ]
  },
  {
   "cell_type": "code",
   "execution_count": null,
   "id": "0da994c8",
   "metadata": {},
   "outputs": [],
   "source": [
    "dt_index = pd.date_range(start='20210101', end='20211220')\n",
    "dt_list = dt_index.strftime(\"%Y-%m-%d\").tolist()\n",
    "df_date = pd.DataFrame( {'date' : dt_list})"
   ]
  },
  {
   "cell_type": "code",
   "execution_count": null,
   "id": "0241e7eb",
   "metadata": {},
   "outputs": [],
   "source": [
    "cen1 = pd.merge(cendata, df_date, how = 'outer', on = 'date').sort_values('date').set_index('date')\n",
    "cen1"
   ]
  },
  {
   "cell_type": "code",
   "execution_count": null,
   "id": "dea10ce9",
   "metadata": {},
   "outputs": [],
   "source": [
    "cen1.fillna(0, inplace = True)\n",
    "cen1=cen1.T\n",
    "cen1"
   ]
  },
  {
   "cell_type": "code",
   "execution_count": null,
   "id": "badd515c",
   "metadata": {},
   "outputs": [],
   "source": [
    "cen1=cen1.reset_index()\n",
    "cen1"
   ]
  },
  {
   "cell_type": "code",
   "execution_count": null,
   "id": "bc97a65f",
   "metadata": {},
   "outputs": [],
   "source": [
    "jongryu_3=cen1['index'].values.tolist()\n",
    "jongryu_3"
   ]
  },
  {
   "cell_type": "code",
   "execution_count": null,
   "id": "99e98bd0",
   "metadata": {},
   "outputs": [],
   "source": [
    "cen1=cen1.set_index('index')\n",
    "cen1"
   ]
  },
  {
   "cell_type": "code",
   "execution_count": null,
   "id": "58c1725b",
   "metadata": {},
   "outputs": [],
   "source": [
    "nnn=[]\n",
    "nnn1=pd.DataFrame()\n",
    "for i in range(len(jongryu_3)):\n",
    "    nnn2=[]\n",
    "    nnn=cen1.iloc[[i]].transpose().reset_index()\n",
    "    nnn=nnn.rename(columns={jongryu_3[i]:'건수'})\n",
    "    nnn['종류']=jongryu_3[i]\n",
    "    nnn2=nnn[['date','종류','건수']]\n",
    "    nnn1=pd.concat([nnn1,nnn2])\n",
    "nnn1"
   ]
  },
  {
   "cell_type": "code",
   "execution_count": null,
   "id": "d94f71f0",
   "metadata": {},
   "outputs": [],
   "source": [
    "cen_21 = pd.merge(nnn1, wether, how = 'inner', on = 'date').sort_values('date').set_index('date')\n",
    "cen_21"
   ]
  },
  {
   "cell_type": "code",
   "execution_count": null,
   "id": "147924a7",
   "metadata": {},
   "outputs": [],
   "source": [
    "# cen_21.to_csv('C:/Users/user/Desktop/안동/cen21.csv',encoding='euc-kr')"
   ]
  },
  {
   "cell_type": "code",
   "execution_count": null,
   "id": "28b38015",
   "metadata": {},
   "outputs": [],
   "source": []
  }
 ],
 "metadata": {
  "kernelspec": {
   "display_name": "Python 3",
   "language": "python",
   "name": "python3"
  },
  "language_info": {
   "codemirror_mode": {
    "name": "ipython",
    "version": 3
   },
   "file_extension": ".py",
   "mimetype": "text/x-python",
   "name": "python",
   "nbconvert_exporter": "python",
   "pygments_lexer": "ipython3",
   "version": "3.8.8"
  }
 },
 "nbformat": 4,
 "nbformat_minor": 5
}
