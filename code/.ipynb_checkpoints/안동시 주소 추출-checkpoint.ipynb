{
 "cells": [
  {
   "cell_type": "code",
   "execution_count": 1,
   "id": "5683d54d",
   "metadata": {},
   "outputs": [],
   "source": [
    "import pandas as pd\n",
    "import numpy as np\n",
    "import matplotlib.pyplot as plt\n",
    "import seaborn as sns\n",
    "import datetime"
   ]
  },
  {
   "cell_type": "code",
   "execution_count": 2,
   "id": "97262582",
   "metadata": {},
   "outputs": [
    {
     "data": {
      "text/html": [
       "<div>\n",
       "<style scoped>\n",
       "    .dataframe tbody tr th:only-of-type {\n",
       "        vertical-align: middle;\n",
       "    }\n",
       "\n",
       "    .dataframe tbody tr th {\n",
       "        vertical-align: top;\n",
       "    }\n",
       "\n",
       "    .dataframe thead th {\n",
       "        text-align: right;\n",
       "    }\n",
       "</style>\n",
       "<table border=\"1\" class=\"dataframe\">\n",
       "  <thead>\n",
       "    <tr style=\"text-align: right;\">\n",
       "      <th></th>\n",
       "      <th>임대사업장</th>\n",
       "      <th>주소</th>\n",
       "      <th>임대농기계2</th>\n",
       "      <th>구분</th>\n",
       "      <th>종류</th>\n",
       "      <th>기종2</th>\n",
       "      <th>임대시작기간</th>\n",
       "      <th>임대반납기간</th>\n",
       "      <th>date</th>\n",
       "      <th>일시</th>\n",
       "      <th>평균기온(°C)</th>\n",
       "      <th>일강수량(mm)</th>\n",
       "      <th>평균 풍속(m/s)</th>\n",
       "      <th>평균 상대습도(%)</th>\n",
       "      <th>합계 일사량(MJ/m2)</th>\n",
       "    </tr>\n",
       "  </thead>\n",
       "  <tbody>\n",
       "    <tr>\n",
       "      <th>0</th>\n",
       "      <td>서부분소</td>\n",
       "      <td>경상북도 안동시 풍산읍</td>\n",
       "      <td>서플라우(트)</td>\n",
       "      <td>트랙터및작업기</td>\n",
       "      <td>플라우</td>\n",
       "      <td>서플라우(트)</td>\n",
       "      <td>2018-04-20</td>\n",
       "      <td>2018-04-21</td>\n",
       "      <td>2018-04-20</td>\n",
       "      <td>2018-04-20</td>\n",
       "      <td>19.3</td>\n",
       "      <td>0.0</td>\n",
       "      <td>1.0</td>\n",
       "      <td>43.3</td>\n",
       "      <td>26.69</td>\n",
       "    </tr>\n",
       "    <tr>\n",
       "      <th>1</th>\n",
       "      <td>서부분소</td>\n",
       "      <td>경상북도 안동시 풍산읍</td>\n",
       "      <td>서플라우(트)</td>\n",
       "      <td>트랙터및작업기</td>\n",
       "      <td>플라우</td>\n",
       "      <td>서플라우(트)</td>\n",
       "      <td>2018-04-20</td>\n",
       "      <td>2018-04-21</td>\n",
       "      <td>2018-04-21</td>\n",
       "      <td>2018-04-21</td>\n",
       "      <td>21.3</td>\n",
       "      <td>0.0</td>\n",
       "      <td>1.4</td>\n",
       "      <td>40.0</td>\n",
       "      <td>27.05</td>\n",
       "    </tr>\n",
       "    <tr>\n",
       "      <th>2</th>\n",
       "      <td>서부분소</td>\n",
       "      <td>경상북도 안동시 풍산읍</td>\n",
       "      <td>서비료살포기(트)(PTO방식)</td>\n",
       "      <td>트랙터및작업기</td>\n",
       "      <td>비료살포기</td>\n",
       "      <td>서비료살포기(트)(PTO방식)</td>\n",
       "      <td>2018-04-03</td>\n",
       "      <td>2018-04-03</td>\n",
       "      <td>2018-04-03</td>\n",
       "      <td>2018-04-03</td>\n",
       "      <td>19.7</td>\n",
       "      <td>0.0</td>\n",
       "      <td>1.6</td>\n",
       "      <td>53.6</td>\n",
       "      <td>15.99</td>\n",
       "    </tr>\n",
       "    <tr>\n",
       "      <th>3</th>\n",
       "      <td>북부분소</td>\n",
       "      <td>경상북도 안동시 중구동</td>\n",
       "      <td>북인력파종기</td>\n",
       "      <td>자주형파종기</td>\n",
       "      <td>파종기</td>\n",
       "      <td>북인력파종기</td>\n",
       "      <td>2018-08-22</td>\n",
       "      <td>2018-08-26</td>\n",
       "      <td>2018-08-22</td>\n",
       "      <td>2018-08-22</td>\n",
       "      <td>29.3</td>\n",
       "      <td>0.0</td>\n",
       "      <td>2.4</td>\n",
       "      <td>63.1</td>\n",
       "      <td>20.56</td>\n",
       "    </tr>\n",
       "    <tr>\n",
       "      <th>4</th>\n",
       "      <td>북부분소</td>\n",
       "      <td>경상북도 안동시 중구동</td>\n",
       "      <td>북인력파종기</td>\n",
       "      <td>자주형파종기</td>\n",
       "      <td>파종기</td>\n",
       "      <td>북인력파종기</td>\n",
       "      <td>2018-08-22</td>\n",
       "      <td>2018-08-26</td>\n",
       "      <td>2018-08-23</td>\n",
       "      <td>2018-08-23</td>\n",
       "      <td>28.5</td>\n",
       "      <td>0.5</td>\n",
       "      <td>4.0</td>\n",
       "      <td>70.5</td>\n",
       "      <td>14.61</td>\n",
       "    </tr>\n",
       "    <tr>\n",
       "      <th>...</th>\n",
       "      <td>...</td>\n",
       "      <td>...</td>\n",
       "      <td>...</td>\n",
       "      <td>...</td>\n",
       "      <td>...</td>\n",
       "      <td>...</td>\n",
       "      <td>...</td>\n",
       "      <td>...</td>\n",
       "      <td>...</td>\n",
       "      <td>...</td>\n",
       "      <td>...</td>\n",
       "      <td>...</td>\n",
       "      <td>...</td>\n",
       "      <td>...</td>\n",
       "      <td>...</td>\n",
       "    </tr>\n",
       "    <tr>\n",
       "      <th>27535</th>\n",
       "      <td>농업기술센터</td>\n",
       "      <td>경상북도 안동시 송하동</td>\n",
       "      <td>콩정선기</td>\n",
       "      <td>탈곡기및정선기</td>\n",
       "      <td>콩정선기</td>\n",
       "      <td>콩정선기</td>\n",
       "      <td>2020-12-31</td>\n",
       "      <td>2020-12-31</td>\n",
       "      <td>2020-12-31</td>\n",
       "      <td>2020-12-31</td>\n",
       "      <td>-7.9</td>\n",
       "      <td>0.0</td>\n",
       "      <td>3.5</td>\n",
       "      <td>44.8</td>\n",
       "      <td>10.65</td>\n",
       "    </tr>\n",
       "    <tr>\n",
       "      <th>27536</th>\n",
       "      <td>서부분소</td>\n",
       "      <td>경상북도 안동시 풍천면</td>\n",
       "      <td>서땅속작물수확기(트)</td>\n",
       "      <td>트랙터및작업기</td>\n",
       "      <td>수확기</td>\n",
       "      <td>서땅속작물수확기(트)</td>\n",
       "      <td>2021-01-01</td>\n",
       "      <td>2021-01-02</td>\n",
       "      <td>2021-01-01</td>\n",
       "      <td>NaN</td>\n",
       "      <td>NaN</td>\n",
       "      <td>NaN</td>\n",
       "      <td>NaN</td>\n",
       "      <td>NaN</td>\n",
       "      <td>NaN</td>\n",
       "    </tr>\n",
       "    <tr>\n",
       "      <th>27537</th>\n",
       "      <td>서부분소</td>\n",
       "      <td>경상북도 안동시 풍천면</td>\n",
       "      <td>서땅속작물수확기(트)</td>\n",
       "      <td>트랙터및작업기</td>\n",
       "      <td>수확기</td>\n",
       "      <td>서땅속작물수확기(트)</td>\n",
       "      <td>2021-01-01</td>\n",
       "      <td>2021-01-02</td>\n",
       "      <td>2021-01-02</td>\n",
       "      <td>NaN</td>\n",
       "      <td>NaN</td>\n",
       "      <td>NaN</td>\n",
       "      <td>NaN</td>\n",
       "      <td>NaN</td>\n",
       "      <td>NaN</td>\n",
       "    </tr>\n",
       "    <tr>\n",
       "      <th>27538</th>\n",
       "      <td>북부분소</td>\n",
       "      <td>경상북도 안동시 도산면</td>\n",
       "      <td>북콩정선기</td>\n",
       "      <td>탈곡기및정선기</td>\n",
       "      <td>콩정선기</td>\n",
       "      <td>북콩정선기</td>\n",
       "      <td>2020-12-31</td>\n",
       "      <td>2020-12-31</td>\n",
       "      <td>2020-12-31</td>\n",
       "      <td>2020-12-31</td>\n",
       "      <td>-7.9</td>\n",
       "      <td>0.0</td>\n",
       "      <td>3.5</td>\n",
       "      <td>44.8</td>\n",
       "      <td>10.65</td>\n",
       "    </tr>\n",
       "    <tr>\n",
       "      <th>27539</th>\n",
       "      <td>서부분소</td>\n",
       "      <td>경상북도 안동시 풍산읍</td>\n",
       "      <td>서콩정선기</td>\n",
       "      <td>탈곡기및정선기</td>\n",
       "      <td>콩정선기</td>\n",
       "      <td>서콩정선기</td>\n",
       "      <td>2020-12-31</td>\n",
       "      <td>2020-12-31</td>\n",
       "      <td>2020-12-31</td>\n",
       "      <td>2020-12-31</td>\n",
       "      <td>-7.9</td>\n",
       "      <td>0.0</td>\n",
       "      <td>3.5</td>\n",
       "      <td>44.8</td>\n",
       "      <td>10.65</td>\n",
       "    </tr>\n",
       "  </tbody>\n",
       "</table>\n",
       "<p>27540 rows × 15 columns</p>\n",
       "</div>"
      ],
      "text/plain": [
       "        임대사업장            주소            임대농기계2       구분     종류  \\\n",
       "0        서부분소  경상북도 안동시 풍산읍           서플라우(트)  트랙터및작업기    플라우   \n",
       "1        서부분소  경상북도 안동시 풍산읍           서플라우(트)  트랙터및작업기    플라우   \n",
       "2        서부분소  경상북도 안동시 풍산읍  서비료살포기(트)(PTO방식)  트랙터및작업기  비료살포기   \n",
       "3        북부분소  경상북도 안동시 중구동            북인력파종기   자주형파종기    파종기   \n",
       "4        북부분소  경상북도 안동시 중구동            북인력파종기   자주형파종기    파종기   \n",
       "...       ...           ...               ...      ...    ...   \n",
       "27535  농업기술센터  경상북도 안동시 송하동              콩정선기  탈곡기및정선기   콩정선기   \n",
       "27536    서부분소  경상북도 안동시 풍천면       서땅속작물수확기(트)  트랙터및작업기    수확기   \n",
       "27537    서부분소  경상북도 안동시 풍천면       서땅속작물수확기(트)  트랙터및작업기    수확기   \n",
       "27538    북부분소  경상북도 안동시 도산면             북콩정선기  탈곡기및정선기   콩정선기   \n",
       "27539    서부분소  경상북도 안동시 풍산읍             서콩정선기  탈곡기및정선기   콩정선기   \n",
       "\n",
       "                    기종2      임대시작기간      임대반납기간        date          일시  \\\n",
       "0               서플라우(트)  2018-04-20  2018-04-21  2018-04-20  2018-04-20   \n",
       "1               서플라우(트)  2018-04-20  2018-04-21  2018-04-21  2018-04-21   \n",
       "2      서비료살포기(트)(PTO방식)  2018-04-03  2018-04-03  2018-04-03  2018-04-03   \n",
       "3                북인력파종기  2018-08-22  2018-08-26  2018-08-22  2018-08-22   \n",
       "4                북인력파종기  2018-08-22  2018-08-26  2018-08-23  2018-08-23   \n",
       "...                 ...         ...         ...         ...         ...   \n",
       "27535              콩정선기  2020-12-31  2020-12-31  2020-12-31  2020-12-31   \n",
       "27536       서땅속작물수확기(트)  2021-01-01  2021-01-02  2021-01-01         NaN   \n",
       "27537       서땅속작물수확기(트)  2021-01-01  2021-01-02  2021-01-02         NaN   \n",
       "27538             북콩정선기  2020-12-31  2020-12-31  2020-12-31  2020-12-31   \n",
       "27539             서콩정선기  2020-12-31  2020-12-31  2020-12-31  2020-12-31   \n",
       "\n",
       "       평균기온(°C)  일강수량(mm)  평균 풍속(m/s)  평균 상대습도(%)  합계 일사량(MJ/m2)  \n",
       "0          19.3       0.0         1.0        43.3          26.69  \n",
       "1          21.3       0.0         1.4        40.0          27.05  \n",
       "2          19.7       0.0         1.6        53.6          15.99  \n",
       "3          29.3       0.0         2.4        63.1          20.56  \n",
       "4          28.5       0.5         4.0        70.5          14.61  \n",
       "...         ...       ...         ...         ...            ...  \n",
       "27535      -7.9       0.0         3.5        44.8          10.65  \n",
       "27536       NaN       NaN         NaN         NaN            NaN  \n",
       "27537       NaN       NaN         NaN         NaN            NaN  \n",
       "27538      -7.9       0.0         3.5        44.8          10.65  \n",
       "27539      -7.9       0.0         3.5        44.8          10.65  \n",
       "\n",
       "[27540 rows x 15 columns]"
      ]
     },
     "execution_count": 2,
     "metadata": {},
     "output_type": "execute_result"
    }
   ],
   "source": [
    "file = pd.read_csv('C:/Users/user/Desktop/NIA/project1/data/preprocessing/with weather.csv', encoding = 'euc-kr')\n",
    "file = file.drop(columns = 'Unnamed: 0')\n",
    "file"
   ]
  },
  {
   "cell_type": "code",
   "execution_count": 3,
   "id": "9c47b373",
   "metadata": {},
   "outputs": [
    {
     "name": "stdout",
     "output_type": "stream",
     "text": [
      "<class 'pandas.core.frame.DataFrame'>\n",
      "RangeIndex: 27540 entries, 0 to 27539\n",
      "Data columns (total 15 columns):\n",
      " #   Column         Non-Null Count  Dtype  \n",
      "---  ------         --------------  -----  \n",
      " 0   임대사업장          27540 non-null  object \n",
      " 1   주소             27529 non-null  object \n",
      " 2   임대농기계2         27540 non-null  object \n",
      " 3   구분             27540 non-null  object \n",
      " 4   종류             27540 non-null  object \n",
      " 5   기종2            26887 non-null  object \n",
      " 6   임대시작기간         27540 non-null  object \n",
      " 7   임대반납기간         27540 non-null  object \n",
      " 8   date           27540 non-null  object \n",
      " 9   일시             27532 non-null  object \n",
      " 10  평균기온(°C)       27532 non-null  float64\n",
      " 11  일강수량(mm)       27532 non-null  float64\n",
      " 12  평균 풍속(m/s)     27532 non-null  float64\n",
      " 13  평균 상대습도(%)     27532 non-null  float64\n",
      " 14  합계 일사량(MJ/m2)  27532 non-null  float64\n",
      "dtypes: float64(5), object(10)\n",
      "memory usage: 3.2+ MB\n"
     ]
    }
   ],
   "source": [
    "file.info()"
   ]
  },
  {
   "cell_type": "code",
   "execution_count": 4,
   "id": "106a3105",
   "metadata": {},
   "outputs": [
    {
     "data": {
      "text/html": [
       "<div>\n",
       "<style scoped>\n",
       "    .dataframe tbody tr th:only-of-type {\n",
       "        vertical-align: middle;\n",
       "    }\n",
       "\n",
       "    .dataframe tbody tr th {\n",
       "        vertical-align: top;\n",
       "    }\n",
       "\n",
       "    .dataframe thead th {\n",
       "        text-align: right;\n",
       "    }\n",
       "</style>\n",
       "<table border=\"1\" class=\"dataframe\">\n",
       "  <thead>\n",
       "    <tr style=\"text-align: right;\">\n",
       "      <th></th>\n",
       "      <th>임대사업장</th>\n",
       "      <th>주소</th>\n",
       "      <th>임대농기계2</th>\n",
       "      <th>구분</th>\n",
       "      <th>종류</th>\n",
       "      <th>기종2</th>\n",
       "      <th>임대시작기간</th>\n",
       "      <th>임대반납기간</th>\n",
       "      <th>date</th>\n",
       "      <th>일시</th>\n",
       "      <th>평균기온(°C)</th>\n",
       "      <th>일강수량(mm)</th>\n",
       "      <th>평균 풍속(m/s)</th>\n",
       "      <th>평균 상대습도(%)</th>\n",
       "      <th>합계 일사량(MJ/m2)</th>\n",
       "    </tr>\n",
       "  </thead>\n",
       "  <tbody>\n",
       "    <tr>\n",
       "      <th>0</th>\n",
       "      <td>서부분소</td>\n",
       "      <td>경상북도 안동시 풍산읍</td>\n",
       "      <td>서플라우(트)</td>\n",
       "      <td>트랙터및작업기</td>\n",
       "      <td>플라우</td>\n",
       "      <td>서플라우(트)</td>\n",
       "      <td>2018-04-20</td>\n",
       "      <td>2018-04-21</td>\n",
       "      <td>2018-04-20</td>\n",
       "      <td>2018-04-20</td>\n",
       "      <td>19.3</td>\n",
       "      <td>0.0</td>\n",
       "      <td>1.0</td>\n",
       "      <td>43.3</td>\n",
       "      <td>26.69</td>\n",
       "    </tr>\n",
       "    <tr>\n",
       "      <th>1</th>\n",
       "      <td>서부분소</td>\n",
       "      <td>경상북도 안동시 풍산읍</td>\n",
       "      <td>서플라우(트)</td>\n",
       "      <td>트랙터및작업기</td>\n",
       "      <td>플라우</td>\n",
       "      <td>서플라우(트)</td>\n",
       "      <td>2018-04-20</td>\n",
       "      <td>2018-04-21</td>\n",
       "      <td>2018-04-21</td>\n",
       "      <td>2018-04-21</td>\n",
       "      <td>21.3</td>\n",
       "      <td>0.0</td>\n",
       "      <td>1.4</td>\n",
       "      <td>40.0</td>\n",
       "      <td>27.05</td>\n",
       "    </tr>\n",
       "    <tr>\n",
       "      <th>2</th>\n",
       "      <td>서부분소</td>\n",
       "      <td>경상북도 안동시 풍산읍</td>\n",
       "      <td>서비료살포기(트)(PTO방식)</td>\n",
       "      <td>트랙터및작업기</td>\n",
       "      <td>비료살포기</td>\n",
       "      <td>서비료살포기(트)(PTO방식)</td>\n",
       "      <td>2018-04-03</td>\n",
       "      <td>2018-04-03</td>\n",
       "      <td>2018-04-03</td>\n",
       "      <td>2018-04-03</td>\n",
       "      <td>19.7</td>\n",
       "      <td>0.0</td>\n",
       "      <td>1.6</td>\n",
       "      <td>53.6</td>\n",
       "      <td>15.99</td>\n",
       "    </tr>\n",
       "    <tr>\n",
       "      <th>3</th>\n",
       "      <td>북부분소</td>\n",
       "      <td>경상북도 안동시 중구동</td>\n",
       "      <td>북인력파종기</td>\n",
       "      <td>자주형파종기</td>\n",
       "      <td>파종기</td>\n",
       "      <td>북인력파종기</td>\n",
       "      <td>2018-08-22</td>\n",
       "      <td>2018-08-26</td>\n",
       "      <td>2018-08-22</td>\n",
       "      <td>2018-08-22</td>\n",
       "      <td>29.3</td>\n",
       "      <td>0.0</td>\n",
       "      <td>2.4</td>\n",
       "      <td>63.1</td>\n",
       "      <td>20.56</td>\n",
       "    </tr>\n",
       "    <tr>\n",
       "      <th>4</th>\n",
       "      <td>북부분소</td>\n",
       "      <td>경상북도 안동시 중구동</td>\n",
       "      <td>북인력파종기</td>\n",
       "      <td>자주형파종기</td>\n",
       "      <td>파종기</td>\n",
       "      <td>북인력파종기</td>\n",
       "      <td>2018-08-22</td>\n",
       "      <td>2018-08-26</td>\n",
       "      <td>2018-08-23</td>\n",
       "      <td>2018-08-23</td>\n",
       "      <td>28.5</td>\n",
       "      <td>0.5</td>\n",
       "      <td>4.0</td>\n",
       "      <td>70.5</td>\n",
       "      <td>14.61</td>\n",
       "    </tr>\n",
       "    <tr>\n",
       "      <th>...</th>\n",
       "      <td>...</td>\n",
       "      <td>...</td>\n",
       "      <td>...</td>\n",
       "      <td>...</td>\n",
       "      <td>...</td>\n",
       "      <td>...</td>\n",
       "      <td>...</td>\n",
       "      <td>...</td>\n",
       "      <td>...</td>\n",
       "      <td>...</td>\n",
       "      <td>...</td>\n",
       "      <td>...</td>\n",
       "      <td>...</td>\n",
       "      <td>...</td>\n",
       "      <td>...</td>\n",
       "    </tr>\n",
       "    <tr>\n",
       "      <th>27535</th>\n",
       "      <td>농업기술센터</td>\n",
       "      <td>경상북도 안동시 송하동</td>\n",
       "      <td>콩정선기</td>\n",
       "      <td>탈곡기및정선기</td>\n",
       "      <td>콩정선기</td>\n",
       "      <td>콩정선기</td>\n",
       "      <td>2020-12-31</td>\n",
       "      <td>2020-12-31</td>\n",
       "      <td>2020-12-31</td>\n",
       "      <td>2020-12-31</td>\n",
       "      <td>-7.9</td>\n",
       "      <td>0.0</td>\n",
       "      <td>3.5</td>\n",
       "      <td>44.8</td>\n",
       "      <td>10.65</td>\n",
       "    </tr>\n",
       "    <tr>\n",
       "      <th>27536</th>\n",
       "      <td>서부분소</td>\n",
       "      <td>경상북도 안동시 풍천면</td>\n",
       "      <td>서땅속작물수확기(트)</td>\n",
       "      <td>트랙터및작업기</td>\n",
       "      <td>수확기</td>\n",
       "      <td>서땅속작물수확기(트)</td>\n",
       "      <td>2021-01-01</td>\n",
       "      <td>2021-01-02</td>\n",
       "      <td>2021-01-01</td>\n",
       "      <td>NaN</td>\n",
       "      <td>NaN</td>\n",
       "      <td>NaN</td>\n",
       "      <td>NaN</td>\n",
       "      <td>NaN</td>\n",
       "      <td>NaN</td>\n",
       "    </tr>\n",
       "    <tr>\n",
       "      <th>27537</th>\n",
       "      <td>서부분소</td>\n",
       "      <td>경상북도 안동시 풍천면</td>\n",
       "      <td>서땅속작물수확기(트)</td>\n",
       "      <td>트랙터및작업기</td>\n",
       "      <td>수확기</td>\n",
       "      <td>서땅속작물수확기(트)</td>\n",
       "      <td>2021-01-01</td>\n",
       "      <td>2021-01-02</td>\n",
       "      <td>2021-01-02</td>\n",
       "      <td>NaN</td>\n",
       "      <td>NaN</td>\n",
       "      <td>NaN</td>\n",
       "      <td>NaN</td>\n",
       "      <td>NaN</td>\n",
       "      <td>NaN</td>\n",
       "    </tr>\n",
       "    <tr>\n",
       "      <th>27538</th>\n",
       "      <td>북부분소</td>\n",
       "      <td>경상북도 안동시 도산면</td>\n",
       "      <td>북콩정선기</td>\n",
       "      <td>탈곡기및정선기</td>\n",
       "      <td>콩정선기</td>\n",
       "      <td>북콩정선기</td>\n",
       "      <td>2020-12-31</td>\n",
       "      <td>2020-12-31</td>\n",
       "      <td>2020-12-31</td>\n",
       "      <td>2020-12-31</td>\n",
       "      <td>-7.9</td>\n",
       "      <td>0.0</td>\n",
       "      <td>3.5</td>\n",
       "      <td>44.8</td>\n",
       "      <td>10.65</td>\n",
       "    </tr>\n",
       "    <tr>\n",
       "      <th>27539</th>\n",
       "      <td>서부분소</td>\n",
       "      <td>경상북도 안동시 풍산읍</td>\n",
       "      <td>서콩정선기</td>\n",
       "      <td>탈곡기및정선기</td>\n",
       "      <td>콩정선기</td>\n",
       "      <td>서콩정선기</td>\n",
       "      <td>2020-12-31</td>\n",
       "      <td>2020-12-31</td>\n",
       "      <td>2020-12-31</td>\n",
       "      <td>2020-12-31</td>\n",
       "      <td>-7.9</td>\n",
       "      <td>0.0</td>\n",
       "      <td>3.5</td>\n",
       "      <td>44.8</td>\n",
       "      <td>10.65</td>\n",
       "    </tr>\n",
       "  </tbody>\n",
       "</table>\n",
       "<p>27300 rows × 15 columns</p>\n",
       "</div>"
      ],
      "text/plain": [
       "        임대사업장            주소            임대농기계2       구분     종류  \\\n",
       "0        서부분소  경상북도 안동시 풍산읍           서플라우(트)  트랙터및작업기    플라우   \n",
       "1        서부분소  경상북도 안동시 풍산읍           서플라우(트)  트랙터및작업기    플라우   \n",
       "2        서부분소  경상북도 안동시 풍산읍  서비료살포기(트)(PTO방식)  트랙터및작업기  비료살포기   \n",
       "3        북부분소  경상북도 안동시 중구동            북인력파종기   자주형파종기    파종기   \n",
       "4        북부분소  경상북도 안동시 중구동            북인력파종기   자주형파종기    파종기   \n",
       "...       ...           ...               ...      ...    ...   \n",
       "27535  농업기술센터  경상북도 안동시 송하동              콩정선기  탈곡기및정선기   콩정선기   \n",
       "27536    서부분소  경상북도 안동시 풍천면       서땅속작물수확기(트)  트랙터및작업기    수확기   \n",
       "27537    서부분소  경상북도 안동시 풍천면       서땅속작물수확기(트)  트랙터및작업기    수확기   \n",
       "27538    북부분소  경상북도 안동시 도산면             북콩정선기  탈곡기및정선기   콩정선기   \n",
       "27539    서부분소  경상북도 안동시 풍산읍             서콩정선기  탈곡기및정선기   콩정선기   \n",
       "\n",
       "                    기종2      임대시작기간      임대반납기간        date          일시  \\\n",
       "0               서플라우(트)  2018-04-20  2018-04-21  2018-04-20  2018-04-20   \n",
       "1               서플라우(트)  2018-04-20  2018-04-21  2018-04-21  2018-04-21   \n",
       "2      서비료살포기(트)(PTO방식)  2018-04-03  2018-04-03  2018-04-03  2018-04-03   \n",
       "3                북인력파종기  2018-08-22  2018-08-26  2018-08-22  2018-08-22   \n",
       "4                북인력파종기  2018-08-22  2018-08-26  2018-08-23  2018-08-23   \n",
       "...                 ...         ...         ...         ...         ...   \n",
       "27535              콩정선기  2020-12-31  2020-12-31  2020-12-31  2020-12-31   \n",
       "27536       서땅속작물수확기(트)  2021-01-01  2021-01-02  2021-01-01         NaN   \n",
       "27537       서땅속작물수확기(트)  2021-01-01  2021-01-02  2021-01-02         NaN   \n",
       "27538             북콩정선기  2020-12-31  2020-12-31  2020-12-31  2020-12-31   \n",
       "27539             서콩정선기  2020-12-31  2020-12-31  2020-12-31  2020-12-31   \n",
       "\n",
       "       평균기온(°C)  일강수량(mm)  평균 풍속(m/s)  평균 상대습도(%)  합계 일사량(MJ/m2)  \n",
       "0          19.3       0.0         1.0        43.3          26.69  \n",
       "1          21.3       0.0         1.4        40.0          27.05  \n",
       "2          19.7       0.0         1.6        53.6          15.99  \n",
       "3          29.3       0.0         2.4        63.1          20.56  \n",
       "4          28.5       0.5         4.0        70.5          14.61  \n",
       "...         ...       ...         ...         ...            ...  \n",
       "27535      -7.9       0.0         3.5        44.8          10.65  \n",
       "27536       NaN       NaN         NaN         NaN            NaN  \n",
       "27537       NaN       NaN         NaN         NaN            NaN  \n",
       "27538      -7.9       0.0         3.5        44.8          10.65  \n",
       "27539      -7.9       0.0         3.5        44.8          10.65  \n",
       "\n",
       "[27300 rows x 15 columns]"
      ]
     },
     "execution_count": 4,
     "metadata": {},
     "output_type": "execute_result"
    }
   ],
   "source": [
    "file = file[file['주소'].str.contains('안동시', na = False)]\n",
    "file"
   ]
  },
  {
   "cell_type": "code",
   "execution_count": 5,
   "id": "e1b01de1",
   "metadata": {},
   "outputs": [
    {
     "name": "stderr",
     "output_type": "stream",
     "text": [
      "C:\\Users\\user\\anaconda3\\lib\\site-packages\\pandas\\core\\indexing.py:1720: SettingWithCopyWarning: \n",
      "A value is trying to be set on a copy of a slice from a DataFrame.\n",
      "Try using .loc[row_indexer,col_indexer] = value instead\n",
      "\n",
      "See the caveats in the documentation: https://pandas.pydata.org/pandas-docs/stable/user_guide/indexing.html#returning-a-view-versus-a-copy\n",
      "  self._setitem_single_column(loc, value, pi)\n"
     ]
    }
   ],
   "source": [
    "file.loc[file['주소'] == '경상북도 안동시 경동로 977-6 5주공아파트', '주소'] = '경상북도 안동시 용상동'"
   ]
  },
  {
   "cell_type": "code",
   "execution_count": 6,
   "id": "06ae81c1",
   "metadata": {},
   "outputs": [],
   "source": [
    "file.loc[file['주소'] == '경상북도 안동시 경동로 977-6 1주공아파트', '주소'] = '경상북도 안동시 용상동'"
   ]
  },
  {
   "cell_type": "code",
   "execution_count": 7,
   "id": "0298fe0b",
   "metadata": {},
   "outputs": [],
   "source": [
    "file.loc[file['주소'] == '경상북도 안동시 제봉길 387-14', '주소'] = '경상북도 안동시 노하동'"
   ]
  },
  {
   "cell_type": "code",
   "execution_count": 8,
   "id": "41e53fad",
   "metadata": {},
   "outputs": [],
   "source": [
    "file.loc[file['주소'] == '경상복도안동시경동로977-6 509동404호', '주소'] = '경상북도 안동시 용상동'"
   ]
  },
  {
   "cell_type": "code",
   "execution_count": 9,
   "id": "7c120363",
   "metadata": {},
   "outputs": [],
   "source": [
    "file.loc[file['주소'] == '경상북도 안동시 경동로 583 (옥야동)', '주소'] = '경상북도 안동시 옥야동'"
   ]
  },
  {
   "cell_type": "code",
   "execution_count": 10,
   "id": "45b98898",
   "metadata": {},
   "outputs": [],
   "source": [
    "file.loc[file['주소'] == '경상북도 안동시 어가골윗길 29-16', '주소'] = '경상북도 안동시 태화동'"
   ]
  },
  {
   "cell_type": "code",
   "execution_count": 11,
   "id": "ac97429d",
   "metadata": {},
   "outputs": [],
   "source": [
    "file.loc[file['주소'] == '경북 안동시 경동로 1533-2', '주소'] = '경상북도 안동시 송천동'"
   ]
  },
  {
   "cell_type": "code",
   "execution_count": 12,
   "id": "fd8a363f",
   "metadata": {},
   "outputs": [],
   "source": [
    "file.loc[file['주소'] == '경상북도 안동시 경북대로 438', '주소'] = '경상북도 안동시 옥동'"
   ]
  },
  {
   "cell_type": "code",
   "execution_count": 13,
   "id": "adb10294",
   "metadata": {},
   "outputs": [],
   "source": [
    "file.loc[file['주소'] == '경상북도 안동시 남부동 경동로 669-4', '주소'] = '경상북도 안동시 남부동'"
   ]
  },
  {
   "cell_type": "code",
   "execution_count": 14,
   "id": "e66ff483",
   "metadata": {},
   "outputs": [],
   "source": [
    "file.loc[file['주소'] == '경상북도 안동시 경동로 1276-13', '주소'] = '경상북도 안동시 송천동'"
   ]
  },
  {
   "cell_type": "code",
   "execution_count": 15,
   "id": "e8ed9db4",
   "metadata": {},
   "outputs": [],
   "source": [
    "file.loc[file['주소'] == '경북 안동시 원학로 2', '주소'] = '경상북도 안동시 예안면'"
   ]
  },
  {
   "cell_type": "code",
   "execution_count": 16,
   "id": "de809945",
   "metadata": {},
   "outputs": [],
   "source": [
    "file.loc[file['주소'] == '경상북도 안동시 경동로 451-1', '주소'] = '경상북도 안동시 태화동'"
   ]
  },
  {
   "cell_type": "code",
   "execution_count": 17,
   "id": "bc6c1e23",
   "metadata": {},
   "outputs": [],
   "source": [
    "file.loc[file['주소'] == '경상북도 안동시 경북대로 674-58', '주소'] = '경상북도 안동시 송현동'"
   ]
  },
  {
   "cell_type": "code",
   "execution_count": 18,
   "id": "c1d0a542",
   "metadata": {},
   "outputs": [],
   "source": [
    "file.loc[file['주소'] == '안동시 말구리길87.태성@1506호', '주소'] = '경상북도 안동시 태화동'"
   ]
  },
  {
   "cell_type": "code",
   "execution_count": 19,
   "id": "98794f8a",
   "metadata": {},
   "outputs": [],
   "source": [
    "file.loc[file['주소'] == '경상북도 안동시 말구리길 87', '주소'] = '경상북도 안동시 태화동'"
   ]
  },
  {
   "cell_type": "code",
   "execution_count": 20,
   "id": "c795f2ac",
   "metadata": {},
   "outputs": [],
   "source": [
    "file.loc[file['주소'] == '경상북도 안동시 뱀바위길 206-23', '주소'] = '경상북도 안동시 정하동'"
   ]
  },
  {
   "cell_type": "code",
   "execution_count": 21,
   "id": "b39cbe0e",
   "metadata": {},
   "outputs": [],
   "source": [
    "file.loc[file['주소'] == '경상북도 안동시 경동로 905', '주소'] = '경상북도 안동시 용상동'"
   ]
  },
  {
   "cell_type": "code",
   "execution_count": 22,
   "id": "a20dea7d",
   "metadata": {},
   "outputs": [],
   "source": [
    "file.loc[file['주소'] == '경상북도 안동시 육사로 203 (운흥동)', '주소'] = '경상북도 안동시 운흥동'"
   ]
  },
  {
   "cell_type": "code",
   "execution_count": 23,
   "id": "b9834461",
   "metadata": {},
   "outputs": [],
   "source": [
    "file.loc[file['주소'] == '안동시 경동로 977-6 .501동 101호', '주소'] = '경상북도 안동시 용상동'"
   ]
  },
  {
   "cell_type": "code",
   "execution_count": 24,
   "id": "fdc2a5fe",
   "metadata": {},
   "outputs": [],
   "source": [
    "file.loc[file['주소'] == '경상북도 안동시 경동로 1276-13', '주소'] = '경상북도 안동시 송천동'"
   ]
  },
  {
   "cell_type": "code",
   "execution_count": 25,
   "id": "6ca52d47",
   "metadata": {},
   "outputs": [],
   "source": [
    "file.loc[file['주소'] == '안동시 감나무길 63 (2층)', '주소'] = '경상북도 안동시 태화동'"
   ]
  },
  {
   "cell_type": "code",
   "execution_count": 26,
   "id": "b654a050",
   "metadata": {},
   "outputs": [],
   "source": [
    "file.loc[file['주소'] == '경상북도 안동시 대안로 166 (남부동)', '주소'] = '경상북도 안동시 남부동'"
   ]
  },
  {
   "cell_type": "code",
   "execution_count": 27,
   "id": "9c4164a9",
   "metadata": {},
   "outputs": [],
   "source": [
    "file.loc[file['주소'] == '경북 안동시 축제장2길 34', '주소'] = '경상북도 안동시 운흥동'"
   ]
  },
  {
   "cell_type": "code",
   "execution_count": 28,
   "id": "c766dc36",
   "metadata": {},
   "outputs": [],
   "source": [
    "file.loc[file['주소'] == '경북 안동시 경동로 1542', '주소'] = '경상북도 안동시 송천동'"
   ]
  },
  {
   "cell_type": "code",
   "execution_count": 29,
   "id": "4c9c2073",
   "metadata": {},
   "outputs": [],
   "source": [
    "file.loc[file['주소'] == '경상북도 안동시 음식의길 32-10 (운흥동)', '주소'] = '경상북도 안동시 운흥동'"
   ]
  },
  {
   "cell_type": "code",
   "execution_count": 30,
   "id": "3ca02ec6",
   "metadata": {},
   "outputs": [],
   "source": [
    "file.loc[file['주소'] == '경상북도 안동시 경동로 905', '주소'] = '경상북도 안동시 용상동'"
   ]
  },
  {
   "cell_type": "code",
   "execution_count": 31,
   "id": "e270daf7",
   "metadata": {},
   "outputs": [],
   "source": [
    "file.loc[file['주소'] == '안동시 경북대로 472', '주소'] = '경상북도 안동시 송현동'"
   ]
  },
  {
   "cell_type": "code",
   "execution_count": 32,
   "id": "80d618f6",
   "metadata": {},
   "outputs": [],
   "source": [
    "file.loc[file['주소'] == '안동시 어갓골윗길 29-16.A동 102호', '주소'] = '경상북도 안동시 태화동'"
   ]
  },
  {
   "cell_type": "code",
   "execution_count": 33,
   "id": "de97b095",
   "metadata": {},
   "outputs": [],
   "source": [
    "file.loc[file['주소'] == '경상북도 안동시 경동로 1276-13', '주소'] = '경상북도 안동시 송천동'"
   ]
  },
  {
   "cell_type": "code",
   "execution_count": 34,
   "id": "6f3b9453",
   "metadata": {},
   "outputs": [],
   "source": [
    "file.loc[file['주소'] == '안동시 경동로 1010-2', '주소'] = '경상북도 안동시 용상동'"
   ]
  },
  {
   "cell_type": "code",
   "execution_count": 35,
   "id": "c2be0f89",
   "metadata": {},
   "outputs": [],
   "source": [
    "file.loc[file['주소'] == '안동시 경동로 977-6 .501동 101호', '주소'] = '경상북도 안동시 용상동'"
   ]
  },
  {
   "cell_type": "code",
   "execution_count": 36,
   "id": "10212b5b",
   "metadata": {},
   "outputs": [],
   "source": [
    "file.loc[file['주소'] == '경상북도 안동시 경동로 977-6 5주공아파트', '주소'] = '경상북도 안동시 용상동'"
   ]
  },
  {
   "cell_type": "code",
   "execution_count": 37,
   "id": "a93549b4",
   "metadata": {},
   "outputs": [],
   "source": [
    "file.loc[file['주소'] == '경상북도 안동시 경동로 977-6 주공5아파트 502동 601호', '주소'] = '경상북도 안동시 용상동'"
   ]
  },
  {
   "cell_type": "code",
   "execution_count": 38,
   "id": "fd1d1f77",
   "metadata": {},
   "outputs": [],
   "source": [
    "file.loc[file['주소'] == '경북 안동시 치이골1길 35-34', '주소'] = '경상북도 안동시 신안동'"
   ]
  },
  {
   "cell_type": "code",
   "execution_count": 39,
   "id": "3a11152c",
   "metadata": {},
   "outputs": [],
   "source": [
    "file.loc[file['주소'] == '경상북도 안동시 경동로 903 1주공아파트', '주소'] = '경상북도 안동시 용상동'"
   ]
  },
  {
   "cell_type": "code",
   "execution_count": 40,
   "id": "e044f19c",
   "metadata": {},
   "outputs": [],
   "source": [
    "file.loc[file['주소'] == '안동시 합전길 12.손현동 우성@103/1509호.', '주소'] = '경상북도 안동시 송현동'"
   ]
  },
  {
   "cell_type": "code",
   "execution_count": 41,
   "id": "950e5a07",
   "metadata": {},
   "outputs": [],
   "source": [
    "file.loc[file['주소'] == '안동시 경동로 977-5. 602동 801호', '주소'] = '경상북도 안동시 용상동'"
   ]
  },
  {
   "cell_type": "code",
   "execution_count": 42,
   "id": "04b236a6",
   "metadata": {},
   "outputs": [],
   "source": [
    "file.loc[file['주소'] == '경북 안동시 평화동', '주소'] = '경상북도 안동시 평화동'"
   ]
  },
  {
   "cell_type": "code",
   "execution_count": 43,
   "id": "6574014f",
   "metadata": {},
   "outputs": [],
   "source": [
    "file = file[file['주소'] != '경상북도 안동시']"
   ]
  },
  {
   "cell_type": "code",
   "execution_count": 44,
   "id": "bf0eab50",
   "metadata": {},
   "outputs": [],
   "source": [
    "file.to_csv('C:/Users/user/Desktop/NIA/project1/data/preprocessing/address.csv', encoding = 'euc-kr')"
   ]
  },
  {
   "cell_type": "code",
   "execution_count": null,
   "id": "c3e79160",
   "metadata": {},
   "outputs": [],
   "source": []
  },
  {
   "cell_type": "code",
   "execution_count": null,
   "id": "da901895",
   "metadata": {},
   "outputs": [],
   "source": []
  }
 ],
 "metadata": {
  "kernelspec": {
   "display_name": "Python 3",
   "language": "python",
   "name": "python3"
  },
  "language_info": {
   "codemirror_mode": {
    "name": "ipython",
    "version": 3
   },
   "file_extension": ".py",
   "mimetype": "text/x-python",
   "name": "python",
   "nbconvert_exporter": "python",
   "pygments_lexer": "ipython3",
   "version": "3.8.8"
  }
 },
 "nbformat": 4,
 "nbformat_minor": 5
}
