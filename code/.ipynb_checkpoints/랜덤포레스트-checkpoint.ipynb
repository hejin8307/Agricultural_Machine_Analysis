{
 "cells": [
  {
   "cell_type": "code",
   "execution_count": null,
   "id": "2447d138",
   "metadata": {},
   "outputs": [],
   "source": [
    "import pandas as pd\n",
    "import numpy as np\n",
    "import matplotlib.pyplot as plt\n",
    "import seaborn as sns\n",
    "\n",
    "from datetime import datetime\n",
    "from datetime import timedelta\n",
    "\n",
    "import matplotlib.pyplot as plt\n",
    "import matplotlib.font_manager as fm\n",
    "\n",
    "from statsmodels.formula.api import ols\n",
    "from sklearn.ensemble import RandomForestRegressor\n",
    "from sklearn.model_selection import train_test_split\n",
    "\n",
    "from sklearn.metrics import mean_absolute_error\n",
    "from sklearn.metrics import mean_squared_error\n",
    "from sklearn.metrics import r2_score\n",
    "from sklearn.model_selection import GridSearchCV\n",
    "from sklearn.metrics import make_scorer\n",
    "from sklearn.metrics import accuracy_score\n",
    "from sklearn.preprocessing import MinMaxScaler\n",
    "\n",
    "import random"
   ]
  },
  {
   "cell_type": "code",
   "execution_count": null,
   "id": "2705dafd",
   "metadata": {},
   "outputs": [],
   "source": [
    "def rmse(p,a):\n",
    "    difference=p-a\n",
    "    squared=difference**2\n",
    "    mean=squared.mean()\n",
    "    score=np.sqrt(mean)\n",
    "    return score"
   ]
  },
  {
   "cell_type": "code",
   "execution_count": null,
   "id": "b0e27d84",
   "metadata": {},
   "outputs": [],
   "source": [
    "rmse_scorer=make_scorer(rmse, greater_is_better=False)\n",
    "rmse_scorer"
   ]
  },
  {
   "cell_type": "code",
   "execution_count": null,
   "id": "5d88bae1",
   "metadata": {},
   "outputs": [],
   "source": [
    "cen=pd.read_csv('C:/Users/user/Desktop/안동/cen with month.csv',encoding='euc-kr')\n",
    "nor=pd.read_csv('C:/Users/user/Desktop/안동/nor with month.csv',encoding='euc-kr')\n",
    "wes=pd.read_csv('C:/Users/user/Desktop/안동/wes with month.csv',encoding='euc-kr')"
   ]
  },
  {
   "cell_type": "code",
   "execution_count": null,
   "id": "ff6273aa",
   "metadata": {},
   "outputs": [],
   "source": [
    "cen_21=pd.read_csv('C:/Users/user/Desktop/안동/cen21 with month.csv',encoding='euc-kr')\n",
    "nor_21=pd.read_csv('C:/Users/user/Desktop/안동/nor21 with month.csv',encoding='euc-kr')\n",
    "wes_21=pd.read_csv('C:/Users/user/Desktop/안동/wes21 with month.csv',encoding='euc-kr')"
   ]
  },
  {
   "cell_type": "code",
   "execution_count": null,
   "id": "232e43fc",
   "metadata": {},
   "outputs": [],
   "source": [
    "cen=cen.drop(['Unnamed: 0','date'],axis=1)\n",
    "wes=wes.drop(['Unnamed: 0','date'],axis=1)\n",
    "nor=nor.drop(['Unnamed: 0','date'],axis=1)\n",
    "cen_21=cen_21.drop(['Unnamed: 0','date'],axis=1)\n",
    "wes_21=wes_21.drop(['Unnamed: 0','date'],axis=1)\n",
    "nor_21=nor_21.drop(['Unnamed: 0','date'],axis=1)\n"
   ]
  },
  {
   "cell_type": "code",
   "execution_count": null,
   "id": "a05efb5f",
   "metadata": {},
   "outputs": [],
   "source": [
    "cen"
   ]
  },
  {
   "cell_type": "code",
   "execution_count": null,
   "id": "b0c2beb1",
   "metadata": {},
   "outputs": [],
   "source": [
    "jon_cen=list(['콩정선기', '동력예취기', '그레이더', '농산물탈피기', '농업용고소작업차', '농업용동력운반차', '동력분무기', '동력파종기', '보행경운기', '승용관리기', '잔가지파쇄기', '곡물정선기'])\n",
    "jon_nor=list(['콩정선기', '농산물탈피기', '모우어', '보행경운기', '잔가지파쇄기'])\n",
    "jon_wes=list(['콩정선기', '농산물탈피기', '모우어', '잔가지파쇄기'])"
   ]
  },
  {
   "cell_type": "code",
   "execution_count": null,
   "id": "9b7dc05a",
   "metadata": {},
   "outputs": [],
   "source": [
    "dt_index = pd.date_range(start='20210101', end='20211220')\n",
    "dt_list = dt_index.strftime(\"%Y-%m-%d\").tolist()\n"
   ]
  },
  {
   "cell_type": "markdown",
   "id": "75551f90",
   "metadata": {},
   "source": [
    "# 농업기술센터"
   ]
  },
  {
   "cell_type": "code",
   "execution_count": null,
   "id": "8a4e6fd4",
   "metadata": {
    "scrolled": true
   },
   "outputs": [],
   "source": [
    "parameters={\n",
    "    'max_depth':[1,3,5,7,9,10],\n",
    "    'max_features':[0.1,0.3,0.5,0.7,0.9,1],\n",
    "    }\n",
    "MSE_c=pd.DataFrame()\n",
    "scaler=MinMaxScaler()\n",
    "\n",
    "for i in range(len(jon_cen)):\n",
    "    print(jon_cen[i])\n",
    "    cen1=cen[cen['종류']==jon_cen[i]]\n",
    "    minmax_cen1 = pd.DataFrame(scaler.fit_transform(cen1.iloc[:,1:]))\n",
    "    minmax_cen1.columns=['건수','평균기온','일강수량','평균풍속','평균상대습도','합계일사량','month']\n",
    "    cen21=cen_21[cen_21['종류']==jon_cen[i]]\n",
    "    minmax_cen21=pd.DataFrame(scaler.fit_transform(cen21.iloc[:,1:]))\n",
    "    minmax_cen21.columns=['건수','평균기온','일강수량','평균풍속','평균상대습도','합계일사량','month']\n",
    "    train_x=minmax_cen1.drop('건수',axis=1)\n",
    "    train_y=minmax_cen1['건수']\n",
    "    test_x=minmax_cen21.drop('건수',axis=1)\n",
    "    test_y=minmax_cen21['건수']\n",
    "    \n",
    "    model=RandomForestRegressor()\n",
    "    GS=GridSearchCV(model, param_grid=parameters, cv=5, scoring=rmse_scorer)\n",
    "    GS.fit(train_x,train_y)\n",
    "    print(GS.best_params_)\n",
    "    \n",
    "    model1=RandomForestRegressor(n_estimators=100,max_depth=GS.best_params_['max_depth'],max_features=GS.best_params_['max_features'],n_jobs=-1,random_state=7)\n",
    "    model1=model1.fit(train_x,train_y)\n",
    "    df_importance=pd.DataFrame({'feature':train_x.columns,\n",
    "                           'importance':model1.feature_importances_})\n",
    "    globals()['{}_변수중요도'.format(jon_cen[i])]=df_importance.sort_values(by='importance',ascending=False)\n",
    "    \n",
    "    \n",
    "    y_pred=model1.predict(test_x)\n",
    "    \n",
    "    print(mean_squared_error(test_y, y_pred))\n",
    "    \n",
    "    cen_mse=pd.DataFrame({'종류': [jon_cen[i]],'MSE' : [mean_squared_error(test_y, y_pred)]})\n",
    "    \n",
    "    MSE_c=pd.concat([MSE_c,cen_mse])\n",
    "    \n",
    "    \n",
    "    globals()['{}'.format(jon_cen[i])]=pd.DataFrame({'date' : dt_list,'실제값':test_y,'예측값':y_pred})\n",
    "    \n",
    "    "
   ]
  },
  {
   "cell_type": "code",
   "execution_count": null,
   "id": "f6180da6",
   "metadata": {},
   "outputs": [],
   "source": [
    "동력분무기_변수중요도"
   ]
  },
  {
   "cell_type": "code",
   "execution_count": null,
   "id": "341eb825",
   "metadata": {},
   "outputs": [],
   "source": [
    "콩정선기"
   ]
  },
  {
   "cell_type": "code",
   "execution_count": null,
   "id": "b7c151c0",
   "metadata": {},
   "outputs": [],
   "source": [
    "MSE_c"
   ]
  },
  {
   "cell_type": "code",
   "execution_count": null,
   "id": "771601e3",
   "metadata": {},
   "outputs": [],
   "source": [
    "plt.rc(\"font\",family='Malgun Gothic')\n",
    "sns.set(font='Malgun Gothic',\n",
    "       rc={'axes.unicode_minus':False},\n",
    "       style='white')"
   ]
  },
  {
   "cell_type": "code",
   "execution_count": null,
   "id": "7a121928",
   "metadata": {},
   "outputs": [],
   "source": [
    "for i in range(len(jon_cen)):\n",
    "    data1=globals()['{}'.format(jon_cen[i])]\n",
    "    data1['date']=pd.to_datetime(data1['date'])\n",
    "    data1=data1.set_index('date')\n",
    "    fig, ax = plt.subplots(figsize=(100,50))\n",
    "    ax.set( ylim = (0, 2) )\n",
    "    sns.lineplot(data=data1,linewidth=10)\n",
    "    plt.xticks( fontsize=50)\n",
    "    plt.yticks(fontsize=50)\n",
    "    plt.title(jon_cen[i],size=100)\n",
    "    plt.show()\n"
   ]
  },
  {
   "cell_type": "code",
   "execution_count": null,
   "id": "494fb3a2",
   "metadata": {},
   "outputs": [],
   "source": []
  },
  {
   "cell_type": "markdown",
   "id": "919126e0",
   "metadata": {},
   "source": [
    "# 서부"
   ]
  },
  {
   "cell_type": "code",
   "execution_count": null,
   "id": "b509cf6a",
   "metadata": {},
   "outputs": [],
   "source": [
    "parameters={\n",
    "    'max_depth':[1,3,5,7,9,10],\n",
    "    'max_features':[0.1,0.3,0.5,0.7,0.9,1],\n",
    "    }\n",
    "MSE_w=pd.DataFrame()\n",
    "\n",
    "\n",
    "for i in range(len(jon_wes)):\n",
    "    print(jon_wes[i])\n",
    "    wes1=wes[wes['종류']==jon_wes[i]]\n",
    "    minmax_wes1 = pd.DataFrame(scaler.fit_transform(wes1.iloc[:,1:]))\n",
    "    minmax_wes1.columns=['건수','평균기온','일강수량','평균풍속','평균상대습도','합계일사량','month']\n",
    "    wes21=wes_21[wes_21['종류']==jon_wes[i]]\n",
    "    minmax_wes21=pd.DataFrame(scaler.fit_transform(wes21.iloc[:,1:]))\n",
    "    minmax_wes21.columns=['건수','평균기온','일강수량','평균풍속','평균상대습도','합계일사량','month']\n",
    "    train_x=minmax_wes1.drop(['건수'],axis=1)\n",
    "    train_y=minmax_wes1['건수']\n",
    "    test_x=minmax_wes21.drop(['건수'],axis=1)\n",
    "    test_y=minmax_wes21['건수']\n",
    "    \n",
    "    model=RandomForestRegressor()\n",
    "    model=model.fit(train_x,train_y)\n",
    "    GS=GridSearchCV(model, param_grid=parameters, cv=5, scoring=rmse_scorer)\n",
    "    GS.fit(train_x,train_y)\n",
    "    print(GS.best_params_)\n",
    "    \n",
    "    model2=RandomForestRegressor(n_estimators=100,max_depth=GS.best_params_['max_depth'],max_features=GS.best_params_['max_features'],n_jobs=-1,random_state=7)\n",
    "    model2=model1.fit(train_x,train_y)\n",
    "    df_importance=pd.DataFrame({'feature':train_x.columns,\n",
    "                           'importance':model2.feature_importances_})\n",
    "    globals()['{}_변수중요도_서부'.format(jon_wes[i])]=df_importance.sort_values(by='importance',ascending=False)\n",
    "    \n",
    "    \n",
    "    y_pred=model2.predict(test_x)\n",
    "    \n",
    "    print(mean_squared_error(test_y, y_pred))\n",
    "    \n",
    "    wes_mse=pd.DataFrame({'종류': [jon_wes[i]],'MSE' : [mean_squared_error(test_y, y_pred)]})\n",
    "    \n",
    "    MSE_w=pd.concat([MSE_w,wes_mse])\n",
    "    \n",
    "    \n",
    "    globals()['{}_서부'.format(jon_wes[i])]=pd.DataFrame({'date' : dt_list,'실제값':test_y,'예측값':y_pred})"
   ]
  },
  {
   "cell_type": "code",
   "execution_count": null,
   "id": "e9b282f5",
   "metadata": {},
   "outputs": [],
   "source": [
    "잔가지파쇄기_변수중요도_서부"
   ]
  },
  {
   "cell_type": "code",
   "execution_count": null,
   "id": "afd19d43",
   "metadata": {},
   "outputs": [],
   "source": [
    "잔가지파쇄기_서부"
   ]
  },
  {
   "cell_type": "code",
   "execution_count": null,
   "id": "cd818af7",
   "metadata": {},
   "outputs": [],
   "source": [
    "MSE_w"
   ]
  },
  {
   "cell_type": "code",
   "execution_count": null,
   "id": "491aeedd",
   "metadata": {},
   "outputs": [],
   "source": [
    "모우어_서부"
   ]
  },
  {
   "cell_type": "code",
   "execution_count": null,
   "id": "46b5da8a",
   "metadata": {
    "scrolled": false
   },
   "outputs": [],
   "source": [
    "for i in range(len(jon_wes)):\n",
    "    data1=globals()['{}_서부'.format(jon_wes[i])]\n",
    "    data1['date']=pd.to_datetime(data1['date'])\n",
    "    data1=data1.set_index('date')\n",
    "    fig, ax = plt.subplots(figsize=(100,50))\n",
    "    ax.set( ylim = (0, 2) )\n",
    "    sns.lineplot(data=data1,linewidth=10)\n",
    "    plt.xticks( fontsize=50)\n",
    "    plt.yticks(fontsize=50)\n",
    "    plt.title(jon_wes[i],size=100)\n",
    "    plt.show()\n"
   ]
  },
  {
   "cell_type": "markdown",
   "id": "41498c46",
   "metadata": {},
   "source": [
    "# 북부"
   ]
  },
  {
   "cell_type": "code",
   "execution_count": null,
   "id": "a580ea96",
   "metadata": {},
   "outputs": [],
   "source": [
    "parameters={\n",
    "    'max_depth':[1,3,5,7,9,10],\n",
    "    'max_features':[0.1,0.3,0.5,0.7,0.9,1],\n",
    "    }\n",
    "MSE_n=pd.DataFrame()\n",
    "\n",
    "\n",
    "for i in range(len(jon_nor)):\n",
    "    print(jon_nor[i])\n",
    "    nor1=nor[nor['종류']==jon_nor[i]]\n",
    "    minmax_nor1 = pd.DataFrame(scaler.fit_transform(nor1.iloc[:,1:]))\n",
    "    minmax_nor1.columns=['건수','평균기온','일강수량','평균풍속','평균상대습도','합계일사량','month']\n",
    "    nor21=nor_21[nor_21['종류']==jon_nor[i]]\n",
    "    minmax_nor21=pd.DataFrame(scaler.fit_transform(nor21.iloc[:,1:]))\n",
    "    minmax_nor21.columns=['건수','평균기온','일강수량','평균풍속','평균상대습도','합계일사량','month']\n",
    "    train_x=minmax_nor1.drop(['건수'],axis=1)\n",
    "    train_y=minmax_nor1['건수']\n",
    "    test_x=minmax_nor21.drop(['건수'],axis=1)\n",
    "    test_y=minmax_nor21['건수']\n",
    "    \n",
    "    model=RandomForestRegressor()\n",
    "    model=model.fit(train_x,train_y)\n",
    "    GS=GridSearchCV(model, param_grid=parameters, cv=5, scoring=rmse_scorer)\n",
    "    GS.fit(train_x,train_y)\n",
    "    print(GS.best_params_)\n",
    "    \n",
    "    model3=RandomForestRegressor(n_estimators=100,max_depth=GS.best_params_['max_depth'],max_features=GS.best_params_['max_features'],n_jobs=-1,random_state=7)\n",
    "    model3=model1.fit(train_x,train_y)\n",
    "    df_importance=pd.DataFrame({'feature':train_x.columns,\n",
    "                           'importance':model3.feature_importances_})\n",
    "    globals()['{}_변수중요도_북부'.format(jon_nor[i])]=df_importance.sort_values(by='importance',ascending=False)\n",
    "    \n",
    "    \n",
    "    y_pred=model3.predict(test_x)\n",
    "    \n",
    "    print(mean_squared_error(test_y, y_pred))\n",
    "    \n",
    "    nor_mse=pd.DataFrame({'종류': [jon_nor[i]],'MSE' : [mean_squared_error(test_y, y_pred)]})\n",
    "    \n",
    "    MSE_n=pd.concat([MSE_n,nor_mse])\n",
    "    \n",
    "    \n",
    "    globals()['{}_북부'.format(jon_nor[i])]=pd.DataFrame({'date' : dt_list,'실제값':test_y,'예측값':y_pred})"
   ]
  },
  {
   "cell_type": "code",
   "execution_count": null,
   "id": "a90304cb",
   "metadata": {},
   "outputs": [],
   "source": [
    "농산물탈피기_북부"
   ]
  },
  {
   "cell_type": "code",
   "execution_count": null,
   "id": "63f58b22",
   "metadata": {},
   "outputs": [],
   "source": [
    "농산물탈피기_변수중요도_북부"
   ]
  },
  {
   "cell_type": "code",
   "execution_count": null,
   "id": "353df800",
   "metadata": {},
   "outputs": [],
   "source": [
    "MSE_n"
   ]
  },
  {
   "cell_type": "code",
   "execution_count": null,
   "id": "f4fddd86",
   "metadata": {},
   "outputs": [],
   "source": [
    "for i in range(len(jon_nor)):\n",
    "    data1=globals()['{}_북부'.format(jon_nor[i])]\n",
    "    data1['date']=pd.to_datetime(data1['date'])\n",
    "    data1=data1.set_index('date')\n",
    "    fig, ax = plt.subplots(figsize=(100,50))\n",
    "    ax.set( ylim = (0, 2) )\n",
    "    sns.lineplot(data=data1,linewidth=10)\n",
    "    plt.xticks( fontsize=50)\n",
    "    plt.yticks(fontsize=50)\n",
    "    plt.title(jon_nor[i],size=100)\n",
    "    plt.show()\n"
   ]
  },
  {
   "cell_type": "markdown",
   "id": "8b010244",
   "metadata": {},
   "source": [
    "#### "
   ]
  },
  {
   "cell_type": "code",
   "execution_count": null,
   "id": "9d464ee1",
   "metadata": {},
   "outputs": [],
   "source": []
  }
 ],
 "metadata": {
  "kernelspec": {
   "display_name": "Python 3",
   "language": "python",
   "name": "python3"
  },
  "language_info": {
   "codemirror_mode": {
    "name": "ipython",
    "version": 3
   },
   "file_extension": ".py",
   "mimetype": "text/x-python",
   "name": "python",
   "nbconvert_exporter": "python",
   "pygments_lexer": "ipython3",
   "version": "3.8.8"
  }
 },
 "nbformat": 4,
 "nbformat_minor": 5
}
