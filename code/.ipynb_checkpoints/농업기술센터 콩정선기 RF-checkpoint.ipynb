{
 "cells": [
  {
   "cell_type": "code",
   "execution_count": null,
   "id": "d6d59de5",
   "metadata": {},
   "outputs": [],
   "source": [
    "import pandas as pd\n",
    "import numpy as np\n",
    "import matplotlib.pyplot as plt\n",
    "import seaborn as sns\n",
    "\n",
    "from datetime import datetime\n",
    "from datetime import timedelta\n",
    "\n",
    "import matplotlib.pyplot as plt\n",
    "import matplotlib.font_manager as fm\n",
    "\n",
    "from statsmodels.formula.api import ols\n",
    "from sklearn.ensemble import RandomForestRegressor\n",
    "from sklearn.model_selection import train_test_split\n",
    "\n",
    "from sklearn.metrics import mean_absolute_error\n",
    "from sklearn.metrics import mean_squared_error\n",
    "from sklearn.metrics import r2_score\n",
    "from sklearn.model_selection import GridSearchCV\n",
    "from sklearn.metrics import make_scorer\n",
    "from sklearn.metrics import accuracy_score\n",
    "from sklearn.preprocessing import MinMaxScaler\n",
    "from sklearn.preprocessing import StandardScaler\n"
   ]
  },
  {
   "cell_type": "code",
   "execution_count": null,
   "id": "131b06a4",
   "metadata": {},
   "outputs": [],
   "source": [
    "def rmse(p,a):\n",
    "    difference=p-a\n",
    "    squared=difference**2\n",
    "    mean=squared.mean()\n",
    "    score=np.sqrt(mean)\n",
    "    return score"
   ]
  },
  {
   "cell_type": "code",
   "execution_count": null,
   "id": "00638253",
   "metadata": {},
   "outputs": [],
   "source": [
    "rmse_scorer=make_scorer(rmse, greater_is_better=False)\n",
    "rmse_scorer"
   ]
  },
  {
   "cell_type": "code",
   "execution_count": null,
   "id": "5b139f39",
   "metadata": {},
   "outputs": [],
   "source": [
    "cen=pd.read_csv('C:/Users/user/Desktop/안동/cen with month.csv',encoding='euc-kr')"
   ]
  },
  {
   "cell_type": "code",
   "execution_count": null,
   "id": "285d1274",
   "metadata": {},
   "outputs": [],
   "source": [
    "cen_21=pd.read_csv('C:/Users/user/Desktop/안동/cen21 with month.csv',encoding='euc-kr')"
   ]
  },
  {
   "cell_type": "code",
   "execution_count": null,
   "id": "76b6082f",
   "metadata": {},
   "outputs": [],
   "source": [
    "cen=cen.drop(['Unnamed: 0','date'],axis=1)\n",
    "cen_21=cen_21.drop(['Unnamed: 0','date'],axis=1)\n",
    "cen"
   ]
  },
  {
   "cell_type": "code",
   "execution_count": null,
   "id": "a0f27232",
   "metadata": {},
   "outputs": [],
   "source": [
    "dt_index = pd.date_range(start='20210101', end='20211220')\n",
    "dt_list = dt_index.strftime(\"%Y-%m-%d\").tolist()"
   ]
  },
  {
   "cell_type": "code",
   "execution_count": null,
   "id": "615ada8b",
   "metadata": {},
   "outputs": [],
   "source": [
    "cong_cen=cen[cen['종류']=='콩정선기']\n",
    "cong_cen21=cen_21[cen_21['종류']=='콩정선기']\n",
    "cong_cen"
   ]
  },
  {
   "cell_type": "code",
   "execution_count": null,
   "id": "0bb84b3c",
   "metadata": {},
   "outputs": [],
   "source": [
    "scaler=MinMaxScaler()"
   ]
  },
  {
   "cell_type": "code",
   "execution_count": null,
   "id": "523d7206",
   "metadata": {},
   "outputs": [],
   "source": [
    "minmax_cong = pd.DataFrame(scaler.fit_transform(cong_cen.iloc[:,1:]))\n",
    "minmax_cong.columns=['건수','평균기온','일강수량','평균풍속','평균상대습도','합계일사량','month']\n",
    "minmax_cong21 = pd.DataFrame(scaler.fit_transform(cong_cen21.iloc[:,1:]))\n",
    "minmax_cong21.columns=['건수','평균기온','일강수량','평균풍속','평균상대습도','합계일사량','month']"
   ]
  },
  {
   "cell_type": "code",
   "execution_count": null,
   "id": "832bdef3",
   "metadata": {},
   "outputs": [],
   "source": [
    "train_x=minmax_cong.drop('건수',axis=1)\n",
    "train_y=minmax_cong['건수']\n",
    "test_x=minmax_cong21.drop('건수',axis=1)\n",
    "test_y=minmax_cong21['건수']"
   ]
  },
  {
   "cell_type": "code",
   "execution_count": null,
   "id": "82172e7b",
   "metadata": {},
   "outputs": [],
   "source": [
    "train_x"
   ]
  },
  {
   "cell_type": "code",
   "execution_count": null,
   "id": "eac0b6ed",
   "metadata": {},
   "outputs": [],
   "source": [
    "test_x"
   ]
  },
  {
   "cell_type": "code",
   "execution_count": null,
   "id": "ca1e02ae",
   "metadata": {},
   "outputs": [],
   "source": [
    "parameters={\n",
    "    'max_depth':[1,3,5,7,9,10],\n",
    "    'max_features':[0.1,0.3,0.5,0.7,0.9,1],\n",
    "    }\n",
    "model=RandomForestRegressor()\n",
    "GS=GridSearchCV(model, param_grid=parameters, cv=5, scoring=rmse_scorer)\n",
    "GS.fit(train_x,train_y)\n",
    "print('Best_params:',GS.best_params_)\n"
   ]
  },
  {
   "cell_type": "code",
   "execution_count": null,
   "id": "94f94056",
   "metadata": {},
   "outputs": [],
   "source": [
    "model1=RandomForestRegressor(n_estimators=100,max_depth=GS.best_params_['max_depth'],\n",
    "                             max_features=GS.best_params_['max_features'],n_jobs=-1,random_state=7)\n",
    "model1=model1.fit(train_x,train_y)\n",
    "df_importance=pd.DataFrame({'feature':train_x.columns,\n",
    "                        'importance':model1.feature_importances_})\n",
    "df_importance.sort_values(by='importance',ascending=False)"
   ]
  },
  {
   "cell_type": "code",
   "execution_count": null,
   "id": "56a75dfc",
   "metadata": {},
   "outputs": [],
   "source": [
    "y_pred=model1.predict(test_x)\n",
    "print('MSE:',mean_squared_error(test_y,y_pred))"
   ]
  },
  {
   "cell_type": "code",
   "execution_count": null,
   "id": "993b9907",
   "metadata": {},
   "outputs": [],
   "source": [
    "cong_pred=pd.DataFrame({'date' : dt_list,'실제값':test_y,'예측값':y_pred})\n",
    "cong_pred"
   ]
  },
  {
   "cell_type": "code",
   "execution_count": null,
   "id": "fead4fce",
   "metadata": {},
   "outputs": [],
   "source": [
    "plt.rc(\"font\",family='Malgun Gothic')\n",
    "sns.set(font='Malgun Gothic',\n",
    "       rc={'axes.unicode_minus':False},\n",
    "       style='white')"
   ]
  },
  {
   "cell_type": "code",
   "execution_count": null,
   "id": "31fa5a84",
   "metadata": {},
   "outputs": [],
   "source": [
    "fig, ax = plt.subplots(figsize=(100,50))\n",
    "cong_pred['date']=pd.to_datetime(cong_pred['date'])\n",
    "cong_pred=cong_pred.set_index('date')\n",
    "sns.lineplot(data=cong_pred,linewidth=10)\n",
    "ax.set( ylim = (0, 2) )\n",
    "plt.xticks( fontsize=50)\n",
    "plt.yticks(fontsize=50)\n",
    "plt.title('콩정선기',size=100)\n",
    "plt.show()"
   ]
  },
  {
   "cell_type": "code",
   "execution_count": null,
   "id": "364b5115",
   "metadata": {},
   "outputs": [],
   "source": []
  }
 ],
 "metadata": {
  "kernelspec": {
   "display_name": "Python 3",
   "language": "python",
   "name": "python3"
  },
  "language_info": {
   "codemirror_mode": {
    "name": "ipython",
    "version": 3
   },
   "file_extension": ".py",
   "mimetype": "text/x-python",
   "name": "python",
   "nbconvert_exporter": "python",
   "pygments_lexer": "ipython3",
   "version": "3.8.8"
  }
 },
 "nbformat": 4,
 "nbformat_minor": 5
}
