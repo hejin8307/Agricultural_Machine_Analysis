{
 "cells": [
  {
   "cell_type": "code",
   "execution_count": null,
   "id": "c7ee6647",
   "metadata": {},
   "outputs": [],
   "source": [
    "import pandas as pd\n",
    "import numpy as np\n",
    "import matplotlib.pyplot as plt\n",
    "import seaborn as sns\n",
    "from datetime import datetime\n",
    "from datetime import timedelta"
   ]
  },
  {
   "cell_type": "code",
   "execution_count": null,
   "id": "849aa9ed",
   "metadata": {},
   "outputs": [],
   "source": [
    "data = pd.read_csv('C:/Users/user/Desktop/안동/data.csv',encoding='EUC-KR')\n",
    "data.head()"
   ]
  },
  {
   "cell_type": "markdown",
   "id": "c2833c99",
   "metadata": {},
   "source": [
    "임대시작기간, 임대반납기간 나누기"
   ]
  },
  {
   "cell_type": "code",
   "execution_count": null,
   "id": "be619ffc",
   "metadata": {},
   "outputs": [],
   "source": [
    "data['임대기간'] = data['임대기간'].astype('str')\n",
    "data_split = data['임대기간'].str.split('∼')\n",
    "data_split"
   ]
  },
  {
   "cell_type": "code",
   "execution_count": null,
   "id": "95b8004b",
   "metadata": {},
   "outputs": [],
   "source": [
    "data['임대시작기간']= data_split.str.get(0)\n",
    "data['임대반납기간'] = data_split.str.get(1)\n",
    "data['임대시작기간'] = pd.to_datetime(data['임대시작기간'])\n",
    "data['임대반납기간'] = pd.to_datetime(data['임대반납기간'])\n",
    "data"
   ]
  },
  {
   "cell_type": "code",
   "execution_count": null,
   "id": "9d981f56",
   "metadata": {},
   "outputs": [],
   "source": [
    "data_S=data[['임대시작기간','임대반납기간']]\n",
    "data_S"
   ]
  },
  {
   "cell_type": "markdown",
   "id": "eaec4a19",
   "metadata": {},
   "source": [
    "임대 모든기간의 날짜 구하기"
   ]
  },
  {
   "cell_type": "code",
   "execution_count": null,
   "id": "2b104c37",
   "metadata": {},
   "outputs": [],
   "source": [
    "list=[]\n",
    "for i in range(21343):\n",
    "    dt=pd.date_range(data_S.iloc[i,0],data_S.iloc[i,1],freq='1D')\n",
    "    list.append(dt)\n",
    "print(list)"
   ]
  },
  {
   "cell_type": "markdown",
   "id": "c7c68eae",
   "metadata": {},
   "source": [
    "list를 데이터프레임으로"
   ]
  },
  {
   "cell_type": "code",
   "execution_count": null,
   "id": "bc01cf02",
   "metadata": {},
   "outputs": [],
   "source": [
    "df=pd.DataFrame(list) \n",
    "df.replace({np.nan: 0}, inplace = True)\n",
    "df"
   ]
  },
  {
   "cell_type": "markdown",
   "id": "165c4ac2",
   "metadata": {},
   "source": [
    "각 row를 날짜와 합치기"
   ]
  },
  {
   "cell_type": "code",
   "execution_count": null,
   "id": "e7eb03f5",
   "metadata": {},
   "outputs": [],
   "source": [
    "kk=pd.DataFrame()\n",
    "for i in range(117):\n",
    "    frame=pd.DataFrame()\n",
    "    frame=pd.concat([data,df[i]],axis=1)\n",
    "    frame=frame.rename(columns={i:'date'})\n",
    "    kk=pd.concat([kk,frame],axis=0)\n",
    "kk"
   ]
  },
  {
   "cell_type": "markdown",
   "id": "984b9b1b",
   "metadata": {},
   "source": [
    "빌린날짜만 추출"
   ]
  },
  {
   "cell_type": "code",
   "execution_count": null,
   "id": "b5e308ea",
   "metadata": {},
   "outputs": [],
   "source": [
    "kk1 = kk[kk['date']!=0]\n",
    "kk1"
   ]
  },
  {
   "cell_type": "markdown",
   "id": "18a9ce97",
   "metadata": {},
   "source": [
    "원래 순서대로 정렬"
   ]
  },
  {
   "cell_type": "code",
   "execution_count": null,
   "id": "b5c855e8",
   "metadata": {},
   "outputs": [],
   "source": [
    "kk2=kk1.sort_values(by=['Unnamed: 0','date'])"
   ]
  },
  {
   "cell_type": "markdown",
   "id": "009f3ff3",
   "metadata": {},
   "source": [
    "날짜만 추출"
   ]
  },
  {
   "cell_type": "code",
   "execution_count": null,
   "id": "63348b7c",
   "metadata": {},
   "outputs": [],
   "source": [
    "kk2"
   ]
  },
  {
   "cell_type": "markdown",
   "id": "462ae4e8",
   "metadata": {},
   "source": [
    "csv로 저장"
   ]
  },
  {
   "cell_type": "code",
   "execution_count": null,
   "id": "1e271a12",
   "metadata": {},
   "outputs": [],
   "source": [
    "#kk2.to_csv('C:\\\\Users\\\\user\\\\Desktop\\\\안동\\\\kk2.csv',encoding = 'euc-kr')"
   ]
  },
  {
   "cell_type": "code",
   "execution_count": null,
   "id": "d573fdcd",
   "metadata": {},
   "outputs": [],
   "source": []
  }
 ],
 "metadata": {
  "kernelspec": {
   "display_name": "Python 3",
   "language": "python",
   "name": "python3"
  },
  "language_info": {
   "codemirror_mode": {
    "name": "ipython",
    "version": 3
   },
   "file_extension": ".py",
   "mimetype": "text/x-python",
   "name": "python",
   "nbconvert_exporter": "python",
   "pygments_lexer": "ipython3",
   "version": "3.8.8"
  }
 },
 "nbformat": 4,
 "nbformat_minor": 5
}
