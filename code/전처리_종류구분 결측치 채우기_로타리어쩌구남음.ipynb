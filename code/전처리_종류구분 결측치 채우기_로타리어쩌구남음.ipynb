{
 "cells": [
  {
   "cell_type": "code",
   "execution_count": 1,
   "id": "b0e23cc1-0e7c-4709-b3ca-029632e808c8",
   "metadata": {},
   "outputs": [],
   "source": [
    "import pandas as pd\n",
    "import numpy as np\n",
    "import matplotlib.pyplot as plt\n",
    "import seaborn as sns"
   ]
  },
  {
   "cell_type": "code",
   "execution_count": 2,
   "id": "d5b8c285-8144-43ef-a591-05b3a6f97097",
   "metadata": {},
   "outputs": [
    {
     "data": {
      "text/html": [
       "<div>\n",
       "<style scoped>\n",
       "    .dataframe tbody tr th:only-of-type {\n",
       "        vertical-align: middle;\n",
       "    }\n",
       "\n",
       "    .dataframe tbody tr th {\n",
       "        vertical-align: top;\n",
       "    }\n",
       "\n",
       "    .dataframe thead th {\n",
       "        text-align: right;\n",
       "    }\n",
       "</style>\n",
       "<table border=\"1\" class=\"dataframe\">\n",
       "  <thead>\n",
       "    <tr style=\"text-align: right;\">\n",
       "      <th></th>\n",
       "      <th>No</th>\n",
       "      <th>임대사업장</th>\n",
       "      <th>임대기간</th>\n",
       "      <th>임대일수</th>\n",
       "      <th>주소</th>\n",
       "      <th>성별</th>\n",
       "      <th>나이</th>\n",
       "      <th>임대농기계</th>\n",
       "      <th>임대료(원)</th>\n",
       "      <th>배송방법</th>\n",
       "      <th>계</th>\n",
       "      <th>임대농기계2</th>\n",
       "      <th>구분</th>\n",
       "      <th>종류</th>\n",
       "      <th>기종</th>\n",
       "      <th>기종2</th>\n",
       "    </tr>\n",
       "  </thead>\n",
       "  <tbody>\n",
       "    <tr>\n",
       "      <th>0</th>\n",
       "      <td>1</td>\n",
       "      <td>서부분소</td>\n",
       "      <td>2018-04-20∼2018-04-21</td>\n",
       "      <td>2</td>\n",
       "      <td>경상북도 안동시 풍산읍</td>\n",
       "      <td>남자</td>\n",
       "      <td>51</td>\n",
       "      <td>서-플라우(트)16-6</td>\n",
       "      <td>20000</td>\n",
       "      <td>자가배송\\n(0)</td>\n",
       "      <td>20,000</td>\n",
       "      <td>서플라우(트)</td>\n",
       "      <td>트랙터및작업기</td>\n",
       "      <td>플라우</td>\n",
       "      <td>서-플라우(트)16-6</td>\n",
       "      <td>서플라우(트)</td>\n",
       "    </tr>\n",
       "  </tbody>\n",
       "</table>\n",
       "</div>"
      ],
      "text/plain": [
       "   No 임대사업장                   임대기간  임대일수            주소  성별  나이         임대농기계  \\\n",
       "0   1  서부분소  2018-04-20∼2018-04-21     2  경상북도 안동시 풍산읍  남자  51  서-플라우(트)16-6   \n",
       "\n",
       "   임대료(원)       배송방법       계   임대농기계2       구분   종류            기종      기종2  \n",
       "0   20000  자가배송\\n(0)  20,000  서플라우(트)  트랙터및작업기  플라우  서-플라우(트)16-6  서플라우(트)  "
      ]
     },
     "execution_count": 2,
     "metadata": {},
     "output_type": "execute_result"
    }
   ],
   "source": [
    "leftjoin_df = pd.read_csv('D:/python/bigdataproject/농기계 임대 기준 left join.csv')\n",
    "leftjoin_df.head(1)"
   ]
  },
  {
   "cell_type": "code",
   "execution_count": 3,
   "id": "124f67c1-6cfc-4f86-906c-8e9c999b448b",
   "metadata": {},
   "outputs": [
    {
     "data": {
      "text/plain": [
       "array(['콩수확기', '로터베이터', '관리기', '콩탈곡기(모)', '농용돌파쇄기(트)', '땅속작물수확기(경)(레)',\n",
       "       '심경로타리(역회전)', '보통형콤바인', 'SS기(운)', '콩탈곡기(경)'], dtype=object)"
      ]
     },
     "execution_count": 3,
     "metadata": {},
     "output_type": "execute_result"
    }
   ],
   "source": [
    "leftjoin_df[leftjoin_df['기종2'].isna()]['임대농기계2'].unique()\n",
    "#기종2가 채워지지 않은 임대농기계2 알기 위해서45"
   ]
  },
  {
   "cell_type": "markdown",
   "id": "7a41f125-c1ae-4540-81b2-80498d436d68",
   "metadata": {},
   "source": [
    "### 2018~2020 합친거\n",
    "안동시 농기계 보유 목록"
   ]
  },
  {
   "cell_type": "code",
   "execution_count": 4,
   "id": "b89ed5b7-5798-485f-af39-d2183918e999",
   "metadata": {},
   "outputs": [],
   "source": [
    "df2018 = pd.read_excel('D:/python/bigdataproject/안동시 농기계 임대차 관리대장(2018년)_비식별화.xlsx')\n",
    "df2019 = pd.read_excel('D:/python/bigdataproject/안동시 농기계 임대차 관리대장(2019년)_비식별화.xlsx')\n",
    "df2020 = pd.read_excel('D:/python/bigdataproject/안동시 농기계 임대차 관리대장(2020년)_비식별화.xlsx')"
   ]
  },
  {
   "cell_type": "code",
   "execution_count": 5,
   "id": "9a339475-37d0-4110-9069-cdeb6c739c33",
   "metadata": {},
   "outputs": [],
   "source": [
    "df2018.rename(columns = {'구분':'주소'}, inplace = True)"
   ]
  },
  {
   "cell_type": "code",
   "execution_count": 6,
   "id": "d831b163-1e34-43cc-8428-57f46beb77be",
   "metadata": {},
   "outputs": [
    {
     "data": {
      "text/html": [
       "<div>\n",
       "<style scoped>\n",
       "    .dataframe tbody tr th:only-of-type {\n",
       "        vertical-align: middle;\n",
       "    }\n",
       "\n",
       "    .dataframe tbody tr th {\n",
       "        vertical-align: top;\n",
       "    }\n",
       "\n",
       "    .dataframe thead th {\n",
       "        text-align: right;\n",
       "    }\n",
       "</style>\n",
       "<table border=\"1\" class=\"dataframe\">\n",
       "  <thead>\n",
       "    <tr style=\"text-align: right;\">\n",
       "      <th></th>\n",
       "      <th>No</th>\n",
       "      <th>임대사업장</th>\n",
       "      <th>임대기간</th>\n",
       "      <th>임대일수</th>\n",
       "      <th>주소</th>\n",
       "      <th>성별</th>\n",
       "      <th>나이</th>\n",
       "      <th>임대농기계</th>\n",
       "      <th>임대료(원)</th>\n",
       "      <th>배송방법</th>\n",
       "      <th>계</th>\n",
       "    </tr>\n",
       "  </thead>\n",
       "  <tbody>\n",
       "    <tr>\n",
       "      <th>0</th>\n",
       "      <td>1</td>\n",
       "      <td>서부분소</td>\n",
       "      <td>2018-04-20∼2018-04-21</td>\n",
       "      <td>2</td>\n",
       "      <td>경상북도 안동시 풍산읍</td>\n",
       "      <td>남자</td>\n",
       "      <td>51</td>\n",
       "      <td>서-플라우(트)16-6</td>\n",
       "      <td>20000</td>\n",
       "      <td>자가배송\\n(0)</td>\n",
       "      <td>20,000</td>\n",
       "    </tr>\n",
       "  </tbody>\n",
       "</table>\n",
       "</div>"
      ],
      "text/plain": [
       "   No 임대사업장                   임대기간  임대일수            주소  성별  나이         임대농기계  \\\n",
       "0   1  서부분소  2018-04-20∼2018-04-21     2  경상북도 안동시 풍산읍  남자  51  서-플라우(트)16-6   \n",
       "\n",
       "   임대료(원)       배송방법       계  \n",
       "0   20000  자가배송\\n(0)  20,000  "
      ]
     },
     "execution_count": 6,
     "metadata": {},
     "output_type": "execute_result"
    }
   ],
   "source": [
    "dfyear = pd.concat([df2018, df2019, df2020], axis = 0)\n",
    "dfyear.head(1)"
   ]
  },
  {
   "cell_type": "code",
   "execution_count": 7,
   "id": "3b053f7c-7545-4904-8d50-86117f04e7b1",
   "metadata": {},
   "outputs": [
    {
     "data": {
      "text/html": [
       "<div>\n",
       "<style scoped>\n",
       "    .dataframe tbody tr th:only-of-type {\n",
       "        vertical-align: middle;\n",
       "    }\n",
       "\n",
       "    .dataframe tbody tr th {\n",
       "        vertical-align: top;\n",
       "    }\n",
       "\n",
       "    .dataframe thead th {\n",
       "        text-align: right;\n",
       "    }\n",
       "</style>\n",
       "<table border=\"1\" class=\"dataframe\">\n",
       "  <thead>\n",
       "    <tr style=\"text-align: right;\">\n",
       "      <th></th>\n",
       "      <th>Unnamed: 0</th>\n",
       "      <th>연번</th>\n",
       "      <th>구분</th>\n",
       "      <th>종류</th>\n",
       "      <th>임대농기계</th>\n",
       "      <th>Unnamed: 5</th>\n",
       "      <th>제조업체</th>\n",
       "      <th>규격</th>\n",
       "      <th>제조(기대번호)</th>\n",
       "      <th>형식</th>\n",
       "      <th>대수</th>\n",
       "      <th>구입금액</th>\n",
       "      <th>Unnamed: 12</th>\n",
       "      <th>구입일자</th>\n",
       "      <th>비고</th>\n",
       "    </tr>\n",
       "  </thead>\n",
       "  <tbody>\n",
       "    <tr>\n",
       "      <th>0</th>\n",
       "      <td>3</td>\n",
       "      <td>1</td>\n",
       "      <td>탈곡기및정선기</td>\n",
       "      <td>곡물정선기</td>\n",
       "      <td>풍구 14-1</td>\n",
       "      <td>NaN</td>\n",
       "      <td>경안농기계</td>\n",
       "      <td>모터용</td>\n",
       "      <td>14-1226</td>\n",
       "      <td>KA330</td>\n",
       "      <td>1</td>\n",
       "      <td>400000</td>\n",
       "      <td>NaN</td>\n",
       "      <td>2014-12-26</td>\n",
       "      <td>NaN</td>\n",
       "    </tr>\n",
       "  </tbody>\n",
       "</table>\n",
       "</div>"
      ],
      "text/plain": [
       "   Unnamed: 0  연번       구분     종류    임대농기계  Unnamed: 5   제조업체   규격 제조(기대번호)  \\\n",
       "0           3   1  탈곡기및정선기  곡물정선기  풍구 14-1         NaN  경안농기계  모터용  14-1226   \n",
       "\n",
       "      형식  대수    구입금액  Unnamed: 12        구입일자   비고  \n",
       "0  KA330   1  400000          NaN  2014-12-26  NaN  "
      ]
     },
     "execution_count": 7,
     "metadata": {},
     "output_type": "execute_result"
    }
   ],
   "source": [
    "nonggigae = pd.read_csv('D:/python/bigdataproject/nonggigae.csv', encoding = 'euc-kr')\n",
    "nonggigae.head(1)\n",
    "# 농기계 상세정보"
   ]
  },
  {
   "cell_type": "code",
   "execution_count": 8,
   "id": "5028fc22-046d-4b51-ad02-cabf0d752089",
   "metadata": {},
   "outputs": [],
   "source": [
    "# nonggigae[['구분','종류','임대농기계','연번']].groupby(['구분','종류','임대농기계'],as_index = True).count()"
   ]
  },
  {
   "cell_type": "code",
   "execution_count": 9,
   "id": "ac631336-5747-49cc-8b3b-de7adfef920b",
   "metadata": {},
   "outputs": [
    {
     "name": "stdout",
     "output_type": "stream",
     "text": [
      "<class 'pandas.core.frame.DataFrame'>\n",
      "RangeIndex: 21347 entries, 0 to 21346\n",
      "Data columns (total 16 columns):\n",
      " #   Column  Non-Null Count  Dtype \n",
      "---  ------  --------------  ----- \n",
      " 0   No      21347 non-null  int64 \n",
      " 1   임대사업장   21347 non-null  object\n",
      " 2   임대기간    21347 non-null  object\n",
      " 3   임대일수    21347 non-null  int64 \n",
      " 4   주소      21338 non-null  object\n",
      " 5   성별      21247 non-null  object\n",
      " 6   나이      21347 non-null  int64 \n",
      " 7   임대농기계   21347 non-null  object\n",
      " 8   임대료(원)  21347 non-null  int64 \n",
      " 9   배송방법    21347 non-null  object\n",
      " 10  계       21347 non-null  object\n",
      " 11  임대농기계2  21347 non-null  object\n",
      " 12  구분      20849 non-null  object\n",
      " 13  종류      20849 non-null  object\n",
      " 14  기종      20849 non-null  object\n",
      " 15  기종2     20849 non-null  object\n",
      "dtypes: int64(4), object(12)\n",
      "memory usage: 2.6+ MB\n"
     ]
    }
   ],
   "source": [
    "leftjoin_df.info()"
   ]
  },
  {
   "cell_type": "code",
   "execution_count": 10,
   "id": "009c1e04-ad08-4b68-b29e-9c16d2ecda63",
   "metadata": {},
   "outputs": [
    {
     "data": {
      "text/html": [
       "<div>\n",
       "<style scoped>\n",
       "    .dataframe tbody tr th:only-of-type {\n",
       "        vertical-align: middle;\n",
       "    }\n",
       "\n",
       "    .dataframe tbody tr th {\n",
       "        vertical-align: top;\n",
       "    }\n",
       "\n",
       "    .dataframe thead th {\n",
       "        text-align: right;\n",
       "    }\n",
       "</style>\n",
       "<table border=\"1\" class=\"dataframe\">\n",
       "  <thead>\n",
       "    <tr style=\"text-align: right;\">\n",
       "      <th></th>\n",
       "      <th>임대사업장</th>\n",
       "      <th>임대기간</th>\n",
       "      <th>주소</th>\n",
       "      <th>임대농기계2</th>\n",
       "      <th>구분</th>\n",
       "      <th>종류</th>\n",
       "      <th>기종2</th>\n",
       "    </tr>\n",
       "  </thead>\n",
       "  <tbody>\n",
       "    <tr>\n",
       "      <th>0</th>\n",
       "      <td>서부분소</td>\n",
       "      <td>2018-04-20∼2018-04-21</td>\n",
       "      <td>경상북도 안동시 풍산읍</td>\n",
       "      <td>서플라우(트)</td>\n",
       "      <td>트랙터및작업기</td>\n",
       "      <td>플라우</td>\n",
       "      <td>서플라우(트)</td>\n",
       "    </tr>\n",
       "  </tbody>\n",
       "</table>\n",
       "</div>"
      ],
      "text/plain": [
       "  임대사업장                   임대기간            주소   임대농기계2       구분   종류      기종2\n",
       "0  서부분소  2018-04-20∼2018-04-21  경상북도 안동시 풍산읍  서플라우(트)  트랙터및작업기  플라우  서플라우(트)"
      ]
     },
     "execution_count": 10,
     "metadata": {},
     "output_type": "execute_result"
    }
   ],
   "source": [
    "leftjoin_df2 = leftjoin_df[['임대사업장','임대기간','주소','임대농기계2','구분','종류','기종2']]\n",
    "leftjoin_df2.head(1)\n",
    "#임대농기계에는 결측치가 없으나\n",
    "#기종2에는 결측치가 있다."
   ]
  },
  {
   "cell_type": "code",
   "execution_count": 11,
   "id": "d22ba0f5-982c-43a8-9f3e-2c7dd68c9958",
   "metadata": {},
   "outputs": [
    {
     "data": {
      "text/plain": [
       "콩탈곡기(모)          164\n",
       "로터베이터            122\n",
       "관리기              103\n",
       "땅속작물수확기(경)(레)     56\n",
       "SS기(운)            25\n",
       "보통형콤바인            15\n",
       "콩탈곡기(경)            4\n",
       "농용돌파쇄기(트)          4\n",
       "심경로타리(역회전)         4\n",
       "콩수확기               1\n",
       "Name: 임대농기계2, dtype: int64"
      ]
     },
     "execution_count": 11,
     "metadata": {},
     "output_type": "execute_result"
    }
   ],
   "source": [
    "leftjoin_df2[leftjoin_df2['기종2'].isna()]['임대농기계2'].value_counts()\n",
    "#임대내역에는 있지만 현재 보유내역에는 없는 농기계"
   ]
  },
  {
   "cell_type": "code",
   "execution_count": 12,
   "id": "55b4ed94-0f7d-4b69-bf62-2a4d262cf6f1",
   "metadata": {},
   "outputs": [
    {
     "name": "stdout",
     "output_type": "stream",
     "text": [
      "동력탈곡기    797\n",
      "Name: 종류, dtype: int64 \n",
      " 탈곡기및정선기    797\n",
      "Name: 구분, dtype: int64\n"
     ]
    }
   ],
   "source": [
    "print(leftjoin_df2[leftjoin_df2['임대농기계2'].str.contains('콩탈곡기')]['종류'].value_counts(), '\\n' , leftjoin_df2[leftjoin_df2['임대농기계2'].str.contains('콩탈곡기')]['구분'].value_counts())"
   ]
  },
  {
   "cell_type": "markdown",
   "id": "95dbd34c-2e4d-47a8-988f-655a392f4ec5",
   "metadata": {},
   "source": [
    "#### 결측치에 대해서 fillna로 한 후에, pd crosstab에 남기기 - 후에 할 일"
   ]
  },
  {
   "cell_type": "code",
   "execution_count": 13,
   "id": "d7a20f07-2e60-4ac4-90f9-49da3e7a12d3",
   "metadata": {},
   "outputs": [],
   "source": [
    "# a = leftjoin_df2[leftjoin_df2['임대농기계2'].str.contains('SS기')][['임대농기계2','종류','구분']]\n",
    "# pd.crosstab(a['임대농기계2'], a['종류'])"
   ]
  },
  {
   "cell_type": "markdown",
   "id": "e97fe614-9b51-4ca8-a30d-0c60488dede8",
   "metadata": {},
   "source": [
    "# 결측치의 value_counts()"
   ]
  },
  {
   "cell_type": "markdown",
   "id": "9716dd38-a81f-48ac-ada7-ee100cf5b006",
   "metadata": {},
   "source": [
    "## 결측치 채우기"
   ]
  },
  {
   "cell_type": "code",
   "execution_count": 14,
   "id": "cef9528f-376c-42cb-a073-84c45b3f0662",
   "metadata": {},
   "outputs": [
    {
     "data": {
      "text/html": [
       "<div>\n",
       "<style scoped>\n",
       "    .dataframe tbody tr th:only-of-type {\n",
       "        vertical-align: middle;\n",
       "    }\n",
       "\n",
       "    .dataframe tbody tr th {\n",
       "        vertical-align: top;\n",
       "    }\n",
       "\n",
       "    .dataframe thead th {\n",
       "        text-align: right;\n",
       "    }\n",
       "</style>\n",
       "<table border=\"1\" class=\"dataframe\">\n",
       "  <thead>\n",
       "    <tr style=\"text-align: right;\">\n",
       "      <th></th>\n",
       "      <th>임대사업장</th>\n",
       "      <th>임대기간</th>\n",
       "      <th>주소</th>\n",
       "      <th>임대농기계2</th>\n",
       "      <th>구분</th>\n",
       "      <th>종류</th>\n",
       "      <th>기종2</th>\n",
       "    </tr>\n",
       "  </thead>\n",
       "  <tbody>\n",
       "    <tr>\n",
       "      <th>39</th>\n",
       "      <td>농업기술센터</td>\n",
       "      <td>2018-01-16∼2018-01-16</td>\n",
       "      <td>경상북도 안동시 와룡면</td>\n",
       "      <td>관리기(비닐피복전용)</td>\n",
       "      <td>관리기및작업기</td>\n",
       "      <td>보행관리기</td>\n",
       "      <td>관리기(비닐피복전용)</td>\n",
       "    </tr>\n",
       "    <tr>\n",
       "      <th>86</th>\n",
       "      <td>서부분소</td>\n",
       "      <td>2018-02-06∼2018-02-06</td>\n",
       "      <td>경상북도 안동시 풍산읍</td>\n",
       "      <td>서관리기(관)</td>\n",
       "      <td>관리기및작업기</td>\n",
       "      <td>보행관리기</td>\n",
       "      <td>서관리기(관)</td>\n",
       "    </tr>\n",
       "    <tr>\n",
       "      <th>104</th>\n",
       "      <td>서부분소</td>\n",
       "      <td>2018-02-09∼2018-02-09</td>\n",
       "      <td>경상북도 안동시 태화동</td>\n",
       "      <td>서관리기(관)</td>\n",
       "      <td>관리기및작업기</td>\n",
       "      <td>보행관리기</td>\n",
       "      <td>서관리기(관)</td>\n",
       "    </tr>\n",
       "    <tr>\n",
       "      <th>186</th>\n",
       "      <td>농업기술센터</td>\n",
       "      <td>2018-02-24∼2018-02-24</td>\n",
       "      <td>경상북도 안동시 임하면</td>\n",
       "      <td>관리기</td>\n",
       "      <td>NaN</td>\n",
       "      <td>NaN</td>\n",
       "      <td>NaN</td>\n",
       "    </tr>\n",
       "    <tr>\n",
       "      <th>208</th>\n",
       "      <td>북부분소</td>\n",
       "      <td>2018-02-27∼2018-02-28</td>\n",
       "      <td>경상북도 안동시 서후면</td>\n",
       "      <td>북일륜관리기(관)</td>\n",
       "      <td>관리기및작업기</td>\n",
       "      <td>보행관리기</td>\n",
       "      <td>북일륜관리기(관)</td>\n",
       "    </tr>\n",
       "    <tr>\n",
       "      <th>...</th>\n",
       "      <td>...</td>\n",
       "      <td>...</td>\n",
       "      <td>...</td>\n",
       "      <td>...</td>\n",
       "      <td>...</td>\n",
       "      <td>...</td>\n",
       "      <td>...</td>\n",
       "    </tr>\n",
       "    <tr>\n",
       "      <th>21071</th>\n",
       "      <td>서부분소</td>\n",
       "      <td>2020-12-10∼2020-12-10</td>\n",
       "      <td>경상북도 안동시 풍천면</td>\n",
       "      <td>서관리기</td>\n",
       "      <td>관리기및작업기</td>\n",
       "      <td>보행관리기</td>\n",
       "      <td>서관리기</td>\n",
       "    </tr>\n",
       "    <tr>\n",
       "      <th>21101</th>\n",
       "      <td>북부분소</td>\n",
       "      <td>2020-12-11∼2020-12-11</td>\n",
       "      <td>경상북도 안동시 용상동</td>\n",
       "      <td>북관리기</td>\n",
       "      <td>관리기및작업기</td>\n",
       "      <td>보행관리기</td>\n",
       "      <td>북관리기</td>\n",
       "    </tr>\n",
       "    <tr>\n",
       "      <th>21286</th>\n",
       "      <td>서부분소</td>\n",
       "      <td>2020-12-24∼2020-12-24</td>\n",
       "      <td>경상북도 안동시 도산면</td>\n",
       "      <td>서관리기</td>\n",
       "      <td>관리기및작업기</td>\n",
       "      <td>보행관리기</td>\n",
       "      <td>서관리기</td>\n",
       "    </tr>\n",
       "    <tr>\n",
       "      <th>21338</th>\n",
       "      <td>농업기술센터</td>\n",
       "      <td>2020-12-31∼2020-12-31</td>\n",
       "      <td>경상북도 안동시 임하면</td>\n",
       "      <td>관리기(로터리전용)</td>\n",
       "      <td>관리기및작업기</td>\n",
       "      <td>보행관리기</td>\n",
       "      <td>관리기(로터리전용)</td>\n",
       "    </tr>\n",
       "    <tr>\n",
       "      <th>21339</th>\n",
       "      <td>농업기술센터</td>\n",
       "      <td>2020-12-31∼2020-12-31</td>\n",
       "      <td>경상북도 안동시 임하면</td>\n",
       "      <td>관리기(동시피복전용)</td>\n",
       "      <td>관리기및작업기</td>\n",
       "      <td>보행관리기</td>\n",
       "      <td>관리기(동시피복전용)</td>\n",
       "    </tr>\n",
       "  </tbody>\n",
       "</table>\n",
       "<p>2126 rows × 7 columns</p>\n",
       "</div>"
      ],
      "text/plain": [
       "        임대사업장                   임대기간            주소       임대농기계2       구분  \\\n",
       "39     농업기술센터  2018-01-16∼2018-01-16  경상북도 안동시 와룡면  관리기(비닐피복전용)  관리기및작업기   \n",
       "86       서부분소  2018-02-06∼2018-02-06  경상북도 안동시 풍산읍      서관리기(관)  관리기및작업기   \n",
       "104      서부분소  2018-02-09∼2018-02-09  경상북도 안동시 태화동      서관리기(관)  관리기및작업기   \n",
       "186    농업기술센터  2018-02-24∼2018-02-24  경상북도 안동시 임하면          관리기      NaN   \n",
       "208      북부분소  2018-02-27∼2018-02-28  경상북도 안동시 서후면    북일륜관리기(관)  관리기및작업기   \n",
       "...       ...                    ...           ...          ...      ...   \n",
       "21071    서부분소  2020-12-10∼2020-12-10  경상북도 안동시 풍천면         서관리기  관리기및작업기   \n",
       "21101    북부분소  2020-12-11∼2020-12-11  경상북도 안동시 용상동         북관리기  관리기및작업기   \n",
       "21286    서부분소  2020-12-24∼2020-12-24  경상북도 안동시 도산면         서관리기  관리기및작업기   \n",
       "21338  농업기술센터  2020-12-31∼2020-12-31  경상북도 안동시 임하면   관리기(로터리전용)  관리기및작업기   \n",
       "21339  농업기술센터  2020-12-31∼2020-12-31  경상북도 안동시 임하면  관리기(동시피복전용)  관리기및작업기   \n",
       "\n",
       "          종류          기종2  \n",
       "39     보행관리기  관리기(비닐피복전용)  \n",
       "86     보행관리기      서관리기(관)  \n",
       "104    보행관리기      서관리기(관)  \n",
       "186      NaN          NaN  \n",
       "208    보행관리기    북일륜관리기(관)  \n",
       "...      ...          ...  \n",
       "21071  보행관리기         서관리기  \n",
       "21101  보행관리기         북관리기  \n",
       "21286  보행관리기         서관리기  \n",
       "21338  보행관리기   관리기(로터리전용)  \n",
       "21339  보행관리기  관리기(동시피복전용)  \n",
       "\n",
       "[2126 rows x 7 columns]"
      ]
     },
     "execution_count": 14,
     "metadata": {},
     "output_type": "execute_result"
    }
   ],
   "source": [
    "leftjoin_df2[leftjoin_df2['임대농기계2'].str.contains('관리기')]"
   ]
  },
  {
   "cell_type": "code",
   "execution_count": 15,
   "id": "a1328e15-51ed-4992-bf20-c05bd2830a22",
   "metadata": {},
   "outputs": [
    {
     "data": {
      "text/html": [
       "<div>\n",
       "<style scoped>\n",
       "    .dataframe tbody tr th:only-of-type {\n",
       "        vertical-align: middle;\n",
       "    }\n",
       "\n",
       "    .dataframe tbody tr th {\n",
       "        vertical-align: top;\n",
       "    }\n",
       "\n",
       "    .dataframe thead th {\n",
       "        text-align: right;\n",
       "    }\n",
       "</style>\n",
       "<table border=\"1\" class=\"dataframe\">\n",
       "  <thead>\n",
       "    <tr style=\"text-align: right;\">\n",
       "      <th></th>\n",
       "      <th>임대사업장</th>\n",
       "      <th>임대기간</th>\n",
       "      <th>주소</th>\n",
       "      <th>임대농기계2</th>\n",
       "      <th>구분</th>\n",
       "      <th>종류</th>\n",
       "      <th>기종2</th>\n",
       "    </tr>\n",
       "  </thead>\n",
       "  <tbody>\n",
       "    <tr>\n",
       "      <th>0</th>\n",
       "      <td>서부분소</td>\n",
       "      <td>2018-04-20∼2018-04-21</td>\n",
       "      <td>경상북도 안동시 풍산읍</td>\n",
       "      <td>서플라우(트)</td>\n",
       "      <td>트랙터및작업기</td>\n",
       "      <td>플라우</td>\n",
       "      <td>서플라우(트)</td>\n",
       "    </tr>\n",
       "  </tbody>\n",
       "</table>\n",
       "</div>"
      ],
      "text/plain": [
       "  임대사업장                   임대기간            주소   임대농기계2       구분   종류      기종2\n",
       "0  서부분소  2018-04-20∼2018-04-21  경상북도 안동시 풍산읍  서플라우(트)  트랙터및작업기  플라우  서플라우(트)"
      ]
     },
     "execution_count": 15,
     "metadata": {},
     "output_type": "execute_result"
    }
   ],
   "source": [
    "tmp = leftjoin_df2\n",
    "tmp.head(1)"
   ]
  },
  {
   "cell_type": "code",
   "execution_count": 16,
   "id": "99bcebba-115a-4bec-bfb9-7c90d9378943",
   "metadata": {},
   "outputs": [
    {
     "name": "stdout",
     "output_type": "stream",
     "text": [
      "103 \n",
      " 103\n"
     ]
    }
   ],
   "source": [
    "print(tmp[tmp['임대농기계2'].str.contains('관리기')]['종류'].isna().sum(),\n",
    "      '\\n',\n",
    "      tmp[tmp['임대농기계2'].str.contains('관리기')]['구분'].isna().sum())"
   ]
  },
  {
   "cell_type": "markdown",
   "id": "32120027-2139-4eb6-b448-f1c76ce675ba",
   "metadata": {},
   "source": [
    "# 관리기"
   ]
  },
  {
   "cell_type": "code",
   "execution_count": 17,
   "id": "de3c1c7c-1283-48ce-a0c6-ae7b5b071203",
   "metadata": {},
   "outputs": [
    {
     "data": {
      "text/html": [
       "<div>\n",
       "<style scoped>\n",
       "    .dataframe tbody tr th:only-of-type {\n",
       "        vertical-align: middle;\n",
       "    }\n",
       "\n",
       "    .dataframe tbody tr th {\n",
       "        vertical-align: top;\n",
       "    }\n",
       "\n",
       "    .dataframe thead th {\n",
       "        text-align: right;\n",
       "    }\n",
       "</style>\n",
       "<table border=\"1\" class=\"dataframe\">\n",
       "  <thead>\n",
       "    <tr style=\"text-align: right;\">\n",
       "      <th></th>\n",
       "      <th>임대사업장</th>\n",
       "      <th>임대기간</th>\n",
       "      <th>주소</th>\n",
       "      <th>임대농기계2</th>\n",
       "      <th>구분</th>\n",
       "      <th>종류</th>\n",
       "      <th>기종2</th>\n",
       "    </tr>\n",
       "  </thead>\n",
       "  <tbody>\n",
       "    <tr>\n",
       "      <th>186</th>\n",
       "      <td>농업기술센터</td>\n",
       "      <td>2018-02-24∼2018-02-24</td>\n",
       "      <td>경상북도 안동시 임하면</td>\n",
       "      <td>관리기</td>\n",
       "      <td>NaN</td>\n",
       "      <td>NaN</td>\n",
       "      <td>NaN</td>\n",
       "    </tr>\n",
       "    <tr>\n",
       "      <th>247</th>\n",
       "      <td>농업기술센터</td>\n",
       "      <td>2018-03-03∼2018-03-03</td>\n",
       "      <td>경상북도 안동시 임하면</td>\n",
       "      <td>관리기</td>\n",
       "      <td>NaN</td>\n",
       "      <td>NaN</td>\n",
       "      <td>NaN</td>\n",
       "    </tr>\n",
       "    <tr>\n",
       "      <th>619</th>\n",
       "      <td>농업기술센터</td>\n",
       "      <td>2018-03-27∼2018-03-27</td>\n",
       "      <td>경상북도 안동시 태화동</td>\n",
       "      <td>관리기</td>\n",
       "      <td>NaN</td>\n",
       "      <td>NaN</td>\n",
       "      <td>NaN</td>\n",
       "    </tr>\n",
       "    <tr>\n",
       "      <th>753</th>\n",
       "      <td>농업기술센터</td>\n",
       "      <td>2018-03-30∼2018-03-30</td>\n",
       "      <td>경상북도 안동시 임하면</td>\n",
       "      <td>관리기</td>\n",
       "      <td>NaN</td>\n",
       "      <td>NaN</td>\n",
       "      <td>NaN</td>\n",
       "    </tr>\n",
       "    <tr>\n",
       "      <th>813</th>\n",
       "      <td>농업기술센터</td>\n",
       "      <td>2018-03-31∼2018-03-31</td>\n",
       "      <td>경상북도 안동시 중구동</td>\n",
       "      <td>관리기</td>\n",
       "      <td>NaN</td>\n",
       "      <td>NaN</td>\n",
       "      <td>NaN</td>\n",
       "    </tr>\n",
       "    <tr>\n",
       "      <th>...</th>\n",
       "      <td>...</td>\n",
       "      <td>...</td>\n",
       "      <td>...</td>\n",
       "      <td>...</td>\n",
       "      <td>...</td>\n",
       "      <td>...</td>\n",
       "      <td>...</td>\n",
       "    </tr>\n",
       "    <tr>\n",
       "      <th>16921</th>\n",
       "      <td>농업기술센터</td>\n",
       "      <td>2020-06-05∼2020-06-05</td>\n",
       "      <td>경상북도 안동시 북후면</td>\n",
       "      <td>관리기</td>\n",
       "      <td>NaN</td>\n",
       "      <td>NaN</td>\n",
       "      <td>NaN</td>\n",
       "    </tr>\n",
       "    <tr>\n",
       "      <th>17369</th>\n",
       "      <td>농업기술센터</td>\n",
       "      <td>2020-06-18∼2020-06-18</td>\n",
       "      <td>경상북도 안동시 임하면</td>\n",
       "      <td>관리기</td>\n",
       "      <td>NaN</td>\n",
       "      <td>NaN</td>\n",
       "      <td>NaN</td>\n",
       "    </tr>\n",
       "    <tr>\n",
       "      <th>17448</th>\n",
       "      <td>농업기술센터</td>\n",
       "      <td>2020-06-20∼2020-06-21</td>\n",
       "      <td>경상북도 안동시 용상동</td>\n",
       "      <td>관리기</td>\n",
       "      <td>NaN</td>\n",
       "      <td>NaN</td>\n",
       "      <td>NaN</td>\n",
       "    </tr>\n",
       "    <tr>\n",
       "      <th>17869</th>\n",
       "      <td>농업기술센터</td>\n",
       "      <td>2020-07-04∼2020-07-05</td>\n",
       "      <td>경상북도 안동시 일직면</td>\n",
       "      <td>관리기</td>\n",
       "      <td>NaN</td>\n",
       "      <td>NaN</td>\n",
       "      <td>NaN</td>\n",
       "    </tr>\n",
       "    <tr>\n",
       "      <th>18524</th>\n",
       "      <td>농업기술센터</td>\n",
       "      <td>2020-08-26∼2020-08-26</td>\n",
       "      <td>경상북도 안동시 강남동</td>\n",
       "      <td>관리기</td>\n",
       "      <td>NaN</td>\n",
       "      <td>NaN</td>\n",
       "      <td>NaN</td>\n",
       "    </tr>\n",
       "  </tbody>\n",
       "</table>\n",
       "<p>103 rows × 7 columns</p>\n",
       "</div>"
      ],
      "text/plain": [
       "        임대사업장                   임대기간            주소 임대농기계2   구분   종류  기종2\n",
       "186    농업기술센터  2018-02-24∼2018-02-24  경상북도 안동시 임하면    관리기  NaN  NaN  NaN\n",
       "247    농업기술센터  2018-03-03∼2018-03-03  경상북도 안동시 임하면    관리기  NaN  NaN  NaN\n",
       "619    농업기술센터  2018-03-27∼2018-03-27  경상북도 안동시 태화동    관리기  NaN  NaN  NaN\n",
       "753    농업기술센터  2018-03-30∼2018-03-30  경상북도 안동시 임하면    관리기  NaN  NaN  NaN\n",
       "813    농업기술센터  2018-03-31∼2018-03-31  경상북도 안동시 중구동    관리기  NaN  NaN  NaN\n",
       "...       ...                    ...           ...    ...  ...  ...  ...\n",
       "16921  농업기술센터  2020-06-05∼2020-06-05  경상북도 안동시 북후면    관리기  NaN  NaN  NaN\n",
       "17369  농업기술센터  2020-06-18∼2020-06-18  경상북도 안동시 임하면    관리기  NaN  NaN  NaN\n",
       "17448  농업기술센터  2020-06-20∼2020-06-21  경상북도 안동시 용상동    관리기  NaN  NaN  NaN\n",
       "17869  농업기술센터  2020-07-04∼2020-07-05  경상북도 안동시 일직면    관리기  NaN  NaN  NaN\n",
       "18524  농업기술센터  2020-08-26∼2020-08-26  경상북도 안동시 강남동    관리기  NaN  NaN  NaN\n",
       "\n",
       "[103 rows x 7 columns]"
      ]
     },
     "execution_count": 17,
     "metadata": {},
     "output_type": "execute_result"
    }
   ],
   "source": [
    "tmp[tmp['임대농기계2'] == '관리기'] #나중에 삭제해도 될듯?"
   ]
  },
  {
   "cell_type": "code",
   "execution_count": 18,
   "id": "22a3ca2c-ae07-47fc-8da6-3b8355af2420",
   "metadata": {},
   "outputs": [
    {
     "data": {
      "text/plain": [
       "Int64Index([  186,   247,   619,   753,   813,  1073,  1120,  1183,  1275,\n",
       "             1460,\n",
       "            ...\n",
       "            16275, 16554, 16634, 16707, 16776, 16921, 17369, 17448, 17869,\n",
       "            18524],\n",
       "           dtype='int64', length=103)"
      ]
     },
     "execution_count": 18,
     "metadata": {},
     "output_type": "execute_result"
    }
   ],
   "source": [
    "# tmp[tmp['임대농기계2'].str.contains('관리기') & tmp['종류'].isna()].index 이 문장만 삭제\n",
    "tmp[tmp['임대농기계2'] == '관리기'].index"
   ]
  },
  {
   "cell_type": "code",
   "execution_count": 19,
   "id": "ae8460f7-88db-43da-96b3-aa99d1c5ab01",
   "metadata": {},
   "outputs": [
    {
     "data": {
      "text/html": [
       "<div>\n",
       "<style scoped>\n",
       "    .dataframe tbody tr th:only-of-type {\n",
       "        vertical-align: middle;\n",
       "    }\n",
       "\n",
       "    .dataframe tbody tr th {\n",
       "        vertical-align: top;\n",
       "    }\n",
       "\n",
       "    .dataframe thead th {\n",
       "        text-align: right;\n",
       "    }\n",
       "</style>\n",
       "<table border=\"1\" class=\"dataframe\">\n",
       "  <thead>\n",
       "    <tr style=\"text-align: right;\">\n",
       "      <th></th>\n",
       "      <th>임대농기계2</th>\n",
       "      <th>구분</th>\n",
       "      <th>종류</th>\n",
       "    </tr>\n",
       "  </thead>\n",
       "  <tbody>\n",
       "    <tr>\n",
       "      <th>186</th>\n",
       "      <td>관리기</td>\n",
       "      <td>관리기및작업기</td>\n",
       "      <td>보행관리기</td>\n",
       "    </tr>\n",
       "  </tbody>\n",
       "</table>\n",
       "</div>"
      ],
      "text/plain": [
       "    임대농기계2       구분     종류\n",
       "186    관리기  관리기및작업기  보행관리기"
      ]
     },
     "execution_count": 19,
     "metadata": {},
     "output_type": "execute_result"
    }
   ],
   "source": [
    "for i in tmp[tmp['임대농기계2'] == '관리기'].index:\n",
    "    tmp.at[i, '종류'] = '보행관리기'\n",
    "    tmp.at[i, '구분'] = '관리기및작업기'\n",
    "tmp[tmp['임대농기계2'] == '관리기'][['임대농기계2','구분','종류']].head(1)"
   ]
  },
  {
   "cell_type": "markdown",
   "id": "ed8f9321-3ae0-4d8f-a49b-0119ebefa7eb",
   "metadata": {},
   "source": [
    "# 임대농기계2 : 땅속작물수확기(경)(레) -> 종류 : 수확기/경운기 및 작업기"
   ]
  },
  {
   "cell_type": "code",
   "execution_count": 20,
   "id": "96014e44-528e-4190-9bba-7e218d2b85e0",
   "metadata": {},
   "outputs": [
    {
     "data": {
      "text/plain": [
       "임대농기계2          구분       종류 \n",
       "북땅속작물수확기(경)     경운기및작업기  수확기    224\n",
       "땅속작물수확기(경)      경운기및작업기  수확기    217\n",
       "서땅속작물수확기(경)     경운기및작업기  수확기    200\n",
       "서땅속작물수확기(트)     트랙터및작업기  수확기    110\n",
       "북땅속작물수확기(트)     트랙터및작업기  수확기     80\n",
       "땅속작물수확기(트)      트랙터및작업기  수확기     64\n",
       "북땅속작물수확기(트)(레)  트랙터및작업기  수확기     53\n",
       "땅속작물수확기(트)(레)   트랙터및작업기  수확기     38\n",
       "땅속작물수확기(트)(레일)  트랙터및작업기  수확기     36\n",
       "서땅속작물수확기(트)(레)  트랙터및작업기  수확기     31\n",
       "dtype: int64"
      ]
     },
     "execution_count": 20,
     "metadata": {},
     "output_type": "execute_result"
    }
   ],
   "source": [
    "tmp[tmp['임대농기계2'].str.contains('땅속작물수확기')][['임대농기계2','구분','종류']].value_counts()"
   ]
  },
  {
   "cell_type": "code",
   "execution_count": 21,
   "id": "c6917869-6d1a-45ef-a2a5-1499dc6e98af",
   "metadata": {},
   "outputs": [
    {
     "data": {
      "text/plain": [
       "임대농기계2        \n",
       "북땅속작물수확기(경)       224\n",
       "땅속작물수확기(경)        217\n",
       "서땅속작물수확기(경)       200\n",
       "서땅속작물수확기(트)       110\n",
       "북땅속작물수확기(트)        80\n",
       "땅속작물수확기(트)         64\n",
       "땅속작물수확기(경)(레)      56\n",
       "북땅속작물수확기(트)(레)     53\n",
       "땅속작물수확기(트)(레)      38\n",
       "땅속작물수확기(트)(레일)     36\n",
       "서땅속작물수확기(트)(레)     31\n",
       "dtype: int64"
      ]
     },
     "execution_count": 21,
     "metadata": {},
     "output_type": "execute_result"
    }
   ],
   "source": [
    "tmp[tmp['임대농기계2'].str.contains('땅속작물수확기')][['임대농기계2']].value_counts()"
   ]
  },
  {
   "cell_type": "code",
   "execution_count": 22,
   "id": "0da73d52-01e7-46f1-bc54-90067120dfdc",
   "metadata": {},
   "outputs": [
    {
     "data": {
      "text/plain": [
       "Int64Index([  530,  2416,  2821,  2822,  2891,  2976,  2989,  3025,  3055,\n",
       "             3063,  3127,  3206,  3213,  3978,  4305,  4567,  6764,  6938,\n",
       "             7827,  7945,  8675,  8730,  9001,  9036,  9474,  9507,  9527,\n",
       "             9626,  9635,  9639,  9738,  9739,  9783,  9810,  9819,  9848,\n",
       "            11781, 11816, 13301, 13354, 14322, 14527, 14664, 14797, 15061,\n",
       "            15275, 15413, 15830, 16411, 16458, 16768, 17286, 17408, 17630,\n",
       "            17793, 18082],\n",
       "           dtype='int64')"
      ]
     },
     "execution_count": 22,
     "metadata": {},
     "output_type": "execute_result"
    }
   ],
   "source": [
    "tmp[tmp['임대농기계2'] == '땅속작물수확기(경)(레)']['임대농기계2'].index"
   ]
  },
  {
   "cell_type": "code",
   "execution_count": 23,
   "id": "9e546998-872a-4302-a64d-c134e44a2ca1",
   "metadata": {},
   "outputs": [
    {
     "data": {
      "text/html": [
       "<div>\n",
       "<style scoped>\n",
       "    .dataframe tbody tr th:only-of-type {\n",
       "        vertical-align: middle;\n",
       "    }\n",
       "\n",
       "    .dataframe tbody tr th {\n",
       "        vertical-align: top;\n",
       "    }\n",
       "\n",
       "    .dataframe thead th {\n",
       "        text-align: right;\n",
       "    }\n",
       "</style>\n",
       "<table border=\"1\" class=\"dataframe\">\n",
       "  <thead>\n",
       "    <tr style=\"text-align: right;\">\n",
       "      <th></th>\n",
       "      <th>임대사업장</th>\n",
       "      <th>임대기간</th>\n",
       "      <th>주소</th>\n",
       "      <th>임대농기계2</th>\n",
       "      <th>구분</th>\n",
       "      <th>종류</th>\n",
       "      <th>기종2</th>\n",
       "    </tr>\n",
       "  </thead>\n",
       "  <tbody>\n",
       "    <tr>\n",
       "      <th>530</th>\n",
       "      <td>농업기술센터</td>\n",
       "      <td>2018-03-24∼2018-03-25</td>\n",
       "      <td>경상북도 안동시 풍천면</td>\n",
       "      <td>땅속작물수확기(경)(레)</td>\n",
       "      <td>경운기및작업기</td>\n",
       "      <td>수확기</td>\n",
       "      <td>NaN</td>\n",
       "    </tr>\n",
       "  </tbody>\n",
       "</table>\n",
       "</div>"
      ],
      "text/plain": [
       "      임대사업장                   임대기간            주소         임대농기계2       구분   종류  \\\n",
       "530  농업기술센터  2018-03-24∼2018-03-25  경상북도 안동시 풍천면  땅속작물수확기(경)(레)  경운기및작업기  수확기   \n",
       "\n",
       "     기종2  \n",
       "530  NaN  "
      ]
     },
     "execution_count": 23,
     "metadata": {},
     "output_type": "execute_result"
    }
   ],
   "source": [
    "for i in tmp[tmp['임대농기계2'] == '땅속작물수확기(경)(레)']['임대농기계2'].index :\n",
    "    tmp.at[i,'종류'] = '수확기'\n",
    "    tmp.at[i,'구분'] = '경운기및작업기'\n",
    "    \n",
    "tmp[tmp['임대농기계2'] == '땅속작물수확기(경)(레)'].head(1)"
   ]
  },
  {
   "cell_type": "markdown",
   "id": "9a8fac49-e729-49ea-9355-ae5fec7937dd",
   "metadata": {},
   "source": [
    "# 심경로타리(역회전) -> 심경로타리 / 트랙터 및 작업기"
   ]
  },
  {
   "cell_type": "code",
   "execution_count": 24,
   "id": "f2b67ade-998c-4322-8b47-0ebcc18c3fa6",
   "metadata": {},
   "outputs": [
    {
     "data": {
      "text/plain": [
       "Int64Index([897, 1379, 3164, 3280], dtype='int64')"
      ]
     },
     "execution_count": 24,
     "metadata": {},
     "output_type": "execute_result"
    }
   ],
   "source": [
    "tmp[tmp['임대농기계2'].str.contains('역회전')].index"
   ]
  },
  {
   "cell_type": "code",
   "execution_count": 25,
   "id": "6e9ab5de-9425-43f0-be1a-fe66db291fa6",
   "metadata": {},
   "outputs": [
    {
     "data": {
      "text/html": [
       "<div>\n",
       "<style scoped>\n",
       "    .dataframe tbody tr th:only-of-type {\n",
       "        vertical-align: middle;\n",
       "    }\n",
       "\n",
       "    .dataframe tbody tr th {\n",
       "        vertical-align: top;\n",
       "    }\n",
       "\n",
       "    .dataframe thead th {\n",
       "        text-align: right;\n",
       "    }\n",
       "</style>\n",
       "<table border=\"1\" class=\"dataframe\">\n",
       "  <thead>\n",
       "    <tr style=\"text-align: right;\">\n",
       "      <th></th>\n",
       "      <th>임대사업장</th>\n",
       "      <th>임대기간</th>\n",
       "      <th>주소</th>\n",
       "      <th>임대농기계2</th>\n",
       "      <th>구분</th>\n",
       "      <th>종류</th>\n",
       "      <th>기종2</th>\n",
       "    </tr>\n",
       "  </thead>\n",
       "  <tbody>\n",
       "    <tr>\n",
       "      <th>897</th>\n",
       "      <td>농업기술센터</td>\n",
       "      <td>2018-04-02∼2018-04-02</td>\n",
       "      <td>경상북도 안동시 와룡면</td>\n",
       "      <td>심경로타리(역회전)</td>\n",
       "      <td>트랙터및작업기</td>\n",
       "      <td>심경로타리</td>\n",
       "      <td>NaN</td>\n",
       "    </tr>\n",
       "  </tbody>\n",
       "</table>\n",
       "</div>"
      ],
      "text/plain": [
       "      임대사업장                   임대기간            주소      임대농기계2       구분     종류  \\\n",
       "897  농업기술센터  2018-04-02∼2018-04-02  경상북도 안동시 와룡면  심경로타리(역회전)  트랙터및작업기  심경로타리   \n",
       "\n",
       "     기종2  \n",
       "897  NaN  "
      ]
     },
     "execution_count": 25,
     "metadata": {},
     "output_type": "execute_result"
    }
   ],
   "source": [
    "for i in tmp[tmp['임대농기계2'].str.contains('역회전')].index :\n",
    "    tmp.at[i,'종류'] = '심경로타리'\n",
    "    tmp.at[i,'구분'] = '트랙터및작업기'\n",
    "\n",
    "tmp[tmp['임대농기계2'].str.contains('역회전')].head(1)"
   ]
  },
  {
   "cell_type": "markdown",
   "id": "9ccf7c42-c2c7-48a7-8c24-8c91ed96901c",
   "metadata": {},
   "source": [
    "# 콩탈곡기(경) / 콩탈곡기(모) -> 동력탈곡기 / 탈곡기및정선기"
   ]
  },
  {
   "cell_type": "code",
   "execution_count": 26,
   "id": "e165a4e4-e8fa-447d-9f46-8af98f5a6e40",
   "metadata": {},
   "outputs": [
    {
     "data": {
      "text/plain": [
       "임대농기계2     구분       종류   \n",
       "콩탈곡기(트)    탈곡기및정선기  동력탈곡기    195\n",
       "북콩탈곡기(트)   탈곡기및정선기  동력탈곡기    119\n",
       "콩탈곡기(자주형)  탈곡기및정선기  동력탈곡기    119\n",
       "서콩탈곡기(트)   탈곡기및정선기  동력탈곡기     98\n",
       "콩탈곡기(엔)    탈곡기및정선기  동력탈곡기     94\n",
       "북콩탈곡기(엔)   탈곡기및정선기  동력탈곡기     93\n",
       "서콩탈곡기(엔)   탈곡기및정선기  동력탈곡기     72\n",
       "땅콩탈곡기(트)   탈곡기및정선기  동력탈곡기      7\n",
       "dtype: int64"
      ]
     },
     "execution_count": 26,
     "metadata": {},
     "output_type": "execute_result"
    }
   ],
   "source": [
    "tmp[tmp['임대농기계2'].str.contains('콩탈곡기')][['임대농기계2','구분','종류']].value_counts()"
   ]
  },
  {
   "cell_type": "code",
   "execution_count": 27,
   "id": "a9796f72-07c2-4f4b-a35b-f06f314436db",
   "metadata": {},
   "outputs": [],
   "source": [
    "# tmp[tmp['임대농기계2'].str.contains('콩탈곡기') & tmp['종류'].isna()]['임대농기계2'].unique() 삭제 가능"
   ]
  },
  {
   "cell_type": "code",
   "execution_count": 28,
   "id": "c4c49003-1491-45d0-b243-15d1a1dab39c",
   "metadata": {},
   "outputs": [
    {
     "name": "stdout",
     "output_type": "stream",
     "text": [
      "동력탈곡기    965\n",
      "Name: 종류, dtype: int64\n",
      "탈곡기및정선기    965\n",
      "Name: 구분, dtype: int64\n"
     ]
    }
   ],
   "source": [
    "for i in tmp[tmp['임대농기계2'].str.contains('콩탈곡기') & tmp['종류'].isna()].index :\n",
    "    tmp.at[i, '종류'] = '동력탈곡기'\n",
    "    tmp.at[i, '구분'] = '탈곡기및정선기'\n",
    "    \n",
    "print(tmp[tmp['임대농기계2'].str.contains('콩탈곡기')]['종류'].value_counts())\n",
    "print(tmp[tmp['임대농기계2'].str.contains('콩탈곡기')]['구분'].value_counts())"
   ]
  },
  {
   "cell_type": "markdown",
   "id": "9cc7d883-01df-461d-8069-e26367fec832",
   "metadata": {},
   "source": [
    "# 땅콩박피기를 언제 채운거지?"
   ]
  },
  {
   "cell_type": "code",
   "execution_count": 29,
   "id": "fafeb918-7e26-4ed9-b4ae-977a6e25d72b",
   "metadata": {},
   "outputs": [
    {
     "data": {
      "text/html": [
       "<div>\n",
       "<style scoped>\n",
       "    .dataframe tbody tr th:only-of-type {\n",
       "        vertical-align: middle;\n",
       "    }\n",
       "\n",
       "    .dataframe tbody tr th {\n",
       "        vertical-align: top;\n",
       "    }\n",
       "\n",
       "    .dataframe thead th {\n",
       "        text-align: right;\n",
       "    }\n",
       "</style>\n",
       "<table border=\"1\" class=\"dataframe\">\n",
       "  <thead>\n",
       "    <tr style=\"text-align: right;\">\n",
       "      <th></th>\n",
       "      <th>임대사업장</th>\n",
       "      <th>임대기간</th>\n",
       "      <th>주소</th>\n",
       "      <th>임대농기계2</th>\n",
       "      <th>구분</th>\n",
       "      <th>종류</th>\n",
       "      <th>기종2</th>\n",
       "    </tr>\n",
       "  </thead>\n",
       "  <tbody>\n",
       "    <tr>\n",
       "      <th>17</th>\n",
       "      <td>서부분소</td>\n",
       "      <td>2018-01-04∼2018-01-04</td>\n",
       "      <td>경상북도 안동시 풍산읍</td>\n",
       "      <td>서(모)땅콩박피기</td>\n",
       "      <td>탈곡기및정선기</td>\n",
       "      <td>농산물탈피기</td>\n",
       "      <td>서(모)땅콩박피기</td>\n",
       "    </tr>\n",
       "    <tr>\n",
       "      <th>32</th>\n",
       "      <td>서부분소</td>\n",
       "      <td>2018-01-14∼2018-01-14</td>\n",
       "      <td>경상북도 안동시 풍산읍</td>\n",
       "      <td>서(모)땅콩박피기</td>\n",
       "      <td>탈곡기및정선기</td>\n",
       "      <td>농산물탈피기</td>\n",
       "      <td>서(모)땅콩박피기</td>\n",
       "    </tr>\n",
       "    <tr>\n",
       "      <th>38</th>\n",
       "      <td>북부분소</td>\n",
       "      <td>2018-01-16∼2018-01-16</td>\n",
       "      <td>경상북도 안동시 와룡면</td>\n",
       "      <td>북(모)땅콩박피기</td>\n",
       "      <td>탈곡기및정선기</td>\n",
       "      <td>농산물탈피기</td>\n",
       "      <td>북(모)땅콩박피기</td>\n",
       "    </tr>\n",
       "    <tr>\n",
       "      <th>3798</th>\n",
       "      <td>농업기술센터</td>\n",
       "      <td>2018-09-19∼2018-09-19</td>\n",
       "      <td>경상북도 안동시 임하면</td>\n",
       "      <td>(모)땅콩박피기</td>\n",
       "      <td>탈곡기및정선기</td>\n",
       "      <td>농산물탈피기</td>\n",
       "      <td>(모)땅콩박피기</td>\n",
       "    </tr>\n",
       "    <tr>\n",
       "      <th>3917</th>\n",
       "      <td>서부분소</td>\n",
       "      <td>2018-10-03∼2018-10-03</td>\n",
       "      <td>경상북도 안동시 풍산읍</td>\n",
       "      <td>서(모)땅콩박피기</td>\n",
       "      <td>탈곡기및정선기</td>\n",
       "      <td>농산물탈피기</td>\n",
       "      <td>서(모)땅콩박피기</td>\n",
       "    </tr>\n",
       "    <tr>\n",
       "      <th>...</th>\n",
       "      <td>...</td>\n",
       "      <td>...</td>\n",
       "      <td>...</td>\n",
       "      <td>...</td>\n",
       "      <td>...</td>\n",
       "      <td>...</td>\n",
       "      <td>...</td>\n",
       "    </tr>\n",
       "    <tr>\n",
       "      <th>20803</th>\n",
       "      <td>서부분소</td>\n",
       "      <td>2020-12-02∼2020-12-02</td>\n",
       "      <td>경상북도 안동시 풍산읍</td>\n",
       "      <td>서(모)땅콩박피기</td>\n",
       "      <td>탈곡기및정선기</td>\n",
       "      <td>농산물탈피기</td>\n",
       "      <td>서(모)땅콩박피기</td>\n",
       "    </tr>\n",
       "    <tr>\n",
       "      <th>21016</th>\n",
       "      <td>농업기술센터</td>\n",
       "      <td>2020-12-09∼2020-12-09</td>\n",
       "      <td>경상북도 안동시 길안면</td>\n",
       "      <td>(모)땅콩박피기</td>\n",
       "      <td>탈곡기및정선기</td>\n",
       "      <td>농산물탈피기</td>\n",
       "      <td>(모)땅콩박피기</td>\n",
       "    </tr>\n",
       "    <tr>\n",
       "      <th>21066</th>\n",
       "      <td>서부분소</td>\n",
       "      <td>2020-12-10∼2020-12-10</td>\n",
       "      <td>경상북도 안동시 풍산읍</td>\n",
       "      <td>서(모)땅콩박피기</td>\n",
       "      <td>탈곡기및정선기</td>\n",
       "      <td>농산물탈피기</td>\n",
       "      <td>서(모)땅콩박피기</td>\n",
       "    </tr>\n",
       "    <tr>\n",
       "      <th>21216</th>\n",
       "      <td>서부분소</td>\n",
       "      <td>2020-12-18∼2020-12-18</td>\n",
       "      <td>경상북도 안동시 풍산읍</td>\n",
       "      <td>서(모)땅콩박피기</td>\n",
       "      <td>탈곡기및정선기</td>\n",
       "      <td>농산물탈피기</td>\n",
       "      <td>서(모)땅콩박피기</td>\n",
       "    </tr>\n",
       "    <tr>\n",
       "      <th>21274</th>\n",
       "      <td>북부분소</td>\n",
       "      <td>2020-12-23∼2020-12-23</td>\n",
       "      <td>경상북도 안동시 와룡면</td>\n",
       "      <td>북(모)땅콩박피기</td>\n",
       "      <td>탈곡기및정선기</td>\n",
       "      <td>농산물탈피기</td>\n",
       "      <td>북(모)땅콩박피기</td>\n",
       "    </tr>\n",
       "  </tbody>\n",
       "</table>\n",
       "<p>182 rows × 7 columns</p>\n",
       "</div>"
      ],
      "text/plain": [
       "        임대사업장                   임대기간            주소     임대농기계2       구분  \\\n",
       "17       서부분소  2018-01-04∼2018-01-04  경상북도 안동시 풍산읍  서(모)땅콩박피기  탈곡기및정선기   \n",
       "32       서부분소  2018-01-14∼2018-01-14  경상북도 안동시 풍산읍  서(모)땅콩박피기  탈곡기및정선기   \n",
       "38       북부분소  2018-01-16∼2018-01-16  경상북도 안동시 와룡면  북(모)땅콩박피기  탈곡기및정선기   \n",
       "3798   농업기술센터  2018-09-19∼2018-09-19  경상북도 안동시 임하면   (모)땅콩박피기  탈곡기및정선기   \n",
       "3917     서부분소  2018-10-03∼2018-10-03  경상북도 안동시 풍산읍  서(모)땅콩박피기  탈곡기및정선기   \n",
       "...       ...                    ...           ...        ...      ...   \n",
       "20803    서부분소  2020-12-02∼2020-12-02  경상북도 안동시 풍산읍  서(모)땅콩박피기  탈곡기및정선기   \n",
       "21016  농업기술센터  2020-12-09∼2020-12-09  경상북도 안동시 길안면   (모)땅콩박피기  탈곡기및정선기   \n",
       "21066    서부분소  2020-12-10∼2020-12-10  경상북도 안동시 풍산읍  서(모)땅콩박피기  탈곡기및정선기   \n",
       "21216    서부분소  2020-12-18∼2020-12-18  경상북도 안동시 풍산읍  서(모)땅콩박피기  탈곡기및정선기   \n",
       "21274    북부분소  2020-12-23∼2020-12-23  경상북도 안동시 와룡면  북(모)땅콩박피기  탈곡기및정선기   \n",
       "\n",
       "           종류        기종2  \n",
       "17     농산물탈피기  서(모)땅콩박피기  \n",
       "32     농산물탈피기  서(모)땅콩박피기  \n",
       "38     농산물탈피기  북(모)땅콩박피기  \n",
       "3798   농산물탈피기   (모)땅콩박피기  \n",
       "3917   농산물탈피기  서(모)땅콩박피기  \n",
       "...       ...        ...  \n",
       "20803  농산물탈피기  서(모)땅콩박피기  \n",
       "21016  농산물탈피기   (모)땅콩박피기  \n",
       "21066  농산물탈피기  서(모)땅콩박피기  \n",
       "21216  농산물탈피기  서(모)땅콩박피기  \n",
       "21274  농산물탈피기  북(모)땅콩박피기  \n",
       "\n",
       "[182 rows x 7 columns]"
      ]
     },
     "execution_count": 29,
     "metadata": {},
     "output_type": "execute_result"
    }
   ],
   "source": [
    "tmp[tmp['임대농기계2'].str.contains('땅콩박피기')]"
   ]
  },
  {
   "cell_type": "markdown",
   "id": "882eddc8-5366-4601-bfd6-e6d0d1219320",
   "metadata": {},
   "source": [
    "# SS기(운)"
   ]
  },
  {
   "cell_type": "code",
   "execution_count": 30,
   "id": "515b69f0-cc68-45e7-aee5-33da36cdc19c",
   "metadata": {},
   "outputs": [
    {
     "data": {
      "text/plain": [
       "임대농기계2        구분       종류      \n",
       "SS기퇴비살포기(자)   기타임대농기계  퇴비살포기       431\n",
       "서SS기퇴비살포기(자)  기타임대농기계  퇴비살포기       261\n",
       "SS기           기타임대농기계  스피드스프레이어    176\n",
       "북SS기퇴비살포기(자)  기타임대농기계  퇴비살포기       173\n",
       "북SS기          기타임대농기계  스피드스프레이어    130\n",
       "SS기운반차(자)     기타임대농기계  농업용동력운반차     10\n",
       "dtype: int64"
      ]
     },
     "execution_count": 30,
     "metadata": {},
     "output_type": "execute_result"
    }
   ],
   "source": [
    "tmp[tmp['임대농기계2'].str.contains('SS기')][['임대농기계2','구분','종류']].value_counts()"
   ]
  },
  {
   "cell_type": "code",
   "execution_count": 31,
   "id": "9b3110da-03b0-4021-8e46-462f472636fe",
   "metadata": {},
   "outputs": [],
   "source": [
    "# a = pd.crosstab 남기고 싶어서. 그 전에 fillna(0, inplace = True) 해야하는데, 미리 해둬도 될 것 같은데?"
   ]
  },
  {
   "cell_type": "code",
   "execution_count": 32,
   "id": "e6af52bb-76bf-4d8a-8955-337367e94b13",
   "metadata": {},
   "outputs": [
    {
     "data": {
      "text/html": [
       "<div>\n",
       "<style scoped>\n",
       "    .dataframe tbody tr th:only-of-type {\n",
       "        vertical-align: middle;\n",
       "    }\n",
       "\n",
       "    .dataframe tbody tr th {\n",
       "        vertical-align: top;\n",
       "    }\n",
       "\n",
       "    .dataframe thead th {\n",
       "        text-align: right;\n",
       "    }\n",
       "</style>\n",
       "<table border=\"1\" class=\"dataframe\">\n",
       "  <thead>\n",
       "    <tr style=\"text-align: right;\">\n",
       "      <th></th>\n",
       "      <th>임대사업장</th>\n",
       "      <th>임대기간</th>\n",
       "      <th>주소</th>\n",
       "      <th>임대농기계2</th>\n",
       "      <th>구분</th>\n",
       "      <th>종류</th>\n",
       "      <th>기종2</th>\n",
       "    </tr>\n",
       "  </thead>\n",
       "  <tbody>\n",
       "    <tr>\n",
       "      <th>4098</th>\n",
       "      <td>농업기술센터</td>\n",
       "      <td>2018-10-16∼2018-10-17</td>\n",
       "      <td>경상북도 안동시 길안면</td>\n",
       "      <td>SS기(운)</td>\n",
       "      <td>기타임대농기계</td>\n",
       "      <td>농업용동력운반차</td>\n",
       "      <td>NaN</td>\n",
       "    </tr>\n",
       "  </tbody>\n",
       "</table>\n",
       "</div>"
      ],
      "text/plain": [
       "       임대사업장                   임대기간            주소  임대농기계2       구분        종류  \\\n",
       "4098  농업기술센터  2018-10-16∼2018-10-17  경상북도 안동시 길안면  SS기(운)  기타임대농기계  농업용동력운반차   \n",
       "\n",
       "      기종2  \n",
       "4098  NaN  "
      ]
     },
     "execution_count": 32,
     "metadata": {},
     "output_type": "execute_result"
    }
   ],
   "source": [
    "tmp[tmp['임대농기계2'] == 'SS기(운)'].index\n",
    "\n",
    "for i in tmp[tmp['임대농기계2'] == 'SS기(운)'].index:\n",
    "    tmp.at[i, '종류'] = '농업용동력운반차'\n",
    "    tmp.at[i, '구분'] = '기타임대농기계'\n",
    "\n",
    "tmp[tmp['임대농기계2'] == 'SS기(운)'].head(1)"
   ]
  },
  {
   "cell_type": "markdown",
   "id": "42904945-3af9-49e6-bb76-2a0b3aa5fc57",
   "metadata": {},
   "source": [
    "# 콩수확기"
   ]
  },
  {
   "cell_type": "code",
   "execution_count": 33,
   "id": "f5626883-7bdd-4b35-b609-3822dc98327d",
   "metadata": {},
   "outputs": [
    {
     "data": {
      "text/plain": [
       "임대농기계2          구분       종류  \n",
       "콩수확기(콩예취기)      기타임대농기계  콩예취기    137\n",
       "서콩수확기(자)(콩예취기)  기타임대농기계  콩예취기     53\n",
       "북콩수확기(자)(콩예취기)  기타임대농기계  콩예취기     41\n",
       "북콩수확기(콩예취기)     기타임대농기계  콩예취기     38\n",
       "콩수확기(자)(콩예취기)   기타임대농기계  콩예취기     34\n",
       "서콩수확기(콩예취기)     기타임대농기계  콩예취기     31\n",
       "dtype: int64"
      ]
     },
     "execution_count": 33,
     "metadata": {},
     "output_type": "execute_result"
    }
   ],
   "source": [
    "tmp[tmp['임대농기계2'].str.contains('콩수확기')][['임대농기계2','구분','종류']].value_counts()"
   ]
  },
  {
   "cell_type": "code",
   "execution_count": 34,
   "id": "ac7eb947-70d9-4e7f-9f9c-84eec1aa0c3c",
   "metadata": {},
   "outputs": [
    {
     "data": {
      "text/html": [
       "<div>\n",
       "<style scoped>\n",
       "    .dataframe tbody tr th:only-of-type {\n",
       "        vertical-align: middle;\n",
       "    }\n",
       "\n",
       "    .dataframe tbody tr th {\n",
       "        vertical-align: top;\n",
       "    }\n",
       "\n",
       "    .dataframe thead th {\n",
       "        text-align: right;\n",
       "    }\n",
       "</style>\n",
       "<table border=\"1\" class=\"dataframe\">\n",
       "  <thead>\n",
       "    <tr style=\"text-align: right;\">\n",
       "      <th></th>\n",
       "      <th>임대사업장</th>\n",
       "      <th>임대기간</th>\n",
       "      <th>주소</th>\n",
       "      <th>임대농기계2</th>\n",
       "      <th>구분</th>\n",
       "      <th>종류</th>\n",
       "      <th>기종2</th>\n",
       "    </tr>\n",
       "  </thead>\n",
       "  <tbody>\n",
       "    <tr>\n",
       "      <th>21</th>\n",
       "      <td>농업기술센터</td>\n",
       "      <td>2018-01-06∼2018-01-07</td>\n",
       "      <td>경상북도 안동시 예안면</td>\n",
       "      <td>콩수확기</td>\n",
       "      <td>기타임대농기계</td>\n",
       "      <td>콩예취기</td>\n",
       "      <td>NaN</td>\n",
       "    </tr>\n",
       "  </tbody>\n",
       "</table>\n",
       "</div>"
      ],
      "text/plain": [
       "     임대사업장                   임대기간            주소 임대농기계2       구분    종류  기종2\n",
       "21  농업기술센터  2018-01-06∼2018-01-07  경상북도 안동시 예안면   콩수확기  기타임대농기계  콩예취기  NaN"
      ]
     },
     "execution_count": 34,
     "metadata": {},
     "output_type": "execute_result"
    }
   ],
   "source": [
    "for i in tmp[tmp['임대농기계2'] == '콩수확기'].index :\n",
    "    tmp.at[i, '종류'] = '콩예취기'\n",
    "    tmp.at[i, '구분'] = '기타임대농기계'\n",
    "\n",
    "tmp[tmp['임대농기계2'] == '콩수확기'].head(1)"
   ]
  },
  {
   "cell_type": "markdown",
   "id": "e7b609bb-86e0-4825-b558-51be4544c6e8",
   "metadata": {},
   "source": [
    "# 보통형콤바인"
   ]
  },
  {
   "cell_type": "code",
   "execution_count": 35,
   "id": "6dd18359-a29b-4eeb-ad4a-0856ac0904a5",
   "metadata": {},
   "outputs": [
    {
     "data": {
      "text/html": [
       "<div>\n",
       "<style scoped>\n",
       "    .dataframe tbody tr th:only-of-type {\n",
       "        vertical-align: middle;\n",
       "    }\n",
       "\n",
       "    .dataframe tbody tr th {\n",
       "        vertical-align: top;\n",
       "    }\n",
       "\n",
       "    .dataframe thead th {\n",
       "        text-align: right;\n",
       "    }\n",
       "</style>\n",
       "<table border=\"1\" class=\"dataframe\">\n",
       "  <thead>\n",
       "    <tr style=\"text-align: right;\">\n",
       "      <th></th>\n",
       "      <th>임대사업장</th>\n",
       "      <th>임대기간</th>\n",
       "      <th>주소</th>\n",
       "      <th>임대농기계2</th>\n",
       "      <th>구분</th>\n",
       "      <th>종류</th>\n",
       "      <th>기종2</th>\n",
       "    </tr>\n",
       "  </thead>\n",
       "  <tbody>\n",
       "    <tr>\n",
       "      <th>2701</th>\n",
       "      <td>농업기술센터</td>\n",
       "      <td>2018-06-19∼2018-06-19</td>\n",
       "      <td>경상북도 안동시 풍천면</td>\n",
       "      <td>보통형콤바인</td>\n",
       "      <td>트랙터및작업기</td>\n",
       "      <td>수확기</td>\n",
       "      <td>NaN</td>\n",
       "    </tr>\n",
       "  </tbody>\n",
       "</table>\n",
       "</div>"
      ],
      "text/plain": [
       "       임대사업장                   임대기간            주소  임대농기계2       구분   종류  기종2\n",
       "2701  농업기술센터  2018-06-19∼2018-06-19  경상북도 안동시 풍천면  보통형콤바인  트랙터및작업기  수확기  NaN"
      ]
     },
     "execution_count": 35,
     "metadata": {},
     "output_type": "execute_result"
    }
   ],
   "source": [
    "for i in tmp[tmp['임대농기계2'] == '보통형콤바인'].index :\n",
    "    tmp.at[i, '종류'] = '수확기'\n",
    "    tmp.at[i, '구분'] = '트랙터및작업기'\n",
    "\n",
    "tmp[tmp['임대농기계2'] == '보통형콤바인'].head(1)"
   ]
  },
  {
   "cell_type": "markdown",
   "id": "b20a95d0-032e-4553-8bd0-63fa34381818",
   "metadata": {},
   "source": [
    "# 로타베이터/로터베이터"
   ]
  },
  {
   "cell_type": "code",
   "execution_count": 40,
   "id": "7b5347b0-e7ab-4889-bb0b-7d1a69a8aa33",
   "metadata": {},
   "outputs": [
    {
     "data": {
      "text/plain": [
       "임대농기계2     구분       종류   \n",
       "로타베이터(트)   트랙터및작업기  로타베이터    406\n",
       "북로타베이터(트)  트랙터및작업기  로타베이터    389\n",
       "서로타베이터(트)  트랙터및작업기  로타베이터    355\n",
       "로타베이터(승)   기타임대농기계  로타리       63\n",
       "북로타베이터(승)  기타임대농기계  로타리       26\n",
       "서로타베이터(승)  기타임대농기계  로타리       22\n",
       "dtype: int64"
      ]
     },
     "execution_count": 40,
     "metadata": {},
     "output_type": "execute_result"
    }
   ],
   "source": [
    "tmp[tmp['임대농기계2'].str.contains('베이터')][['임대농기계2','구분','종류']].value_counts()"
   ]
  },
  {
   "cell_type": "code",
   "execution_count": 43,
   "id": "310c55e9-c70b-40d8-ac03-d382900dde5a",
   "metadata": {},
   "outputs": [
    {
     "data": {
      "text/plain": [
       "Int64Index([  145,   332,   349,   414,   498,   582,   687,   840,   973,\n",
       "             1226,\n",
       "            ...\n",
       "            10396, 10685, 10728, 10755, 10988, 11119, 11536, 11601, 11766,\n",
       "            17956],\n",
       "           dtype='int64', length=122)"
      ]
     },
     "execution_count": 43,
     "metadata": {},
     "output_type": "execute_result"
    }
   ],
   "source": [
    "tmp[tmp['임대농기계2'] == '로터베이터'].index"
   ]
  },
  {
   "cell_type": "code",
   "execution_count": 44,
   "id": "d41e5baa-72dd-4f7a-b7d5-fff4f9928dc1",
   "metadata": {},
   "outputs": [
    {
     "data": {
      "text/html": [
       "<div>\n",
       "<style scoped>\n",
       "    .dataframe tbody tr th:only-of-type {\n",
       "        vertical-align: middle;\n",
       "    }\n",
       "\n",
       "    .dataframe tbody tr th {\n",
       "        vertical-align: top;\n",
       "    }\n",
       "\n",
       "    .dataframe thead th {\n",
       "        text-align: right;\n",
       "    }\n",
       "</style>\n",
       "<table border=\"1\" class=\"dataframe\">\n",
       "  <thead>\n",
       "    <tr style=\"text-align: right;\">\n",
       "      <th></th>\n",
       "      <th>임대사업장</th>\n",
       "      <th>임대기간</th>\n",
       "      <th>주소</th>\n",
       "      <th>임대농기계2</th>\n",
       "      <th>구분</th>\n",
       "      <th>종류</th>\n",
       "      <th>기종2</th>\n",
       "    </tr>\n",
       "  </thead>\n",
       "  <tbody>\n",
       "    <tr>\n",
       "      <th>145</th>\n",
       "      <td>농업기술센터</td>\n",
       "      <td>2018-02-21∼2018-02-21</td>\n",
       "      <td>경상북도 안동시 임하면</td>\n",
       "      <td>로터베이터</td>\n",
       "      <td>트랙터및작업기</td>\n",
       "      <td>로타베이터</td>\n",
       "      <td>NaN</td>\n",
       "    </tr>\n",
       "    <tr>\n",
       "      <th>332</th>\n",
       "      <td>농업기술센터</td>\n",
       "      <td>2018-03-12∼2018-03-12</td>\n",
       "      <td>경상북도 안동시 평화동</td>\n",
       "      <td>로터베이터</td>\n",
       "      <td>트랙터및작업기</td>\n",
       "      <td>로타베이터</td>\n",
       "      <td>NaN</td>\n",
       "    </tr>\n",
       "    <tr>\n",
       "      <th>349</th>\n",
       "      <td>농업기술센터</td>\n",
       "      <td>2018-03-14∼2018-03-14</td>\n",
       "      <td>경상북도 안동시 태화동</td>\n",
       "      <td>로터베이터</td>\n",
       "      <td>트랙터및작업기</td>\n",
       "      <td>로타베이터</td>\n",
       "      <td>NaN</td>\n",
       "    </tr>\n",
       "    <tr>\n",
       "      <th>414</th>\n",
       "      <td>농업기술센터</td>\n",
       "      <td>2018-03-17∼2018-03-17</td>\n",
       "      <td>경상북도 안동시 평화동</td>\n",
       "      <td>로터베이터</td>\n",
       "      <td>트랙터및작업기</td>\n",
       "      <td>로타베이터</td>\n",
       "      <td>NaN</td>\n",
       "    </tr>\n",
       "    <tr>\n",
       "      <th>498</th>\n",
       "      <td>농업기술센터</td>\n",
       "      <td>2018-03-23∼2018-03-23</td>\n",
       "      <td>경상북도 안동시 임동면</td>\n",
       "      <td>로터베이터</td>\n",
       "      <td>트랙터및작업기</td>\n",
       "      <td>로타베이터</td>\n",
       "      <td>NaN</td>\n",
       "    </tr>\n",
       "    <tr>\n",
       "      <th>...</th>\n",
       "      <td>...</td>\n",
       "      <td>...</td>\n",
       "      <td>...</td>\n",
       "      <td>...</td>\n",
       "      <td>...</td>\n",
       "      <td>...</td>\n",
       "      <td>...</td>\n",
       "    </tr>\n",
       "    <tr>\n",
       "      <th>11119</th>\n",
       "      <td>농업기술센터</td>\n",
       "      <td>2019-10-18∼2019-10-18</td>\n",
       "      <td>경상북도 안동시 임동면</td>\n",
       "      <td>로터베이터</td>\n",
       "      <td>트랙터및작업기</td>\n",
       "      <td>로타베이터</td>\n",
       "      <td>NaN</td>\n",
       "    </tr>\n",
       "    <tr>\n",
       "      <th>11536</th>\n",
       "      <td>농업기술센터</td>\n",
       "      <td>2019-11-08∼2019-11-08</td>\n",
       "      <td>경상북도 안동시 용상동</td>\n",
       "      <td>로터베이터</td>\n",
       "      <td>트랙터및작업기</td>\n",
       "      <td>로타베이터</td>\n",
       "      <td>NaN</td>\n",
       "    </tr>\n",
       "    <tr>\n",
       "      <th>11601</th>\n",
       "      <td>농업기술센터</td>\n",
       "      <td>2019-11-12∼2019-11-12</td>\n",
       "      <td>경상북도 안동시 임동면</td>\n",
       "      <td>로터베이터</td>\n",
       "      <td>트랙터및작업기</td>\n",
       "      <td>로타베이터</td>\n",
       "      <td>NaN</td>\n",
       "    </tr>\n",
       "    <tr>\n",
       "      <th>11766</th>\n",
       "      <td>농업기술센터</td>\n",
       "      <td>2019-11-16∼2019-11-16</td>\n",
       "      <td>경상북도 안동시 남선면</td>\n",
       "      <td>로터베이터</td>\n",
       "      <td>트랙터및작업기</td>\n",
       "      <td>로타베이터</td>\n",
       "      <td>NaN</td>\n",
       "    </tr>\n",
       "    <tr>\n",
       "      <th>17956</th>\n",
       "      <td>농업기술센터</td>\n",
       "      <td>2020-07-08∼2020-07-08</td>\n",
       "      <td>경상북도 안동시 일직면</td>\n",
       "      <td>로터베이터</td>\n",
       "      <td>트랙터및작업기</td>\n",
       "      <td>로타베이터</td>\n",
       "      <td>NaN</td>\n",
       "    </tr>\n",
       "  </tbody>\n",
       "</table>\n",
       "<p>122 rows × 7 columns</p>\n",
       "</div>"
      ],
      "text/plain": [
       "        임대사업장                   임대기간            주소 임대농기계2       구분     종류  기종2\n",
       "145    농업기술센터  2018-02-21∼2018-02-21  경상북도 안동시 임하면  로터베이터  트랙터및작업기  로타베이터  NaN\n",
       "332    농업기술센터  2018-03-12∼2018-03-12  경상북도 안동시 평화동  로터베이터  트랙터및작업기  로타베이터  NaN\n",
       "349    농업기술센터  2018-03-14∼2018-03-14  경상북도 안동시 태화동  로터베이터  트랙터및작업기  로타베이터  NaN\n",
       "414    농업기술센터  2018-03-17∼2018-03-17  경상북도 안동시 평화동  로터베이터  트랙터및작업기  로타베이터  NaN\n",
       "498    농업기술센터  2018-03-23∼2018-03-23  경상북도 안동시 임동면  로터베이터  트랙터및작업기  로타베이터  NaN\n",
       "...       ...                    ...           ...    ...      ...    ...  ...\n",
       "11119  농업기술센터  2019-10-18∼2019-10-18  경상북도 안동시 임동면  로터베이터  트랙터및작업기  로타베이터  NaN\n",
       "11536  농업기술센터  2019-11-08∼2019-11-08  경상북도 안동시 용상동  로터베이터  트랙터및작업기  로타베이터  NaN\n",
       "11601  농업기술센터  2019-11-12∼2019-11-12  경상북도 안동시 임동면  로터베이터  트랙터및작업기  로타베이터  NaN\n",
       "11766  농업기술센터  2019-11-16∼2019-11-16  경상북도 안동시 남선면  로터베이터  트랙터및작업기  로타베이터  NaN\n",
       "17956  농업기술센터  2020-07-08∼2020-07-08  경상북도 안동시 일직면  로터베이터  트랙터및작업기  로타베이터  NaN\n",
       "\n",
       "[122 rows x 7 columns]"
      ]
     },
     "execution_count": 44,
     "metadata": {},
     "output_type": "execute_result"
    }
   ],
   "source": [
    "for i in tmp[tmp['임대농기계2'] == '로터베이터'].index :\n",
    "#     tmp.at[i, '임대농기계2'] == '로타베이터(트)'\n",
    "    tmp.at[i, '종류'] = '로타베이터'\n",
    "    tmp.at[i, '구분'] = '트랙터및작업기'\n",
    "\n",
    "tmp[tmp['임대농기계2'] == '로터베이터'].head(1)"
   ]
  },
  {
   "cell_type": "code",
   "execution_count": 47,
   "id": "541f06b4-0849-4421-a445-9339a0adcfb7",
   "metadata": {},
   "outputs": [
    {
     "data": {
      "text/plain": [
       "Int64Index([477, 2468, 2561, 8218], dtype='int64')"
      ]
     },
     "execution_count": 47,
     "metadata": {},
     "output_type": "execute_result"
    }
   ],
   "source": [
    "tmp[tmp['구분'].isna()].index"
   ]
  },
  {
   "cell_type": "code",
   "execution_count": 51,
   "id": "bbf6870a-7543-4042-9209-b1323e74cd36",
   "metadata": {},
   "outputs": [
    {
     "data": {
      "text/plain": [
       "(21347, 7)"
      ]
     },
     "execution_count": 51,
     "metadata": {},
     "output_type": "execute_result"
    }
   ],
   "source": [
    "tmp.shape"
   ]
  },
  {
   "cell_type": "code",
   "execution_count": 52,
   "id": "1551e40a-6a1e-46e7-8d80-1d2823a893a5",
   "metadata": {},
   "outputs": [
    {
     "name": "stderr",
     "output_type": "stream",
     "text": [
      "C:\\Users\\user\\anaconda3\\lib\\site-packages\\pandas\\core\\frame.py:4308: SettingWithCopyWarning: \n",
      "A value is trying to be set on a copy of a slice from a DataFrame\n",
      "\n",
      "See the caveats in the documentation: https://pandas.pydata.org/pandas-docs/stable/user_guide/indexing.html#returning-a-view-versus-a-copy\n",
      "  return super().drop(\n"
     ]
    }
   ],
   "source": [
    "tmp.drop(index = tmp[tmp['구분'].isna()].index, axis = 0, inplace = True)"
   ]
  },
  {
   "cell_type": "code",
   "execution_count": 53,
   "id": "8fd86e3e-d2ae-4c02-8de7-e8bc0eb901f1",
   "metadata": {},
   "outputs": [
    {
     "data": {
      "text/plain": [
       "(21343, 7)"
      ]
     },
     "execution_count": 53,
     "metadata": {},
     "output_type": "execute_result"
    }
   ],
   "source": [
    "tmp.shape"
   ]
  },
  {
   "cell_type": "code",
   "execution_count": 57,
   "id": "a5fa1eed-287c-43d5-9847-181c027cea70",
   "metadata": {},
   "outputs": [
    {
     "data": {
      "text/html": [
       "<div>\n",
       "<style scoped>\n",
       "    .dataframe tbody tr th:only-of-type {\n",
       "        vertical-align: middle;\n",
       "    }\n",
       "\n",
       "    .dataframe tbody tr th {\n",
       "        vertical-align: top;\n",
       "    }\n",
       "\n",
       "    .dataframe thead th {\n",
       "        text-align: right;\n",
       "    }\n",
       "</style>\n",
       "<table border=\"1\" class=\"dataframe\">\n",
       "  <thead>\n",
       "    <tr style=\"text-align: right;\">\n",
       "      <th></th>\n",
       "      <th>임대사업장</th>\n",
       "      <th>임대기간</th>\n",
       "      <th>주소</th>\n",
       "      <th>임대농기계2</th>\n",
       "      <th>구분</th>\n",
       "      <th>종류</th>\n",
       "      <th>기종2</th>\n",
       "    </tr>\n",
       "  </thead>\n",
       "  <tbody>\n",
       "    <tr>\n",
       "      <th>0</th>\n",
       "      <td>서부분소</td>\n",
       "      <td>2018-04-20∼2018-04-21</td>\n",
       "      <td>경상북도 안동시 풍산읍</td>\n",
       "      <td>서플라우(트)</td>\n",
       "      <td>트랙터및작업기</td>\n",
       "      <td>플라우</td>\n",
       "      <td>서플라우(트)</td>\n",
       "    </tr>\n",
       "    <tr>\n",
       "      <th>1</th>\n",
       "      <td>서부분소</td>\n",
       "      <td>2018-04-03∼2018-04-03</td>\n",
       "      <td>경상북도 안동시 풍산읍</td>\n",
       "      <td>서비료살포기(트)(PTO방식)</td>\n",
       "      <td>트랙터및작업기</td>\n",
       "      <td>비료살포기</td>\n",
       "      <td>서비료살포기(트)(PTO방식)</td>\n",
       "    </tr>\n",
       "    <tr>\n",
       "      <th>2</th>\n",
       "      <td>북부분소</td>\n",
       "      <td>2018-08-22∼2018-08-26</td>\n",
       "      <td>경상북도 안동시 중구동</td>\n",
       "      <td>북인력파종기</td>\n",
       "      <td>자주형파종기</td>\n",
       "      <td>파종기</td>\n",
       "      <td>북인력파종기</td>\n",
       "    </tr>\n",
       "    <tr>\n",
       "      <th>3</th>\n",
       "      <td>북부분소</td>\n",
       "      <td>2018-03-30∼2018-03-30</td>\n",
       "      <td>경상북도 안동시 녹전면</td>\n",
       "      <td>북심경로타리(트)</td>\n",
       "      <td>트랙터및작업기</td>\n",
       "      <td>심경로타리</td>\n",
       "      <td>북심경로타리(트)</td>\n",
       "    </tr>\n",
       "    <tr>\n",
       "      <th>4</th>\n",
       "      <td>서부분소</td>\n",
       "      <td>2018-01-02∼2018-01-02</td>\n",
       "      <td>경상북도 안동시 풍천면</td>\n",
       "      <td>서콩정선기</td>\n",
       "      <td>탈곡기및정선기</td>\n",
       "      <td>콩정선기</td>\n",
       "      <td>서콩정선기</td>\n",
       "    </tr>\n",
       "  </tbody>\n",
       "</table>\n",
       "</div>"
      ],
      "text/plain": [
       "  임대사업장                   임대기간            주소            임대농기계2       구분  \\\n",
       "0  서부분소  2018-04-20∼2018-04-21  경상북도 안동시 풍산읍           서플라우(트)  트랙터및작업기   \n",
       "1  서부분소  2018-04-03∼2018-04-03  경상북도 안동시 풍산읍  서비료살포기(트)(PTO방식)  트랙터및작업기   \n",
       "2  북부분소  2018-08-22∼2018-08-26  경상북도 안동시 중구동            북인력파종기   자주형파종기   \n",
       "3  북부분소  2018-03-30∼2018-03-30  경상북도 안동시 녹전면         북심경로타리(트)  트랙터및작업기   \n",
       "4  서부분소  2018-01-02∼2018-01-02  경상북도 안동시 풍천면             서콩정선기  탈곡기및정선기   \n",
       "\n",
       "      종류               기종2  \n",
       "0    플라우           서플라우(트)  \n",
       "1  비료살포기  서비료살포기(트)(PTO방식)  \n",
       "2    파종기            북인력파종기  \n",
       "3  심경로타리         북심경로타리(트)  \n",
       "4   콩정선기             서콩정선기  "
      ]
     },
     "execution_count": 57,
     "metadata": {},
     "output_type": "execute_result"
    }
   ],
   "source": [
    "tmp.head()"
   ]
  },
  {
   "cell_type": "code",
   "execution_count": 56,
   "id": "17aaf4a7-fa0d-43b8-9e83-12f3650cdd3c",
   "metadata": {},
   "outputs": [],
   "source": [
    "tmp.to_csv('D:\\\\python\\\\bigdataproject\\\\data.csv', encoding = 'euc-kr')"
   ]
  },
  {
   "cell_type": "code",
   "execution_count": null,
   "id": "a32ed620-cb1c-49f0-b183-e9ec1255e609",
   "metadata": {},
   "outputs": [],
   "source": []
  }
 ],
 "metadata": {
  "kernelspec": {
   "display_name": "Python 3",
   "language": "python",
   "name": "python3"
  },
  "language_info": {
   "codemirror_mode": {
    "name": "ipython",
    "version": 3
   },
   "file_extension": ".py",
   "mimetype": "text/x-python",
   "name": "python",
   "nbconvert_exporter": "python",
   "pygments_lexer": "ipython3",
   "version": "3.8.8"
  }
 },
 "nbformat": 4,
 "nbformat_minor": 5
}
